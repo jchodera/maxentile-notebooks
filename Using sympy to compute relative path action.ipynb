{
 "cells": [
  {
   "cell_type": "code",
   "execution_count": 2,
   "metadata": {
    "collapsed": false
   },
   "outputs": [],
   "source": [
    "# goal: have sympy do the mechanical substitutions, to double-check the desired relations\n",
    "# once this is done, this will also make it easier for a human to check (just double-check the definitions), and easier\n",
    "# to check for arbitrary splittings\n",
    "\n",
    "from sympy import *\n",
    "from sympy import init_printing\n",
    "init_printing()"
   ]
  },
  {
   "cell_type": "code",
   "execution_count": 4,
   "metadata": {
    "collapsed": false
   },
   "outputs": [
    {
     "data": {
      "image/png": "[encoded data removed]",
      "text/latex": [
       "$$- 0.5 m v_{0}^{2} + 0.5 m \\left(\\xi_{5} \\sqrt{\\frac{kT}{m}} \\sqrt{1 - e^{- dt \\gamma}} + \\left(\\frac{dt}{2 m} f{\\left (x_{0} \\right )} + \\frac{dt}{2 m} f{\\left (dt \\left(\\frac{dt}{2 m} f{\\left (x_{0} \\right )} + v_{0} e^{- \\frac{dt \\gamma}{2}} + \\xi_{1} \\sqrt{\\frac{kT}{m}} \\sqrt{1 - e^{- dt \\gamma}}\\right) + x_{0} \\right )} + v_{0} e^{- \\frac{dt \\gamma}{2}} + \\xi_{1} \\sqrt{\\frac{kT}{m}} \\sqrt{1 - e^{- dt \\gamma}}\\right) e^{- \\frac{dt \\gamma}{2}}\\right)^{2} - U{\\left (x_{0} \\right )} + U{\\left (dt \\left(\\frac{dt}{2 m} f{\\left (x_{0} \\right )} + v_{0} e^{- \\frac{dt \\gamma}{2}} + \\xi_{1} \\sqrt{\\frac{kT}{m}} \\sqrt{1 - e^{- dt \\gamma}}\\right) + x_{0} \\right )}$$"
      ],
      "text/plain": [
       "                                                                              \n",
       "                    ⎛                              ⎛               ⎛   ⎛      \n",
       "                    ⎜                              ⎜               ⎜   ⎜      \n",
       "                    ⎜                              ⎜               ⎜   ⎜dt⋅f(x\n",
       "                    ⎜       ____    ____________   ⎜           dt⋅f⎜dt⋅⎜──────\n",
       "          2         ⎜      ╱ kT    ╱      -dt⋅γ    ⎜dt⋅f(x₀)       ⎝   ⎝  2⋅m \n",
       "- 0.5⋅m⋅v₀  + 0.5⋅m⋅⎜ξ₅⋅  ╱  ── ⋅╲╱  1 - ℯ       + ⎜──────── + ───────────────\n",
       "                    ⎝   ╲╱   m                     ⎝  2⋅m                     \n",
       "\n",
       "                                                                              \n",
       "         -dt⋅γ                               ⎞     ⎞                          \n",
       "         ──────          ____    ____________⎟     ⎟                          \n",
       "₀)         2            ╱ kT    ╱      -dt⋅γ ⎟     ⎟       -dt⋅γ              \n",
       "── + v₀⋅ℯ       + ξ₁⋅  ╱  ── ⋅╲╱  1 - ℯ      ⎟ + x₀⎟       ──────          ___\n",
       "                     ╲╱   m                  ⎠     ⎠         2            ╱ kT\n",
       "──────────────────────────────────────────────────── + v₀⋅ℯ       + ξ₁⋅  ╱  ──\n",
       "                 2⋅m                                                   ╲╱   m \n",
       "\n",
       "                           2                                                  \n",
       "                 ⎞        ⎞                                                   \n",
       "                 ⎟        ⎟                                                   \n",
       "                 ⎟  -dt⋅γ ⎟             ⎛   ⎛               -dt⋅γ             \n",
       "_    ____________⎟  ──────⎟             ⎜   ⎜               ──────          __\n",
       "    ╱      -dt⋅γ ⎟    2   ⎟             ⎜   ⎜dt⋅f(x₀)         2            ╱ k\n",
       " ⋅╲╱  1 - ℯ      ⎟⋅ℯ      ⎟  - U(x₀) + U⎜dt⋅⎜──────── + v₀⋅ℯ       + ξ₁⋅  ╱  ─\n",
       "                 ⎠        ⎠             ⎝   ⎝  2⋅m                      ╲╱   m\n",
       "\n",
       "                         \n",
       "                         \n",
       "                         \n",
       "                  ⎞     ⎞\n",
       "__    ____________⎟     ⎟\n",
       "T    ╱      -dt⋅γ ⎟     ⎟\n",
       "─ ⋅╲╱  1 - ℯ      ⎟ + x₀⎟\n",
       "                  ⎠     ⎠"
      ]
     },
     "execution_count": 4,
     "metadata": {},
     "output_type": "execute_result"
    }
   ],
   "source": [
    "symbolic_traj = dict()\n",
    "symbolic_traj['x_0'] = symbols('x_0')\n",
    "symbolic_traj['v_0'] = symbols('v_0')\n",
    "dt = symbols('dt')\n",
    "m = symbols('m')\n",
    "gamma = symbols('gamma')\n",
    "f = symbols('f')\n",
    "kT = symbols('kT')\n",
    "U = symbols('U')\n",
    "\n",
    "def count_steps(splitting=\"OVRVO\"):\n",
    "    n_O = sum([step == \"O\" for step in splitting])\n",
    "    n_R = sum([step == \"R\" for step in splitting])\n",
    "    n_V = sum([step == \"V\" for step in splitting])\n",
    "    return n_O, n_R, n_V\n",
    "\n",
    "def create_variable_names(i):    \n",
    "    name_x = 'x_{}'.format(i)\n",
    "    name_v = 'v_{}'.format(i)\n",
    "    \n",
    "    symbolic_traj[name_x] = symbols(name_x)\n",
    "    symbolic_traj[name_v] = symbols(name_v)\n",
    "    \n",
    "    x = symbolic_traj['x_{}'.format(i-1)]\n",
    "    v = symbolic_traj['v_{}'.format(i-1)]\n",
    "    \n",
    "    return x, v, name_x, name_v\n",
    "\n",
    "def apply_R(i, h):\n",
    "    x, v, name_x, name_v = create_variable_names(i)\n",
    "    \n",
    "    symbolic_traj[name_x] = x + v * h\n",
    "    symbolic_traj[name_v] = v\n",
    "\n",
    "def apply_V(i, h):\n",
    "    x, v, name_x, name_v = create_variable_names(i)\n",
    "    \n",
    "    symbolic_traj[name_x] = x\n",
    "    symbolic_traj[name_v] = v + f(x) * h / m\n",
    "    \n",
    "def apply_O(i, h):\n",
    "    a = exp(-gamma * h)\n",
    "    b = sqrt(1 - exp(-2 * gamma * h))\n",
    "    \n",
    "    x, v, name_x, name_v = create_variable_names(i)\n",
    "    \n",
    "    symbolic_traj[name_x] = x\n",
    "    symbolic_traj[name_v] = a * v + b * sqrt(kT / m) * symbols('xi_{}'.format(i))\n",
    "    # xi_i is an i.i.d. standard normal r.v.\n",
    "    \n",
    "def total_energy(x, v):\n",
    "    return U(x) + (0.5 * m * v**2)\n",
    "\n",
    "def get_total_energy_at_step(i):\n",
    "    x = symbolic_traj['x_{}'.format(i)]\n",
    "    v = symbolic_traj['v_{}'.format(i)]\n",
    "    return total_energy(x, v)\n",
    "    \n",
    "def apply_integrator(i, splitting=\"OVRVO\"):\n",
    "    heat, W_shad = 0, 0\n",
    "    \n",
    "    n_O, n_R, n_V = count_steps(splitting)\n",
    "    \n",
    "    for step in splitting:\n",
    "        if step == \"O\":\n",
    "            apply_O(i, dt / n_O)\n",
    "            heat += get_total_energy_at_step(i) - get_total_energy_at_step(i-1)\n",
    "        elif step == \"R\":\n",
    "            apply_R(i, dt / n_R)\n",
    "            W_shad += get_total_energy_at_step(i) - get_total_energy_at_step(i-1)\n",
    "        elif step == \"V\":\n",
    "            apply_V(i, dt / n_V)\n",
    "            W_shad += get_total_energy_at_step(i) - get_total_energy_at_step(i-1)\n",
    "        i += 1\n",
    "        \n",
    "    return heat, W_shad\n",
    "\n",
    "splitting = \"OVRVO\"\n",
    "heat, W_shad = apply_integrator(1, splitting)\n",
    "delta_E = get_total_energy_at_step(len(splitting)) - get_total_energy_at_step(0)\n",
    "\n",
    "delta_E"
   ]
  },
  {
   "cell_type": "code",
   "execution_count": 5,
   "metadata": {
    "collapsed": false
   },
   "outputs": [
    {
     "data": {
      "image/png": "[encoded data removed]",
      "text/latex": [
       "$$- 0.5 m \\left(v_{0} e^{- \\frac{dt \\gamma}{2}} + \\xi_{1} \\sqrt{\\frac{kT}{m}} \\sqrt{1 - e^{- dt \\gamma}}\\right)^{2} + 0.5 m \\left(\\frac{dt}{2 m} f{\\left (x_{0} \\right )} + \\frac{dt}{2 m} f{\\left (dt \\left(\\frac{dt}{2 m} f{\\left (x_{0} \\right )} + v_{0} e^{- \\frac{dt \\gamma}{2}} + \\xi_{1} \\sqrt{\\frac{kT}{m}} \\sqrt{1 - e^{- dt \\gamma}}\\right) + x_{0} \\right )} + v_{0} e^{- \\frac{dt \\gamma}{2}} + \\xi_{1} \\sqrt{\\frac{kT}{m}} \\sqrt{1 - e^{- dt \\gamma}}\\right)^{2} - U{\\left (x_{0} \\right )} + U{\\left (dt \\left(\\frac{dt}{2 m} f{\\left (x_{0} \\right )} + v_{0} e^{- \\frac{dt \\gamma}{2}} + \\xi_{1} \\sqrt{\\frac{kT}{m}} \\sqrt{1 - e^{- dt \\gamma}}\\right) + x_{0} \\right )}$$"
      ],
      "text/plain": [
       "                                                                              \n",
       "                                                            ⎛               ⎛ \n",
       "                                                  2         ⎜               ⎜ \n",
       "        ⎛    -dt⋅γ                               ⎞          ⎜               ⎜ \n",
       "        ⎜    ──────          ____    ____________⎟          ⎜           dt⋅f⎜d\n",
       "        ⎜      2            ╱ kT    ╱      -dt⋅γ ⎟          ⎜dt⋅f(x₀)       ⎝ \n",
       "- 0.5⋅m⋅⎜v₀⋅ℯ       + ξ₁⋅  ╱  ── ⋅╲╱  1 - ℯ      ⎟  + 0.5⋅m⋅⎜──────── + ──────\n",
       "        ⎝                ╲╱   m                  ⎠          ⎝  2⋅m            \n",
       "\n",
       "                                                                              \n",
       "  ⎛               -dt⋅γ                               ⎞     ⎞                 \n",
       "  ⎜               ──────          ____    ____________⎟     ⎟                 \n",
       "  ⎜dt⋅f(x₀)         2            ╱ kT    ╱      -dt⋅γ ⎟     ⎟       -dt⋅γ     \n",
       "t⋅⎜──────── + v₀⋅ℯ       + ξ₁⋅  ╱  ── ⋅╲╱  1 - ℯ      ⎟ + x₀⎟       ──────    \n",
       "  ⎝  2⋅m                      ╲╱   m                  ⎠     ⎠         2       \n",
       "───────────────────────────────────────────────────────────── + v₀⋅ℯ       + ξ\n",
       "                          2⋅m                                                 \n",
       "\n",
       "                           2                                                  \n",
       "                          ⎞                                                   \n",
       "                          ⎟                                                   \n",
       "                          ⎟             ⎛   ⎛               -dt⋅γ             \n",
       "      ____    ____________⎟             ⎜   ⎜               ──────          __\n",
       "     ╱ kT    ╱      -dt⋅γ ⎟             ⎜   ⎜dt⋅f(x₀)         2            ╱ k\n",
       "₁⋅  ╱  ── ⋅╲╱  1 - ℯ      ⎟  - U(x₀) + U⎜dt⋅⎜──────── + v₀⋅ℯ       + ξ₁⋅  ╱  ─\n",
       "  ╲╱   m                  ⎠             ⎝   ⎝  2⋅m                      ╲╱   m\n",
       "\n",
       "                         \n",
       "                         \n",
       "                         \n",
       "                  ⎞     ⎞\n",
       "__    ____________⎟     ⎟\n",
       "T    ╱      -dt⋅γ ⎟     ⎟\n",
       "─ ⋅╲╱  1 - ℯ      ⎟ + x₀⎟\n",
       "                  ⎠     ⎠"
      ]
     },
     "execution_count": 5,
     "metadata": {},
     "output_type": "execute_result"
    }
   ],
   "source": [
    "W_shad"
   ]
  },
  {
   "cell_type": "code",
   "execution_count": 6,
   "metadata": {
    "collapsed": false
   },
   "outputs": [
    {
     "data": {
      "image/png": "[encoded data removed]",
      "text/latex": [
       "$$- 0.5 m v_{0}^{2} + 0.5 m \\left(v_{0} e^{- \\frac{dt \\gamma}{2}} + \\xi_{1} \\sqrt{\\frac{kT}{m}} \\sqrt{1 - e^{- dt \\gamma}}\\right)^{2} + 0.5 m \\left(\\xi_{5} \\sqrt{\\frac{kT}{m}} \\sqrt{1 - e^{- dt \\gamma}} + \\left(\\frac{dt}{2 m} f{\\left (x_{0} \\right )} + \\frac{dt}{2 m} f{\\left (dt \\left(\\frac{dt}{2 m} f{\\left (x_{0} \\right )} + v_{0} e^{- \\frac{dt \\gamma}{2}} + \\xi_{1} \\sqrt{\\frac{kT}{m}} \\sqrt{1 - e^{- dt \\gamma}}\\right) + x_{0} \\right )} + v_{0} e^{- \\frac{dt \\gamma}{2}} + \\xi_{1} \\sqrt{\\frac{kT}{m}} \\sqrt{1 - e^{- dt \\gamma}}\\right) e^{- \\frac{dt \\gamma}{2}}\\right)^{2} - 0.5 m \\left(\\frac{dt}{2 m} f{\\left (x_{0} \\right )} + \\frac{dt}{2 m} f{\\left (dt \\left(\\frac{dt}{2 m} f{\\left (x_{0} \\right )} + v_{0} e^{- \\frac{dt \\gamma}{2}} + \\xi_{1} \\sqrt{\\frac{kT}{m}} \\sqrt{1 - e^{- dt \\gamma}}\\right) + x_{0} \\right )} + v_{0} e^{- \\frac{dt \\gamma}{2}} + \\xi_{1} \\sqrt{\\frac{kT}{m}} \\sqrt{1 - e^{- dt \\gamma}}\\right)^{2}$$"
      ],
      "text/plain": [
       "                                                                              \n",
       "                                                                        ⎛     \n",
       "                                                              2         ⎜     \n",
       "                    ⎛    -dt⋅γ                               ⎞          ⎜     \n",
       "                    ⎜    ──────          ____    ____________⎟          ⎜     \n",
       "          2         ⎜      2            ╱ kT    ╱      -dt⋅γ ⎟          ⎜     \n",
       "- 0.5⋅m⋅v₀  + 0.5⋅m⋅⎜v₀⋅ℯ       + ξ₁⋅  ╱  ── ⋅╲╱  1 - ℯ      ⎟  + 0.5⋅m⋅⎜ξ₅⋅  \n",
       "                    ⎝                ╲╱   m                  ⎠          ⎝   ╲╱\n",
       "\n",
       "                                                                              \n",
       "                         ⎛               ⎛   ⎛               -dt⋅γ            \n",
       "                         ⎜               ⎜   ⎜               ──────          _\n",
       "                         ⎜               ⎜   ⎜dt⋅f(x₀)         2            ╱ \n",
       "  ____    ____________   ⎜           dt⋅f⎜dt⋅⎜──────── + v₀⋅ℯ       + ξ₁⋅  ╱  \n",
       " ╱ kT    ╱      -dt⋅γ    ⎜dt⋅f(x₀)       ⎝   ⎝  2⋅m                      ╲╱   \n",
       "╱  ── ⋅╲╱  1 - ℯ       + ⎜──────── + ─────────────────────────────────────────\n",
       "   m                     ⎝  2⋅m                                      2⋅m      \n",
       "\n",
       "                                                                              \n",
       "                   ⎞     ⎞                                           ⎞        \n",
       "___    ____________⎟     ⎟                                           ⎟        \n",
       "kT    ╱      -dt⋅γ ⎟     ⎟       -dt⋅γ                               ⎟  -dt⋅γ \n",
       "── ⋅╲╱  1 - ℯ      ⎟ + x₀⎟       ──────          ____    ____________⎟  ──────\n",
       "m                  ⎠     ⎠         2            ╱ kT    ╱      -dt⋅γ ⎟    2   \n",
       "────────────────────────── + v₀⋅ℯ       + ξ₁⋅  ╱  ── ⋅╲╱  1 - ℯ      ⎟⋅ℯ      \n",
       "                                             ╲╱   m                  ⎠        \n",
       "\n",
       " 2                                                                            \n",
       "⎞          ⎛               ⎛   ⎛               -dt⋅γ                          \n",
       "⎟          ⎜               ⎜   ⎜               ──────          ____    _______\n",
       "⎟          ⎜               ⎜   ⎜dt⋅f(x₀)         2            ╱ kT    ╱      -\n",
       "⎟          ⎜           dt⋅f⎜dt⋅⎜──────── + v₀⋅ℯ       + ξ₁⋅  ╱  ── ⋅╲╱  1 - ℯ \n",
       "⎟          ⎜dt⋅f(x₀)       ⎝   ⎝  2⋅m                      ╲╱   m             \n",
       "⎟  - 0.5⋅m⋅⎜──────── + ───────────────────────────────────────────────────────\n",
       "⎠          ⎝  2⋅m                                      2⋅m                    \n",
       "\n",
       "                                                        2\n",
       "     ⎞     ⎞                                           ⎞ \n",
       "_____⎟     ⎟                                           ⎟ \n",
       "dt⋅γ ⎟     ⎟       -dt⋅γ                               ⎟ \n",
       "     ⎟ + x₀⎟       ──────          ____    ____________⎟ \n",
       "     ⎠     ⎠         2            ╱ kT    ╱      -dt⋅γ ⎟ \n",
       "──────────── + v₀⋅ℯ       + ξ₁⋅  ╱  ── ⋅╲╱  1 - ℯ      ⎟ \n",
       "                               ╲╱   m                  ⎠ "
      ]
     },
     "execution_count": 6,
     "metadata": {},
     "output_type": "execute_result"
    }
   ],
   "source": [
    "heat"
   ]
  },
  {
   "cell_type": "code",
   "execution_count": 7,
   "metadata": {
    "collapsed": false
   },
   "outputs": [
    {
     "data": {
      "image/png": "[encoded data removed]",
      "text/latex": [
       "$$0$$"
      ],
      "text/plain": [
       "0"
      ]
     },
     "execution_count": 7,
     "metadata": {},
     "output_type": "execute_result"
    }
   ],
   "source": [
    "delta_E - (W_shad + heat)"
   ]
  },
  {
   "cell_type": "code",
   "execution_count": 9,
   "metadata": {
    "collapsed": false
   },
   "outputs": [
    {
     "data": {
      "image/png": "[encoded data removed]",
      "text/latex": [
       "$$\\frac{\\sqrt{2} e^{- \\frac{0.005 m}{kT \\left(1 - e^{- dt \\gamma}\\right)}}}{2 \\sqrt{\\pi} \\sqrt{\\frac{kT}{m} \\left(1 - e^{- dt \\gamma}\\right)}}$$"
      ],
      "text/plain": [
       "           -0.005⋅m        \n",
       "        ───────────────    \n",
       "           ⎛     -dt⋅γ⎞    \n",
       "        kT⋅⎝1 - ℯ     ⎠    \n",
       "    √2⋅ℯ                   \n",
       "───────────────────────────\n",
       "          _________________\n",
       "         ╱    ⎛     -dt⋅γ⎞ \n",
       "        ╱  kT⋅⎝1 - ℯ     ⎠ \n",
       "2⋅√π⋅  ╱   ─────────────── \n",
       "     ╲╱           m        "
      ]
     },
     "execution_count": 9,
     "metadata": {},
     "output_type": "execute_result"
    }
   ],
   "source": [
    "# also define path probabilities?\n",
    "\n",
    "\n",
    "# here, let's define the individual step probabilities\n",
    "def normal_pdf(x, mu, sigma):\n",
    "    return (1 / (sqrt(2 * pi * sigma**2))) * exp(-(x - mu)**2 / (2 * sigma**2))\n",
    "\n",
    "def R_prob(from_x, from_v, to_x, to_v, h):\n",
    "    '''deterministic position update'''\n",
    "    if (from_v == to_v) and (to_x == (from_x + from_v * h)):\n",
    "        return 1\n",
    "    else:\n",
    "        return 0\n",
    "\n",
    "def V_prob(from_x, from_v, to_x, to_v, h):\n",
    "    if (from_x == to_x) and (to_v == (from_v + f(from_x) * h / m)):\n",
    "        return 1\n",
    "    else:\n",
    "        return 0\n",
    "\n",
    "def O_prob(from_x, from_v, to_x, to_v, h):\n",
    "    ''' need to double check this, probably dropped a 2 somewhere...'''\n",
    "    a = exp(-gamma * h) # okay\n",
    "    b = sqrt(1 - exp(-2 * gamma * h)) # okay\n",
    "    \n",
    "    sigma = b * sqrt(kT / m) # double-check this! is this the definition of sigma or sigma^2?\n",
    "    mu = a * from_v # okay\n",
    "    \n",
    "    if (from_x == to_x):\n",
    "        return normal_pdf(to_v, mu, sigma) \n",
    "    else:\n",
    "        return 0\n",
    "\n",
    "# for example, what's the probability of a small v perturbation\n",
    "O_prob(0, 0, 0, 0.1, dt / 2) "
   ]
  },
  {
   "cell_type": "code",
   "execution_count": 11,
   "metadata": {
    "collapsed": false
   },
   "outputs": [
    {
     "data": {
      "image/png": "[encoded data removed]",
      "text/latex": [
       "$$\\frac{\\sqrt{2} e^{- \\frac{\\xi_{1}^{2}}{2}}}{2 \\sqrt{\\pi} \\sqrt{\\frac{kT}{m} \\left(1 - e^{- dt \\gamma}\\right)}}$$"
      ],
      "text/plain": [
       "                2          \n",
       "             -ξ₁           \n",
       "             ─────         \n",
       "               2           \n",
       "         √2⋅ℯ              \n",
       "───────────────────────────\n",
       "          _________________\n",
       "         ╱    ⎛     -dt⋅γ⎞ \n",
       "        ╱  kT⋅⎝1 - ℯ     ⎠ \n",
       "2⋅√π⋅  ╱   ─────────────── \n",
       "     ╲╱           m        "
      ]
     },
     "execution_count": 11,
     "metadata": {},
     "output_type": "execute_result"
    }
   ],
   "source": [
    "O_prob(symbolic_traj['x_0'], symbolic_traj['v_0'], symbolic_traj['x_1'], symbolic_traj['v_1'], dt / 2)"
   ]
  },
  {
   "cell_type": "code",
   "execution_count": 21,
   "metadata": {
    "collapsed": false
   },
   "outputs": [],
   "source": [
    "def forward_path_probability(splitting=\"OVRVO\"):\n",
    "    path_prob = 1\n",
    "    n_O, n_R, n_V = count_steps(splitting)\n",
    "    \n",
    "    \n",
    "    \n",
    "    \n",
    "    for i, step in enumerate(splitting):\n",
    "        x_0, v_0 = symbolic_traj['x_{}'.format(i)], symbolic_traj['v_{}'.format(i)]\n",
    "        x_1, v_1 = symbolic_traj['x_{}'.format(i+1)], symbolic_traj['v_{}'.format(i+1)]\n",
    "        \n",
    "        if step == \"O\":\n",
    "            step_prob = O_prob(x_0, v_0, x_1, v_1,\n",
    "                               dt / n_O)\n",
    "        elif step == \"R\":\n",
    "            step_prob = R_prob(x_0, v_0, x_1, v_1,\n",
    "                               dt / n_R)\n",
    "        elif step == \"V\":\n",
    "            step_prob = V_prob(x_0, v_0, x_1, v_1,\n",
    "                               dt / n_V)\n",
    "\n",
    "        path_prob = path_prob * step_prob\n",
    "    return path_prob"
   ]
  },
  {
   "cell_type": "code",
   "execution_count": 22,
   "metadata": {
    "collapsed": false
   },
   "outputs": [
    {
     "data": {
      "image/png": "[encoded data removed]",
      "text/latex": [
       "$$\\frac{\\frac{1}{kT} m e^{- \\frac{\\xi_{1}^{2}}{2}}}{2 \\pi} \\frac{1}{1 - e^{- dt \\gamma}} e^{- \\frac{\\xi_{5}^{2}}{2}}$$"
      ],
      "text/plain": [
       "                    2      2 \n",
       "                 -ξ₁    -ξ₅  \n",
       "                 ─────  ─────\n",
       "       m           2      2  \n",
       "───────────────⋅ℯ     ⋅ℯ     \n",
       "   ⎛     -dt⋅γ⎞              \n",
       "kT⋅⎝1 - ℯ     ⎠              \n",
       "─────────────────────────────\n",
       "             2⋅π             "
      ]
     },
     "execution_count": 22,
     "metadata": {},
     "output_type": "execute_result"
    }
   ],
   "source": [
    "forward_path_probability(\"OVRVO\")"
   ]
  },
  {
   "cell_type": "code",
   "execution_count": 34,
   "metadata": {
    "collapsed": true
   },
   "outputs": [],
   "source": [
    "def reverse_path_probability(splitting=\"OVRVO\"):\n",
    "    '''same as above, just reverse order of trajectory and steps appropriately?'''\n",
    "    \n",
    "    path_prob = 1\n",
    "    n_O, n_R, n_V = count_steps(splitting)\n",
    "\n",
    "    for i in range(len(splitting))[::-1]:\n",
    "        step = splitting[i]\n",
    "        \n",
    "        \n",
    "        x_0, v_0 = symbolic_traj['x_{}'.format(i+1)], symbolic_traj['v_{}'.format(i+1)]\n",
    "        x_1, v_1 = symbolic_traj['x_{}'.format(i)], symbolic_traj['v_{}'.format(i)]\n",
    "        \n",
    "        if step == \"O\":\n",
    "            step_prob = O_prob(x_0, v_0, x_1, v_1,\n",
    "                               dt / n_O)\n",
    "        elif step == \"R\":\n",
    "            step_prob = R_prob(x_0, v_0, x_1, v_1,\n",
    "                               dt / n_R)\n",
    "        elif step == \"V\":\n",
    "            step_prob = V_prob(x_0, v_0, x_1, v_1,\n",
    "                               dt / n_V)\n",
    "\n",
    "        path_prob = path_prob * step_prob\n",
    "    return path_prob"
   ]
  },
  {
   "cell_type": "code",
   "execution_count": 35,
   "metadata": {
    "collapsed": true
   },
   "outputs": [],
   "source": [
    "def CFT_definition_of_work(splitting=\"OVRVO\"):\n",
    "    return - ln(reverse_path_probability(splitting) / forward_path_probability(splitting))"
   ]
  },
  {
   "cell_type": "code",
   "execution_count": 36,
   "metadata": {
    "collapsed": false
   },
   "outputs": [
    {
     "data": {
      "image/png": "[encoded data removed]",
      "text/latex": [
       "$$\\tilde{\\infty}$$"
      ],
      "text/plain": [
       "zoo"
      ]
     },
     "execution_count": 36,
     "metadata": {},
     "output_type": "execute_result"
    }
   ],
   "source": [
    "CFT_definition_of_work(\"OVRVO\")"
   ]
  },
  {
   "cell_type": "code",
   "execution_count": 37,
   "metadata": {
    "collapsed": false
   },
   "outputs": [
    {
     "data": {
      "image/png": "[encoded data removed]",
      "text/latex": [
       "$$0$$"
      ],
      "text/plain": [
       "0"
      ]
     },
     "execution_count": 37,
     "metadata": {},
     "output_type": "execute_result"
    }
   ],
   "source": [
    "reverse_path_probability()"
   ]
  },
  {
   "cell_type": "code",
   "execution_count": 38,
   "metadata": {
    "collapsed": false
   },
   "outputs": [
    {
     "data": {
      "image/png": "[encoded data removed]",
      "text/latex": [
       "$$\\frac{\\frac{1}{kT} m e^{- \\frac{\\xi_{1}^{2}}{2}}}{2 \\pi} \\frac{1}{1 - e^{- dt \\gamma}} e^{- \\frac{\\xi_{5}^{2}}{2}}$$"
      ],
      "text/plain": [
       "                    2      2 \n",
       "                 -ξ₁    -ξ₅  \n",
       "                 ─────  ─────\n",
       "       m           2      2  \n",
       "───────────────⋅ℯ     ⋅ℯ     \n",
       "   ⎛     -dt⋅γ⎞              \n",
       "kT⋅⎝1 - ℯ     ⎠              \n",
       "─────────────────────────────\n",
       "             2⋅π             "
      ]
     },
     "execution_count": 38,
     "metadata": {},
     "output_type": "execute_result"
    }
   ],
   "source": [
    "forward_path_probability()"
   ]
  },
  {
   "cell_type": "code",
   "execution_count": null,
   "metadata": {
    "collapsed": true
   },
   "outputs": [],
   "source": [
    "# hmm that doesn't look quite right"
   ]
  }
 ],
 "metadata": {
  "anaconda-cloud": {},
  "kernelspec": {
   "display_name": "Python [default]",
   "language": "python",
   "name": "python2"
  },
  "language_info": {
   "codemirror_mode": {
    "name": "ipython",
    "version": 2
   },
   "file_extension": ".py",
   "mimetype": "text/x-python",
   "name": "python",
   "nbconvert_exporter": "python",
   "pygments_lexer": "ipython2",
   "version": "2.7.9"
  }
 },
 "nbformat": 4,
 "nbformat_minor": 1
}
