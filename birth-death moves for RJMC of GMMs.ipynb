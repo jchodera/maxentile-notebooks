{
 "cells": [
  {
   "cell_type": "code",
   "execution_count": 1,
   "metadata": {},
   "outputs": [
    {
     "data": {
      "text/plain": [
       "([<matplotlib.axis.XTick at 0x11475b2e8>,\n",
       "  <matplotlib.axis.XTick at 0x11475b710>,\n",
       "  <matplotlib.axis.XTick at 0x114765438>],\n",
       " <a list of 3 Text xticklabel objects>)"
      ]
     },
     "execution_count": 1,
     "metadata": {},
     "output_type": "execute_result"
    },
    {
     "data": {
      "image/png": "[encoded data removed]",
      "text/plain": [
       "<matplotlib.figure.Figure at 0x1106626d8>"
      ]
     },
     "metadata": {},
     "output_type": "display_data"
    }
   ],
   "source": [
    "# RJMC for GMMs:\n",
    "import matplotlib.pyplot as plt\n",
    "%matplotlib inline\n",
    "\n",
    "from autograd import numpy as np\n",
    "np.random.seed(0)\n",
    "from scipy.stats import norm\n",
    "from scipy.stats import dirichlet\n",
    "from scipy.special import logsumexp\n",
    "\n",
    "def gaussian_mixture_log_likelihood(X, means, stdevs, weights):\n",
    "    component_log_pdfs = np.array([norm.logpdf(X, loc=mean, scale=stdev) + np.log(weight) for ((mean, stdev), weight) in zip(zip(means, stdevs), weights)])\n",
    "    return np.sum(logsumexp(component_log_pdfs, 0))\n",
    "\n",
    "from scipy.stats import norm, invgamma\n",
    "from scipy.special import logsumexp\n",
    "\n",
    "def unpack(theta):\n",
    "    assert(len(theta) % 3 == 0)\n",
    "    n = int(len(theta) / 3)\n",
    "    means, stdevs, weights = np.array(theta[:n]), np.array(theta[n:2*n]), np.array(theta[2*n:])\n",
    "    return means, stdevs, weights\n",
    "\n",
    "def log_prior(theta):\n",
    "    means, stdevs, weights = unpack(theta)\n",
    "    log_prior_on_means = np.sum(norm.logpdf(means, scale=20))\n",
    "    log_prior_on_variances = np.sum(invgamma.logpdf((stdevs**2), 1.0))\n",
    "    #log_prior_on_weights = dirichlet.logpdf(weights, np.ones(len(weights)))\n",
    "    #log_prior_on_weights = np.sum(np.log(weights))\n",
    "    log_prior_on_weights = 0 # removing the prior on weights to see if this is the culprit...\n",
    "    return log_prior_on_means + log_prior_on_variances + log_prior_on_weights\n",
    "\n",
    "def flat_log_p(theta):\n",
    "    means, stdevs, weights = unpack(theta)\n",
    "    if np.min(stdevs) <= 0.001: return - np.inf\n",
    "    log_likelihood = gaussian_mixture_log_likelihood(X=data, means=means,\n",
    "                                           stdevs=stdevs,\n",
    "                                           weights=weights)\n",
    "    \n",
    "    return log_likelihood + log_prior(theta)\n",
    "\n",
    "#n_components = 10\n",
    "#true_means = np.random.rand(n_components) * 10 - 5\n",
    "#true_stdevs = np.random.rand(n_components) * 0.2\n",
    "#true_weights = np.random.rand(n_components)**2\n",
    "#true_weights /= np.sum(true_weights)\n",
    "\n",
    "n_data = 300\n",
    "data = np.zeros(n_data)\n",
    "#for i in range(n_data):\n",
    "#    component = np.random.choice(np.arange(n_components), p=true_weights)\n",
    "#    #component = np.random.randint(n_components)\n",
    "#    data[i] = norm.rvs(loc=true_means[component], scale=true_stdevs[component])\n",
    "\n",
    "#n_components = 10\n",
    "#true_means = np.linspace(-5,5,n_components)\n",
    "#true_stdevs = np.random.rand(n_components)*0.5\n",
    "#true_weights = np.random.rand(n_components)\n",
    "#true_weights /= np.sum(true_weights)\n",
    "#n_data = 300\n",
    "#data = np.zeros(n_data)\n",
    "#for i in range(n_data):\n",
    "#    component = np.random.randint(n_components)\n",
    "#    data[i] = norm.rvs(loc=true_means[component], scale=true_stdevs[component])\n",
    "    \n",
    "    \n",
    "    \n",
    "n_components = 3\n",
    "true_means = [-5.0,0.0,5.0]\n",
    "true_stdevs = np.ones(n_components)\n",
    "true_weights = np.ones(n_components) / 3\n",
    "n_data = 300\n",
    "data = np.zeros(n_data)\n",
    "for i in range(n_data):\n",
    "    component = np.random.randint(n_components)\n",
    "    data[i] = norm.rvs(loc=true_means[component], scale=true_stdevs[component])\n",
    "\n",
    "\n",
    "plt.figure(figsize=(6,6))\n",
    "\n",
    "ax = plt.subplot(111)\n",
    "    \n",
    "plt.hist(data, bins=50, normed=True, alpha=0.5);\n",
    "x = np.linspace(-8,8, 1000)\n",
    "y_tot = np.zeros(x.shape)\n",
    "for i in range(n_components):\n",
    "    \n",
    "    y = norm.pdf(x, loc=true_means[i], scale=true_stdevs[i]) * true_weights[i]\n",
    "    plt.plot(x, y, '--', color='grey',)\n",
    "    plt.fill_between(x, y, color='grey' ,alpha=0.2)\n",
    "    y_tot += y\n",
    "plt.plot(x,y_tot, color='blue',)\n",
    "plt.yticks([])\n",
    "\n",
    "ax.spines['right'].set_visible(False)\n",
    "ax.spines['top'].set_visible(False)\n",
    "\n",
    "plt.title(\"data: {} points sampled from {} mixture components\".format(n_data, n_components))\n",
    "plt.ylabel('probability density')\n",
    "plt.xlabel('x')\n",
    "plt.xticks([-8,0,8])"
   ]
  },
  {
   "cell_type": "code",
   "execution_count": 2,
   "metadata": {},
   "outputs": [
    {
     "data": {
      "text/plain": [
       "(-0.2432734349279617, 4.293462995108555)"
      ]
     },
     "execution_count": 2,
     "metadata": {},
     "output_type": "execute_result"
    }
   ],
   "source": [
    "np.mean(data), np.std(data)"
   ]
  },
  {
   "cell_type": "code",
   "execution_count": 3,
   "metadata": {},
   "outputs": [],
   "source": [
    "max_components = 50\n",
    "mean_perturbation_scale = 5.0\n",
    "stdev_perturbation_scale = 2.0\n",
    "\n",
    "def reversible_birth_death_move(theta, parents):\n",
    "    \n",
    "    means, stdevs, weights = unpack(theta)\n",
    "    means, stdevs, weights = map(np.array, (means, stdevs, weights))\n",
    "    \n",
    "    sum_weights_before = np.sum(weights)\n",
    "    n_components = len(means)\n",
    "    \n",
    "    # decide whether to create a new component\n",
    "    if n_components == 1:\n",
    "        birth_probability = 1.0\n",
    "        log_prob_forward_over_reverse = np.log(1.0 / 0.5) # F: 100% chance of \"birth\" move, R: 50% chance\n",
    "    elif n_components == max_components:\n",
    "        birth_probability = 0.0\n",
    "        log_prob_forward_over_reverse = np.log(1.0 / 0.5) # F: 100% chance of \"death\" move, R: 50% chance\n",
    "    else:\n",
    "        birth_probability = 0.5\n",
    "        log_prob_forward_over_reverse = np.log(1.0 / 1.0) # 0\n",
    "    death_probability = 1.0 - birth_probability\n",
    "    \n",
    "    if np.random.rand() < birth_probability:\n",
    "        (means, stdevs, weights, parents_prime), log_jac_u_term = reversible_birth_move(means, stdevs, weights, parents)\n",
    "    else:\n",
    "        (means, stdevs, weights, parents_prime), log_jac_u_term = reversible_death_move(means, stdevs, weights, parents)\n",
    "    assert(len(means) == len(stdevs))\n",
    "    theta_prime = np.array(means + stdevs + weights)\n",
    "    \n",
    "    sum_weights_after = np.sum(weights)\n",
    "    assert(np.isclose(sum_weights_before, sum_weights_after))\n",
    "    return theta_prime, parents_prime, log_jac_u_term - log_prob_forward_over_reverse\n",
    "    \n",
    "from scipy.stats import uniform, norm\n",
    "u_1_distribution = uniform(0, 1)\n",
    "u_2_distribution = norm(0, 1)\n",
    "u_3_distribution = norm(0, 1)\n",
    "\n",
    "\n",
    "def reversible_birth_move(means, stdevs, weights, parents):\n",
    "    # make local copies to be extra sure we're not accidentally overwriting...\n",
    "    means, stdevs, weights, parents = map(list, (means, stdevs, weights, parents))\n",
    "    \n",
    "    # draw all the random numbers we're going to use\n",
    "    i = np.random.randint(len(means)) # choose a parent component at random\n",
    "    u_1 = u_1_distribution.rvs()\n",
    "    u_2 = u_2_distribution.rvs()\n",
    "    u_3 = u_3_distribution.rvs()\n",
    "    \n",
    "    # compute the log probability density of all the random numbers we drew\n",
    "    log_prob_u = np.log(1.0 / len(means)) + u_1_distribution.logpdf(u_1) + u_2_distribution.logpdf(u_2) + u_3_distribution.logpdf(u_3)\n",
    "    \n",
    "    # compute the parameters of the new mixture component\n",
    "    weight_new = weights[i] * u_1\n",
    "    mean_new = (u_2 * mean_perturbation_scale) + means[i]\n",
    "    stdev_new = (u_3 * stdev_perturbation_scale) + stdevs[i]\n",
    "    \n",
    "    # compute log determinant of the jacobian\n",
    "    log_jacobian_determinant = np.log(weights[i]) + np.log(mean_perturbation_scale) + np.log(stdev_perturbation_scale)\n",
    "    \n",
    "    # subtract the new mixture component's weight from its parent\n",
    "    weights[i] -= weight_new\n",
    "    \n",
    "    # update means, stdevs, weights, parents\n",
    "    means.append(mean_new)\n",
    "    stdevs.append(stdev_new)\n",
    "    weights.append(weight_new)\n",
    "    parents.append(i)\n",
    "    \n",
    "    return (means, stdevs, weights, parents), (log_jacobian_determinant - log_prob_u)\n",
    "\n",
    "def mmc_move(theta, parents):\n",
    "    \"\"\"Standard Metropolis Monte Carlo move.\n",
    "    \n",
    "    (Contributed by JDC)\n",
    "    \"\"\"            \n",
    "    theta_prime = np.array(theta)\n",
    "    parents_prime = list(parents)\n",
    "            \n",
    "    n = int(len(theta) / 3)\n",
    "            \n",
    "    SIGMA_MEAN = 0.05\n",
    "    SIGMA_STDDEV = 0.05\n",
    "    SIGMA_WEIGHT = 0.05\n",
    "    \n",
    "    # different proposal sizes for mean, stdev, weight\n",
    "    i = np.random.randint(n)\n",
    "    j = np.random.randint(n)\n",
    "    delta_mean = SIGMA_MEAN * np.random.randn()\n",
    "    delta_stddev = SIGMA_STDDEV * np.random.randn()\n",
    "    delta_weight = SIGMA_WEIGHT * np.random.randn()\n",
    "    \n",
    "    theta_prime[i] += delta_mean\n",
    "    theta_prime[n+i] += delta_stddev\n",
    "    theta_prime[2*n+i] += delta_weight\n",
    "    theta_prime[2*n+j] -= delta_weight\n",
    "            \n",
    "    log_jac_u_term = 0.0\n",
    "    if np.any(theta_prime[n:2*n] <= 0.0) or np.any(theta_prime[2*n:] <= 0.0) or not np.isclose(np.sum(theta_prime[2*n:]), 1.0):\n",
    "        # Force reject\n",
    "        #print(theta_prime)\n",
    "        log_jac_u_term = - np.inf\n",
    "            \n",
    "    return theta_prime, parents_prime, log_jac_u_term\n",
    "    \n",
    "def reversible_death_move(means, stdevs, weights, parents):\n",
    "    # make local copies to be extra sure we're not accidentally overwriting...\n",
    "    means, stdevs, weights, parents = map(list, (means, stdevs, weights, parents))\n",
    "    \n",
    "    # draw all the random numbers we're going to use\n",
    "    i = np.random.randint(1, len(means)) # choose a component at random to remove, except component 0\n",
    "    \n",
    "    # compute the log probability density of all the random numbers we drew\n",
    "    log_prob_u = np.log(1.0 / (len(means) - 1))\n",
    "    \n",
    "    # and also the log probability density of the random numbers we would have drawn?\n",
    "    weight_new = weights[i]\n",
    "    mean_new = means[i]\n",
    "    stdev_new = stdevs[i]\n",
    "    u_1 = weight_new / weights[parents[i]]\n",
    "    u_2 = (mean_new - means[parents[i]] ) / mean_perturbation_scale\n",
    "    u_3 = (stdev_new - stdevs[parents[i]]) / stdev_perturbation_scale\n",
    "    log_prob_u += u_1_distribution.logpdf(u_1) + u_2_distribution.logpdf(u_2) + u_3_distribution.logpdf(u_3)\n",
    "    \n",
    "    # also I think we need to compute the jacobian determinant of the inverse\n",
    "    inv_log_jacobian_determinant = np.log(weights[parents[i]]) + np.log(mean_perturbation_scale) + np.log(stdev_perturbation_scale)\n",
    "    log_jacobian_determinant = - inv_log_jacobian_determinant\n",
    "    \n",
    "    # remove this mixture component, and re-allocate its weight to its parent\n",
    "    weights[parents[i]] += weights[i]\n",
    "    \n",
    "    # update the parent list, so that any j whose parent just got deleted is assigned a new parent\n",
    "    for j in range(1, len(parents)):\n",
    "        if parents[j] == i:\n",
    "            parents[j] = parents[i]\n",
    "            \n",
    "    # wait, this is almost certainly wrong, because the indices will change...\n",
    "    _ = means.pop(i)\n",
    "    _ = stdevs.pop(i)\n",
    "    _ = weights.pop(i)\n",
    "    _ = parents.pop(i)\n",
    "    \n",
    "    # fix indices\n",
    "    for j in range(1, len(parents)):\n",
    "        if parents[j] > i:\n",
    "            parents[j] -= 1\n",
    "    \n",
    "    return (means, stdevs, weights, parents), (log_jacobian_determinant - log_prob_u)\n",
    "\n",
    "from tqdm import tqdm\n",
    "def rjmcmc_w_parents(theta, parents, n_steps=10000):\n",
    "    \n",
    "    traj = [(theta, parents)]\n",
    "    old_log_p = flat_log_p(theta)\n",
    "    acceptance_probabilities = []\n",
    "    \n",
    "    for t in tqdm(range(n_steps)):\n",
    "        # generate proposal\n",
    "        if np.random.rand() < 0.05:\n",
    "            theta_prime, parents_prime, log_jac_u_term = reversible_birth_death_move(theta, parents)\n",
    "        else:\n",
    "            theta_prime, parents_prime, log_jac_u_term = mmc_move(theta, parents) \n",
    "        \n",
    "        new_log_p = flat_log_p(theta_prime)\n",
    "        log_prob_ratio = new_log_p - old_log_p\n",
    "        if not np.isfinite(new_log_p):\n",
    "            A = 0\n",
    "            #print(RuntimeWarning(\"new_log_p isn't finite: theta = {}, parents = {}\".format(theta_prime, parents_prime)))\n",
    "        else:\n",
    "            A = min(1.0, np.exp(log_prob_ratio + log_jac_u_term))\n",
    "    \n",
    "        if np.random.rand() < A:\n",
    "            theta = theta_prime\n",
    "            parents = parents_prime\n",
    "            old_log_p = new_log_p\n",
    "            \n",
    "            if len(theta) != len(traj[-1][0]):\n",
    "                prev_dim = int(len(traj[-1][0]) / 3)\n",
    "                current_dim = int(len(theta) / 3)\n",
    "                assert(len(theta) % 3 == 0)\n",
    "\n",
    "                print('{}: accepted a cross-model jump! # components: {} --> {}'.format(t, prev_dim, current_dim))\n",
    "        traj.append((theta, parents))\n",
    "        acceptance_probabilities.append(A)\n",
    "    return traj, acceptance_probabilities"
   ]
  },
  {
   "cell_type": "code",
   "execution_count": 4,
   "metadata": {},
   "outputs": [
    {
     "name": "stderr",
     "output_type": "stream",
     "text": [
      "  0%|          | 132/100000 [00:00<01:16, 1312.57it/s]/Users/joshuafass/anaconda/lib/python3.6/site-packages/autograd/tracer.py:48: RuntimeWarning: invalid value encountered in log\n",
      "  return f_raw(*args, **kwargs)\n",
      "  0%|          | 247/100000 [00:00<01:19, 1256.99it/s]"
     ]
    },
    {
     "name": "stdout",
     "output_type": "stream",
     "text": [
      "66: accepted a cross-model jump! # components: 1 --> 2\n",
      "128: accepted a cross-model jump! # components: 2 --> 3\n",
      "167: accepted a cross-model jump! # components: 3 --> 2\n"
     ]
    },
    {
     "name": "stderr",
     "output_type": "stream",
     "text": [
      "  1%|          | 1112/100000 [00:00<01:21, 1209.95it/s]"
     ]
    },
    {
     "name": "stdout",
     "output_type": "stream",
     "text": [
      "957: accepted a cross-model jump! # components: 2 --> 3\n",
      "1075: accepted a cross-model jump! # components: 3 --> 2\n"
     ]
    },
    {
     "name": "stderr",
     "output_type": "stream",
     "text": [
      "  1%|▏         | 1477/100000 [00:01<01:26, 1135.72it/s]"
     ]
    },
    {
     "name": "stdout",
     "output_type": "stream",
     "text": [
      "1364: accepted a cross-model jump! # components: 2 --> 3\n"
     ]
    },
    {
     "name": "stderr",
     "output_type": "stream",
     "text": [
      "  2%|▏         | 2487/100000 [00:02<01:27, 1116.38it/s]/Users/joshuafass/anaconda/lib/python3.6/site-packages/autograd/tracer.py:48: RuntimeWarning: overflow encountered in exp\n",
      "  return f_raw(*args, **kwargs)\n",
      "  3%|▎         | 2714/100000 [00:02<01:33, 1035.00it/s]"
     ]
    },
    {
     "name": "stdout",
     "output_type": "stream",
     "text": [
      "2565: accepted a cross-model jump! # components: 3 --> 2\n",
      "2586: accepted a cross-model jump! # components: 2 --> 3\n",
      "2597: accepted a cross-model jump! # components: 3 --> 4\n",
      "2623: accepted a cross-model jump! # components: 4 --> 3\n",
      "2626: accepted a cross-model jump! # components: 3 --> 4\n",
      "2632: accepted a cross-model jump! # components: 4 --> 5\n",
      "2683: accepted a cross-model jump! # components: 5 --> 4\n",
      "2703: accepted a cross-model jump! # components: 4 --> 3\n"
     ]
    },
    {
     "name": "stderr",
     "output_type": "stream",
     "text": [
      "  3%|▎         | 2930/100000 [00:02<01:32, 1054.57it/s]"
     ]
    },
    {
     "name": "stdout",
     "output_type": "stream",
     "text": [
      "2821: accepted a cross-model jump! # components: 3 --> 2\n",
      "2861: accepted a cross-model jump! # components: 2 --> 1\n",
      "2878: accepted a cross-model jump! # components: 1 --> 2\n",
      "2884: accepted a cross-model jump! # components: 2 --> 3\n",
      "2901: accepted a cross-model jump! # components: 3 --> 4\n",
      "2908: accepted a cross-model jump! # components: 4 --> 3\n",
      "2918: accepted a cross-model jump! # components: 3 --> 4\n",
      "2985: accepted a cross-model jump! # components: 4 --> 3\n"
     ]
    },
    {
     "name": "stderr",
     "output_type": "stream",
     "text": [
      "  3%|▎         | 3261/100000 [00:02<01:32, 1050.95it/s]"
     ]
    },
    {
     "name": "stdout",
     "output_type": "stream",
     "text": [
      "3083: accepted a cross-model jump! # components: 3 --> 2\n",
      "3123: accepted a cross-model jump! # components: 2 --> 1\n",
      "3132: accepted a cross-model jump! # components: 1 --> 2\n",
      "3160: accepted a cross-model jump! # components: 2 --> 3\n",
      "3205: accepted a cross-model jump! # components: 3 --> 4\n"
     ]
    },
    {
     "name": "stderr",
     "output_type": "stream",
     "text": [
      "\r",
      "  3%|▎         | 3367/100000 [00:03<01:36, 996.77it/s] "
     ]
    },
    {
     "name": "stdout",
     "output_type": "stream",
     "text": [
      "3303: accepted a cross-model jump! # components: 4 --> 3\n",
      "3339: accepted a cross-model jump! # components: 3 --> 4\n",
      "3344: accepted a cross-model jump! # components: 4 --> 5\n",
      "3403: accepted a cross-model jump! # components: 5 --> 6\n",
      "3437: accepted a cross-model jump! # components: 6 --> 5\n",
      "3451: accepted a cross-model jump! # components: 5 --> 4\n",
      "3455: accepted a cross-model jump! # components: 4 --> 3\n"
     ]
    },
    {
     "name": "stderr",
     "output_type": "stream",
     "text": [
      "  4%|▎         | 3616/100000 [00:03<01:34, 1023.93it/s]"
     ]
    },
    {
     "name": "stdout",
     "output_type": "stream",
     "text": [
      "3465: accepted a cross-model jump! # components: 3 --> 2\n",
      "3499: accepted a cross-model jump! # components: 2 --> 1\n",
      "3593: accepted a cross-model jump! # components: 1 --> 2\n",
      "3604: accepted a cross-model jump! # components: 2 --> 1\n",
      "3655: accepted a cross-model jump! # components: 1 --> 2\n",
      "3671: accepted a cross-model jump! # components: 2 --> 1\n",
      "3674: accepted a cross-model jump! # components: 1 --> 2\n",
      "3707: accepted a cross-model jump! # components: 2 --> 1\n",
      "3721: accepted a cross-model jump! # components: 1 --> 2\n"
     ]
    },
    {
     "name": "stderr",
     "output_type": "stream",
     "text": [
      "  4%|▍         | 4019/100000 [00:03<01:18, 1218.39it/s]"
     ]
    },
    {
     "name": "stdout",
     "output_type": "stream",
     "text": [
      "3764: accepted a cross-model jump! # components: 2 --> 1\n",
      "3787: accepted a cross-model jump! # components: 1 --> 2\n",
      "3825: accepted a cross-model jump! # components: 2 --> 1\n"
     ]
    },
    {
     "name": "stderr",
     "output_type": "stream",
     "text": [
      "  4%|▍         | 4272/100000 [00:03<01:19, 1206.53it/s]"
     ]
    },
    {
     "name": "stdout",
     "output_type": "stream",
     "text": [
      "4091: accepted a cross-model jump! # components: 1 --> 2\n"
     ]
    },
    {
     "name": "stderr",
     "output_type": "stream",
     "text": [
      "  5%|▍         | 4889/100000 [00:04<01:24, 1131.06it/s]"
     ]
    },
    {
     "name": "stdout",
     "output_type": "stream",
     "text": [
      "4724: accepted a cross-model jump! # components: 2 --> 3\n",
      "4808: accepted a cross-model jump! # components: 3 --> 2\n",
      "4929: accepted a cross-model jump! # components: 2 --> 3\n"
     ]
    },
    {
     "name": "stderr",
     "output_type": "stream",
     "text": [
      "  5%|▌         | 5119/100000 [00:04<01:27, 1080.56it/s]"
     ]
    },
    {
     "name": "stdout",
     "output_type": "stream",
     "text": [
      "4940: accepted a cross-model jump! # components: 3 --> 2\n",
      "5129: accepted a cross-model jump! # components: 2 --> 3\n"
     ]
    },
    {
     "name": "stderr",
     "output_type": "stream",
     "text": [
      "  6%|▌         | 5678/100000 [00:05<01:28, 1071.20it/s]"
     ]
    },
    {
     "name": "stdout",
     "output_type": "stream",
     "text": [
      "5431: accepted a cross-model jump! # components: 3 --> 2\n",
      "5464: accepted a cross-model jump! # components: 2 --> 3\n",
      "5466: accepted a cross-model jump! # components: 3 --> 2\n"
     ]
    },
    {
     "name": "stderr",
     "output_type": "stream",
     "text": [
      "  8%|▊         | 7541/100000 [00:06<01:15, 1223.40it/s]"
     ]
    },
    {
     "name": "stdout",
     "output_type": "stream",
     "text": [
      "7409: accepted a cross-model jump! # components: 2 --> 3\n",
      "7433: accepted a cross-model jump! # components: 3 --> 2\n"
     ]
    },
    {
     "name": "stderr",
     "output_type": "stream",
     "text": [
      "  8%|▊         | 8414/100000 [00:07<01:16, 1194.53it/s]"
     ]
    },
    {
     "name": "stdout",
     "output_type": "stream",
     "text": [
      "8289: accepted a cross-model jump! # components: 2 --> 3\n"
     ]
    },
    {
     "name": "stderr",
     "output_type": "stream",
     "text": [
      " 10%|▉         | 9557/100000 [00:08<01:18, 1152.38it/s]"
     ]
    },
    {
     "name": "stdout",
     "output_type": "stream",
     "text": [
      "9416: accepted a cross-model jump! # components: 3 --> 2\n"
     ]
    },
    {
     "name": "stderr",
     "output_type": "stream",
     "text": [
      " 10%|▉         | 9807/100000 [00:08<01:15, 1194.00it/s]"
     ]
    },
    {
     "name": "stdout",
     "output_type": "stream",
     "text": [
      "9707: accepted a cross-model jump! # components: 2 --> 1\n",
      "9726: accepted a cross-model jump! # components: 1 --> 2\n",
      "9770: accepted a cross-model jump! # components: 2 --> 1\n",
      "9807: accepted a cross-model jump! # components: 1 --> 2\n",
      "9823: accepted a cross-model jump! # components: 2 --> 3\n",
      "9843: accepted a cross-model jump! # components: 3 --> 4\n",
      "9855: accepted a cross-model jump! # components: 4 --> 3\n",
      "9858: accepted a cross-model jump! # components: 3 --> 4\n"
     ]
    },
    {
     "name": "stderr",
     "output_type": "stream",
     "text": [
      " 10%|█         | 10051/100000 [00:08<01:21, 1107.63it/s]"
     ]
    },
    {
     "name": "stdout",
     "output_type": "stream",
     "text": [
      "9914: accepted a cross-model jump! # components: 4 --> 3\n",
      "9919: accepted a cross-model jump! # components: 3 --> 2\n",
      "9976: accepted a cross-model jump! # components: 2 --> 1\n",
      "9983: accepted a cross-model jump! # components: 1 --> 2\n",
      "10022: accepted a cross-model jump! # components: 2 --> 1\n",
      "10152: accepted a cross-model jump! # components: 1 --> 2\n",
      "10162: accepted a cross-model jump! # components: 2 --> 3\n"
     ]
    },
    {
     "name": "stderr",
     "output_type": "stream",
     "text": [
      " 10%|█         | 10435/100000 [00:09<01:15, 1180.94it/s]"
     ]
    },
    {
     "name": "stdout",
     "output_type": "stream",
     "text": [
      "10235: accepted a cross-model jump! # components: 3 --> 2\n",
      "10244: accepted a cross-model jump! # components: 2 --> 3\n",
      "10360: accepted a cross-model jump! # components: 3 --> 2\n",
      "10388: accepted a cross-model jump! # components: 2 --> 1\n"
     ]
    },
    {
     "name": "stderr",
     "output_type": "stream",
     "text": [
      " 12%|█▏        | 11523/100000 [00:09<01:02, 1409.93it/s]"
     ]
    },
    {
     "name": "stdout",
     "output_type": "stream",
     "text": [
      "11283: accepted a cross-model jump! # components: 1 --> 2\n"
     ]
    },
    {
     "name": "stderr",
     "output_type": "stream",
     "text": [
      " 14%|█▍        | 14211/100000 [00:11<01:03, 1355.46it/s]"
     ]
    },
    {
     "name": "stdout",
     "output_type": "stream",
     "text": [
      "13943: accepted a cross-model jump! # components: 2 --> 3\n",
      "13946: accepted a cross-model jump! # components: 3 --> 4\n",
      "13965: accepted a cross-model jump! # components: 4 --> 3\n",
      "13999: accepted a cross-model jump! # components: 3 --> 2\n",
      "14045: accepted a cross-model jump! # components: 2 --> 1\n"
     ]
    },
    {
     "name": "stderr",
     "output_type": "stream",
     "text": [
      " 16%|█▋        | 16405/100000 [00:13<00:53, 1554.06it/s]"
     ]
    },
    {
     "name": "stdout",
     "output_type": "stream",
     "text": [
      "16195: accepted a cross-model jump! # components: 1 --> 2\n",
      "16196: accepted a cross-model jump! # components: 2 --> 1\n"
     ]
    },
    {
     "name": "stderr",
     "output_type": "stream",
     "text": [
      " 20%|█▉        | 19968/100000 [00:15<00:56, 1412.52it/s]"
     ]
    },
    {
     "name": "stdout",
     "output_type": "stream",
     "text": [
      "19760: accepted a cross-model jump! # components: 1 --> 2\n"
     ]
    },
    {
     "name": "stderr",
     "output_type": "stream",
     "text": [
      "\r",
      " 20%|██        | 20111/100000 [00:15<01:01, 1306.70it/s]"
     ]
    },
    {
     "name": "stdout",
     "output_type": "stream",
     "text": [
      "20023: accepted a cross-model jump! # components: 2 --> 3\n"
     ]
    },
    {
     "name": "stderr",
     "output_type": "stream",
     "text": [
      " 22%|██▏       | 21513/100000 [00:17<01:10, 1108.93it/s]"
     ]
    },
    {
     "name": "stdout",
     "output_type": "stream",
     "text": [
      "21291: accepted a cross-model jump! # components: 3 --> 4\n",
      "21292: accepted a cross-model jump! # components: 4 --> 3\n",
      "21445: accepted a cross-model jump! # components: 3 --> 2\n",
      "21447: accepted a cross-model jump! # components: 2 --> 3\n"
     ]
    },
    {
     "name": "stderr",
     "output_type": "stream",
     "text": [
      " 22%|██▏       | 21734/100000 [00:17<01:12, 1077.30it/s]"
     ]
    },
    {
     "name": "stdout",
     "output_type": "stream",
     "text": [
      "21564: accepted a cross-model jump! # components: 3 --> 4\n",
      "21635: accepted a cross-model jump! # components: 4 --> 3\n",
      "21685: accepted a cross-model jump! # components: 3 --> 2\n"
     ]
    },
    {
     "name": "stderr",
     "output_type": "stream",
     "text": [
      " 26%|██▌       | 25721/100000 [00:20<00:58, 1259.60it/s]"
     ]
    },
    {
     "name": "stdout",
     "output_type": "stream",
     "text": [
      "25523: accepted a cross-model jump! # components: 2 --> 3\n",
      "25547: accepted a cross-model jump! # components: 3 --> 2\n"
     ]
    },
    {
     "name": "stderr",
     "output_type": "stream",
     "text": [
      " 27%|██▋       | 27128/100000 [00:21<01:01, 1181.37it/s]"
     ]
    },
    {
     "name": "stdout",
     "output_type": "stream",
     "text": [
      "26928: accepted a cross-model jump! # components: 2 --> 3\n"
     ]
    },
    {
     "name": "stderr",
     "output_type": "stream",
     "text": [
      " 28%|██▊       | 28162/100000 [00:22<01:02, 1141.38it/s]"
     ]
    },
    {
     "name": "stdout",
     "output_type": "stream",
     "text": [
      "28037: accepted a cross-model jump! # components: 3 --> 2\n",
      "28134: accepted a cross-model jump! # components: 2 --> 3\n",
      "28141: accepted a cross-model jump! # components: 3 --> 2\n"
     ]
    },
    {
     "name": "stderr",
     "output_type": "stream",
     "text": [
      " 35%|███▍      | 34636/100000 [00:27<00:53, 1219.11it/s]"
     ]
    },
    {
     "name": "stdout",
     "output_type": "stream",
     "text": [
      "34491: accepted a cross-model jump! # components: 2 --> 3\n",
      "34498: accepted a cross-model jump! # components: 3 --> 2\n",
      "34533: accepted a cross-model jump! # components: 2 --> 3\n",
      "34634: accepted a cross-model jump! # components: 3 --> 4\n"
     ]
    },
    {
     "name": "stderr",
     "output_type": "stream",
     "text": [
      " 35%|███▍      | 34997/100000 [00:27<00:56, 1147.77it/s]"
     ]
    },
    {
     "name": "stdout",
     "output_type": "stream",
     "text": [
      "34796: accepted a cross-model jump! # components: 4 --> 3\n",
      "34836: accepted a cross-model jump! # components: 3 --> 2\n",
      "34958: accepted a cross-model jump! # components: 2 --> 3\n"
     ]
    },
    {
     "name": "stderr",
     "output_type": "stream",
     "text": [
      " 35%|███▌      | 35242/100000 [00:28<00:55, 1176.92it/s]"
     ]
    },
    {
     "name": "stdout",
     "output_type": "stream",
     "text": [
      "35097: accepted a cross-model jump! # components: 3 --> 2\n",
      "35282: accepted a cross-model jump! # components: 2 --> 3\n",
      "35284: accepted a cross-model jump! # components: 3 --> 2\n",
      "35347: accepted a cross-model jump! # components: 2 --> 3\n"
     ]
    },
    {
     "name": "stderr",
     "output_type": "stream",
     "text": [
      " 36%|███▌      | 35621/100000 [00:28<00:52, 1237.69it/s]"
     ]
    },
    {
     "name": "stdout",
     "output_type": "stream",
     "text": [
      "35373: accepted a cross-model jump! # components: 3 --> 2\n"
     ]
    },
    {
     "name": "stderr",
     "output_type": "stream",
     "text": [
      " 38%|███▊      | 38207/100000 [00:30<00:51, 1191.44it/s]"
     ]
    },
    {
     "name": "stdout",
     "output_type": "stream",
     "text": [
      "38099: accepted a cross-model jump! # components: 2 --> 3\n"
     ]
    },
    {
     "name": "stderr",
     "output_type": "stream",
     "text": [
      " 39%|███▉      | 39139/100000 [00:31<00:51, 1172.06it/s]"
     ]
    },
    {
     "name": "stdout",
     "output_type": "stream",
     "text": [
      "38974: accepted a cross-model jump! # components: 3 --> 2\n",
      "39237: accepted a cross-model jump! # components: 2 --> 3\n"
     ]
    },
    {
     "name": "stderr",
     "output_type": "stream",
     "text": [
      " 39%|███▉      | 39397/100000 [00:31<00:49, 1225.01it/s]"
     ]
    },
    {
     "name": "stdout",
     "output_type": "stream",
     "text": [
      "39244: accepted a cross-model jump! # components: 3 --> 2\n"
     ]
    },
    {
     "name": "stderr",
     "output_type": "stream",
     "text": [
      " 40%|███▉      | 39647/100000 [00:31<00:50, 1195.03it/s]"
     ]
    },
    {
     "name": "stdout",
     "output_type": "stream",
     "text": [
      "39542: accepted a cross-model jump! # components: 2 --> 3\n"
     ]
    },
    {
     "name": "stderr",
     "output_type": "stream",
     "text": [
      " 41%|████      | 41245/100000 [00:33<00:51, 1145.88it/s]"
     ]
    },
    {
     "name": "stdout",
     "output_type": "stream",
     "text": [
      "41116: accepted a cross-model jump! # components: 3 --> 2\n",
      "41238: accepted a cross-model jump! # components: 2 --> 3\n"
     ]
    },
    {
     "name": "stderr",
     "output_type": "stream",
     "text": [
      " 42%|████▏     | 41608/100000 [00:33<00:49, 1176.66it/s]"
     ]
    },
    {
     "name": "stdout",
     "output_type": "stream",
     "text": [
      "41365: accepted a cross-model jump! # components: 3 --> 2\n"
     ]
    },
    {
     "name": "stderr",
     "output_type": "stream",
     "text": [
      " 42%|████▏     | 42108/100000 [00:33<00:47, 1207.23it/s]"
     ]
    },
    {
     "name": "stdout",
     "output_type": "stream",
     "text": [
      "41955: accepted a cross-model jump! # components: 2 --> 3\n",
      "42064: accepted a cross-model jump! # components: 3 --> 2\n",
      "42149: accepted a cross-model jump! # components: 2 --> 3\n"
     ]
    },
    {
     "name": "stderr",
     "output_type": "stream",
     "text": [
      " 42%|████▏     | 42353/100000 [00:34<00:48, 1189.94it/s]"
     ]
    },
    {
     "name": "stdout",
     "output_type": "stream",
     "text": [
      "42204: accepted a cross-model jump! # components: 3 --> 2\n"
     ]
    },
    {
     "name": "stderr",
     "output_type": "stream",
     "text": [
      " 44%|████▍     | 43928/100000 [00:35<00:47, 1173.50it/s]"
     ]
    },
    {
     "name": "stdout",
     "output_type": "stream",
     "text": [
      "43733: accepted a cross-model jump! # components: 2 --> 3\n",
      "43784: accepted a cross-model jump! # components: 3 --> 2\n"
     ]
    },
    {
     "name": "stderr",
     "output_type": "stream",
     "text": [
      " 45%|████▍     | 44543/100000 [00:35<00:45, 1216.38it/s]"
     ]
    },
    {
     "name": "stdout",
     "output_type": "stream",
     "text": [
      "44354: accepted a cross-model jump! # components: 2 --> 3\n",
      "44438: accepted a cross-model jump! # components: 3 --> 2\n"
     ]
    },
    {
     "name": "stderr",
     "output_type": "stream",
     "text": [
      " 45%|████▍     | 44917/100000 [00:36<00:45, 1223.20it/s]"
     ]
    },
    {
     "name": "stdout",
     "output_type": "stream",
     "text": [
      "44723: accepted a cross-model jump! # components: 2 --> 3\n",
      "44747: accepted a cross-model jump! # components: 3 --> 2\n"
     ]
    },
    {
     "name": "stderr",
     "output_type": "stream",
     "text": [
      " 45%|████▌     | 45161/100000 [00:36<00:47, 1153.97it/s]"
     ]
    },
    {
     "name": "stdout",
     "output_type": "stream",
     "text": [
      "45004: accepted a cross-model jump! # components: 2 --> 3\n",
      "45109: accepted a cross-model jump! # components: 3 --> 4\n",
      "45208: accepted a cross-model jump! # components: 4 --> 3\n"
     ]
    },
    {
     "name": "stderr",
     "output_type": "stream",
     "text": [
      " 47%|████▋     | 47423/100000 [00:38<00:45, 1158.45it/s]"
     ]
    },
    {
     "name": "stdout",
     "output_type": "stream",
     "text": [
      "47246: accepted a cross-model jump! # components: 3 --> 2\n"
     ]
    },
    {
     "name": "stderr",
     "output_type": "stream",
     "text": [
      " 48%|████▊     | 48045/100000 [00:38<00:43, 1199.07it/s]"
     ]
    },
    {
     "name": "stdout",
     "output_type": "stream",
     "text": [
      "47844: accepted a cross-model jump! # components: 2 --> 3\n",
      "47955: accepted a cross-model jump! # components: 3 --> 2\n"
     ]
    },
    {
     "name": "stderr",
     "output_type": "stream",
     "text": [
      " 50%|████▉     | 49695/100000 [00:40<00:40, 1241.37it/s]"
     ]
    },
    {
     "name": "stdout",
     "output_type": "stream",
     "text": [
      "49573: accepted a cross-model jump! # components: 2 --> 3\n",
      "49613: accepted a cross-model jump! # components: 3 --> 2\n"
     ]
    },
    {
     "name": "stderr",
     "output_type": "stream",
     "text": [
      " 52%|█████▏    | 51738/100000 [00:41<00:38, 1243.90it/s]"
     ]
    },
    {
     "name": "stdout",
     "output_type": "stream",
     "text": [
      "51550: accepted a cross-model jump! # components: 2 --> 3\n",
      "51559: accepted a cross-model jump! # components: 3 --> 2\n",
      "51687: accepted a cross-model jump! # components: 2 --> 3\n",
      "51748: accepted a cross-model jump! # components: 3 --> 2\n"
     ]
    },
    {
     "name": "stderr",
     "output_type": "stream",
     "text": [
      " 53%|█████▎    | 53296/100000 [00:43<00:36, 1268.88it/s]"
     ]
    },
    {
     "name": "stdout",
     "output_type": "stream",
     "text": [
      "53074: accepted a cross-model jump! # components: 2 --> 3\n",
      "53130: accepted a cross-model jump! # components: 3 --> 2\n"
     ]
    },
    {
     "name": "stderr",
     "output_type": "stream",
     "text": [
      " 54%|█████▍    | 54209/100000 [00:43<00:36, 1241.27it/s]"
     ]
    },
    {
     "name": "stdout",
     "output_type": "stream",
     "text": [
      "54011: accepted a cross-model jump! # components: 2 --> 3\n",
      "54160: accepted a cross-model jump! # components: 3 --> 2\n"
     ]
    },
    {
     "name": "stderr",
     "output_type": "stream",
     "text": [
      " 55%|█████▌    | 55377/100000 [00:44<00:35, 1273.67it/s]"
     ]
    },
    {
     "name": "stdout",
     "output_type": "stream",
     "text": [
      "55209: accepted a cross-model jump! # components: 2 --> 3\n",
      "55251: accepted a cross-model jump! # components: 3 --> 2\n",
      "55410: accepted a cross-model jump! # components: 2 --> 3\n",
      "55431: accepted a cross-model jump! # components: 3 --> 2\n"
     ]
    },
    {
     "name": "stderr",
     "output_type": "stream",
     "text": [
      " 56%|█████▌    | 55633/100000 [00:44<00:36, 1227.75it/s]"
     ]
    },
    {
     "name": "stdout",
     "output_type": "stream",
     "text": [
      "55529: accepted a cross-model jump! # components: 2 --> 3\n"
     ]
    },
    {
     "name": "stderr",
     "output_type": "stream",
     "text": [
      " 56%|█████▌    | 55996/100000 [00:45<00:38, 1142.12it/s]"
     ]
    },
    {
     "name": "stdout",
     "output_type": "stream",
     "text": [
      "55793: accepted a cross-model jump! # components: 3 --> 4\n",
      "55925: accepted a cross-model jump! # components: 4 --> 3\n",
      "55933: accepted a cross-model jump! # components: 3 --> 2\n",
      "55954: accepted a cross-model jump! # components: 2 --> 1\n"
     ]
    },
    {
     "name": "stderr",
     "output_type": "stream",
     "text": [
      " 56%|█████▋    | 56273/100000 [00:45<00:35, 1243.66it/s]"
     ]
    },
    {
     "name": "stdout",
     "output_type": "stream",
     "text": [
      "56103: accepted a cross-model jump! # components: 1 --> 2\n"
     ]
    },
    {
     "name": "stderr",
     "output_type": "stream",
     "text": [
      " 59%|█████▉    | 59029/100000 [00:47<00:32, 1265.08it/s]"
     ]
    },
    {
     "name": "stdout",
     "output_type": "stream",
     "text": [
      "58880: accepted a cross-model jump! # components: 2 --> 3\n",
      "58943: accepted a cross-model jump! # components: 3 --> 2\n"
     ]
    },
    {
     "name": "stderr",
     "output_type": "stream",
     "text": [
      " 60%|██████    | 60348/100000 [00:48<00:30, 1299.69it/s]"
     ]
    },
    {
     "name": "stdout",
     "output_type": "stream",
     "text": [
      "60180: accepted a cross-model jump! # components: 2 --> 3\n",
      "60199: accepted a cross-model jump! # components: 3 --> 2\n"
     ]
    },
    {
     "name": "stderr",
     "output_type": "stream",
     "text": [
      " 62%|██████▏   | 61784/100000 [00:49<00:31, 1222.75it/s]"
     ]
    },
    {
     "name": "stdout",
     "output_type": "stream",
     "text": [
      "61632: accepted a cross-model jump! # components: 2 --> 3\n"
     ]
    },
    {
     "name": "stderr",
     "output_type": "stream",
     "text": [
      " 63%|██████▎   | 62517/100000 [00:50<00:30, 1220.30it/s]"
     ]
    },
    {
     "name": "stdout",
     "output_type": "stream",
     "text": [
      "62287: accepted a cross-model jump! # components: 3 --> 2\n",
      "62300: accepted a cross-model jump! # components: 2 --> 3\n",
      "62344: accepted a cross-model jump! # components: 3 --> 2\n",
      "62364: accepted a cross-model jump! # components: 2 --> 3\n",
      "62380: accepted a cross-model jump! # components: 3 --> 2\n",
      "62424: accepted a cross-model jump! # components: 2 --> 1\n"
     ]
    },
    {
     "name": "stderr",
     "output_type": "stream",
     "text": [
      " 63%|██████▎   | 63283/100000 [00:50<00:26, 1404.33it/s]"
     ]
    },
    {
     "name": "stdout",
     "output_type": "stream",
     "text": [
      "63091: accepted a cross-model jump! # components: 1 --> 2\n"
     ]
    },
    {
     "name": "stderr",
     "output_type": "stream",
     "text": [
      " 64%|██████▍   | 64362/100000 [00:51<00:30, 1183.90it/s]"
     ]
    },
    {
     "name": "stdout",
     "output_type": "stream",
     "text": [
      "64171: accepted a cross-model jump! # components: 2 --> 3\n"
     ]
    },
    {
     "name": "stderr",
     "output_type": "stream",
     "text": [
      " 65%|██████▍   | 64596/100000 [00:52<00:32, 1079.27it/s]"
     ]
    },
    {
     "name": "stdout",
     "output_type": "stream",
     "text": [
      "64442: accepted a cross-model jump! # components: 3 --> 4\n",
      "64496: accepted a cross-model jump! # components: 4 --> 3\n",
      "64512: accepted a cross-model jump! # components: 3 --> 4\n",
      "64582: accepted a cross-model jump! # components: 4 --> 3\n"
     ]
    },
    {
     "name": "stderr",
     "output_type": "stream",
     "text": [
      " 65%|██████▍   | 64926/100000 [00:52<00:34, 1027.86it/s]"
     ]
    },
    {
     "name": "stdout",
     "output_type": "stream",
     "text": [
      "64830: accepted a cross-model jump! # components: 3 --> 4\n"
     ]
    },
    {
     "name": "stderr",
     "output_type": "stream",
     "text": [
      " 65%|██████▌   | 65255/100000 [00:52<00:33, 1050.44it/s]"
     ]
    },
    {
     "name": "stdout",
     "output_type": "stream",
     "text": [
      "65056: accepted a cross-model jump! # components: 4 --> 3\n",
      "65060: accepted a cross-model jump! # components: 3 --> 2\n",
      "65088: accepted a cross-model jump! # components: 2 --> 3\n",
      "65111: accepted a cross-model jump! # components: 3 --> 2\n",
      "65125: accepted a cross-model jump! # components: 2 --> 3\n",
      "65140: accepted a cross-model jump! # components: 3 --> 2\n"
     ]
    },
    {
     "name": "stderr",
     "output_type": "stream",
     "text": [
      " 67%|██████▋   | 67153/100000 [00:54<00:27, 1192.83it/s]"
     ]
    },
    {
     "name": "stdout",
     "output_type": "stream",
     "text": [
      "67047: accepted a cross-model jump! # components: 2 --> 3\n"
     ]
    },
    {
     "name": "stderr",
     "output_type": "stream",
     "text": [
      " 68%|██████▊   | 68174/100000 [00:55<00:29, 1069.73it/s]"
     ]
    },
    {
     "name": "stdout",
     "output_type": "stream",
     "text": [
      "68008: accepted a cross-model jump! # components: 3 --> 4\n",
      "68038: accepted a cross-model jump! # components: 4 --> 3\n"
     ]
    },
    {
     "name": "stderr",
     "output_type": "stream",
     "text": [
      " 69%|██████▊   | 68618/100000 [00:55<00:28, 1094.49it/s]"
     ]
    },
    {
     "name": "stdout",
     "output_type": "stream",
     "text": [
      "68499: accepted a cross-model jump! # components: 3 --> 2\n",
      "68544: accepted a cross-model jump! # components: 2 --> 3\n"
     ]
    },
    {
     "name": "stderr",
     "output_type": "stream",
     "text": [
      " 70%|███████   | 70292/100000 [00:57<00:28, 1051.84it/s]"
     ]
    },
    {
     "name": "stdout",
     "output_type": "stream",
     "text": [
      "70145: accepted a cross-model jump! # components: 3 --> 2\n",
      "70220: accepted a cross-model jump! # components: 2 --> 3\n",
      "70221: accepted a cross-model jump! # components: 3 --> 4\n",
      "70269: accepted a cross-model jump! # components: 4 --> 5\n",
      "70326: accepted a cross-model jump! # components: 5 --> 4\n"
     ]
    },
    {
     "name": "stderr",
     "output_type": "stream",
     "text": [
      " 71%|███████   | 70523/100000 [00:57<00:27, 1060.02it/s]"
     ]
    },
    {
     "name": "stdout",
     "output_type": "stream",
     "text": [
      "70378: accepted a cross-model jump! # components: 4 --> 3\n",
      "70384: accepted a cross-model jump! # components: 3 --> 2\n",
      "70489: accepted a cross-model jump! # components: 2 --> 1\n"
     ]
    },
    {
     "name": "stderr",
     "output_type": "stream",
     "text": [
      " 71%|███████   | 71088/100000 [00:57<00:23, 1222.35it/s]"
     ]
    },
    {
     "name": "stdout",
     "output_type": "stream",
     "text": [
      "70918: accepted a cross-model jump! # components: 1 --> 2\n",
      "70932: accepted a cross-model jump! # components: 2 --> 3\n",
      "71130: accepted a cross-model jump! # components: 3 --> 2\n"
     ]
    },
    {
     "name": "stderr",
     "output_type": "stream",
     "text": [
      " 71%|███████▏  | 71375/100000 [00:57<00:21, 1323.55it/s]"
     ]
    },
    {
     "name": "stdout",
     "output_type": "stream",
     "text": [
      "71158: accepted a cross-model jump! # components: 2 --> 1\n"
     ]
    },
    {
     "name": "stderr",
     "output_type": "stream",
     "text": [
      " 74%|███████▎  | 73513/100000 [00:59<00:17, 1478.13it/s]"
     ]
    },
    {
     "name": "stdout",
     "output_type": "stream",
     "text": [
      "73254: accepted a cross-model jump! # components: 1 --> 2\n",
      "73259: accepted a cross-model jump! # components: 2 --> 1\n",
      "73479: accepted a cross-model jump! # components: 1 --> 2\n"
     ]
    },
    {
     "name": "stderr",
     "output_type": "stream",
     "text": [
      " 74%|███████▍  | 73809/100000 [00:59<00:18, 1434.10it/s]"
     ]
    },
    {
     "name": "stdout",
     "output_type": "stream",
     "text": [
      "73568: accepted a cross-model jump! # components: 2 --> 1\n",
      "73662: accepted a cross-model jump! # components: 1 --> 2\n",
      "73666: accepted a cross-model jump! # components: 2 --> 1\n"
     ]
    },
    {
     "name": "stderr",
     "output_type": "stream",
     "text": [
      " 76%|███████▋  | 76381/100000 [01:01<00:17, 1313.61it/s]"
     ]
    },
    {
     "name": "stdout",
     "output_type": "stream",
     "text": [
      "76173: accepted a cross-model jump! # components: 1 --> 2\n"
     ]
    },
    {
     "name": "stderr",
     "output_type": "stream",
     "text": [
      " 77%|███████▋  | 76641/100000 [01:01<00:20, 1130.52it/s]"
     ]
    },
    {
     "name": "stdout",
     "output_type": "stream",
     "text": [
      "76446: accepted a cross-model jump! # components: 2 --> 3\n"
     ]
    },
    {
     "name": "stderr",
     "output_type": "stream",
     "text": [
      " 77%|███████▋  | 76867/100000 [01:01<00:22, 1024.90it/s]"
     ]
    },
    {
     "name": "stdout",
     "output_type": "stream",
     "text": [
      "76689: accepted a cross-model jump! # components: 3 --> 4\n",
      "76723: accepted a cross-model jump! # components: 4 --> 3\n",
      "76851: accepted a cross-model jump! # components: 3 --> 4\n"
     ]
    },
    {
     "name": "stderr",
     "output_type": "stream",
     "text": [
      " 77%|███████▋  | 77072/100000 [01:02<00:24, 953.91it/s] "
     ]
    },
    {
     "name": "stdout",
     "output_type": "stream",
     "text": [
      "76929: accepted a cross-model jump! # components: 4 --> 3\n"
     ]
    },
    {
     "name": "stderr",
     "output_type": "stream",
     "text": [
      " 77%|███████▋  | 77267/100000 [01:02<00:23, 949.52it/s]"
     ]
    },
    {
     "name": "stdout",
     "output_type": "stream",
     "text": [
      "77146: accepted a cross-model jump! # components: 3 --> 2\n",
      "77162: accepted a cross-model jump! # components: 2 --> 3\n"
     ]
    },
    {
     "name": "stderr",
     "output_type": "stream",
     "text": [
      " 78%|███████▊  | 78434/100000 [01:03<00:20, 1074.65it/s]"
     ]
    },
    {
     "name": "stdout",
     "output_type": "stream",
     "text": [
      "78231: accepted a cross-model jump! # components: 3 --> 2\n",
      "78303: accepted a cross-model jump! # components: 2 --> 3\n"
     ]
    },
    {
     "name": "stderr",
     "output_type": "stream",
     "text": [
      " 79%|███████▉  | 79415/100000 [01:04<00:19, 1047.02it/s]"
     ]
    },
    {
     "name": "stdout",
     "output_type": "stream",
     "text": [
      "79289: accepted a cross-model jump! # components: 3 --> 2\n",
      "79290: accepted a cross-model jump! # components: 2 --> 3\n",
      "79463: accepted a cross-model jump! # components: 3 --> 2\n",
      "79479: accepted a cross-model jump! # components: 2 --> 3\n"
     ]
    },
    {
     "name": "stderr",
     "output_type": "stream",
     "text": [
      " 80%|███████▉  | 79622/100000 [01:04<00:20, 987.50it/s] "
     ]
    },
    {
     "name": "stdout",
     "output_type": "stream",
     "text": [
      "79498: accepted a cross-model jump! # components: 3 --> 4\n",
      "79518: accepted a cross-model jump! # components: 4 --> 5\n",
      "79528: accepted a cross-model jump! # components: 5 --> 4\n",
      "79532: accepted a cross-model jump! # components: 4 --> 3\n"
     ]
    },
    {
     "name": "stderr",
     "output_type": "stream",
     "text": [
      " 80%|████████  | 80148/100000 [01:05<00:18, 1047.77it/s]"
     ]
    },
    {
     "name": "stdout",
     "output_type": "stream",
     "text": [
      "79976: accepted a cross-model jump! # components: 3 --> 2\n"
     ]
    },
    {
     "name": "stderr",
     "output_type": "stream",
     "text": [
      " 82%|████████▏ | 81909/100000 [01:06<00:16, 1129.54it/s]"
     ]
    },
    {
     "name": "stdout",
     "output_type": "stream",
     "text": [
      "81768: accepted a cross-model jump! # components: 2 --> 3\n"
     ]
    },
    {
     "name": "stderr",
     "output_type": "stream",
     "text": [
      " 83%|████████▎ | 83432/100000 [01:08<00:15, 1073.50it/s]"
     ]
    },
    {
     "name": "stdout",
     "output_type": "stream",
     "text": [
      "83266: accepted a cross-model jump! # components: 3 --> 2\n"
     ]
    },
    {
     "name": "stderr",
     "output_type": "stream",
     "text": [
      " 85%|████████▌ | 85427/100000 [01:09<00:12, 1144.33it/s]"
     ]
    },
    {
     "name": "stdout",
     "output_type": "stream",
     "text": [
      "85220: accepted a cross-model jump! # components: 2 --> 3\n"
     ]
    },
    {
     "name": "stderr",
     "output_type": "stream",
     "text": [
      " 86%|████████▌ | 85886/100000 [01:10<00:12, 1110.73it/s]"
     ]
    },
    {
     "name": "stdout",
     "output_type": "stream",
     "text": [
      "85674: accepted a cross-model jump! # components: 3 --> 2\n",
      "85714: accepted a cross-model jump! # components: 2 --> 3\n",
      "85774: accepted a cross-model jump! # components: 3 --> 2\n",
      "85779: accepted a cross-model jump! # components: 2 --> 3\n",
      "85843: accepted a cross-model jump! # components: 3 --> 2\n",
      "85863: accepted a cross-model jump! # components: 2 --> 1\n",
      "85909: accepted a cross-model jump! # components: 1 --> 2\n",
      "85911: accepted a cross-model jump! # components: 2 --> 1\n"
     ]
    },
    {
     "name": "stderr",
     "output_type": "stream",
     "text": [
      " 86%|████████▌ | 86124/100000 [01:10<00:12, 1149.99it/s]"
     ]
    },
    {
     "name": "stdout",
     "output_type": "stream",
     "text": [
      "85939: accepted a cross-model jump! # components: 1 --> 2\n",
      "85964: accepted a cross-model jump! # components: 2 --> 1\n",
      "85966: accepted a cross-model jump! # components: 1 --> 2\n",
      "85967: accepted a cross-model jump! # components: 2 --> 3\n",
      "85994: accepted a cross-model jump! # components: 3 --> 2\n",
      "86032: accepted a cross-model jump! # components: 2 --> 1\n",
      "86070: accepted a cross-model jump! # components: 1 --> 2\n",
      "86111: accepted a cross-model jump! # components: 2 --> 3\n",
      "86166: accepted a cross-model jump! # components: 3 --> 2"
     ]
    },
    {
     "name": "stderr",
     "output_type": "stream",
     "text": [
      " 86%|████████▋ | 86376/100000 [01:10<00:11, 1201.51it/s]"
     ]
    },
    {
     "name": "stdout",
     "output_type": "stream",
     "text": [
      "\n",
      "86204: accepted a cross-model jump! # components: 2 --> 1\n",
      "86312: accepted a cross-model jump! # components: 1 --> 2\n"
     ]
    },
    {
     "name": "stderr",
     "output_type": "stream",
     "text": [
      " 88%|████████▊ | 87597/100000 [01:11<00:10, 1139.47it/s]"
     ]
    },
    {
     "name": "stdout",
     "output_type": "stream",
     "text": [
      "87387: accepted a cross-model jump! # components: 2 --> 3\n"
     ]
    },
    {
     "name": "stderr",
     "output_type": "stream",
     "text": [
      " 88%|████████▊ | 87842/100000 [01:11<00:10, 1182.08it/s]"
     ]
    },
    {
     "name": "stdout",
     "output_type": "stream",
     "text": [
      "87628: accepted a cross-model jump! # components: 3 --> 2\n"
     ]
    },
    {
     "name": "stderr",
     "output_type": "stream",
     "text": [
      " 89%|████████▊ | 88571/100000 [01:12<00:09, 1147.45it/s]"
     ]
    },
    {
     "name": "stdout",
     "output_type": "stream",
     "text": [
      "88354: accepted a cross-model jump! # components: 2 --> 3\n"
     ]
    },
    {
     "name": "stderr",
     "output_type": "stream",
     "text": [
      " 90%|████████▉ | 89948/100000 [01:13<00:08, 1165.00it/s]"
     ]
    },
    {
     "name": "stdout",
     "output_type": "stream",
     "text": [
      "89815: accepted a cross-model jump! # components: 3 --> 2\n",
      "89927: accepted a cross-model jump! # components: 2 --> 3\n",
      "90023: accepted a cross-model jump! # components: 3 --> 2\n"
     ]
    },
    {
     "name": "stderr",
     "output_type": "stream",
     "text": [
      " 90%|█████████ | 90317/100000 [01:14<00:08, 1208.72it/s]"
     ]
    },
    {
     "name": "stdout",
     "output_type": "stream",
     "text": [
      "90149: accepted a cross-model jump! # components: 2 --> 3\n",
      "90166: accepted a cross-model jump! # components: 3 --> 2\n"
     ]
    },
    {
     "name": "stderr",
     "output_type": "stream",
     "text": [
      " 91%|█████████▏| 91377/100000 [01:14<00:06, 1298.74it/s]"
     ]
    },
    {
     "name": "stdout",
     "output_type": "stream",
     "text": [
      "91171: accepted a cross-model jump! # components: 2 --> 3\n",
      "91176: accepted a cross-model jump! # components: 3 --> 2\n"
     ]
    },
    {
     "name": "stderr",
     "output_type": "stream",
     "text": [
      " 92%|█████████▏| 91764/100000 [01:15<00:06, 1202.93it/s]"
     ]
    },
    {
     "name": "stdout",
     "output_type": "stream",
     "text": [
      "91541: accepted a cross-model jump! # components: 2 --> 3\n"
     ]
    },
    {
     "name": "stderr",
     "output_type": "stream",
     "text": [
      " 93%|█████████▎| 92556/100000 [01:15<00:07, 1053.82it/s]"
     ]
    },
    {
     "name": "stdout",
     "output_type": "stream",
     "text": [
      "92348: accepted a cross-model jump! # components: 3 --> 4\n",
      "92430: accepted a cross-model jump! # components: 4 --> 3\n"
     ]
    },
    {
     "name": "stderr",
     "output_type": "stream",
     "text": [
      " 94%|█████████▎| 93576/100000 [01:16<00:05, 1137.22it/s]"
     ]
    },
    {
     "name": "stdout",
     "output_type": "stream",
     "text": [
      "93340: accepted a cross-model jump! # components: 3 --> 2\n",
      "93414: accepted a cross-model jump! # components: 2 --> 3\n",
      "93422: accepted a cross-model jump! # components: 3 --> 4\n",
      "93437: accepted a cross-model jump! # components: 4 --> 3\n",
      "93520: accepted a cross-model jump! # components: 3 --> 2\n"
     ]
    },
    {
     "name": "stderr",
     "output_type": "stream",
     "text": [
      " 94%|█████████▍| 93811/100000 [01:17<00:05, 1133.79it/s]"
     ]
    },
    {
     "name": "stdout",
     "output_type": "stream",
     "text": [
      "93635: accepted a cross-model jump! # components: 2 --> 3\n"
     ]
    },
    {
     "name": "stderr",
     "output_type": "stream",
     "text": [
      " 96%|█████████▌| 95832/100000 [01:18<00:03, 1107.38it/s]"
     ]
    },
    {
     "name": "stdout",
     "output_type": "stream",
     "text": [
      "95692: accepted a cross-model jump! # components: 3 --> 2\n",
      "95713: accepted a cross-model jump! # components: 2 --> 3\n",
      "95747: accepted a cross-model jump! # components: 3 --> 2\n",
      "95761: accepted a cross-model jump! # components: 2 --> 3\n"
     ]
    },
    {
     "name": "stderr",
     "output_type": "stream",
     "text": [
      " 97%|█████████▋| 96980/100000 [01:19<00:02, 1189.26it/s]"
     ]
    },
    {
     "name": "stdout",
     "output_type": "stream",
     "text": [
      "96744: accepted a cross-model jump! # components: 3 --> 2\n"
     ]
    },
    {
     "name": "stderr",
     "output_type": "stream",
     "text": [
      " 97%|█████████▋| 97353/100000 [01:20<00:02, 1227.30it/s]"
     ]
    },
    {
     "name": "stdout",
     "output_type": "stream",
     "text": [
      "97180: accepted a cross-model jump! # components: 2 --> 3\n",
      "97182: accepted a cross-model jump! # components: 3 --> 2\n"
     ]
    },
    {
     "name": "stderr",
     "output_type": "stream",
     "text": [
      "100%|██████████| 100000/100000 [01:22<00:00, 1215.12it/s]\n"
     ]
    }
   ],
   "source": [
    "np.random.seed(0)\n",
    "init_n_components = 1\n",
    "init_means = np.random.randn(init_n_components)\n",
    "init_stdevs = np.random.rand(init_n_components) + 1\n",
    "init_weights = np.random.rand(init_n_components)\n",
    "init_weights /= np.sum(init_weights)\n",
    "init_theta = np.hstack([init_means, init_stdevs, init_weights])\n",
    "init_parents = [None] + list(range(init_n_components - 1))\n",
    "traj, acceptance_probabilities = rjmcmc_w_parents(init_theta, init_parents, n_steps=100000)"
   ]
  },
  {
   "cell_type": "code",
   "execution_count": 5,
   "metadata": {},
   "outputs": [
    {
     "data": {
      "text/plain": [
       "[<matplotlib.lines.Line2D at 0x11f772208>]"
      ]
     },
     "execution_count": 5,
     "metadata": {},
     "output_type": "execute_result"
    },
    {
     "data": {
      "image/png": "[encoded data removed]",
      "text/plain": [
       "<matplotlib.figure.Figure at 0x10f68d898>"
      ]
     },
     "metadata": {},
     "output_type": "display_data"
    }
   ],
   "source": [
    "plt.plot([a for a in acceptance_probabilities], '.')"
   ]
  },
  {
   "cell_type": "code",
   "execution_count": 6,
   "metadata": {},
   "outputs": [
    {
     "data": {
      "image/png": "[encoded data removed]",
      "text/plain": [
       "<matplotlib.figure.Figure at 0x11fa43e48>"
      ]
     },
     "metadata": {},
     "output_type": "display_data"
    }
   ],
   "source": [
    "plt.hist(acceptance_probabilities, bins=50);"
   ]
  },
  {
   "cell_type": "code",
   "execution_count": 7,
   "metadata": {},
   "outputs": [
    {
     "data": {
      "image/png": "[encoded data removed]",
      "text/plain": [
       "<matplotlib.figure.Figure at 0x11477d898>"
      ]
     },
     "metadata": {},
     "output_type": "display_data"
    }
   ],
   "source": [
    "n_components_traj = [len(t[0]) / 3 for t in traj]\n",
    "ax = plt.subplot(111)\n",
    "plt.plot(n_components_traj)\n",
    "plt.hlines(n_components, 0, len(traj), linestyles='--')\n",
    "ax.spines['right'].set_visible(False)\n",
    "ax.spines['top'].set_visible(False)\n",
    "plt.ylabel('# components')\n",
    "plt.xlabel('iteration')\n",
    "plt.title(r'birth-death RJMC trace $k$' + '\\n(mixture weights ' + r'$w_i$ free)')\n",
    "#plt.xscale('log')\n",
    "plt.savefig('birth-death-n-components-starting-from-1.jpg', dpi=300)"
   ]
  },
  {
   "cell_type": "code",
   "execution_count": 8,
   "metadata": {},
   "outputs": [
    {
     "data": {
      "image/png": "[encoded data removed]",
      "text/plain": [
       "<matplotlib.figure.Figure at 0x1149a2160>"
      ]
     },
     "metadata": {},
     "output_type": "display_data"
    }
   ],
   "source": [
    "plt.figure(figsize=(6,6))\n",
    "\n",
    "burned_in = n_components_traj[1000:]\n",
    "\n",
    "counts = np.bincount(burned_in)\n",
    "n_components_range = list(range(len(counts)))\n",
    "\n",
    "ax = plt.subplot(111)\n",
    "\n",
    "plt.bar(n_components_range, counts / sum(counts))\n",
    "plt.xlabel(r'# of components ($k$)')\n",
    "plt.ylabel(r'$p(k)$')\n",
    "ax.spines['right'].set_visible(False)\n",
    "ax.spines['top'].set_visible(False)\n",
    "plt.title(r'birth-death RJMC estimated marginal distribution of $k$' + '\\n(mixture weights ' + r'$w_i$ free)')\n",
    "plt.xticks(n_components_range)\n",
    "plt.yticks([])\n",
    "plt.savefig('birth-death-marginals-starting-from-1.jpg', dpi=300)"
   ]
  },
  {
   "cell_type": "code",
   "execution_count": 9,
   "metadata": {},
   "outputs": [],
   "source": [
    "change_points = list(np.arange(1, len(n_components_traj))[np.diff(n_components_traj) != 0])\n",
    "trajs = []\n",
    "for (start, end) in list(zip([0] + change_points, change_points + [len(traj)])):\n",
    "    trajs.append(np.array([t[0] for t in traj[start:end]]))"
   ]
  },
  {
   "cell_type": "code",
   "execution_count": 10,
   "metadata": {},
   "outputs": [
    {
     "data": {
      "image/png": "[encoded data removed]",
      "text/plain": [
       "<matplotlib.figure.Figure at 0x1254738d0>"
      ]
     },
     "metadata": {},
     "output_type": "display_data"
    }
   ],
   "source": [
    "plt.figure(figsize=(6,6))\n",
    "ax = plt.subplot(2, 1, 1)\n",
    "for i in range(len(trajs)):\n",
    "    x_init = sum([len(t) for t in trajs[:i]])\n",
    "    x_end = x_init + len(trajs[i])\n",
    "    n_components = int(trajs[i].shape[1] / 3)\n",
    "    plt.plot(np.arange(x_init, x_end), trajs[i][:,:n_components], color='blue')\n",
    "plt.ylim(-6,6)\n",
    "plt.yticks([-5,0,5])\n",
    "plt.xticks([0,50000,100000])\n",
    "plt.xlabel('iteration')\n",
    "plt.ylabel(r'mixture component means ($x$)')\n",
    "ax.spines['right'].set_visible(False)\n",
    "ax.spines['top'].set_visible(False)\n",
    "\n",
    "\n",
    "ax = plt.subplot(2, 1, 2, sharex=ax)\n",
    "plt.plot(n_components_traj)\n",
    "plt.xlabel('iteration')\n",
    "plt.ylabel(r'# components')\n",
    "ax.spines['right'].set_visible(False)\n",
    "ax.spines['top'].set_visible(False)\n",
    "\n",
    "plt.savefig('birth-death-branching-1.jpg', dpi=600, bbox_inches='tight')"
   ]
  },
  {
   "cell_type": "code",
   "execution_count": 11,
   "metadata": {},
   "outputs": [
    {
     "name": "stderr",
     "output_type": "stream",
     "text": [
      "  0%|          | 0/100000 [00:00<?, ?it/s]/Users/joshuafass/anaconda/lib/python3.6/site-packages/autograd/tracer.py:48: RuntimeWarning: invalid value encountered in log\n",
      "  return f_raw(*args, **kwargs)\n",
      "  0%|          | 27/100000 [00:00<12:37, 131.91it/s]"
     ]
    },
    {
     "name": "stdout",
     "output_type": "stream",
     "text": [
      "5: accepted a cross-model jump! # components: 50 --> 49\n",
      "10: accepted a cross-model jump! # components: 49 --> 48\n",
      "26: accepted a cross-model jump! # components: 48 --> 47\n"
     ]
    },
    {
     "name": "stderr",
     "output_type": "stream",
     "text": [
      "  0%|          | 68/100000 [00:00<12:50, 129.69it/s]"
     ]
    },
    {
     "name": "stdout",
     "output_type": "stream",
     "text": [
      "43: accepted a cross-model jump! # components: 47 --> 48\n",
      "45: accepted a cross-model jump! # components: 48 --> 47\n",
      "54: accepted a cross-model jump! # components: 47 --> 48\n",
      "56: accepted a cross-model jump! # components: 48 --> 47\n"
     ]
    },
    {
     "name": "stderr",
     "output_type": "stream",
     "text": [
      "  0%|          | 97/100000 [00:00<12:23, 134.28it/s]"
     ]
    },
    {
     "name": "stdout",
     "output_type": "stream",
     "text": [
      "82: accepted a cross-model jump! # components: 47 --> 48\n"
     ]
    },
    {
     "name": "stderr",
     "output_type": "stream",
     "text": [
      "  0%|          | 144/100000 [00:01<11:38, 143.01it/s]"
     ]
    },
    {
     "name": "stdout",
     "output_type": "stream",
     "text": [
      "120: accepted a cross-model jump! # components: 48 --> 47\n"
     ]
    },
    {
     "name": "stderr",
     "output_type": "stream",
     "text": [
      "  0%|          | 210/100000 [00:01<11:17, 147.38it/s]"
     ]
    },
    {
     "name": "stdout",
     "output_type": "stream",
     "text": [
      "193: accepted a cross-model jump! # components: 47 --> 46\n",
      "201: accepted a cross-model jump! # components: 46 --> 45\n",
      "216: accepted a cross-model jump! # components: 45 --> 44\n"
     ]
    },
    {
     "name": "stderr",
     "output_type": "stream",
     "text": [
      "  0%|          | 308/100000 [00:02<10:17, 161.32it/s]"
     ]
    },
    {
     "name": "stdout",
     "output_type": "stream",
     "text": [
      "288: accepted a cross-model jump! # components: 44 --> 43\n",
      "303: accepted a cross-model jump! # components: 43 --> 42\n"
     ]
    },
    {
     "name": "stderr",
     "output_type": "stream",
     "text": [
      "  0%|          | 343/100000 [00:02<10:16, 161.71it/s]"
     ]
    },
    {
     "name": "stdout",
     "output_type": "stream",
     "text": [
      "324: accepted a cross-model jump! # components: 42 --> 43\n",
      "328: accepted a cross-model jump! # components: 43 --> 42\n"
     ]
    },
    {
     "name": "stderr",
     "output_type": "stream",
     "text": [
      "  0%|          | 452/100000 [00:02<09:21, 177.25it/s]"
     ]
    },
    {
     "name": "stdout",
     "output_type": "stream",
     "text": [
      "425: accepted a cross-model jump! # components: 42 --> 41\n",
      "437: accepted a cross-model jump! # components: 41 --> 40\n",
      "443: accepted a cross-model jump! # components: 40 --> 39\n"
     ]
    },
    {
     "name": "stderr",
     "output_type": "stream",
     "text": [
      "  1%|          | 528/100000 [00:03<09:00, 183.97it/s]"
     ]
    },
    {
     "name": "stdout",
     "output_type": "stream",
     "text": [
      "508: accepted a cross-model jump! # components: 39 --> 38\n",
      "541: accepted a cross-model jump! # components: 38 --> 39\n"
     ]
    },
    {
     "name": "stderr",
     "output_type": "stream",
     "text": [
      "  1%|          | 603/100000 [00:03<09:29, 174.53it/s]"
     ]
    },
    {
     "name": "stdout",
     "output_type": "stream",
     "text": [
      "565: accepted a cross-model jump! # components: 39 --> 38\n"
     ]
    },
    {
     "name": "stderr",
     "output_type": "stream",
     "text": [
      "  1%|          | 660/100000 [00:04<09:08, 181.15it/s]"
     ]
    },
    {
     "name": "stdout",
     "output_type": "stream",
     "text": [
      "622: accepted a cross-model jump! # components: 38 --> 37\n"
     ]
    },
    {
     "name": "stderr",
     "output_type": "stream",
     "text": [
      "  1%|          | 698/100000 [00:04<09:01, 183.32it/s]"
     ]
    },
    {
     "name": "stdout",
     "output_type": "stream",
     "text": [
      "670: accepted a cross-model jump! # components: 37 --> 36\n"
     ]
    },
    {
     "name": "stderr",
     "output_type": "stream",
     "text": [
      "  1%|          | 735/100000 [00:04<10:20, 160.02it/s]"
     ]
    },
    {
     "name": "stdout",
     "output_type": "stream",
     "text": [
      "713: accepted a cross-model jump! # components: 36 --> 37\n"
     ]
    },
    {
     "name": "stderr",
     "output_type": "stream",
     "text": [
      "  1%|          | 807/100000 [00:05<10:59, 150.47it/s]"
     ]
    },
    {
     "name": "stdout",
     "output_type": "stream",
     "text": [
      "786: accepted a cross-model jump! # components: 37 --> 36\n",
      "791: accepted a cross-model jump! # components: 36 --> 35\n",
      "794: accepted a cross-model jump! # components: 35 --> 36\n"
     ]
    },
    {
     "name": "stderr",
     "output_type": "stream",
     "text": [
      "  1%|          | 956/100000 [00:05<08:50, 186.68it/s]"
     ]
    },
    {
     "name": "stdout",
     "output_type": "stream",
     "text": [
      "929: accepted a cross-model jump! # components: 36 --> 35\n",
      "941: accepted a cross-model jump! # components: 35 --> 34\n"
     ]
    },
    {
     "name": "stderr",
     "output_type": "stream",
     "text": [
      "  1%|          | 1080/100000 [00:06<08:06, 203.40it/s]"
     ]
    },
    {
     "name": "stdout",
     "output_type": "stream",
     "text": [
      "1038: accepted a cross-model jump! # components: 34 --> 33\n"
     ]
    },
    {
     "name": "stderr",
     "output_type": "stream",
     "text": [
      "  1%|          | 1125/100000 [00:06<07:47, 211.35it/s]"
     ]
    },
    {
     "name": "stdout",
     "output_type": "stream",
     "text": [
      "1087: accepted a cross-model jump! # components: 33 --> 32\n",
      "1102: accepted a cross-model jump! # components: 32 --> 31\n"
     ]
    },
    {
     "name": "stderr",
     "output_type": "stream",
     "text": [
      "  1%|          | 1192/100000 [00:07<07:43, 213.30it/s]"
     ]
    },
    {
     "name": "stdout",
     "output_type": "stream",
     "text": [
      "1169: accepted a cross-model jump! # components: 31 --> 30\n",
      "1180: accepted a cross-model jump! # components: 30 --> 29\n",
      "1189: accepted a cross-model jump! # components: 29 --> 28\n",
      "1213: accepted a cross-model jump! # components: 28 --> 27\n",
      "1214: accepted a cross-model jump! # components: 27 --> 26\n"
     ]
    },
    {
     "name": "stderr",
     "output_type": "stream",
     "text": [
      "  1%|▏         | 1299/100000 [00:07<06:33, 251.08it/s]"
     ]
    },
    {
     "name": "stdout",
     "output_type": "stream",
     "text": [
      "1263: accepted a cross-model jump! # components: 26 --> 25\n",
      "1279: accepted a cross-model jump! # components: 25 --> 24\n",
      "1294: accepted a cross-model jump! # components: 24 --> 23\n"
     ]
    },
    {
     "name": "stderr",
     "output_type": "stream",
     "text": [
      "  1%|▏         | 1390/100000 [00:07<05:52, 280.14it/s]"
     ]
    },
    {
     "name": "stdout",
     "output_type": "stream",
     "text": [
      "1335: accepted a cross-model jump! # components: 23 --> 22\n",
      "1363: accepted a cross-model jump! # components: 22 --> 21\n",
      "1373: accepted a cross-model jump! # components: 21 --> 20\n"
     ]
    },
    {
     "name": "stderr",
     "output_type": "stream",
     "text": [
      "  1%|▏         | 1457/100000 [00:07<05:24, 304.11it/s]"
     ]
    },
    {
     "name": "stdout",
     "output_type": "stream",
     "text": [
      "1403: accepted a cross-model jump! # components: 20 --> 19\n",
      "1419: accepted a cross-model jump! # components: 19 --> 18\n",
      "1423: accepted a cross-model jump! # components: 18 --> 17\n",
      "1446: accepted a cross-model jump! # components: 17 --> 18\n",
      "1469: accepted a cross-model jump! # components: 18 --> 17\n"
     ]
    },
    {
     "name": "stderr",
     "output_type": "stream",
     "text": [
      "  2%|▏         | 1525/100000 [00:08<05:07, 320.34it/s]"
     ]
    },
    {
     "name": "stdout",
     "output_type": "stream",
     "text": [
      "1484: accepted a cross-model jump! # components: 17 --> 18\n",
      "1527: accepted a cross-model jump! # components: 18 --> 17\n"
     ]
    },
    {
     "name": "stderr",
     "output_type": "stream",
     "text": [
      "  2%|▏         | 1629/100000 [00:08<04:58, 329.87it/s]"
     ]
    },
    {
     "name": "stdout",
     "output_type": "stream",
     "text": [
      "1573: accepted a cross-model jump! # components: 17 --> 18\n",
      "1600: accepted a cross-model jump! # components: 18 --> 17\n",
      "1633: accepted a cross-model jump! # components: 17 --> 16\n"
     ]
    },
    {
     "name": "stderr",
     "output_type": "stream",
     "text": [
      "  2%|▏         | 1710/100000 [00:08<04:31, 361.74it/s]"
     ]
    },
    {
     "name": "stdout",
     "output_type": "stream",
     "text": [
      "1662: accepted a cross-model jump! # components: 16 --> 15\n",
      "1693: accepted a cross-model jump! # components: 15 --> 16\n",
      "1714: accepted a cross-model jump! # components: 16 --> 15\n",
      "1719: accepted a cross-model jump! # components: 15 --> 14\n",
      "1737: accepted a cross-model jump! # components: 14 --> 13\n"
     ]
    },
    {
     "name": "stderr",
     "output_type": "stream",
     "text": [
      "  2%|▏         | 1804/100000 [00:08<04:00, 408.24it/s]"
     ]
    },
    {
     "name": "stdout",
     "output_type": "stream",
     "text": [
      "1750: accepted a cross-model jump! # components: 13 --> 12\n",
      "1825: accepted a cross-model jump! # components: 12 --> 11\n",
      "1844: accepted a cross-model jump! # components: 11 --> 10\n",
      "1846: accepted a cross-model jump! # components: 10 --> 11\n"
     ]
    },
    {
     "name": "stderr",
     "output_type": "stream",
     "text": [
      "  2%|▏         | 1959/100000 [00:09<03:26, 475.30it/s]"
     ]
    },
    {
     "name": "stdout",
     "output_type": "stream",
     "text": [
      "1895: accepted a cross-model jump! # components: 11 --> 10\n",
      "1939: accepted a cross-model jump! # components: 10 --> 9\n",
      "1974: accepted a cross-model jump! # components: 9 --> 10\n"
     ]
    },
    {
     "name": "stderr",
     "output_type": "stream",
     "text": [
      "  2%|▏         | 2111/100000 [00:09<03:20, 489.36it/s]"
     ]
    },
    {
     "name": "stdout",
     "output_type": "stream",
     "text": [
      "2038: accepted a cross-model jump! # components: 10 --> 11\n",
      "2054: accepted a cross-model jump! # components: 11 --> 10\n",
      "2064: accepted a cross-model jump! # components: 10 --> 9\n"
     ]
    },
    {
     "name": "stderr",
     "output_type": "stream",
     "text": [
      "  2%|▏         | 2237/100000 [00:09<02:57, 549.55it/s]"
     ]
    },
    {
     "name": "stdout",
     "output_type": "stream",
     "text": [
      "2160: accepted a cross-model jump! # components: 9 --> 8\n",
      "2175: accepted a cross-model jump! # components: 8 --> 7\n",
      "2187: accepted a cross-model jump! # components: 7 --> 6\n",
      "2240: accepted a cross-model jump! # components: 6 --> 5\n",
      "2285: accepted a cross-model jump! # components: 5 --> 6\n",
      "2302: accepted a cross-model jump! # components: 6 --> 5\n"
     ]
    },
    {
     "name": "stderr",
     "output_type": "stream",
     "text": [
      "  3%|▎         | 2523/100000 [00:09<02:06, 767.94it/s]"
     ]
    },
    {
     "name": "stdout",
     "output_type": "stream",
     "text": [
      "2337: accepted a cross-model jump! # components: 5 --> 4\n",
      "2350: accepted a cross-model jump! # components: 4 --> 3\n",
      "2383: accepted a cross-model jump! # components: 3 --> 4\n",
      "2433: accepted a cross-model jump! # components: 4 --> 3\n",
      "2476: accepted a cross-model jump! # components: 3 --> 2\n",
      "2488: accepted a cross-model jump! # components: 2 --> 3\n",
      "2497: accepted a cross-model jump! # components: 3 --> 2\n",
      "2514: accepted a cross-model jump! # components: 2 --> 1\n",
      "2542: accepted a cross-model jump! # components: 1 --> 2\n"
     ]
    },
    {
     "name": "stderr",
     "output_type": "stream",
     "text": [
      "  3%|▎         | 2811/100000 [00:10<01:36, 1007.00it/s]"
     ]
    },
    {
     "name": "stdout",
     "output_type": "stream",
     "text": [
      "2559: accepted a cross-model jump! # components: 2 --> 1\n"
     ]
    },
    {
     "name": "stderr",
     "output_type": "stream",
     "text": [
      "  3%|▎         | 3220/100000 [00:10<01:20, 1197.44it/s]"
     ]
    },
    {
     "name": "stdout",
     "output_type": "stream",
     "text": [
      "3043: accepted a cross-model jump! # components: 1 --> 2\n"
     ]
    },
    {
     "name": "stderr",
     "output_type": "stream",
     "text": [
      "  4%|▎         | 3728/100000 [00:10<01:21, 1184.01it/s]"
     ]
    },
    {
     "name": "stdout",
     "output_type": "stream",
     "text": [
      "3594: accepted a cross-model jump! # components: 2 --> 3\n"
     ]
    },
    {
     "name": "stderr",
     "output_type": "stream",
     "text": [
      "  6%|▌         | 5547/100000 [00:12<01:34, 1003.83it/s]"
     ]
    },
    {
     "name": "stdout",
     "output_type": "stream",
     "text": [
      "5332: accepted a cross-model jump! # components: 3 --> 2\n",
      "5342: accepted a cross-model jump! # components: 2 --> 3\n",
      "5372: accepted a cross-model jump! # components: 3 --> 2\n",
      "5504: accepted a cross-model jump! # components: 2 --> 3\n"
     ]
    },
    {
     "name": "stderr",
     "output_type": "stream",
     "text": [
      "  6%|▌         | 5875/100000 [00:12<01:28, 1058.32it/s]"
     ]
    },
    {
     "name": "stdout",
     "output_type": "stream",
     "text": [
      "5728: accepted a cross-model jump! # components: 3 --> 2\n",
      "5768: accepted a cross-model jump! # components: 2 --> 3\n",
      "5817: accepted a cross-model jump! # components: 3 --> 2\n",
      "5872: accepted a cross-model jump! # components: 2 --> 3\n",
      "5939: accepted a cross-model jump! # components: 3 --> 4\n"
     ]
    },
    {
     "name": "stderr",
     "output_type": "stream",
     "text": [
      "  6%|▌         | 6194/100000 [00:13<01:36, 970.65it/s] "
     ]
    },
    {
     "name": "stdout",
     "output_type": "stream",
     "text": [
      "6027: accepted a cross-model jump! # components: 4 --> 5\n",
      "6055: accepted a cross-model jump! # components: 5 --> 4\n",
      "6144: accepted a cross-model jump! # components: 4 --> 3\n"
     ]
    },
    {
     "name": "stderr",
     "output_type": "stream",
     "text": [
      "  6%|▋         | 6423/100000 [00:13<01:29, 1051.43it/s]"
     ]
    },
    {
     "name": "stdout",
     "output_type": "stream",
     "text": [
      "6275: accepted a cross-model jump! # components: 3 --> 2\n",
      "6339: accepted a cross-model jump! # components: 2 --> 3\n",
      "6349: accepted a cross-model jump! # components: 3 --> 2\n"
     ]
    },
    {
     "name": "stderr",
     "output_type": "stream",
     "text": [
      "  7%|▋         | 6990/100000 [00:13<01:30, 1030.11it/s]"
     ]
    },
    {
     "name": "stdout",
     "output_type": "stream",
     "text": [
      "6822: accepted a cross-model jump! # components: 2 --> 3\n"
     ]
    },
    {
     "name": "stderr",
     "output_type": "stream",
     "text": [
      "  7%|▋         | 7302/100000 [00:14<01:32, 1000.38it/s]"
     ]
    },
    {
     "name": "stdout",
     "output_type": "stream",
     "text": [
      "7189: accepted a cross-model jump! # components: 3 --> 4\n",
      "7254: accepted a cross-model jump! # components: 4 --> 3\n"
     ]
    },
    {
     "name": "stderr",
     "output_type": "stream",
     "text": [
      "  9%|▊         | 8647/100000 [00:15<01:17, 1176.37it/s]"
     ]
    },
    {
     "name": "stdout",
     "output_type": "stream",
     "text": [
      "8449: accepted a cross-model jump! # components: 3 --> 2\n"
     ]
    },
    {
     "name": "stderr",
     "output_type": "stream",
     "text": [
      " 10%|▉         | 9667/100000 [00:16<01:11, 1266.36it/s]"
     ]
    },
    {
     "name": "stdout",
     "output_type": "stream",
     "text": [
      "9507: accepted a cross-model jump! # components: 2 --> 3\n",
      "9535: accepted a cross-model jump! # components: 3 --> 2\n"
     ]
    },
    {
     "name": "stderr",
     "output_type": "stream",
     "text": [
      " 12%|█▏        | 12455/100000 [00:18<01:10, 1239.12it/s]"
     ]
    },
    {
     "name": "stdout",
     "output_type": "stream",
     "text": [
      "12301: accepted a cross-model jump! # components: 2 --> 3\n",
      "12311: accepted a cross-model jump! # components: 3 --> 2\n"
     ]
    },
    {
     "name": "stderr",
     "output_type": "stream",
     "text": [
      " 16%|█▌        | 15730/100000 [00:21<01:06, 1263.73it/s]"
     ]
    },
    {
     "name": "stdout",
     "output_type": "stream",
     "text": [
      "15511: accepted a cross-model jump! # components: 2 --> 3\n",
      "15523: accepted a cross-model jump! # components: 3 --> 2\n"
     ]
    },
    {
     "name": "stderr",
     "output_type": "stream",
     "text": [
      " 16%|█▌        | 15979/100000 [00:21<01:15, 1119.64it/s]"
     ]
    },
    {
     "name": "stdout",
     "output_type": "stream",
     "text": [
      "15839: accepted a cross-model jump! # components: 2 --> 3\n"
     ]
    },
    {
     "name": "stderr",
     "output_type": "stream",
     "text": [
      " 17%|█▋        | 16719/100000 [00:22<01:06, 1247.89it/s]"
     ]
    },
    {
     "name": "stdout",
     "output_type": "stream",
     "text": [
      "16426: accepted a cross-model jump! # components: 3 --> 2\n",
      "16428: accepted a cross-model jump! # components: 2 --> 3\n",
      "16431: accepted a cross-model jump! # components: 3 --> 2\n",
      "16444: accepted a cross-model jump! # components: 2 --> 1\n"
     ]
    },
    {
     "name": "stderr",
     "output_type": "stream",
     "text": [
      " 18%|█▊        | 17962/100000 [00:22<00:54, 1511.06it/s]"
     ]
    },
    {
     "name": "stdout",
     "output_type": "stream",
     "text": [
      "17802: accepted a cross-model jump! # components: 1 --> 2\n",
      "17832: accepted a cross-model jump! # components: 2 --> 1\n"
     ]
    },
    {
     "name": "stderr",
     "output_type": "stream",
     "text": [
      " 19%|█▉        | 19234/100000 [00:23<00:51, 1580.45it/s]"
     ]
    },
    {
     "name": "stdout",
     "output_type": "stream",
     "text": [
      "18929: accepted a cross-model jump! # components: 1 --> 2\n",
      "18935: accepted a cross-model jump! # components: 2 --> 1\n"
     ]
    },
    {
     "name": "stderr",
     "output_type": "stream",
     "text": [
      " 20%|██        | 20334/100000 [00:24<00:52, 1524.42it/s]"
     ]
    },
    {
     "name": "stdout",
     "output_type": "stream",
     "text": [
      "20121: accepted a cross-model jump! # components: 1 --> 2\n",
      "20161: accepted a cross-model jump! # components: 2 --> 1\n"
     ]
    },
    {
     "name": "stderr",
     "output_type": "stream",
     "text": [
      " 21%|██        | 21105/100000 [00:24<00:54, 1442.25it/s]"
     ]
    },
    {
     "name": "stdout",
     "output_type": "stream",
     "text": [
      "21000: accepted a cross-model jump! # components: 1 --> 2\n",
      "21023: accepted a cross-model jump! # components: 2 --> 1\n"
     ]
    },
    {
     "name": "stderr",
     "output_type": "stream",
     "text": [
      " 22%|██▏       | 22247/100000 [00:25<00:57, 1342.03it/s]"
     ]
    },
    {
     "name": "stdout",
     "output_type": "stream",
     "text": [
      "22016: accepted a cross-model jump! # components: 1 --> 2\n",
      "22036: accepted a cross-model jump! # components: 2 --> 1\n",
      "22092: accepted a cross-model jump! # components: 1 --> 2\n",
      "22228: accepted a cross-model jump! # components: 2 --> 1\n"
     ]
    },
    {
     "name": "stderr",
     "output_type": "stream",
     "text": [
      " 23%|██▎       | 22681/100000 [00:26<00:55, 1405.03it/s]"
     ]
    },
    {
     "name": "stdout",
     "output_type": "stream",
     "text": [
      "22444: accepted a cross-model jump! # components: 1 --> 2\n",
      "22476: accepted a cross-model jump! # components: 2 --> 1\n"
     ]
    },
    {
     "name": "stderr",
     "output_type": "stream",
     "text": [
      " 24%|██▍       | 24488/100000 [00:27<00:51, 1458.47it/s]"
     ]
    },
    {
     "name": "stdout",
     "output_type": "stream",
     "text": [
      "24187: accepted a cross-model jump! # components: 1 --> 2\n",
      "24196: accepted a cross-model jump! # components: 2 --> 1\n"
     ]
    },
    {
     "name": "stderr",
     "output_type": "stream",
     "text": [
      " 27%|██▋       | 26993/100000 [00:29<00:48, 1507.59it/s]"
     ]
    },
    {
     "name": "stdout",
     "output_type": "stream",
     "text": [
      "26756: accepted a cross-model jump! # components: 1 --> 2\n",
      "26792: accepted a cross-model jump! # components: 2 --> 1\n"
     ]
    },
    {
     "name": "stderr",
     "output_type": "stream",
     "text": [
      " 29%|██▉       | 29189/100000 [00:30<00:45, 1541.75it/s]"
     ]
    },
    {
     "name": "stdout",
     "output_type": "stream",
     "text": [
      "29025: accepted a cross-model jump! # components: 1 --> 2\n",
      "29030: accepted a cross-model jump! # components: 2 --> 1\n"
     ]
    },
    {
     "name": "stderr",
     "output_type": "stream",
     "text": [
      " 33%|███▎      | 32757/100000 [00:32<00:48, 1393.63it/s]"
     ]
    },
    {
     "name": "stdout",
     "output_type": "stream",
     "text": [
      "32601: accepted a cross-model jump! # components: 1 --> 2\n"
     ]
    },
    {
     "name": "stderr",
     "output_type": "stream",
     "text": [
      " 33%|███▎      | 33162/100000 [00:33<00:53, 1260.75it/s]"
     ]
    },
    {
     "name": "stdout",
     "output_type": "stream",
     "text": [
      "32987: accepted a cross-model jump! # components: 2 --> 3\n",
      "33091: accepted a cross-model jump! # components: 3 --> 2\n",
      "33096: accepted a cross-model jump! # components: 2 --> 1\n"
     ]
    },
    {
     "name": "stderr",
     "output_type": "stream",
     "text": [
      " 33%|███▎      | 33430/100000 [00:33<00:53, 1254.13it/s]"
     ]
    },
    {
     "name": "stdout",
     "output_type": "stream",
     "text": [
      "33283: accepted a cross-model jump! # components: 1 --> 2\n"
     ]
    },
    {
     "name": "stderr",
     "output_type": "stream",
     "text": [
      " 34%|███▎      | 33687/100000 [00:33<00:54, 1227.87it/s]"
     ]
    },
    {
     "name": "stdout",
     "output_type": "stream",
     "text": [
      "33519: accepted a cross-model jump! # components: 2 --> 3\n",
      "33522: accepted a cross-model jump! # components: 3 --> 2\n"
     ]
    },
    {
     "name": "stderr",
     "output_type": "stream",
     "text": [
      " 36%|███▌      | 35775/100000 [00:35<00:52, 1232.56it/s]"
     ]
    },
    {
     "name": "stdout",
     "output_type": "stream",
     "text": [
      "35646: accepted a cross-model jump! # components: 2 --> 3\n"
     ]
    },
    {
     "name": "stderr",
     "output_type": "stream",
     "text": [
      " 36%|███▌      | 36154/100000 [00:35<00:51, 1232.51it/s]"
     ]
    },
    {
     "name": "stdout",
     "output_type": "stream",
     "text": [
      "35902: accepted a cross-model jump! # components: 3 --> 2\n"
     ]
    },
    {
     "name": "stderr",
     "output_type": "stream",
     "text": [
      " 46%|████▌     | 45679/100000 [00:42<00:42, 1287.39it/s]"
     ]
    },
    {
     "name": "stdout",
     "output_type": "stream",
     "text": [
      "45531: accepted a cross-model jump! # components: 2 --> 3\n",
      "45614: accepted a cross-model jump! # components: 3 --> 2\n",
      "45702: accepted a cross-model jump! # components: 2 --> 3\n",
      "45762: accepted a cross-model jump! # components: 3 --> 2\n"
     ]
    },
    {
     "name": "stderr",
     "output_type": "stream",
     "text": [
      " 48%|████▊     | 47774/100000 [00:44<00:42, 1228.46it/s]"
     ]
    },
    {
     "name": "stdout",
     "output_type": "stream",
     "text": [
      "47657: accepted a cross-model jump! # components: 2 --> 3\n"
     ]
    },
    {
     "name": "stderr",
     "output_type": "stream",
     "text": [
      " 49%|████▊     | 48724/100000 [00:45<00:43, 1178.62it/s]"
     ]
    },
    {
     "name": "stdout",
     "output_type": "stream",
     "text": [
      "48549: accepted a cross-model jump! # components: 3 --> 2\n",
      "48567: accepted a cross-model jump! # components: 2 --> 3\n",
      "48588: accepted a cross-model jump! # components: 3 --> 2\n",
      "48704: accepted a cross-model jump! # components: 2 --> 1\n"
     ]
    },
    {
     "name": "stderr",
     "output_type": "stream",
     "text": [
      " 49%|████▉     | 48998/100000 [00:45<00:42, 1196.36it/s]"
     ]
    },
    {
     "name": "stdout",
     "output_type": "stream",
     "text": [
      "48855: accepted a cross-model jump! # components: 1 --> 2\n",
      "48928: accepted a cross-model jump! # components: 2 --> 3\n",
      "48940: accepted a cross-model jump! # components: 3 --> 4\n",
      "49036: accepted a cross-model jump! # components: 4 --> 3\n",
      "49066: accepted a cross-model jump! # components: 3 --> 2\n"
     ]
    },
    {
     "name": "stderr",
     "output_type": "stream",
     "text": [
      " 49%|████▉     | 49270/100000 [00:45<00:40, 1254.09it/s]"
     ]
    },
    {
     "name": "stdout",
     "output_type": "stream",
     "text": [
      "49098: accepted a cross-model jump! # components: 2 --> 1\n",
      "49371: accepted a cross-model jump! # components: 1 --> 2\n"
     ]
    },
    {
     "name": "stderr",
     "output_type": "stream",
     "text": [
      " 50%|████▉     | 49729/100000 [00:46<00:35, 1428.45it/s]"
     ]
    },
    {
     "name": "stdout",
     "output_type": "stream",
     "text": [
      "49421: accepted a cross-model jump! # components: 2 --> 1\n"
     ]
    },
    {
     "name": "stderr",
     "output_type": "stream",
     "text": [
      " 56%|█████▌    | 55667/100000 [00:49<00:30, 1468.48it/s]"
     ]
    },
    {
     "name": "stdout",
     "output_type": "stream",
     "text": [
      "55472: accepted a cross-model jump! # components: 1 --> 2\n"
     ]
    },
    {
     "name": "stderr",
     "output_type": "stream",
     "text": [
      " 58%|█████▊    | 57565/100000 [00:51<00:35, 1206.43it/s]"
     ]
    },
    {
     "name": "stdout",
     "output_type": "stream",
     "text": [
      "57420: accepted a cross-model jump! # components: 2 --> 3\n",
      "57469: accepted a cross-model jump! # components: 3 --> 4\n",
      "57592: accepted a cross-model jump! # components: 4 --> 3\n"
     ]
    },
    {
     "name": "stderr",
     "output_type": "stream",
     "text": [
      " 58%|█████▊    | 57804/100000 [00:51<00:38, 1087.73it/s]"
     ]
    },
    {
     "name": "stdout",
     "output_type": "stream",
     "text": [
      "57660: accepted a cross-model jump! # components: 3 --> 4\n",
      "57787: accepted a cross-model jump! # components: 4 --> 3\n",
      "57788: accepted a cross-model jump! # components: 3 --> 2\n",
      "57855: accepted a cross-model jump! # components: 2 --> 1\n"
     ]
    },
    {
     "name": "stderr",
     "output_type": "stream",
     "text": [
      " 58%|█████▊    | 58089/100000 [00:51<00:33, 1239.11it/s]"
     ]
    },
    {
     "name": "stdout",
     "output_type": "stream",
     "text": [
      "57889: accepted a cross-model jump! # components: 1 --> 2\n",
      "57974: accepted a cross-model jump! # components: 2 --> 1\n"
     ]
    },
    {
     "name": "stderr",
     "output_type": "stream",
     "text": [
      " 61%|██████    | 60797/100000 [00:53<00:25, 1559.15it/s]"
     ]
    },
    {
     "name": "stdout",
     "output_type": "stream",
     "text": [
      "60583: accepted a cross-model jump! # components: 1 --> 2\n",
      "60595: accepted a cross-model jump! # components: 2 --> 1\n",
      "60842: accepted a cross-model jump! # components: 1 --> 2\n",
      "60852: accepted a cross-model jump! # components: 2 --> 1\n"
     ]
    },
    {
     "name": "stderr",
     "output_type": "stream",
     "text": [
      " 63%|██████▎   | 62543/100000 [00:54<00:23, 1577.54it/s]"
     ]
    },
    {
     "name": "stdout",
     "output_type": "stream",
     "text": [
      "62323: accepted a cross-model jump! # components: 1 --> 2\n",
      "62388: accepted a cross-model jump! # components: 2 --> 1\n"
     ]
    },
    {
     "name": "stderr",
     "output_type": "stream",
     "text": [
      " 64%|██████▍   | 63806/100000 [00:55<00:24, 1487.04it/s]"
     ]
    },
    {
     "name": "stdout",
     "output_type": "stream",
     "text": [
      "63696: accepted a cross-model jump! # components: 1 --> 2\n",
      "63933: accepted a cross-model jump! # components: 2 --> 3\n"
     ]
    },
    {
     "name": "stderr",
     "output_type": "stream",
     "text": [
      " 64%|██████▍   | 64229/100000 [00:55<00:27, 1284.04it/s]"
     ]
    },
    {
     "name": "stdout",
     "output_type": "stream",
     "text": [
      "63990: accepted a cross-model jump! # components: 3 --> 2\n"
     ]
    },
    {
     "name": "stderr",
     "output_type": "stream",
     "text": [
      " 66%|██████▌   | 65628/100000 [00:57<00:28, 1221.64it/s]"
     ]
    },
    {
     "name": "stdout",
     "output_type": "stream",
     "text": [
      "65442: accepted a cross-model jump! # components: 2 --> 3\n",
      "65456: accepted a cross-model jump! # components: 3 --> 2\n"
     ]
    },
    {
     "name": "stderr",
     "output_type": "stream",
     "text": [
      " 66%|██████▌   | 65866/100000 [00:57<00:32, 1055.74it/s]"
     ]
    },
    {
     "name": "stdout",
     "output_type": "stream",
     "text": [
      "65686: accepted a cross-model jump! # components: 2 --> 3\n",
      "65737: accepted a cross-model jump! # components: 3 --> 2\n"
     ]
    },
    {
     "name": "stderr",
     "output_type": "stream",
     "text": [
      " 71%|███████   | 70711/100000 [01:01<00:24, 1200.44it/s]"
     ]
    },
    {
     "name": "stdout",
     "output_type": "stream",
     "text": [
      "70574: accepted a cross-model jump! # components: 2 --> 3\n"
     ]
    },
    {
     "name": "stderr",
     "output_type": "stream",
     "text": [
      " 72%|███████▏  | 71507/100000 [01:01<00:26, 1080.37it/s]"
     ]
    },
    {
     "name": "stdout",
     "output_type": "stream",
     "text": [
      "71394: accepted a cross-model jump! # components: 3 --> 2\n",
      "71454: accepted a cross-model jump! # components: 2 --> 3\n"
     ]
    },
    {
     "name": "stderr",
     "output_type": "stream",
     "text": [
      " 72%|███████▏  | 71842/100000 [01:02<00:25, 1102.47it/s]"
     ]
    },
    {
     "name": "stdout",
     "output_type": "stream",
     "text": [
      "71676: accepted a cross-model jump! # components: 3 --> 2\n",
      "71708: accepted a cross-model jump! # components: 2 --> 1\n",
      "71714: accepted a cross-model jump! # components: 1 --> 2\n",
      "71783: accepted a cross-model jump! # components: 2 --> 3\n",
      "71874: accepted a cross-model jump! # components: 3 --> 2\n"
     ]
    },
    {
     "name": "stderr",
     "output_type": "stream",
     "text": [
      " 72%|███████▏  | 72071/100000 [01:02<00:24, 1120.72it/s]"
     ]
    },
    {
     "name": "stdout",
     "output_type": "stream",
     "text": [
      "71921: accepted a cross-model jump! # components: 2 --> 3\n",
      "71930: accepted a cross-model jump! # components: 3 --> 2\n"
     ]
    },
    {
     "name": "stderr",
     "output_type": "stream",
     "text": [
      " 73%|███████▎  | 73457/100000 [01:03<00:22, 1180.89it/s]"
     ]
    },
    {
     "name": "stdout",
     "output_type": "stream",
     "text": [
      "73330: accepted a cross-model jump! # components: 2 --> 3\n"
     ]
    },
    {
     "name": "stderr",
     "output_type": "stream",
     "text": [
      " 74%|███████▍  | 74140/100000 [01:04<00:23, 1105.88it/s]"
     ]
    },
    {
     "name": "stdout",
     "output_type": "stream",
     "text": [
      "73990: accepted a cross-model jump! # components: 3 --> 2\n",
      "74055: accepted a cross-model jump! # components: 2 --> 3\n",
      "74067: accepted a cross-model jump! # components: 3 --> 2\n",
      "74098: accepted a cross-model jump! # components: 2 --> 3\n",
      "74192: accepted a cross-model jump! # components: 3 --> 2\n"
     ]
    },
    {
     "name": "stderr",
     "output_type": "stream",
     "text": [
      " 76%|███████▌  | 75742/100000 [01:05<00:20, 1192.48it/s]"
     ]
    },
    {
     "name": "stdout",
     "output_type": "stream",
     "text": [
      "75514: accepted a cross-model jump! # components: 2 --> 3\n",
      "75670: accepted a cross-model jump! # components: 3 --> 2\n"
     ]
    },
    {
     "name": "stderr",
     "output_type": "stream",
     "text": [
      " 78%|███████▊  | 78247/100000 [01:07<00:18, 1164.08it/s]"
     ]
    },
    {
     "name": "stdout",
     "output_type": "stream",
     "text": [
      "78110: accepted a cross-model jump! # components: 2 --> 3\n"
     ]
    },
    {
     "name": "stderr",
     "output_type": "stream",
     "text": [
      " 79%|███████▊  | 78605/100000 [01:07<00:18, 1141.40it/s]"
     ]
    },
    {
     "name": "stdout",
     "output_type": "stream",
     "text": [
      "78373: accepted a cross-model jump! # components: 3 --> 2\n",
      "78528: accepted a cross-model jump! # components: 2 --> 3\n"
     ]
    },
    {
     "name": "stderr",
     "output_type": "stream",
     "text": [
      "\r",
      " 79%|███████▊  | 78720/100000 [01:08<00:20, 1023.20it/s]"
     ]
    },
    {
     "name": "stdout",
     "output_type": "stream",
     "text": [
      "78614: accepted a cross-model jump! # components: 3 --> 4\n",
      "78746: accepted a cross-model jump! # components: 4 --> 3\n"
     ]
    },
    {
     "name": "stderr",
     "output_type": "stream",
     "text": [
      " 80%|████████  | 80385/100000 [01:09<00:17, 1110.04it/s]"
     ]
    },
    {
     "name": "stdout",
     "output_type": "stream",
     "text": [
      "80169: accepted a cross-model jump! # components: 3 --> 2\n",
      "80171: accepted a cross-model jump! # components: 2 --> 1\n",
      "80198: accepted a cross-model jump! # components: 1 --> 2\n",
      "80241: accepted a cross-model jump! # components: 2 --> 3\n",
      "80306: accepted a cross-model jump! # components: 3 --> 2\n",
      "80317: accepted a cross-model jump! # components: 2 --> 3\n",
      "80359: accepted a cross-model jump! # components: 3 --> 2\n",
      "80367: accepted a cross-model jump! # components: 2 --> 1\n"
     ]
    },
    {
     "name": "stderr",
     "output_type": "stream",
     "text": [
      " 81%|████████  | 80649/100000 [01:09<00:16, 1206.81it/s]"
     ]
    },
    {
     "name": "stdout",
     "output_type": "stream",
     "text": [
      "80477: accepted a cross-model jump! # components: 1 --> 2\n",
      "80589: accepted a cross-model jump! # components: 2 --> 1\n"
     ]
    },
    {
     "name": "stderr",
     "output_type": "stream",
     "text": [
      " 81%|████████  | 81243/100000 [01:10<00:13, 1397.92it/s]"
     ]
    },
    {
     "name": "stdout",
     "output_type": "stream",
     "text": [
      "81016: accepted a cross-model jump! # components: 1 --> 2\n",
      "81043: accepted a cross-model jump! # components: 2 --> 1\n"
     ]
    },
    {
     "name": "stderr",
     "output_type": "stream",
     "text": [
      " 83%|████████▎ | 82591/100000 [01:11<00:12, 1434.34it/s]"
     ]
    },
    {
     "name": "stdout",
     "output_type": "stream",
     "text": [
      "82443: accepted a cross-model jump! # components: 1 --> 2\n",
      "82487: accepted a cross-model jump! # components: 2 --> 1\n",
      "82502: accepted a cross-model jump! # components: 1 --> 2\n",
      "82513: accepted a cross-model jump! # components: 2 --> 1\n"
     ]
    },
    {
     "name": "stderr",
     "output_type": "stream",
     "text": [
      " 83%|████████▎ | 83466/100000 [01:11<00:12, 1347.51it/s]"
     ]
    },
    {
     "name": "stdout",
     "output_type": "stream",
     "text": [
      "83269: accepted a cross-model jump! # components: 1 --> 2\n"
     ]
    },
    {
     "name": "stderr",
     "output_type": "stream",
     "text": [
      " 87%|████████▋ | 86865/100000 [01:14<00:11, 1095.39it/s]"
     ]
    },
    {
     "name": "stdout",
     "output_type": "stream",
     "text": [
      "86665: accepted a cross-model jump! # components: 2 --> 3\n",
      "86692: accepted a cross-model jump! # components: 3 --> 4\n",
      "86751: accepted a cross-model jump! # components: 4 --> 3\n"
     ]
    },
    {
     "name": "stderr",
     "output_type": "stream",
     "text": [
      " 88%|████████▊ | 87654/100000 [01:15<00:11, 1082.06it/s]"
     ]
    },
    {
     "name": "stdout",
     "output_type": "stream",
     "text": [
      "87463: accepted a cross-model jump! # components: 3 --> 2\n",
      "87616: accepted a cross-model jump! # components: 2 --> 1\n",
      "87676: accepted a cross-model jump! # components: 1 --> 2\n",
      "87687: accepted a cross-model jump! # components: 2 --> 1\n"
     ]
    },
    {
     "name": "stderr",
     "output_type": "stream",
     "text": [
      " 88%|████████▊ | 87942/100000 [01:15<00:09, 1241.70it/s]"
     ]
    },
    {
     "name": "stdout",
     "output_type": "stream",
     "text": [
      "87751: accepted a cross-model jump! # components: 1 --> 2\n",
      "87776: accepted a cross-model jump! # components: 2 --> 1\n"
     ]
    },
    {
     "name": "stderr",
     "output_type": "stream",
     "text": [
      " 89%|████████▊ | 88554/100000 [01:15<00:08, 1414.85it/s]"
     ]
    },
    {
     "name": "stdout",
     "output_type": "stream",
     "text": [
      "88303: accepted a cross-model jump! # components: 1 --> 2\n",
      "88401: accepted a cross-model jump! # components: 2 --> 1\n"
     ]
    },
    {
     "name": "stderr",
     "output_type": "stream",
     "text": [
      " 89%|████████▉ | 88841/100000 [01:16<00:08, 1372.32it/s]"
     ]
    },
    {
     "name": "stdout",
     "output_type": "stream",
     "text": [
      "88640: accepted a cross-model jump! # components: 1 --> 2\n"
     ]
    },
    {
     "name": "stderr",
     "output_type": "stream",
     "text": [
      " 90%|█████████ | 90360/100000 [01:17<00:09, 970.70it/s] "
     ]
    },
    {
     "name": "stdout",
     "output_type": "stream",
     "text": [
      "90215: accepted a cross-model jump! # components: 2 --> 3\n"
     ]
    },
    {
     "name": "stderr",
     "output_type": "stream",
     "text": [
      " 91%|█████████ | 90822/100000 [01:18<00:10, 842.44it/s]"
     ]
    },
    {
     "name": "stdout",
     "output_type": "stream",
     "text": [
      "90716: accepted a cross-model jump! # components: 3 --> 2\n",
      "90727: accepted a cross-model jump! # components: 2 --> 3\n",
      "90772: accepted a cross-model jump! # components: 3 --> 4\n",
      "90775: accepted a cross-model jump! # components: 4 --> 3\n",
      "90867: accepted a cross-model jump! # components: 3 --> 2\n",
      "90876: accepted a cross-model jump! # components: 2 --> 3\n",
      "90898: accepted a cross-model jump! # components: 3 --> 2\n"
     ]
    },
    {
     "name": "stderr",
     "output_type": "stream",
     "text": [
      " 91%|█████████ | 91121/100000 [01:18<00:09, 936.34it/s]"
     ]
    },
    {
     "name": "stdout",
     "output_type": "stream",
     "text": [
      "90923: accepted a cross-model jump! # components: 2 --> 3\n"
     ]
    },
    {
     "name": "stderr",
     "output_type": "stream",
     "text": [
      " 91%|█████████▏| 91364/100000 [01:18<00:08, 1062.30it/s]"
     ]
    },
    {
     "name": "stdout",
     "output_type": "stream",
     "text": [
      "91170: accepted a cross-model jump! # components: 3 --> 2\n",
      "91228: accepted a cross-model jump! # components: 2 --> 1\n"
     ]
    },
    {
     "name": "stderr",
     "output_type": "stream",
     "text": [
      " 94%|█████████▎| 93580/100000 [01:20<00:05, 1108.18it/s]"
     ]
    },
    {
     "name": "stdout",
     "output_type": "stream",
     "text": [
      "93446: accepted a cross-model jump! # components: 1 --> 2\n",
      "93485: accepted a cross-model jump! # components: 2 --> 1\n"
     ]
    },
    {
     "name": "stderr",
     "output_type": "stream",
     "text": [
      " 95%|█████████▍| 94562/100000 [01:20<00:04, 1326.28it/s]"
     ]
    },
    {
     "name": "stdout",
     "output_type": "stream",
     "text": [
      "94420: accepted a cross-model jump! # components: 1 --> 2\n"
     ]
    },
    {
     "name": "stderr",
     "output_type": "stream",
     "text": [
      " 95%|█████████▌| 95090/100000 [01:21<00:04, 1173.84it/s]"
     ]
    },
    {
     "name": "stdout",
     "output_type": "stream",
     "text": [
      "94983: accepted a cross-model jump! # components: 2 --> 3\n",
      "95115: accepted a cross-model jump! # components: 3 --> 2\n"
     ]
    },
    {
     "name": "stderr",
     "output_type": "stream",
     "text": [
      " 96%|█████████▌| 95971/100000 [01:22<00:04, 964.57it/s] "
     ]
    },
    {
     "name": "stdout",
     "output_type": "stream",
     "text": [
      "95852: accepted a cross-model jump! # components: 2 --> 3\n"
     ]
    },
    {
     "name": "stderr",
     "output_type": "stream",
     "text": [
      " 97%|█████████▋| 97274/100000 [01:23<00:02, 1133.13it/s]"
     ]
    },
    {
     "name": "stdout",
     "output_type": "stream",
     "text": [
      "97098: accepted a cross-model jump! # components: 3 --> 2\n"
     ]
    },
    {
     "name": "stderr",
     "output_type": "stream",
     "text": [
      "100%|██████████| 100000/100000 [01:25<00:00, 1166.98it/s]\n"
     ]
    }
   ],
   "source": [
    "np.random.seed(1)\n",
    "init_n_components = 50\n",
    "init_means = np.random.randn(init_n_components)\n",
    "init_stdevs = np.random.rand(init_n_components) + 1\n",
    "init_weights = np.random.rand(init_n_components)\n",
    "init_weights /= np.sum(init_weights)\n",
    "init_theta = np.hstack([init_means, init_stdevs, init_weights])\n",
    "init_parents = [None] + list(range(init_n_components - 1))\n",
    "traj, acceptance_probabilities = rjmcmc_w_parents(init_theta, init_parents, n_steps=100000)"
   ]
  },
  {
   "cell_type": "code",
   "execution_count": 12,
   "metadata": {},
   "outputs": [
    {
     "data": {
      "image/png": "[encoded data removed]",
      "text/plain": [
       "<matplotlib.figure.Figure at 0x114985eb8>"
      ]
     },
     "metadata": {},
     "output_type": "display_data"
    }
   ],
   "source": [
    "n_components_traj = [len(t[0]) / 3 for t in traj]\n",
    "ax = plt.subplot(111)\n",
    "plt.plot(n_components_traj)\n",
    "plt.hlines(n_components, 0, len(traj), linestyles='--')\n",
    "ax.spines['right'].set_visible(False)\n",
    "ax.spines['top'].set_visible(False)\n",
    "plt.ylabel('# components')\n",
    "plt.xlabel('iteration')\n",
    "plt.title(r'birth-death RJMC trace $k$' + '\\n(mixture weights ' + r'$w_i$ free)')\n",
    "#plt.xscale('log')\n",
    "plt.savefig('birth-death-n-components-starting-from-50.jpg', dpi=300)"
   ]
  },
  {
   "cell_type": "code",
   "execution_count": 13,
   "metadata": {},
   "outputs": [
    {
     "data": {
      "image/png": "[encoded data removed]",
      "text/plain": [
       "<matplotlib.figure.Figure at 0x11f0cef28>"
      ]
     },
     "metadata": {},
     "output_type": "display_data"
    }
   ],
   "source": [
    "plt.figure(figsize=(6,6))\n",
    "\n",
    "burned_in = n_components_traj[10000:]\n",
    "\n",
    "counts = np.bincount(burned_in)\n",
    "n_components_range = list(range(len(counts)))\n",
    "\n",
    "ax = plt.subplot(111)\n",
    "\n",
    "plt.bar(n_components_range, counts / sum(counts))\n",
    "plt.xlabel(r'# of components ($k$)')\n",
    "plt.ylabel(r'$p(k)$')\n",
    "ax.spines['right'].set_visible(False)\n",
    "ax.spines['top'].set_visible(False)\n",
    "plt.title(r'birth-death RJMC estimated marginal distribution of $k$' + '\\n(mixture weights ' + r'$w_i$ free)')\n",
    "plt.xticks(n_components_range)\n",
    "plt.yticks([])\n",
    "plt.savefig('birth-death-marginals-starting-from-50.jpg', dpi=300)"
   ]
  },
  {
   "cell_type": "code",
   "execution_count": 14,
   "metadata": {},
   "outputs": [],
   "source": [
    "change_points = list(np.arange(1, len(n_components_traj))[np.diff(n_components_traj) != 0])\n",
    "trajs = []\n",
    "for (start, end) in list(zip([0] + change_points, change_points + [len(traj)])):\n",
    "    trajs.append(np.array([t[0] for t in traj[start:end]]))"
   ]
  },
  {
   "cell_type": "code",
   "execution_count": null,
   "metadata": {},
   "outputs": [],
   "source": []
  },
  {
   "cell_type": "code",
   "execution_count": 15,
   "metadata": {},
   "outputs": [
    {
     "data": {
      "image/png": "[encoded data removed]",
      "text/plain": [
       "<matplotlib.figure.Figure at 0x11f784dd8>"
      ]
     },
     "metadata": {},
     "output_type": "display_data"
    }
   ],
   "source": [
    "plt.figure(figsize=(6,6))\n",
    "ax = plt.subplot(2, 1, 1)\n",
    "for i in range(len(trajs)):\n",
    "    x_init = sum([len(t) for t in trajs[:i]])\n",
    "    x_end = x_init + len(trajs[i])\n",
    "    n_components = int(trajs[i].shape[1] / 3)\n",
    "    plt.plot(np.arange(x_init, x_end), trajs[i][:,:n_components], color='blue')\n",
    "plt.ylim(-6,6)\n",
    "plt.yticks([-5,0,5])\n",
    "plt.xticks([0,50000,100000])\n",
    "plt.xlabel('iteration')\n",
    "plt.ylabel(r'mixture component means ($x$)')\n",
    "ax.spines['right'].set_visible(False)\n",
    "ax.spines['top'].set_visible(False)\n",
    "\n",
    "\n",
    "ax = plt.subplot(2, 1, 2, sharex=ax)\n",
    "plt.plot(n_components_traj)\n",
    "plt.xlabel('iteration')\n",
    "plt.ylabel(r'# components')\n",
    "ax.spines['right'].set_visible(False)\n",
    "ax.spines['top'].set_visible(False)\n",
    "\n",
    "plt.savefig('birth-death-branching-50.jpg', dpi=600, bbox_inches='tight')"
   ]
  },
  {
   "cell_type": "code",
   "execution_count": 16,
   "metadata": {},
   "outputs": [],
   "source": [
    "trees = [t[-1] for t in traj[1000:]]"
   ]
  },
  {
   "cell_type": "code",
   "execution_count": 17,
   "metadata": {},
   "outputs": [
    {
     "name": "stdout",
     "output_type": "stream",
     "text": [
      "[None, 0, 0]\n",
      "[None]\n",
      "[None, 0]\n",
      "[None, 0]\n",
      "[None, 0]\n",
      "[None]\n",
      "[None, 0]\n",
      "[None]\n",
      "[None]\n",
      "[None]\n",
      "[None, 0]\n",
      "[None, 0, 1]\n",
      "[None, 0]\n",
      "[None]\n",
      "[None, 0]\n",
      "[None, 0]\n",
      "[None]\n",
      "[None, 0]\n",
      "[None, 0, 0, 0]\n",
      "[None]\n"
     ]
    }
   ],
   "source": [
    "for _ in range(20):\n",
    "    print(trees[np.random.randint(len(trees))])"
   ]
  },
  {
   "cell_type": "code",
   "execution_count": 18,
   "metadata": {},
   "outputs": [],
   "source": [
    "import networkx as nx"
   ]
  },
  {
   "cell_type": "code",
   "execution_count": 19,
   "metadata": {},
   "outputs": [],
   "source": [
    "def parent_list_to_graph(parent_list):\n",
    "    \n",
    "    graph = nx.DiGraph()\n",
    "    \n",
    "    for i in range(1, len(parent_list)):\n",
    "        graph.add_edge(parent_list[i], i)\n",
    "    return graph"
   ]
  },
  {
   "cell_type": "code",
   "execution_count": 20,
   "metadata": {},
   "outputs": [
    {
     "data": {
      "text/plain": [
       "NodeView((0, 1))"
      ]
     },
     "execution_count": 20,
     "metadata": {},
     "output_type": "execute_result"
    }
   ],
   "source": [
    "g = parent_list_to_graph(trees[-1])\n",
    "g.nodes()"
   ]
  },
  {
   "cell_type": "code",
   "execution_count": null,
   "metadata": {
    "scrolled": false
   },
   "outputs": [
    {
     "data": {
      "image/png": "[encoded data removed]",
      "text/plain": [
       "<matplotlib.figure.Figure at 0x123ad83c8>"
      ]
     },
     "metadata": {},
     "output_type": "display_data"
    },
    {
     "data": {
      "image/png": "[encoded data removed]",
      "text/plain": [
       "<matplotlib.figure.Figure at 0x123ec9ef0>"
      ]
     },
     "metadata": {},
     "output_type": "display_data"
    },
    {
     "data": {
      "image/png": "[encoded data removed]",
      "text/plain": [
       "<matplotlib.figure.Figure at 0x124a6da58>"
      ]
     },
     "metadata": {},
     "output_type": "display_data"
    },
    {
     "data": {
      "image/png": "[encoded data removed]",
      "text/plain": [
       "<matplotlib.figure.Figure at 0x124acecc0>"
      ]
     },
     "metadata": {},
     "output_type": "display_data"
    },
    {
     "data": {
      "image/png": "[encoded data removed]",
      "text/plain": [
       "<matplotlib.figure.Figure at 0x124b1eb38>"
      ]
     },
     "metadata": {},
     "output_type": "display_data"
    },
    {
     "data": {
      "image/png": "[encoded data removed]",
      "text/plain": [
       "<matplotlib.figure.Figure at 0x124c071d0>"
      ]
     },
     "metadata": {},
     "output_type": "display_data"
    },
    {
     "data": {
      "image/png": "[encoded data removed]",
      "text/plain": [
       "<matplotlib.figure.Figure at 0x124c72eb8>"
      ]
     },
     "metadata": {},
     "output_type": "display_data"
    },
    {
     "data": {
      "image/png": "[encoded data removed]",
      "text/plain": [
       "<matplotlib.figure.Figure at 0x124c88f60>"
      ]
     },
     "metadata": {},
     "output_type": "display_data"
    },
    {
     "data": {
      "image/png": "[encoded data removed]",
      "text/plain": [
       "<matplotlib.figure.Figure at 0x124d91fd0>"
      ]
     },
     "metadata": {},
     "output_type": "display_data"
    },
    {
     "data": {
      "image/png": "[encoded data removed]",
      "text/plain": [
       "<matplotlib.figure.Figure at 0x124df6be0>"
      ]
     },
     "metadata": {},
     "output_type": "display_data"
    }
   ],
   "source": [
    "for t in trees[:10]:\n",
    "    g = parent_list_to_graph(t)\n",
    "    plt.figure()\n",
    "    nx.draw(g, pos=nx.drawing.spring_layout(g))"
   ]
  },
  {
   "cell_type": "code",
   "execution_count": null,
   "metadata": {},
   "outputs": [],
   "source": [
    "log_posterior = np.array([flat_log_p(t[0]) for t in traj])\n",
    "log_prior = np.array([log_prior(t[0]) for t in traj])\n",
    "log_likelihood = log_posterior - log_prior"
   ]
  },
  {
   "cell_type": "code",
   "execution_count": null,
   "metadata": {},
   "outputs": [],
   "source": [
    "plt.plot(log_prior, label='prior')\n",
    "plt.plot(log_likelihood, label='likelihood')\n",
    "plt.plot(log_posterior, label='posterior')\n",
    "plt.legend(loc='best')\n",
    "plt.ylabel('log probability')\n",
    "plt.xlabel('iteration')\n",
    "plt.xscale('log')\n",
    "\n",
    "plt.savefig('birth-death-log-posterior.jpg', dpi=300)"
   ]
  },
  {
   "cell_type": "code",
   "execution_count": null,
   "metadata": {},
   "outputs": [],
   "source": []
  }
 ],
 "metadata": {
  "kernelspec": {
   "display_name": "Python 3",
   "language": "python",
   "name": "python3"
  },
  "language_info": {
   "codemirror_mode": {
    "name": "ipython",
    "version": 3
   },
   "file_extension": ".py",
   "mimetype": "text/x-python",
   "name": "python",
   "nbconvert_exporter": "python",
   "pygments_lexer": "ipython3",
   "version": "3.6.5"
  }
 },
 "nbformat": 4,
 "nbformat_minor": 2
}
