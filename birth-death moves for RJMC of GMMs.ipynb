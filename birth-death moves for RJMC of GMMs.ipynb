{
 "cells": [
  {
   "cell_type": "code",
   "execution_count": 1,
   "metadata": {},
   "outputs": [
    {
     "data": {
      "text/plain": [
       "([<matplotlib.axis.XTick at 0x11e224470>,\n",
       "  <matplotlib.axis.XTick at 0x11e217e80>,\n",
       "  <matplotlib.axis.XTick at 0x11e22f5c0>],\n",
       " <a list of 3 Text xticklabel objects>)"
      ]
     },
     "execution_count": 1,
     "metadata": {},
     "output_type": "execute_result"
    },
    {
     "data": {
      "image/png": "[encoded data removed]",
      "text/plain": [
       "<matplotlib.figure.Figure at 0x1100c3ba8>"
      ]
     },
     "metadata": {},
     "output_type": "display_data"
    }
   ],
   "source": [
    "# RJMC for GMMs:\n",
    "import matplotlib.pyplot as plt\n",
    "%matplotlib inline\n",
    "\n",
    "from autograd import numpy as np\n",
    "np.random.seed(0)\n",
    "from scipy.stats import norm\n",
    "from scipy.stats import dirichlet\n",
    "from scipy.special import logsumexp\n",
    "\n",
    "def gaussian_mixture_log_likelihood(X, means, stdevs, weights):\n",
    "    component_log_pdfs = np.array([norm.logpdf(X, loc=mean, scale=stdev) + np.log(weight) for ((mean, stdev), weight) in zip(zip(means, stdevs), weights)])\n",
    "    return np.sum(logsumexp(component_log_pdfs, 0))\n",
    "\n",
    "from scipy.stats import norm, invgamma\n",
    "from scipy.special import logsumexp\n",
    "\n",
    "def unpack(theta):\n",
    "    assert(len(theta) % 3 == 0)\n",
    "    n = int(len(theta) / 3)\n",
    "    means, stdevs, weights = np.array(theta[:n]), np.array(theta[n:2*n]), np.array(theta[2*n:])\n",
    "    return means, stdevs, weights\n",
    "\n",
    "def log_prior(theta):\n",
    "    means, stdevs, weights = unpack(theta)\n",
    "    log_prior_on_means = np.sum(norm.logpdf(means, scale=20))\n",
    "    log_prior_on_variances = np.sum(invgamma.logpdf((stdevs**2), 1.0))\n",
    "    #log_prior_on_weights = dirichlet.logpdf(weights, np.ones(len(weights)))\n",
    "    #log_prior_on_weights = np.sum(np.log(weights))\n",
    "    log_prior_on_weights = 0 # removing the prior on weights to see if this is the culprit...\n",
    "    return log_prior_on_means + log_prior_on_variances + log_prior_on_weights\n",
    "\n",
    "def flat_log_p(theta):\n",
    "    means, stdevs, weights = unpack(theta)\n",
    "    if np.min(stdevs) <= 0.001: return - np.inf\n",
    "    log_likelihood = gaussian_mixture_log_likelihood(X=data, means=means,\n",
    "                                           stdevs=stdevs,\n",
    "                                           weights=weights)\n",
    "    \n",
    "    return log_likelihood + log_prior(theta)\n",
    "\n",
    "n_components = 10\n",
    "true_means = np.random.rand(n_components) * 10 - 5\n",
    "true_stdevs = np.random.rand(n_components) * 0.2\n",
    "true_weights = np.random.rand(n_components)**2\n",
    "true_weights /= np.sum(true_weights)\n",
    "\n",
    "n_data = 500\n",
    "data = np.zeros(n_data)\n",
    "for i in range(n_data):\n",
    "    component = np.random.choice(np.arange(n_components), p=true_weights)\n",
    "    #component = np.random.randint(n_components)\n",
    "    data[i] = norm.rvs(loc=true_means[component], scale=true_stdevs[component])\n",
    "\n",
    "plt.figure(figsize=(6,6))\n",
    "\n",
    "ax = plt.subplot(111)\n",
    "    \n",
    "plt.hist(data, bins=50, normed=True, alpha=0.5);\n",
    "x = np.linspace(-5,5, 1000)\n",
    "y_tot = np.zeros(x.shape)\n",
    "for i in range(n_components):\n",
    "    \n",
    "    y = norm.pdf(x, loc=true_means[i], scale=true_stdevs[i]) * true_weights[i]\n",
    "    plt.plot(x, y, '--', color='grey',)\n",
    "    plt.fill_between(x, y, color='grey' ,alpha=0.2)\n",
    "    y_tot += y\n",
    "plt.plot(x,y_tot, color='blue',)\n",
    "plt.yticks([])\n",
    "\n",
    "ax.spines['right'].set_visible(False)\n",
    "ax.spines['top'].set_visible(False)\n",
    "\n",
    "plt.title(\"data: {} points sampled from {} mixture components\".format(n_data, n_components))\n",
    "plt.ylabel('probability density')\n",
    "plt.xlabel('x')\n",
    "plt.xticks([-5,0,5])"
   ]
  },
  {
   "cell_type": "code",
   "execution_count": 2,
   "metadata": {},
   "outputs": [
    {
     "data": {
      "text/plain": [
       "(1.7910542863676069, 1.633982672102031)"
      ]
     },
     "execution_count": 2,
     "metadata": {},
     "output_type": "execute_result"
    }
   ],
   "source": [
    "np.mean(data), np.std(data)"
   ]
  },
  {
   "cell_type": "code",
   "execution_count": 3,
   "metadata": {},
   "outputs": [],
   "source": [
    "max_components = 50\n",
    "mean_perturbation_scale = 0.0001\n",
    "stdev_perturbation_scale = 0.0001\n",
    "\n",
    "\n",
    "def reversible_birth_death_move(theta, parents):\n",
    "    \n",
    "    means, stdevs, weights = unpack(theta)\n",
    "    means, stdevs, weights = map(np.array, (means, stdevs, weights))\n",
    "    \n",
    "    sum_weights_before = np.sum(weights)\n",
    "    n_components = len(means)\n",
    "    \n",
    "    # decide whether to create a new \n",
    "    if n_components == 1:\n",
    "        birth_probability = 1.0\n",
    "    elif n_components == max_components:\n",
    "        birth_probability = 0.0\n",
    "    else:\n",
    "        birth_probability = 0.5\n",
    "    death_probability = 1.0 - birth_probability\n",
    "    \n",
    "    if np.random.rand() < birth_probability:\n",
    "        (means, stdevs, weights, parents_prime), log_jac_u_term = reversible_birth_move(means, stdevs, weights, parents)\n",
    "    else:\n",
    "        (means, stdevs, weights, parents_prime), log_jac_u_term = reversible_death_move(means, stdevs, weights, parents)\n",
    "    assert(len(means) == len(stdevs))\n",
    "    theta_prime = np.array(means + stdevs + weights)\n",
    "    \n",
    "    sum_weights_after = np.sum(weights)\n",
    "    assert(np.isclose(sum_weights_before, sum_weights_after))\n",
    "    return theta_prime, parents_prime, log_jac_u_term\n",
    "    \n",
    "from scipy.stats import uniform, norm\n",
    "u_1_distribution = uniform(0, 1)\n",
    "u_2_distribution = norm(0, 1)\n",
    "u_3_distribution = norm(0, 1)\n",
    "\n",
    "\n",
    "def reversible_birth_move(means, stdevs, weights, parents):\n",
    "    # make local copies to be extra sure we're not accidentally overwriting...\n",
    "    means, stdevs, weights, parents = map(list, (means, stdevs, weights, parents))\n",
    "    \n",
    "    # draw all the random numbers we're going to use\n",
    "    i = np.random.randint(len(means)) # choose a parent component at random\n",
    "    u_1 = u_1_distribution.rvs()\n",
    "    u_2 = u_2_distribution.rvs()\n",
    "    u_3 = u_3_distribution.rvs()\n",
    "    \n",
    "    # compute the log probability density of all the random numbers we drew\n",
    "    log_prob_u = np.log(1.0 / len(means)) + u_1_distribution.logpdf(u_1) + u_2_distribution.logpdf(u_2) + u_3_distribution.logpdf(u_3)\n",
    "    \n",
    "    # compute the parameters of the new mixture component\n",
    "    weight_new = weights[i] * u_1\n",
    "    mean_new = (u_2 * mean_perturbation_scale) + means[i]\n",
    "    stdev_new = (u_3 * stdev_perturbation_scale) + stdevs[i]\n",
    "    \n",
    "    # compute log determinant of the jacobian\n",
    "    log_jacobian_determinant = np.log(weights[i]) + np.log(mean_perturbation_scale) + np.log(stdev_perturbation_scale)\n",
    "    \n",
    "    # subtract the new mixture component's weight from its parent\n",
    "    weights[i] -= weight_new\n",
    "    \n",
    "    # update means, stdevs, weights, parents\n",
    "    means.append(mean_new)\n",
    "    stdevs.append(stdev_new)\n",
    "    weights.append(weight_new)\n",
    "    parents.append(i)\n",
    "    \n",
    "    return (means, stdevs, weights, parents), (log_jacobian_determinant - log_prob_u)\n",
    "    \n",
    "def reversible_death_move(means, stdevs, weights, parents):\n",
    "    # make local copies to be extra sure we're not accidentally overwriting...\n",
    "    means, stdevs, weights, parents = map(list, (means, stdevs, weights, parents))\n",
    "    \n",
    "    # draw all the random numbers we're going to use\n",
    "    i = np.random.randint(1, len(means)) # choose a component at random to remove, except component 0\n",
    "    \n",
    "    # compute the log probability density of all the random numbers we drew\n",
    "    log_prob_u = np.log(1.0 / (len(means) - 1))\n",
    "    \n",
    "    # remove this mixture component, and re-allocate its weight to its parent\n",
    "    weights[parents[i]] += weights[i]\n",
    "    \n",
    "    # update the parent list, so that any j whose parent just got deleted is assigned a new parent\n",
    "    for j in range(1, len(parents)):\n",
    "        if parents[j] == i:\n",
    "            parents[j] = parents[i]\n",
    "            \n",
    "    # wait, this is almost certainly wrong, because the indices will change...\n",
    "    _ = means.pop(i)\n",
    "    _ = stdevs.pop(i)\n",
    "    _ = weights.pop(i)\n",
    "    _ = parents.pop(i)\n",
    "    \n",
    "    # fix indices\n",
    "    for j in range(1, len(parents)):\n",
    "        if parents[j] > i:\n",
    "            parents[j] -= 1\n",
    "    \n",
    "    return (means, stdevs, weights, parents), (- log_prob_u)\n",
    "\n",
    "from tqdm import tqdm\n",
    "def rjmcmc_w_parents(theta, parents, n_steps=10000):\n",
    "    \n",
    "    traj = [(theta, parents)]\n",
    "    old_log_p = flat_log_p(theta)\n",
    "    \n",
    "    for t in tqdm(range(n_steps)):\n",
    "        # generate proposal\n",
    "        if np.random.rand() < 0.1:\n",
    "            theta_prime, parents_prime, log_jac_u_term = reversible_birth_death_move(theta, parents)\n",
    "        else:\n",
    "            theta_prime = np.array(theta)\n",
    "            \n",
    "            n = int(len(theta) / 3)\n",
    "            \n",
    "            # different proposal sizes for mean, stdev, weight\n",
    "            theta_prime[:n] += np.random.randn(n) * 1.0\n",
    "            theta_prime[n:2*n] += np.random.randn(n) * 0.1\n",
    "            theta_prime[2*n:] += np.random.randn(n) * 0.1\n",
    "            \n",
    "            # make sure the standard deviations are okay\n",
    "            theta_prime[n:2*n] = np.abs(theta_prime[2*n:])\n",
    "            \n",
    "            \n",
    "            # make sure the weights are okay\n",
    "            theta_prime[2*n:] = np.abs(theta_prime[2*n:])\n",
    "            while not np.isclose(np.sum(theta_prime[2*n:]), 1.0):\n",
    "                theta_prime[2*n:] = theta_prime[2*n:] / np.sum(theta_prime[2*n:])\n",
    "            #assert(np.max(theta_prime[2*n:]) <= 1)\n",
    "            #assert(np.max(theta_prime[2*n:]) >= 0)\n",
    "            #assert(np.sum(theta_prime[2*n:] == 1.0))\n",
    "            # hacky fix: otherwise this always will raise:\n",
    "            # ValueError: The input vector 'x' must lie within the normal simplex. but np.sum(x, 0) = 0.946... or similar\n",
    "            \n",
    "            # and sometimes also raise:\n",
    "            #ValueError: Each entry in 'x' must be greater than zero.\n",
    "            \n",
    "            parents_prime = parents\n",
    "            log_jac_u_term = 0.0\n",
    "           \n",
    "        \n",
    "        new_log_p = flat_log_p(theta_prime)\n",
    "        log_prob_ratio = new_log_p - old_log_p\n",
    "        if not np.isfinite(new_log_p):\n",
    "            A = 0\n",
    "            #print(RuntimeWarning(\"new_log_p isn't finite: theta = {}, parents = {}\".format(theta_prime, parents_prime)))\n",
    "        else:\n",
    "            A = min(1.0, np.exp(log_prob_ratio + log_jac_u_term))\n",
    "    \n",
    "        if np.random.rand() < A:\n",
    "            theta = theta_prime\n",
    "            parents = parents_prime\n",
    "            old_log_p = new_log_p\n",
    "            \n",
    "            if len(theta) != len(traj[-1][0]):\n",
    "                prev_dim = int(len(traj[-1][0]) / 3)\n",
    "                current_dim = int(len(theta) / 3)\n",
    "                assert(len(theta) % 3 == 0)\n",
    "\n",
    "                print('{}: accepted a cross-model jump! # components: {} --> {}'.format(t, prev_dim, current_dim))\n",
    "        traj.append((theta, parents))\n",
    "    return traj"
   ]
  },
  {
   "cell_type": "code",
   "execution_count": 4,
   "metadata": {},
   "outputs": [
    {
     "name": "stderr",
     "output_type": "stream",
     "text": [
      "  0%|          | 0/10000 [00:00<?, ?it/s]/Users/joshuafass/anaconda/lib/python3.6/site-packages/autograd/tracer.py:48: RuntimeWarning: overflow encountered in exp\n",
      "  return f_raw(*args, **kwargs)\n",
      "100%|██████████| 10000/10000 [00:07<00:00, 1325.50it/s]\n"
     ]
    }
   ],
   "source": [
    "np.random.seed(0)\n",
    "init_n_components = 1\n",
    "init_means = np.zeros(init_n_components)\n",
    "init_stdevs = np.random.rand(init_n_components)\n",
    "init_weights = np.random.rand(init_n_components)\n",
    "init_weights /= np.sum(init_weights)\n",
    "init_theta = np.hstack([init_means, init_stdevs, init_weights])\n",
    "init_parents = [None]\n",
    "traj = rjmcmc_w_parents(init_theta, init_parents, n_steps=10000)"
   ]
  },
  {
   "cell_type": "code",
   "execution_count": 5,
   "metadata": {},
   "outputs": [
    {
     "data": {
      "text/plain": [
       "(array([0.       , 0.5488135, 1.       ]), [None])"
      ]
     },
     "execution_count": 5,
     "metadata": {},
     "output_type": "execute_result"
    }
   ],
   "source": [
    "traj[0]"
   ]
  },
  {
   "cell_type": "code",
   "execution_count": 6,
   "metadata": {},
   "outputs": [
    {
     "data": {
      "text/plain": [
       "(array([1.75846233, 1.27398307, 1.        ]), [None])"
      ]
     },
     "execution_count": 6,
     "metadata": {},
     "output_type": "execute_result"
    }
   ],
   "source": [
    "traj[-1]"
   ]
  },
  {
   "cell_type": "code",
   "execution_count": 7,
   "metadata": {},
   "outputs": [],
   "source": [
    "X = np.vstack([x[0][:2] for x in traj if len(x[0]) == 3])"
   ]
  },
  {
   "cell_type": "code",
   "execution_count": 8,
   "metadata": {},
   "outputs": [
    {
     "data": {
      "text/plain": [
       "<matplotlib.text.Text at 0x11eeb2a20>"
      ]
     },
     "execution_count": 8,
     "metadata": {},
     "output_type": "execute_result"
    },
    {
     "data": {
      "image/png": "[encoded data removed]",
      "text/plain": [
       "<matplotlib.figure.Figure at 0x11e873668>"
      ]
     },
     "metadata": {},
     "output_type": "display_data"
    }
   ],
   "source": [
    "plt.plot(X[:,0], X[:,1], alpha=0.5)\n",
    "\n",
    "\n",
    "plt.vlines(np.mean(data), min(X[:,1]), max(X[:,1]))\n",
    "plt.hlines(np.std(data), min(X[:,0]), max(X[:,0]))\n",
    "plt.xlabel(r'$\\mu$')\n",
    "plt.ylabel(r'$\\sigma$')"
   ]
  },
  {
   "cell_type": "code",
   "execution_count": 9,
   "metadata": {},
   "outputs": [
    {
     "data": {
      "text/plain": [
       "[<matplotlib.lines.Line2D at 0x11ee34550>]"
      ]
     },
     "execution_count": 9,
     "metadata": {},
     "output_type": "execute_result"
    },
    {
     "data": {
      "image/png": "[encoded data removed]",
      "text/plain": [
       "<matplotlib.figure.Figure at 0x1100a4d68>"
      ]
     },
     "metadata": {},
     "output_type": "display_data"
    }
   ],
   "source": [
    "plt.plot(X[:,0])"
   ]
  },
  {
   "cell_type": "code",
   "execution_count": 10,
   "metadata": {},
   "outputs": [],
   "source": [
    "# okay that looks fine..."
   ]
  },
  {
   "cell_type": "code",
   "execution_count": 11,
   "metadata": {},
   "outputs": [
    {
     "name": "stderr",
     "output_type": "stream",
     "text": [
      "  0%|          | 31/10000 [00:00<01:13, 136.40it/s]"
     ]
    },
    {
     "name": "stdout",
     "output_type": "stream",
     "text": [
      "9: accepted a cross-model jump! # components: 50 --> 49\n",
      "10: accepted a cross-model jump! # components: 49 --> 48\n",
      "25: accepted a cross-model jump! # components: 48 --> 47\n"
     ]
    },
    {
     "name": "stderr",
     "output_type": "stream",
     "text": [
      "  1%|          | 120/10000 [00:00<00:59, 165.55it/s]"
     ]
    },
    {
     "name": "stdout",
     "output_type": "stream",
     "text": [
      "84: accepted a cross-model jump! # components: 47 --> 46\n",
      "109: accepted a cross-model jump! # components: 46 --> 45\n"
     ]
    },
    {
     "name": "stderr",
     "output_type": "stream",
     "text": [
      "  2%|▏         | 180/10000 [00:01<00:54, 180.91it/s]"
     ]
    },
    {
     "name": "stdout",
     "output_type": "stream",
     "text": [
      "154: accepted a cross-model jump! # components: 45 --> 44\n",
      "172: accepted a cross-model jump! # components: 44 --> 43\n",
      "175: accepted a cross-model jump! # components: 43 --> 42\n",
      "180: accepted a cross-model jump! # components: 42 --> 41\n",
      "188: accepted a cross-model jump! # components: 41 --> 40\n"
     ]
    },
    {
     "name": "stderr",
     "output_type": "stream",
     "text": [
      "  2%|▏         | 240/10000 [00:01<00:53, 183.49it/s]"
     ]
    },
    {
     "name": "stdout",
     "output_type": "stream",
     "text": [
      "204: accepted a cross-model jump! # components: 40 --> 39\n",
      "234: accepted a cross-model jump! # components: 39 --> 38\n",
      "241: accepted a cross-model jump! # components: 38 --> 37\n"
     ]
    },
    {
     "name": "stderr",
     "output_type": "stream",
     "text": [
      "  3%|▎         | 309/10000 [00:01<00:46, 207.94it/s]"
     ]
    },
    {
     "name": "stdout",
     "output_type": "stream",
     "text": [
      "259: accepted a cross-model jump! # components: 37 --> 36\n",
      "279: accepted a cross-model jump! # components: 36 --> 35\n"
     ]
    },
    {
     "name": "stderr",
     "output_type": "stream",
     "text": [
      "  4%|▎         | 358/10000 [00:01<00:44, 217.58it/s]"
     ]
    },
    {
     "name": "stdout",
     "output_type": "stream",
     "text": [
      "312: accepted a cross-model jump! # components: 35 --> 34\n",
      "322: accepted a cross-model jump! # components: 34 --> 33\n",
      "329: accepted a cross-model jump! # components: 33 --> 32\n",
      "335: accepted a cross-model jump! # components: 32 --> 31\n",
      "357: accepted a cross-model jump! # components: 31 --> 30\n"
     ]
    },
    {
     "name": "stderr",
     "output_type": "stream",
     "text": [
      "  4%|▍         | 445/10000 [00:02<00:37, 257.76it/s]"
     ]
    },
    {
     "name": "stdout",
     "output_type": "stream",
     "text": [
      "388: accepted a cross-model jump! # components: 30 --> 29\n",
      "400: accepted a cross-model jump! # components: 29 --> 28\n"
     ]
    },
    {
     "name": "stderr",
     "output_type": "stream",
     "text": [
      "  5%|▍         | 499/10000 [00:02<00:37, 250.85it/s]"
     ]
    },
    {
     "name": "stdout",
     "output_type": "stream",
     "text": [
      "476: accepted a cross-model jump! # components: 28 --> 27\n"
     ]
    },
    {
     "name": "stderr",
     "output_type": "stream",
     "text": [
      "  6%|▌         | 603/10000 [00:02<00:37, 247.35it/s]"
     ]
    },
    {
     "name": "stdout",
     "output_type": "stream",
     "text": [
      "555: accepted a cross-model jump! # components: 27 --> 26\n",
      "568: accepted a cross-model jump! # components: 26 --> 25\n",
      "586: accepted a cross-model jump! # components: 25 --> 24\n",
      "593: accepted a cross-model jump! # components: 24 --> 23\n",
      "599: accepted a cross-model jump! # components: 23 --> 22\n",
      "608: accepted a cross-model jump! # components: 22 --> 21"
     ]
    },
    {
     "name": "stderr",
     "output_type": "stream",
     "text": [
      "  7%|▋         | 670/10000 [00:03<00:32, 282.91it/s]"
     ]
    },
    {
     "name": "stdout",
     "output_type": "stream",
     "text": [
      "\n",
      "622: accepted a cross-model jump! # components: 21 --> 20\n",
      "627: accepted a cross-model jump! # components: 20 --> 19\n",
      "641: accepted a cross-model jump! # components: 19 --> 18\n",
      "693: accepted a cross-model jump! # components: 18 --> 17\n"
     ]
    },
    {
     "name": "stderr",
     "output_type": "stream",
     "text": [
      "  8%|▊         | 784/10000 [00:03<00:27, 334.85it/s]"
     ]
    },
    {
     "name": "stdout",
     "output_type": "stream",
     "text": [
      "717: accepted a cross-model jump! # components: 17 --> 16\n"
     ]
    },
    {
     "name": "stderr",
     "output_type": "stream",
     "text": [
      " 11%|█         | 1067/10000 [00:04<00:22, 405.63it/s]"
     ]
    },
    {
     "name": "stdout",
     "output_type": "stream",
     "text": [
      "976: accepted a cross-model jump! # components: 16 --> 15\n",
      "988: accepted a cross-model jump! # components: 15 --> 14\n",
      "990: accepted a cross-model jump! # components: 14 --> 13\n",
      "1039: accepted a cross-model jump! # components: 13 --> 12\n"
     ]
    },
    {
     "name": "stderr",
     "output_type": "stream",
     "text": [
      " 12%|█▏        | 1200/10000 [00:04<00:21, 417.20it/s]"
     ]
    },
    {
     "name": "stdout",
     "output_type": "stream",
     "text": [
      "1125: accepted a cross-model jump! # components: 12 --> 11\n",
      "1159: accepted a cross-model jump! # components: 11 --> 10\n"
     ]
    },
    {
     "name": "stderr",
     "output_type": "stream",
     "text": [
      " 13%|█▎        | 1335/10000 [00:04<00:20, 421.65it/s]"
     ]
    },
    {
     "name": "stdout",
     "output_type": "stream",
     "text": [
      "1274: accepted a cross-model jump! # components: 10 --> 9\n",
      "1339: accepted a cross-model jump! # components: 9 --> 8\n"
     ]
    },
    {
     "name": "stderr",
     "output_type": "stream",
     "text": [
      " 14%|█▍        | 1431/10000 [00:04<00:19, 449.89it/s]"
     ]
    },
    {
     "name": "stdout",
     "output_type": "stream",
     "text": [
      "1359: accepted a cross-model jump! # components: 8 --> 7\n",
      "1367: accepted a cross-model jump! # components: 7 --> 6\n",
      "1416: accepted a cross-model jump! # components: 6 --> 5\n",
      "1445: accepted a cross-model jump! # components: 5 --> 4\n"
     ]
    },
    {
     "name": "stderr",
     "output_type": "stream",
     "text": [
      " 17%|█▋        | 1731/10000 [00:05<00:11, 702.39it/s]"
     ]
    },
    {
     "name": "stdout",
     "output_type": "stream",
     "text": [
      "1522: accepted a cross-model jump! # components: 4 --> 3\n",
      "1529: accepted a cross-model jump! # components: 3 --> 2\n",
      "1530: accepted a cross-model jump! # components: 2 --> 1\n"
     ]
    },
    {
     "name": "stderr",
     "output_type": "stream",
     "text": [
      "100%|██████████| 10000/10000 [00:11<00:00, 874.65it/s]\n"
     ]
    }
   ],
   "source": [
    "np.random.seed(1)\n",
    "init_n_components = 50\n",
    "init_means = np.random.randn(init_n_components)\n",
    "init_stdevs = np.random.rand(init_n_components) + 1\n",
    "init_weights = np.random.rand(init_n_components)\n",
    "init_weights /= np.sum(init_weights)\n",
    "init_theta = np.hstack([init_means, init_stdevs, init_weights])\n",
    "init_parents = [None] + list(range(init_n_components - 1))\n",
    "traj = rjmcmc_w_parents(init_theta, init_parents, n_steps=10000)"
   ]
  },
  {
   "cell_type": "code",
   "execution_count": 12,
   "metadata": {},
   "outputs": [
    {
     "data": {
      "image/png": "[encoded data removed]",
      "text/plain": [
       "<matplotlib.figure.Figure at 0x1100c31d0>"
      ]
     },
     "metadata": {},
     "output_type": "display_data"
    }
   ],
   "source": [
    "plt.plot([len(t[0]) / 3 for t in traj])\n",
    "plt.hlines(n_components, 0, len(traj), linestyles='--')\n",
    "plt.ylabel('# components')\n",
    "plt.xlabel('iteration')\n",
    "plt.xscale('log')"
   ]
  },
  {
   "cell_type": "code",
   "execution_count": 13,
   "metadata": {},
   "outputs": [],
   "source": [
    "log_posterior = np.array([flat_log_p(t[0]) for t in traj])\n",
    "log_prior = np.array([log_prior(t[0]) for t in traj])\n",
    "log_likelihood = log_posterior - log_prior"
   ]
  },
  {
   "cell_type": "code",
   "execution_count": 14,
   "metadata": {},
   "outputs": [
    {
     "data": {
      "image/png": "[encoded data removed]",
      "text/plain": [
       "<matplotlib.figure.Figure at 0x11fa56da0>"
      ]
     },
     "metadata": {},
     "output_type": "display_data"
    }
   ],
   "source": [
    "plt.plot(log_prior, label='prior')\n",
    "plt.plot(log_likelihood, label='likelihood')\n",
    "plt.plot(log_posterior, label='posterior')\n",
    "plt.legend(loc='best')\n",
    "plt.ylabel('log probability')\n",
    "plt.xlabel('iteration')\n",
    "plt.xscale('log')"
   ]
  },
  {
   "cell_type": "code",
   "execution_count": 15,
   "metadata": {},
   "outputs": [
    {
     "data": {
      "text/plain": [
       "(array([11.,  9.,  4.,  0.,  4.,  1.,  0.,  0.,  0.,  0.,  1.,  3., 20.,\n",
       "        39., 48., 35., 22.,  4., 12., 11.,  5.,  2., 40.,  0.,  0.,  0.,\n",
       "         9., 32., 36., 13.,  0.,  0.,  0.,  0.,  0.,  0.,  0.,  0.,  0.,\n",
       "         4.,  8., 17., 40., 23., 14.,  3.,  5.,  7.,  5., 13.]),\n",
       " array([-1.33657694, -1.21305093, -1.08952491, -0.9659989 , -0.84247289,\n",
       "        -0.71894687, -0.59542086, -0.47189484, -0.34836883, -0.22484281,\n",
       "        -0.1013168 ,  0.02220922,  0.14573523,  0.26926125,  0.39278726,\n",
       "         0.51631328,  0.63983929,  0.76336531,  0.88689132,  1.01041733,\n",
       "         1.13394335,  1.25746936,  1.38099538,  1.50452139,  1.62804741,\n",
       "         1.75157342,  1.87509944,  1.99862545,  2.12215147,  2.24567748,\n",
       "         2.3692035 ,  2.49272951,  2.61625553,  2.73978154,  2.86330755,\n",
       "         2.98683357,  3.11035958,  3.2338856 ,  3.35741161,  3.48093763,\n",
       "         3.60446364,  3.72798966,  3.85151567,  3.97504169,  4.0985677 ,\n",
       "         4.22209372,  4.34561973,  4.46914574,  4.59267176,  4.71619777,\n",
       "         4.83972379]),\n",
       " <a list of 50 Patch objects>)"
      ]
     },
     "execution_count": 15,
     "metadata": {},
     "output_type": "execute_result"
    },
    {
     "data": {
      "image/png": "[encoded data removed]",
      "text/plain": [
       "<matplotlib.figure.Figure at 0x1100c3668>"
      ]
     },
     "metadata": {},
     "output_type": "display_data"
    }
   ],
   "source": [
    "plt.hist(data, bins=50)"
   ]
  },
  {
   "cell_type": "code",
   "execution_count": 16,
   "metadata": {},
   "outputs": [],
   "source": [
    "# that looks like an issue: maybe my likelihood is implemented incorrectly?"
   ]
  },
  {
   "cell_type": "code",
   "execution_count": null,
   "metadata": {},
   "outputs": [],
   "source": []
  }
 ],
 "metadata": {
  "kernelspec": {
   "display_name": "Python 3",
   "language": "python",
   "name": "python3"
  },
  "language_info": {
   "codemirror_mode": {
    "name": "ipython",
    "version": 3
   },
   "file_extension": ".py",
   "mimetype": "text/x-python",
   "name": "python",
   "nbconvert_exporter": "python",
   "pygments_lexer": "ipython3",
   "version": "3.6.5"
  }
 },
 "nbformat": 4,
 "nbformat_minor": 2
}
