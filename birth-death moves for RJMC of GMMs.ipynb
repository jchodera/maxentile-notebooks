{
 "cells": [
  {
   "cell_type": "code",
   "execution_count": 1,
   "metadata": {},
   "outputs": [
    {
     "data": {
      "text/plain": [
       "([<matplotlib.axis.XTick at 0x11fbe2240>,\n",
       "  <matplotlib.axis.XTick at 0x11fbe24e0>,\n",
       "  <matplotlib.axis.XTick at 0x11fbed390>],\n",
       " <a list of 3 Text xticklabel objects>)"
      ]
     },
     "execution_count": 1,
     "metadata": {},
     "output_type": "execute_result"
    },
    {
     "data": {
      "image/png": "[encoded data removed]",
      "text/plain": [
       "<matplotlib.figure.Figure at 0x111a898d0>"
      ]
     },
     "metadata": {},
     "output_type": "display_data"
    }
   ],
   "source": [
    "# RJMC for GMMs:\n",
    "import matplotlib.pyplot as plt\n",
    "%matplotlib inline\n",
    "\n",
    "from autograd import numpy as np\n",
    "np.random.seed(0)\n",
    "from scipy.stats import norm\n",
    "from scipy.stats import dirichlet\n",
    "from scipy.special import logsumexp\n",
    "\n",
    "def gaussian_mixture_log_likelihood(X, means, stdevs, weights):\n",
    "    component_log_pdfs = np.array([norm.logpdf(X, loc=mean, scale=stdev) + np.log(weight) for ((mean, stdev), weight) in zip(zip(means, stdevs), weights)])\n",
    "    return np.sum(logsumexp(component_log_pdfs, 0))\n",
    "\n",
    "from scipy.stats import norm, invgamma\n",
    "from scipy.special import logsumexp\n",
    "\n",
    "def unpack(theta):\n",
    "    assert(len(theta) % 3 == 0)\n",
    "    n = int(len(theta) / 3)\n",
    "    means, stdevs, weights = np.array(theta[:n]), np.array(theta[n:2*n]), np.array(theta[2*n:])\n",
    "    return means, stdevs, weights\n",
    "\n",
    "def log_prior(theta):\n",
    "    means, stdevs, weights = unpack(theta)\n",
    "    log_prior_on_means = np.sum(norm.logpdf(means, scale=20))\n",
    "    log_prior_on_variances = np.sum(invgamma.logpdf((stdevs**2), 1.0))\n",
    "    #log_prior_on_weights = dirichlet.logpdf(weights, np.ones(len(weights)))\n",
    "    #log_prior_on_weights = np.sum(np.log(weights))\n",
    "    log_prior_on_weights = 0 # removing the prior on weights to see if this is the culprit...\n",
    "    return log_prior_on_means + log_prior_on_variances + log_prior_on_weights\n",
    "\n",
    "def flat_log_p(theta):\n",
    "    means, stdevs, weights = unpack(theta)\n",
    "    if np.min(stdevs) <= 0.001: return - np.inf\n",
    "    log_likelihood = gaussian_mixture_log_likelihood(X=data, means=means,\n",
    "                                           stdevs=stdevs,\n",
    "                                           weights=weights)\n",
    "    \n",
    "    return log_likelihood + log_prior(theta)\n",
    "\n",
    "#n_components = 10\n",
    "#true_means = np.random.rand(n_components) * 10 - 5\n",
    "#true_stdevs = np.random.rand(n_components) * 0.2\n",
    "#true_weights = np.random.rand(n_components)**2\n",
    "#true_weights /= np.sum(true_weights)\n",
    "\n",
    "n_data = 300\n",
    "data = np.zeros(n_data)\n",
    "#for i in range(n_data):\n",
    "#    component = np.random.choice(np.arange(n_components), p=true_weights)\n",
    "#    #component = np.random.randint(n_components)\n",
    "#    data[i] = norm.rvs(loc=true_means[component], scale=true_stdevs[component])\n",
    "\n",
    "n_components = 3\n",
    "true_means = [-5.0,0.0,5.0]\n",
    "true_stdevs = np.ones(n_components)\n",
    "true_weights = np.ones(n_components) / n_components\n",
    "n_data = 300\n",
    "data = np.zeros(n_data)\n",
    "for i in range(n_data):\n",
    "    component = np.random.randint(n_components)\n",
    "    data[i] = norm.rvs(loc=true_means[component], scale=true_stdevs[component])\n",
    "\n",
    "\n",
    "plt.figure(figsize=(6,6))\n",
    "\n",
    "ax = plt.subplot(111)\n",
    "    \n",
    "plt.hist(data, bins=50, normed=True, alpha=0.5);\n",
    "x = np.linspace(-8,8, 1000)\n",
    "y_tot = np.zeros(x.shape)\n",
    "for i in range(n_components):\n",
    "    \n",
    "    y = norm.pdf(x, loc=true_means[i], scale=true_stdevs[i]) * true_weights[i]\n",
    "    plt.plot(x, y, '--', color='grey',)\n",
    "    plt.fill_between(x, y, color='grey' ,alpha=0.2)\n",
    "    y_tot += y\n",
    "plt.plot(x,y_tot, color='blue',)\n",
    "plt.yticks([])\n",
    "\n",
    "ax.spines['right'].set_visible(False)\n",
    "ax.spines['top'].set_visible(False)\n",
    "\n",
    "plt.title(\"data: {} points sampled from {} mixture components\".format(n_data, n_components))\n",
    "plt.ylabel('probability density')\n",
    "plt.xlabel('x')\n",
    "plt.xticks([-8,0,8])"
   ]
  },
  {
   "cell_type": "code",
   "execution_count": 2,
   "metadata": {},
   "outputs": [
    {
     "data": {
      "text/plain": [
       "(-0.2432734349279617, 4.293462995108555)"
      ]
     },
     "execution_count": 2,
     "metadata": {},
     "output_type": "execute_result"
    }
   ],
   "source": [
    "np.mean(data), np.std(data)"
   ]
  },
  {
   "cell_type": "code",
   "execution_count": 3,
   "metadata": {},
   "outputs": [],
   "source": [
    "max_components = 50\n",
    "mean_perturbation_scale = 1.0\n",
    "stdev_perturbation_scale = 1.0\n",
    "\n",
    "def reversible_birth_death_move(theta, parents):\n",
    "    \n",
    "    means, stdevs, weights = unpack(theta)\n",
    "    means, stdevs, weights = map(np.array, (means, stdevs, weights))\n",
    "    \n",
    "    sum_weights_before = np.sum(weights)\n",
    "    n_components = len(means)\n",
    "    \n",
    "    # decide whether to create a new \n",
    "    if n_components == 1:\n",
    "        birth_probability = 1.0\n",
    "    elif n_components == max_components:\n",
    "        birth_probability = 0.0\n",
    "    else:\n",
    "        birth_probability = 0.5\n",
    "    death_probability = 1.0 - birth_probability\n",
    "    \n",
    "    if np.random.rand() < birth_probability:\n",
    "        (means, stdevs, weights, parents_prime), log_jac_u_term = reversible_birth_move(means, stdevs, weights, parents)\n",
    "    else:\n",
    "        (means, stdevs, weights, parents_prime), log_jac_u_term = reversible_death_move(means, stdevs, weights, parents)\n",
    "    assert(len(means) == len(stdevs))\n",
    "    theta_prime = np.array(means + stdevs + weights)\n",
    "    \n",
    "    sum_weights_after = np.sum(weights)\n",
    "    assert(np.isclose(sum_weights_before, sum_weights_after))\n",
    "    return theta_prime, parents_prime, log_jac_u_term\n",
    "    \n",
    "from scipy.stats import uniform, norm\n",
    "u_1_distribution = uniform(0, 1)\n",
    "u_2_distribution = norm(0, 1)\n",
    "u_3_distribution = norm(0, 1)\n",
    "\n",
    "\n",
    "def reversible_birth_move(means, stdevs, weights, parents):\n",
    "    # make local copies to be extra sure we're not accidentally overwriting...\n",
    "    means, stdevs, weights, parents = map(list, (means, stdevs, weights, parents))\n",
    "    \n",
    "    # draw all the random numbers we're going to use\n",
    "    i = np.random.randint(len(means)) # choose a parent component at random\n",
    "    u_1 = u_1_distribution.rvs()\n",
    "    u_2 = u_2_distribution.rvs()\n",
    "    u_3 = u_3_distribution.rvs()\n",
    "    \n",
    "    # compute the log probability density of all the random numbers we drew\n",
    "    log_prob_u = np.log(1.0 / len(means)) + u_1_distribution.logpdf(u_1) + u_2_distribution.logpdf(u_2) + u_3_distribution.logpdf(u_3)\n",
    "    \n",
    "    # compute the parameters of the new mixture component\n",
    "    weight_new = weights[i] * u_1\n",
    "    mean_new = (u_2 * mean_perturbation_scale) + means[i]\n",
    "    stdev_new = (u_3 * stdev_perturbation_scale) + stdevs[i]\n",
    "    \n",
    "    # compute log determinant of the jacobian\n",
    "    log_jacobian_determinant = np.log(weights[i]) + np.log(mean_perturbation_scale) + np.log(stdev_perturbation_scale)\n",
    "    \n",
    "    # subtract the new mixture component's weight from its parent\n",
    "    weights[i] -= weight_new\n",
    "    \n",
    "    # update means, stdevs, weights, parents\n",
    "    means.append(mean_new)\n",
    "    stdevs.append(stdev_new)\n",
    "    weights.append(weight_new)\n",
    "    parents.append(i)\n",
    "    \n",
    "    return (means, stdevs, weights, parents), (log_jacobian_determinant - log_prob_u)\n",
    "    \n",
    "def reversible_death_move(means, stdevs, weights, parents):\n",
    "    # make local copies to be extra sure we're not accidentally overwriting...\n",
    "    means, stdevs, weights, parents = map(list, (means, stdevs, weights, parents))\n",
    "    \n",
    "    # draw all the random numbers we're going to use\n",
    "    i = np.random.randint(1, len(means)) # choose a component at random to remove, except component 0\n",
    "    \n",
    "    # compute the log probability density of all the random numbers we drew\n",
    "    log_prob_u = np.log(1.0 / (len(means) - 1))\n",
    "    \n",
    "    # and also the log probability density of the random numbers we would have drawn?\n",
    "    weight_new = weights[i]\n",
    "    mean_new = means[i]\n",
    "    stdev_new = stdevs[i]\n",
    "    u_1 = weight_new / weights[parents[i]]\n",
    "    u_2 = (mean_new - means[parents[i]] ) / mean_perturbation_scale\n",
    "    u_3 = (stdev_new - stdevs[parents[i]]) / stdev_perturbation_scale\n",
    "    log_prob_u += u_1_distribution.logpdf(u_1) + u_2_distribution.logpdf(u_2) + u_3_distribution.logpdf(u_3)\n",
    "    \n",
    "    # also I think we need to compute the jacobian determinant of the inverse\n",
    "    inv_log_jacobian_determinant = np.log(weights[parents[i]]) + np.log(mean_perturbation_scale) + np.log(stdev_perturbation_scale)\n",
    "    log_jacobian_determinant = - inv_log_jacobian_determinant\n",
    "    \n",
    "    # remove this mixture component, and re-allocate its weight to its parent\n",
    "    weights[parents[i]] += weights[i]\n",
    "    \n",
    "    # update the parent list, so that any j whose parent just got deleted is assigned a new parent\n",
    "    for j in range(1, len(parents)):\n",
    "        if parents[j] == i:\n",
    "            parents[j] = parents[i]\n",
    "            \n",
    "    # wait, this is almost certainly wrong, because the indices will change...\n",
    "    _ = means.pop(i)\n",
    "    _ = stdevs.pop(i)\n",
    "    _ = weights.pop(i)\n",
    "    _ = parents.pop(i)\n",
    "    \n",
    "    # fix indices\n",
    "    for j in range(1, len(parents)):\n",
    "        if parents[j] > i:\n",
    "            parents[j] -= 1\n",
    "    \n",
    "    return (means, stdevs, weights, parents), (log_jacobian_determinant - log_prob_u)\n",
    "\n",
    "from tqdm import tqdm\n",
    "def rjmcmc_w_parents(theta, parents, n_steps=10000):\n",
    "    \n",
    "    traj = [(theta, parents)]\n",
    "    old_log_p = flat_log_p(theta)\n",
    "    acceptance_probabilities = []\n",
    "    \n",
    "    for t in tqdm(range(n_steps)):\n",
    "        # generate proposal\n",
    "        if np.random.rand() < 0.9:\n",
    "            theta_prime, parents_prime, log_jac_u_term = reversible_birth_death_move(theta, parents)\n",
    "        else:\n",
    "            theta_prime = np.array(theta)\n",
    "            \n",
    "            n = int(len(theta) / 3)\n",
    "            \n",
    "            # different proposal sizes for mean, stdev, weight\n",
    "            theta_prime[:n] += np.random.randn(n) * 0.1\n",
    "            theta_prime[n:2*n] += np.random.randn(n) * 0.01\n",
    "            theta_prime[2*n:] += np.random.randn(n) * 0.01\n",
    "            \n",
    "            # make sure the standard deviations are okay\n",
    "            theta_prime[n:2*n] = np.abs(theta_prime[2*n:])\n",
    "            \n",
    "            \n",
    "            # make sure the weights are okay\n",
    "            theta_prime[2*n:] = np.abs(theta_prime[2*n:])\n",
    "            while not np.isclose(np.sum(theta_prime[2*n:]), 1.0):\n",
    "                theta_prime[2*n:] = theta_prime[2*n:] / np.sum(theta_prime[2*n:])\n",
    "            #assert(np.max(theta_prime[2*n:]) <= 1)\n",
    "            #assert(np.max(theta_prime[2*n:]) >= 0)\n",
    "            #assert(np.sum(theta_prime[2*n:] == 1.0))\n",
    "            # hacky fix: otherwise this always will raise:\n",
    "            # ValueError: The input vector 'x' must lie within the normal simplex. but np.sum(x, 0) = 0.946... or similar\n",
    "            \n",
    "            # and sometimes also raise:\n",
    "            #ValueError: Each entry in 'x' must be greater than zero.\n",
    "            \n",
    "            parents_prime = parents\n",
    "            log_jac_u_term = 0.0\n",
    "           \n",
    "        \n",
    "        new_log_p = flat_log_p(theta_prime)\n",
    "        log_prob_ratio = new_log_p - old_log_p\n",
    "        if not np.isfinite(new_log_p):\n",
    "            A = 0\n",
    "            #print(RuntimeWarning(\"new_log_p isn't finite: theta = {}, parents = {}\".format(theta_prime, parents_prime)))\n",
    "        else:\n",
    "            A = min(1.0, np.exp(log_prob_ratio + log_jac_u_term))\n",
    "    \n",
    "        if np.random.rand() < A:\n",
    "            theta = theta_prime\n",
    "            parents = parents_prime\n",
    "            old_log_p = new_log_p\n",
    "            \n",
    "            if len(theta) != len(traj[-1][0]):\n",
    "                prev_dim = int(len(traj[-1][0]) / 3)\n",
    "                current_dim = int(len(theta) / 3)\n",
    "                assert(len(theta) % 3 == 0)\n",
    "\n",
    "                print('{}: accepted a cross-model jump! # components: {} --> {}'.format(t, prev_dim, current_dim))\n",
    "        traj.append((theta, parents))\n",
    "        acceptance_probabilities.append(A)\n",
    "    return traj, acceptance_probabilities"
   ]
  },
  {
   "cell_type": "code",
   "execution_count": 4,
   "metadata": {},
   "outputs": [
    {
     "name": "stderr",
     "output_type": "stream",
     "text": [
      "  0%|          | 336/100000 [00:00<02:00, 829.21it/s]"
     ]
    },
    {
     "name": "stdout",
     "output_type": "stream",
     "text": [
      "164: accepted a cross-model jump! # components: 1 --> 2\n",
      "171: accepted a cross-model jump! # components: 2 --> 1\n"
     ]
    },
    {
     "name": "stderr",
     "output_type": "stream",
     "text": [
      "  2%|▏         | 2214/100000 [00:02<02:02, 799.63it/s]"
     ]
    },
    {
     "name": "stdout",
     "output_type": "stream",
     "text": [
      "2124: accepted a cross-model jump! # components: 1 --> 2\n",
      "2125: accepted a cross-model jump! # components: 2 --> 1\n"
     ]
    },
    {
     "name": "stderr",
     "output_type": "stream",
     "text": [
      "  4%|▍         | 3903/100000 [00:04<02:04, 774.41it/s]"
     ]
    },
    {
     "name": "stdout",
     "output_type": "stream",
     "text": [
      "3791: accepted a cross-model jump! # components: 1 --> 2\n",
      "3792: accepted a cross-model jump! # components: 2 --> 1\n"
     ]
    },
    {
     "name": "stderr",
     "output_type": "stream",
     "text": [
      "  7%|▋         | 7143/100000 [00:08<01:49, 845.27it/s]"
     ]
    },
    {
     "name": "stdout",
     "output_type": "stream",
     "text": [
      "6982: accepted a cross-model jump! # components: 1 --> 2\n",
      "6984: accepted a cross-model jump! # components: 2 --> 1\n"
     ]
    },
    {
     "name": "stderr",
     "output_type": "stream",
     "text": [
      "  8%|▊         | 7562/100000 [00:09<01:52, 819.98it/s]"
     ]
    },
    {
     "name": "stdout",
     "output_type": "stream",
     "text": [
      "7416: accepted a cross-model jump! # components: 1 --> 2\n",
      "7419: accepted a cross-model jump! # components: 2 --> 1\n",
      "7487: accepted a cross-model jump! # components: 1 --> 2\n",
      "7490: accepted a cross-model jump! # components: 2 --> 1\n"
     ]
    },
    {
     "name": "stderr",
     "output_type": "stream",
     "text": [
      " 12%|█▏        | 12029/100000 [00:14<01:44, 844.59it/s]"
     ]
    },
    {
     "name": "stdout",
     "output_type": "stream",
     "text": [
      "11863: accepted a cross-model jump! # components: 1 --> 2\n",
      "11865: accepted a cross-model jump! # components: 2 --> 1\n"
     ]
    },
    {
     "name": "stderr",
     "output_type": "stream",
     "text": [
      " 15%|█▌        | 15491/100000 [00:18<01:39, 846.11it/s]"
     ]
    },
    {
     "name": "stdout",
     "output_type": "stream",
     "text": [
      "15325: accepted a cross-model jump! # components: 1 --> 2\n",
      "15326: accepted a cross-model jump! # components: 2 --> 1\n"
     ]
    },
    {
     "name": "stderr",
     "output_type": "stream",
     "text": [
      " 16%|█▌        | 15660/100000 [00:18<01:44, 809.78it/s]"
     ]
    },
    {
     "name": "stdout",
     "output_type": "stream",
     "text": [
      "15508: accepted a cross-model jump! # components: 1 --> 2\n",
      "15510: accepted a cross-model jump! # components: 2 --> 1\n"
     ]
    },
    {
     "name": "stderr",
     "output_type": "stream",
     "text": [
      " 17%|█▋        | 16845/100000 [00:20<01:38, 847.78it/s]"
     ]
    },
    {
     "name": "stdout",
     "output_type": "stream",
     "text": [
      "16736: accepted a cross-model jump! # components: 1 --> 2\n",
      "16738: accepted a cross-model jump! # components: 2 --> 1\n"
     ]
    },
    {
     "name": "stderr",
     "output_type": "stream",
     "text": [
      " 17%|█▋        | 17264/100000 [00:20<01:40, 825.27it/s]"
     ]
    },
    {
     "name": "stdout",
     "output_type": "stream",
     "text": [
      "17138: accepted a cross-model jump! # components: 1 --> 2\n",
      "17141: accepted a cross-model jump! # components: 2 --> 1\n",
      "17192: accepted a cross-model jump! # components: 1 --> 2\n",
      "17197: accepted a cross-model jump! # components: 2 --> 1\n"
     ]
    },
    {
     "name": "stderr",
     "output_type": "stream",
     "text": [
      " 20%|█▉        | 19704/100000 [00:23<01:42, 785.03it/s]"
     ]
    },
    {
     "name": "stdout",
     "output_type": "stream",
     "text": [
      "19571: accepted a cross-model jump! # components: 1 --> 2\n",
      "19573: accepted a cross-model jump! # components: 2 --> 1\n"
     ]
    },
    {
     "name": "stderr",
     "output_type": "stream",
     "text": [
      " 24%|██▎       | 23652/100000 [00:28<01:31, 834.87it/s]"
     ]
    },
    {
     "name": "stdout",
     "output_type": "stream",
     "text": [
      "23501: accepted a cross-model jump! # components: 1 --> 2\n",
      "23504: accepted a cross-model jump! # components: 2 --> 1\n"
     ]
    },
    {
     "name": "stderr",
     "output_type": "stream",
     "text": [
      " 24%|██▍       | 23816/100000 [00:28<01:36, 789.58it/s]"
     ]
    },
    {
     "name": "stdout",
     "output_type": "stream",
     "text": [
      "23685: accepted a cross-model jump! # components: 1 --> 2\n",
      "23686: accepted a cross-model jump! # components: 2 --> 1\n"
     ]
    },
    {
     "name": "stderr",
     "output_type": "stream",
     "text": [
      " 25%|██▍       | 24570/100000 [00:29<01:30, 832.80it/s]"
     ]
    },
    {
     "name": "stdout",
     "output_type": "stream",
     "text": [
      "24424: accepted a cross-model jump! # components: 1 --> 2\n",
      "24425: accepted a cross-model jump! # components: 2 --> 1\n"
     ]
    },
    {
     "name": "stderr",
     "output_type": "stream",
     "text": [
      " 25%|██▌       | 25157/100000 [00:30<01:29, 833.28it/s]"
     ]
    },
    {
     "name": "stdout",
     "output_type": "stream",
     "text": [
      "24989: accepted a cross-model jump! # components: 1 --> 2\n",
      "24992: accepted a cross-model jump! # components: 2 --> 1\n"
     ]
    },
    {
     "name": "stderr",
     "output_type": "stream",
     "text": [
      " 25%|██▌       | 25495/100000 [00:31<01:29, 832.55it/s]"
     ]
    },
    {
     "name": "stdout",
     "output_type": "stream",
     "text": [
      "25405: accepted a cross-model jump! # components: 1 --> 2\n",
      "25406: accepted a cross-model jump! # components: 2 --> 1\n"
     ]
    },
    {
     "name": "stderr",
     "output_type": "stream",
     "text": [
      " 28%|██▊       | 28195/100000 [00:34<01:27, 822.66it/s]"
     ]
    },
    {
     "name": "stdout",
     "output_type": "stream",
     "text": [
      "28098: accepted a cross-model jump! # components: 1 --> 2\n",
      "28099: accepted a cross-model jump! # components: 2 --> 1\n"
     ]
    },
    {
     "name": "stderr",
     "output_type": "stream",
     "text": [
      " 29%|██▉       | 29111/100000 [00:35<01:26, 819.86it/s]"
     ]
    },
    {
     "name": "stdout",
     "output_type": "stream",
     "text": [
      "28969: accepted a cross-model jump! # components: 1 --> 2\n",
      "28970: accepted a cross-model jump! # components: 2 --> 1\n"
     ]
    },
    {
     "name": "stderr",
     "output_type": "stream",
     "text": [
      " 31%|███       | 30785/100000 [00:37<01:24, 817.53it/s]"
     ]
    },
    {
     "name": "stdout",
     "output_type": "stream",
     "text": [
      "30677: accepted a cross-model jump! # components: 1 --> 2\n",
      "30679: accepted a cross-model jump! # components: 2 --> 1\n"
     ]
    },
    {
     "name": "stderr",
     "output_type": "stream",
     "text": [
      " 31%|███       | 31117/100000 [00:37<01:25, 805.00it/s]"
     ]
    },
    {
     "name": "stdout",
     "output_type": "stream",
     "text": [
      "31031: accepted a cross-model jump! # components: 1 --> 2\n",
      "31032: accepted a cross-model jump! # components: 2 --> 1\n"
     ]
    },
    {
     "name": "stderr",
     "output_type": "stream",
     "text": [
      " 32%|███▏      | 31536/100000 [00:38<01:22, 826.18it/s]"
     ]
    },
    {
     "name": "stdout",
     "output_type": "stream",
     "text": [
      "31416: accepted a cross-model jump! # components: 1 --> 2\n",
      "31419: accepted a cross-model jump! # components: 2 --> 1\n"
     ]
    },
    {
     "name": "stderr",
     "output_type": "stream",
     "text": [
      " 32%|███▏      | 32445/100000 [00:39<01:23, 813.82it/s]"
     ]
    },
    {
     "name": "stdout",
     "output_type": "stream",
     "text": [
      "32295: accepted a cross-model jump! # components: 1 --> 2\n",
      "32296: accepted a cross-model jump! # components: 2 --> 1\n"
     ]
    },
    {
     "name": "stderr",
     "output_type": "stream",
     "text": [
      " 34%|███▎      | 33701/100000 [00:41<01:21, 808.97it/s]"
     ]
    },
    {
     "name": "stdout",
     "output_type": "stream",
     "text": [
      "33597: accepted a cross-model jump! # components: 1 --> 2\n",
      "33600: accepted a cross-model jump! # components: 2 --> 1\n"
     ]
    },
    {
     "name": "stderr",
     "output_type": "stream",
     "text": [
      " 37%|███▋      | 37477/100000 [00:45<01:17, 811.66it/s]"
     ]
    },
    {
     "name": "stdout",
     "output_type": "stream",
     "text": [
      "37354: accepted a cross-model jump! # components: 1 --> 2\n",
      "37355: accepted a cross-model jump! # components: 2 --> 1\n"
     ]
    },
    {
     "name": "stderr",
     "output_type": "stream",
     "text": [
      " 38%|███▊      | 37640/100000 [00:46<01:18, 797.71it/s]"
     ]
    },
    {
     "name": "stdout",
     "output_type": "stream",
     "text": [
      "37558: accepted a cross-model jump! # components: 1 --> 2\n",
      "37559: accepted a cross-model jump! # components: 2 --> 1\n"
     ]
    },
    {
     "name": "stderr",
     "output_type": "stream",
     "text": [
      " 39%|███▉      | 39274/100000 [00:48<01:20, 749.96it/s]"
     ]
    },
    {
     "name": "stdout",
     "output_type": "stream",
     "text": [
      "39198: accepted a cross-model jump! # components: 1 --> 2\n",
      "39199: accepted a cross-model jump! # components: 2 --> 1\n"
     ]
    },
    {
     "name": "stderr",
     "output_type": "stream",
     "text": [
      " 40%|████      | 40269/100000 [00:49<01:12, 823.52it/s]"
     ]
    },
    {
     "name": "stdout",
     "output_type": "stream",
     "text": [
      "40167: accepted a cross-model jump! # components: 1 --> 2\n",
      "40171: accepted a cross-model jump! # components: 2 --> 1\n"
     ]
    },
    {
     "name": "stderr",
     "output_type": "stream",
     "text": [
      " 46%|████▌     | 45933/100000 [00:56<01:05, 829.35it/s]"
     ]
    },
    {
     "name": "stdout",
     "output_type": "stream",
     "text": [
      "45802: accepted a cross-model jump! # components: 1 --> 2\n",
      "45803: accepted a cross-model jump! # components: 2 --> 1\n"
     ]
    },
    {
     "name": "stderr",
     "output_type": "stream",
     "text": [
      " 47%|████▋     | 47303/100000 [00:57<01:03, 836.38it/s]"
     ]
    },
    {
     "name": "stdout",
     "output_type": "stream",
     "text": [
      "47168: accepted a cross-model jump! # components: 1 --> 2\n",
      "47169: accepted a cross-model jump! # components: 2 --> 1\n",
      "47333: accepted a cross-model jump! # components: 1 --> 2\n",
      "47337: accepted a cross-model jump! # components: 2 --> 1"
     ]
    },
    {
     "name": "stderr",
     "output_type": "stream",
     "text": [
      " 50%|████▉     | 49701/100000 [01:00<01:00, 828.39it/s]"
     ]
    },
    {
     "name": "stdout",
     "output_type": "stream",
     "text": [
      "\n",
      "49566: accepted a cross-model jump! # components: 1 --> 2\n",
      "49570: accepted a cross-model jump! # components: 2 --> 1\n"
     ]
    },
    {
     "name": "stderr",
     "output_type": "stream",
     "text": [
      " 52%|█████▏    | 51505/100000 [01:02<00:58, 830.35it/s]"
     ]
    },
    {
     "name": "stdout",
     "output_type": "stream",
     "text": [
      "51411: accepted a cross-model jump! # components: 1 --> 2\n",
      "51412: accepted a cross-model jump! # components: 2 --> 1\n",
      "51537: accepted a cross-model jump! # components: 1 --> 2\n",
      "51538: accepted a cross-model jump! # components: 2 --> 1\n"
     ]
    },
    {
     "name": "stderr",
     "output_type": "stream",
     "text": [
      " 53%|█████▎    | 52541/100000 [01:03<00:54, 865.91it/s]"
     ]
    },
    {
     "name": "stdout",
     "output_type": "stream",
     "text": [
      "52425: accepted a cross-model jump! # components: 1 --> 2\n",
      "52427: accepted a cross-model jump! # components: 2 --> 1\n",
      "52545: accepted a cross-model jump! # components: 1 --> 2\n",
      "52546: accepted a cross-model jump! # components: 2 --> 1\n"
     ]
    },
    {
     "name": "stderr",
     "output_type": "stream",
     "text": [
      " 53%|█████▎    | 53058/100000 [01:04<00:55, 844.36it/s]"
     ]
    },
    {
     "name": "stdout",
     "output_type": "stream",
     "text": [
      "52895: accepted a cross-model jump! # components: 1 --> 2\n",
      "52897: accepted a cross-model jump! # components: 2 --> 1\n",
      "53063: accepted a cross-model jump! # components: 1 --> 2\n"
     ]
    },
    {
     "name": "stderr",
     "output_type": "stream",
     "text": [
      " 54%|█████▎    | 53568/100000 [01:05<00:55, 833.45it/s]"
     ]
    },
    {
     "name": "stdout",
     "output_type": "stream",
     "text": [
      "53064: accepted a cross-model jump! # components: 2 --> 1\n",
      "53401: accepted a cross-model jump! # components: 1 --> 2\n",
      "53402: accepted a cross-model jump! # components: 2 --> 1\n"
     ]
    },
    {
     "name": "stderr",
     "output_type": "stream",
     "text": [
      " 54%|█████▍    | 53904/100000 [01:05<00:55, 830.52it/s]"
     ]
    },
    {
     "name": "stdout",
     "output_type": "stream",
     "text": [
      "53804: accepted a cross-model jump! # components: 1 --> 2\n",
      "53805: accepted a cross-model jump! # components: 2 --> 1\n"
     ]
    },
    {
     "name": "stderr",
     "output_type": "stream",
     "text": [
      " 62%|██████▏   | 61675/100000 [01:15<00:48, 792.39it/s]"
     ]
    },
    {
     "name": "stdout",
     "output_type": "stream",
     "text": [
      "61577: accepted a cross-model jump! # components: 1 --> 2\n",
      "61580: accepted a cross-model jump! # components: 2 --> 1\n"
     ]
    },
    {
     "name": "stderr",
     "output_type": "stream",
     "text": [
      " 64%|██████▍   | 64160/100000 [01:18<00:44, 807.06it/s]"
     ]
    },
    {
     "name": "stdout",
     "output_type": "stream",
     "text": [
      "64072: accepted a cross-model jump! # components: 1 --> 2\n",
      "64073: accepted a cross-model jump! # components: 2 --> 1\n"
     ]
    },
    {
     "name": "stderr",
     "output_type": "stream",
     "text": [
      " 65%|██████▍   | 64731/100000 [01:19<00:43, 801.69it/s]"
     ]
    },
    {
     "name": "stdout",
     "output_type": "stream",
     "text": [
      "64597: accepted a cross-model jump! # components: 1 --> 2\n",
      "64600: accepted a cross-model jump! # components: 2 --> 1\n"
     ]
    },
    {
     "name": "stderr",
     "output_type": "stream",
     "text": [
      " 69%|██████▉   | 68833/100000 [01:24<00:39, 789.96it/s]"
     ]
    },
    {
     "name": "stdout",
     "output_type": "stream",
     "text": [
      "68714: accepted a cross-model jump! # components: 1 --> 2\n",
      "68717: accepted a cross-model jump! # components: 2 --> 1\n"
     ]
    },
    {
     "name": "stderr",
     "output_type": "stream",
     "text": [
      " 69%|██████▉   | 69070/100000 [01:24<00:40, 772.08it/s]"
     ]
    },
    {
     "name": "stdout",
     "output_type": "stream",
     "text": [
      "68958: accepted a cross-model jump! # components: 1 --> 2\n",
      "68963: accepted a cross-model jump! # components: 2 --> 1\n"
     ]
    },
    {
     "name": "stderr",
     "output_type": "stream",
     "text": [
      " 70%|███████   | 70267/100000 [01:26<00:39, 756.27it/s]"
     ]
    },
    {
     "name": "stdout",
     "output_type": "stream",
     "text": [
      "70194: accepted a cross-model jump! # components: 1 --> 2\n",
      "70197: accepted a cross-model jump! # components: 2 --> 1\n"
     ]
    },
    {
     "name": "stderr",
     "output_type": "stream",
     "text": [
      " 72%|███████▏  | 72456/100000 [01:28<00:35, 770.43it/s]"
     ]
    },
    {
     "name": "stdout",
     "output_type": "stream",
     "text": [
      "72314: accepted a cross-model jump! # components: 1 --> 2\n",
      "72317: accepted a cross-model jump! # components: 2 --> 1\n"
     ]
    },
    {
     "name": "stderr",
     "output_type": "stream",
     "text": [
      " 75%|███████▌  | 75040/100000 [01:32<00:31, 803.49it/s]"
     ]
    },
    {
     "name": "stdout",
     "output_type": "stream",
     "text": [
      "74888: accepted a cross-model jump! # components: 1 --> 2\n",
      "74890: accepted a cross-model jump! # components: 2 --> 1\n"
     ]
    },
    {
     "name": "stderr",
     "output_type": "stream",
     "text": [
      " 79%|███████▉  | 79079/100000 [01:37<00:28, 733.41it/s]"
     ]
    },
    {
     "name": "stdout",
     "output_type": "stream",
     "text": [
      "78975: accepted a cross-model jump! # components: 1 --> 2\n",
      "78976: accepted a cross-model jump! # components: 2 --> 1\n"
     ]
    },
    {
     "name": "stderr",
     "output_type": "stream",
     "text": [
      " 80%|███████▉  | 79603/100000 [01:38<00:28, 726.56it/s]"
     ]
    },
    {
     "name": "stdout",
     "output_type": "stream",
     "text": [
      "79495: accepted a cross-model jump! # components: 1 --> 2\n",
      "79496: accepted a cross-model jump! # components: 2 --> 1\n"
     ]
    },
    {
     "name": "stderr",
     "output_type": "stream",
     "text": [
      " 85%|████████▌ | 85000/100000 [01:45<00:20, 717.82it/s]"
     ]
    },
    {
     "name": "stdout",
     "output_type": "stream",
     "text": [
      "84911: accepted a cross-model jump! # components: 1 --> 2\n",
      "84913: accepted a cross-model jump! # components: 2 --> 1\n"
     ]
    },
    {
     "name": "stderr",
     "output_type": "stream",
     "text": [
      " 86%|████████▌ | 85641/100000 [01:46<00:20, 693.11it/s]"
     ]
    },
    {
     "name": "stdout",
     "output_type": "stream",
     "text": [
      "85507: accepted a cross-model jump! # components: 1 --> 2\n",
      "85512: accepted a cross-model jump! # components: 2 --> 1\n"
     ]
    },
    {
     "name": "stderr",
     "output_type": "stream",
     "text": [
      " 91%|█████████▏| 91464/100000 [01:55<00:15, 566.55it/s]"
     ]
    },
    {
     "name": "stdout",
     "output_type": "stream",
     "text": [
      "91382: accepted a cross-model jump! # components: 1 --> 2\n",
      "91384: accepted a cross-model jump! # components: 2 --> 1\n"
     ]
    },
    {
     "name": "stderr",
     "output_type": "stream",
     "text": [
      " 92%|█████████▏| 91860/100000 [01:56<00:14, 543.11it/s]"
     ]
    },
    {
     "name": "stdout",
     "output_type": "stream",
     "text": [
      "91763: accepted a cross-model jump! # components: 1 --> 2\n",
      "91765: accepted a cross-model jump! # components: 2 --> 1\n"
     ]
    },
    {
     "name": "stderr",
     "output_type": "stream",
     "text": [
      " 94%|█████████▍| 93759/100000 [01:59<00:10, 623.80it/s]"
     ]
    },
    {
     "name": "stdout",
     "output_type": "stream",
     "text": [
      "93665: accepted a cross-model jump! # components: 1 --> 2\n",
      "93667: accepted a cross-model jump! # components: 2 --> 1\n"
     ]
    },
    {
     "name": "stderr",
     "output_type": "stream",
     "text": [
      " 94%|█████████▍| 93887/100000 [01:59<00:09, 618.51it/s]"
     ]
    },
    {
     "name": "stdout",
     "output_type": "stream",
     "text": [
      "93821: accepted a cross-model jump! # components: 1 --> 2\n",
      "93824: accepted a cross-model jump! # components: 2 --> 1\n"
     ]
    },
    {
     "name": "stderr",
     "output_type": "stream",
     "text": [
      " 95%|█████████▌| 95047/100000 [02:01<00:08, 614.32it/s]"
     ]
    },
    {
     "name": "stdout",
     "output_type": "stream",
     "text": [
      "94976: accepted a cross-model jump! # components: 1 --> 2\n",
      "94984: accepted a cross-model jump! # components: 2 --> 1\n"
     ]
    },
    {
     "name": "stderr",
     "output_type": "stream",
     "text": [
      " 95%|█████████▌| 95371/100000 [02:01<00:07, 605.26it/s]"
     ]
    },
    {
     "name": "stdout",
     "output_type": "stream",
     "text": [
      "95323: accepted a cross-model jump! # components: 1 --> 2\n",
      "95328: accepted a cross-model jump! # components: 2 --> 1\n"
     ]
    },
    {
     "name": "stderr",
     "output_type": "stream",
     "text": [
      " 96%|█████████▋| 96273/100000 [02:03<00:06, 610.00it/s]"
     ]
    },
    {
     "name": "stdout",
     "output_type": "stream",
     "text": [
      "96210: accepted a cross-model jump! # components: 1 --> 2\n",
      "96215: accepted a cross-model jump! # components: 2 --> 1\n"
     ]
    },
    {
     "name": "stderr",
     "output_type": "stream",
     "text": [
      " 98%|█████████▊| 97544/100000 [02:05<00:03, 676.91it/s]"
     ]
    },
    {
     "name": "stdout",
     "output_type": "stream",
     "text": [
      "97470: accepted a cross-model jump! # components: 1 --> 2\n",
      "97472: accepted a cross-model jump! # components: 2 --> 1\n"
     ]
    },
    {
     "name": "stderr",
     "output_type": "stream",
     "text": [
      " 99%|█████████▉| 99166/100000 [02:07<00:01, 689.62it/s]"
     ]
    },
    {
     "name": "stdout",
     "output_type": "stream",
     "text": [
      "99027: accepted a cross-model jump! # components: 1 --> 2\n",
      "99028: accepted a cross-model jump! # components: 2 --> 1\n"
     ]
    },
    {
     "name": "stderr",
     "output_type": "stream",
     "text": [
      "100%|██████████| 100000/100000 [02:08<00:00, 775.87it/s]\n"
     ]
    }
   ],
   "source": [
    "np.random.seed(0)\n",
    "init_n_components = 1\n",
    "init_means = np.ones(init_n_components) * np.mean(data)\n",
    "init_stdevs = np.ones(init_n_components) * np.std(data)\n",
    "init_weights = np.random.rand(init_n_components)\n",
    "init_weights /= np.sum(init_weights)\n",
    "init_theta = np.hstack([init_means, init_stdevs, init_weights])\n",
    "init_parents = [None] + list(range(init_n_components - 1))\n",
    "traj, acceptance_probabilities = rjmcmc_w_parents(init_theta, init_parents, n_steps=100000)"
   ]
  },
  {
   "cell_type": "code",
   "execution_count": null,
   "metadata": {},
   "outputs": [],
   "source": [
    "plt.hist(acceptance_probabilities, log=True, bins=50);"
   ]
  },
  {
   "cell_type": "code",
   "execution_count": null,
   "metadata": {},
   "outputs": [],
   "source": [
    "plt.plot([a for a in acceptance_probabilities] )\n",
    "plt.yscale('log')"
   ]
  },
  {
   "cell_type": "code",
   "execution_count": 7,
   "metadata": {},
   "outputs": [
    {
     "data": {
      "text/plain": [
       "(array([-0.24327343,  4.293463  ,  1.        ]), [None])"
      ]
     },
     "execution_count": 7,
     "metadata": {},
     "output_type": "execute_result"
    }
   ],
   "source": [
    "traj[0]"
   ]
  },
  {
   "cell_type": "code",
   "execution_count": 8,
   "metadata": {},
   "outputs": [
    {
     "data": {
      "text/plain": [
       "(array([-0.24327343,  4.293463  ,  1.        ]), [None])"
      ]
     },
     "execution_count": 8,
     "metadata": {},
     "output_type": "execute_result"
    }
   ],
   "source": [
    "traj[-1]"
   ]
  },
  {
   "cell_type": "code",
   "execution_count": 9,
   "metadata": {},
   "outputs": [],
   "source": [
    "X = np.vstack([x[0][:2] for x in traj if len(x[0]) == 3])"
   ]
  },
  {
   "cell_type": "code",
   "execution_count": 10,
   "metadata": {},
   "outputs": [
    {
     "data": {
      "text/plain": [
       "<matplotlib.text.Text at 0x120811828>"
      ]
     },
     "execution_count": 10,
     "metadata": {},
     "output_type": "execute_result"
    },
    {
     "data": {
      "image/png": "[encoded data removed]",
      "text/plain": [
       "<matplotlib.figure.Figure at 0x12020fc88>"
      ]
     },
     "metadata": {},
     "output_type": "display_data"
    }
   ],
   "source": [
    "plt.plot(X[:,0], X[:,1], alpha=0.5)\n",
    "\n",
    "\n",
    "plt.vlines(np.mean(data), min(X[:,1]), max(X[:,1]))\n",
    "plt.hlines(np.std(data), min(X[:,0]), max(X[:,0]))\n",
    "plt.xlabel(r'$\\mu$')\n",
    "plt.ylabel(r'$\\sigma$')"
   ]
  },
  {
   "cell_type": "code",
   "execution_count": 11,
   "metadata": {},
   "outputs": [
    {
     "data": {
      "text/plain": [
       "[<matplotlib.lines.Line2D at 0x120c105f8>]"
      ]
     },
     "execution_count": 11,
     "metadata": {},
     "output_type": "execute_result"
    },
    {
     "data": {
      "image/png": "[encoded data removed]",
      "text/plain": [
       "<matplotlib.figure.Figure at 0x111a89400>"
      ]
     },
     "metadata": {},
     "output_type": "display_data"
    }
   ],
   "source": [
    "plt.plot(X[:,0])"
   ]
  },
  {
   "cell_type": "code",
   "execution_count": 12,
   "metadata": {},
   "outputs": [],
   "source": [
    "# okay that looks fine..."
   ]
  },
  {
   "cell_type": "code",
   "execution_count": 15,
   "metadata": {},
   "outputs": [
    {
     "name": "stderr",
     "output_type": "stream",
     "text": [
      "  0%|          | 26/10000 [00:00<01:24, 118.17it/s]"
     ]
    },
    {
     "name": "stdout",
     "output_type": "stream",
     "text": [
      "0: accepted a cross-model jump! # components: 50 --> 49\n",
      "3: accepted a cross-model jump! # components: 49 --> 48\n",
      "4: accepted a cross-model jump! # components: 48 --> 47\n",
      "6: accepted a cross-model jump! # components: 47 --> 46\n",
      "7: accepted a cross-model jump! # components: 46 --> 45\n",
      "8: accepted a cross-model jump! # components: 45 --> 44\n",
      "9: accepted a cross-model jump! # components: 44 --> 45\n",
      "11: accepted a cross-model jump! # components: 45 --> 44\n",
      "14: accepted a cross-model jump! # components: 44 --> 45\n",
      "15: accepted a cross-model jump! # components: 45 --> 44\n",
      "18: accepted a cross-model jump! # components: 44 --> 43\n",
      "19: accepted a cross-model jump! # components: 43 --> 42\n",
      "21: accepted a cross-model jump! # components: 42 --> 41\n",
      "22: accepted a cross-model jump! # components: 41 --> 40\n",
      "23: accepted a cross-model jump! # components: 40 --> 39\n",
      "24: accepted a cross-model jump! # components: 39 --> 38\n"
     ]
    },
    {
     "name": "stderr",
     "output_type": "stream",
     "text": [
      "  1%|          | 63/10000 [00:00<01:08, 144.29it/s]"
     ]
    },
    {
     "name": "stdout",
     "output_type": "stream",
     "text": [
      "27: accepted a cross-model jump! # components: 38 --> 37\n",
      "28: accepted a cross-model jump! # components: 37 --> 36\n",
      "29: accepted a cross-model jump! # components: 36 --> 35\n",
      "31: accepted a cross-model jump! # components: 35 --> 34\n",
      "32: accepted a cross-model jump! # components: 34 --> 33\n",
      "34: accepted a cross-model jump! # components: 33 --> 32\n",
      "35: accepted a cross-model jump! # components: 32 --> 31\n",
      "37: accepted a cross-model jump! # components: 31 --> 32\n",
      "39: accepted a cross-model jump! # components: 32 --> 31\n",
      "41: accepted a cross-model jump! # components: 31 --> 30\n",
      "42: accepted a cross-model jump! # components: 30 --> 31\n",
      "43: accepted a cross-model jump! # components: 31 --> 30\n",
      "48: accepted a cross-model jump! # components: 30 --> 29\n",
      "50: accepted a cross-model jump! # components: 29 --> 30\n",
      "53: accepted a cross-model jump! # components: 30 --> 31\n",
      "56: accepted a cross-model jump! # components: 31 --> 30\n",
      "61: accepted a cross-model jump! # components: 30 --> 29\n",
      "62: accepted a cross-model jump! # components: 29 --> 28\n"
     ]
    },
    {
     "name": "stderr",
     "output_type": "stream",
     "text": [
      "  1%|          | 107/10000 [00:00<00:56, 174.09it/s]"
     ]
    },
    {
     "name": "stdout",
     "output_type": "stream",
     "text": [
      "65: accepted a cross-model jump! # components: 28 --> 27\n",
      "66: accepted a cross-model jump! # components: 27 --> 28\n",
      "67: accepted a cross-model jump! # components: 28 --> 27\n",
      "69: accepted a cross-model jump! # components: 27 --> 28\n",
      "72: accepted a cross-model jump! # components: 28 --> 27\n",
      "78: accepted a cross-model jump! # components: 27 --> 26\n",
      "79: accepted a cross-model jump! # components: 26 --> 25\n",
      "80: accepted a cross-model jump! # components: 25 --> 24\n",
      "82: accepted a cross-model jump! # components: 24 --> 23\n",
      "84: accepted a cross-model jump! # components: 23 --> 22\n",
      "85: accepted a cross-model jump! # components: 22 --> 21\n",
      "86: accepted a cross-model jump! # components: 21 --> 22\n",
      "87: accepted a cross-model jump! # components: 22 --> 21\n",
      "89: accepted a cross-model jump! # components: 21 --> 20\n",
      "90: accepted a cross-model jump! # components: 20 --> 19\n",
      "91: accepted a cross-model jump! # components: 19 --> 18\n",
      "95: accepted a cross-model jump! # components: 18 --> 17\n",
      "96: accepted a cross-model jump! # components: 17 --> 16\n",
      "99: accepted a cross-model jump! # components: 16 --> 15\n",
      "106: accepted a cross-model jump! # components: 15 --> 16\n",
      "107: accepted a cross-model jump! # components: 16 --> 17\n",
      "109: accepted a cross-model jump! # components: 17 --> 16\n",
      "110: accepted a cross-model jump! # components: 16 --> 17\n"
     ]
    },
    {
     "name": "stderr",
     "output_type": "stream",
     "text": [
      "  2%|▏         | 166/10000 [00:00<00:44, 219.17it/s]"
     ]
    },
    {
     "name": "stdout",
     "output_type": "stream",
     "text": [
      "112: accepted a cross-model jump! # components: 17 --> 16\n",
      "113: accepted a cross-model jump! # components: 16 --> 15\n",
      "114: accepted a cross-model jump! # components: 15 --> 16\n",
      "124: accepted a cross-model jump! # components: 16 --> 17\n",
      "125: accepted a cross-model jump! # components: 17 --> 16\n",
      "126: accepted a cross-model jump! # components: 16 --> 17\n",
      "127: accepted a cross-model jump! # components: 17 --> 16\n",
      "128: accepted a cross-model jump! # components: 16 --> 15\n",
      "132: accepted a cross-model jump! # components: 15 --> 14\n",
      "134: accepted a cross-model jump! # components: 14 --> 13\n",
      "136: accepted a cross-model jump! # components: 13 --> 12\n",
      "145: accepted a cross-model jump! # components: 12 --> 11\n",
      "148: accepted a cross-model jump! # components: 11 --> 12\n",
      "149: accepted a cross-model jump! # components: 12 --> 11\n",
      "151: accepted a cross-model jump! # components: 11 --> 12\n",
      "157: accepted a cross-model jump! # components: 12 --> 13\n",
      "158: accepted a cross-model jump! # components: 13 --> 12\n",
      "159: accepted a cross-model jump! # components: 12 --> 13\n",
      "160: accepted a cross-model jump! # components: 13 --> 12\n",
      "161: accepted a cross-model jump! # components: 12 --> 13\n",
      "163: accepted a cross-model jump! # components: 13 --> 14\n",
      "164: accepted a cross-model jump! # components: 14 --> 13\n",
      "167: accepted a cross-model jump! # components: 13 --> 12\n",
      "168: accepted a cross-model jump! # components: 12 --> 13\n",
      "170: accepted a cross-model jump! # components: 13 --> 12\n"
     ]
    },
    {
     "name": "stderr",
     "output_type": "stream",
     "text": [
      "  3%|▎         | 255/10000 [00:01<00:33, 294.17it/s]"
     ]
    },
    {
     "name": "stdout",
     "output_type": "stream",
     "text": [
      "172: accepted a cross-model jump! # components: 12 --> 11\n",
      "175: accepted a cross-model jump! # components: 11 --> 10\n",
      "179: accepted a cross-model jump! # components: 10 --> 11\n",
      "180: accepted a cross-model jump! # components: 11 --> 12\n",
      "182: accepted a cross-model jump! # components: 12 --> 11\n",
      "183: accepted a cross-model jump! # components: 11 --> 10\n",
      "185: accepted a cross-model jump! # components: 10 --> 9\n",
      "186: accepted a cross-model jump! # components: 9 --> 8\n",
      "191: accepted a cross-model jump! # components: 8 --> 7\n",
      "192: accepted a cross-model jump! # components: 7 --> 8\n",
      "200: accepted a cross-model jump! # components: 8 --> 7\n",
      "202: accepted a cross-model jump! # components: 7 --> 6\n",
      "205: accepted a cross-model jump! # components: 6 --> 5\n",
      "223: accepted a cross-model jump! # components: 5 --> 6\n",
      "225: accepted a cross-model jump! # components: 6 --> 5\n",
      "226: accepted a cross-model jump! # components: 5 --> 6\n",
      "229: accepted a cross-model jump! # components: 6 --> 5\n",
      "242: accepted a cross-model jump! # components: 5 --> 6\n",
      "246: accepted a cross-model jump! # components: 6 --> 5\n",
      "266: accepted a cross-model jump! # components: 5 --> 6\n"
     ]
    },
    {
     "name": "stderr",
     "output_type": "stream",
     "text": [
      "  4%|▎         | 360/10000 [00:01<00:25, 378.95it/s]"
     ]
    },
    {
     "name": "stdout",
     "output_type": "stream",
     "text": [
      "269: accepted a cross-model jump! # components: 6 --> 5\n",
      "270: accepted a cross-model jump! # components: 5 --> 4\n",
      "276: accepted a cross-model jump! # components: 4 --> 5\n",
      "279: accepted a cross-model jump! # components: 5 --> 6\n",
      "284: accepted a cross-model jump! # components: 6 --> 5\n",
      "286: accepted a cross-model jump! # components: 5 --> 4\n",
      "287: accepted a cross-model jump! # components: 4 --> 3\n",
      "288: accepted a cross-model jump! # components: 3 --> 2\n",
      "290: accepted a cross-model jump! # components: 2 --> 3\n",
      "293: accepted a cross-model jump! # components: 3 --> 4\n",
      "294: accepted a cross-model jump! # components: 4 --> 3\n",
      "296: accepted a cross-model jump! # components: 3 --> 2\n",
      "297: accepted a cross-model jump! # components: 2 --> 3\n",
      "298: accepted a cross-model jump! # components: 3 --> 4\n",
      "300: accepted a cross-model jump! # components: 4 --> 5\n",
      "302: accepted a cross-model jump! # components: 5 --> 4\n",
      "303: accepted a cross-model jump! # components: 4 --> 3\n",
      "313: accepted a cross-model jump! # components: 3 --> 4\n",
      "314: accepted a cross-model jump! # components: 4 --> 3\n",
      "315: accepted a cross-model jump! # components: 3 --> 2\n",
      "318: accepted a cross-model jump! # components: 2 --> 3\n",
      "320: accepted a cross-model jump! # components: 3 --> 2\n",
      "325: accepted a cross-model jump! # components: 2 --> 3\n",
      "328: accepted a cross-model jump! # components: 3 --> 4\n",
      "329: accepted a cross-model jump! # components: 4 --> 3\n",
      "335: accepted a cross-model jump! # components: 3 --> 2\n",
      "336: accepted a cross-model jump! # components: 2 --> 3\n",
      "340: accepted a cross-model jump! # components: 3 --> 2\n",
      "351: accepted a cross-model jump! # components: 2 --> 3\n",
      "352: accepted a cross-model jump! # components: 3 --> 4\n",
      "355: accepted a cross-model jump! # components: 4 --> 5\n",
      "363: accepted a cross-model jump! # components: 5 --> 4\n",
      "365: accepted a cross-model jump! # components: 4 --> 5\n",
      "373: accepted a cross-model jump! # components: 5 --> 4\n"
     ]
    },
    {
     "name": "stderr",
     "output_type": "stream",
     "text": [
      "  5%|▍         | 471/10000 [00:01<00:21, 451.99it/s]"
     ]
    },
    {
     "name": "stdout",
     "output_type": "stream",
     "text": [
      "375: accepted a cross-model jump! # components: 4 --> 5\n",
      "377: accepted a cross-model jump! # components: 5 --> 6\n",
      "378: accepted a cross-model jump! # components: 6 --> 5\n",
      "382: accepted a cross-model jump! # components: 5 --> 6\n",
      "386: accepted a cross-model jump! # components: 6 --> 5\n",
      "390: accepted a cross-model jump! # components: 5 --> 4\n",
      "393: accepted a cross-model jump! # components: 4 --> 5\n",
      "397: accepted a cross-model jump! # components: 5 --> 4\n",
      "406: accepted a cross-model jump! # components: 4 --> 5\n",
      "411: accepted a cross-model jump! # components: 5 --> 6\n",
      "412: accepted a cross-model jump! # components: 6 --> 5\n",
      "413: accepted a cross-model jump! # components: 5 --> 4\n",
      "418: accepted a cross-model jump! # components: 4 --> 3\n",
      "428: accepted a cross-model jump! # components: 3 --> 4\n",
      "429: accepted a cross-model jump! # components: 4 --> 5\n",
      "430: accepted a cross-model jump! # components: 5 --> 6\n",
      "438: accepted a cross-model jump! # components: 6 --> 7\n",
      "440: accepted a cross-model jump! # components: 7 --> 6\n",
      "441: accepted a cross-model jump! # components: 6 --> 5\n",
      "449: accepted a cross-model jump! # components: 5 --> 6\n",
      "452: accepted a cross-model jump! # components: 6 --> 7\n",
      "454: accepted a cross-model jump! # components: 7 --> 6\n",
      "460: accepted a cross-model jump! # components: 6 --> 7\n",
      "461: accepted a cross-model jump! # components: 7 --> 6\n",
      "475: accepted a cross-model jump! # components: 6 --> 7\n",
      "479: accepted a cross-model jump! # components: 7 --> 6\n",
      "487: accepted a cross-model jump! # components: 6 --> 7\n"
     ]
    },
    {
     "name": "stderr",
     "output_type": "stream",
     "text": [
      "  6%|▌         | 580/10000 [00:01<00:19, 495.25it/s]"
     ]
    },
    {
     "name": "stdout",
     "output_type": "stream",
     "text": [
      "494: accepted a cross-model jump! # components: 7 --> 6\n",
      "499: accepted a cross-model jump! # components: 6 --> 7\n",
      "502: accepted a cross-model jump! # components: 7 --> 6\n",
      "507: accepted a cross-model jump! # components: 6 --> 7\n",
      "509: accepted a cross-model jump! # components: 7 --> 8\n",
      "510: accepted a cross-model jump! # components: 8 --> 7\n",
      "513: accepted a cross-model jump! # components: 7 --> 6\n",
      "514: accepted a cross-model jump! # components: 6 --> 5\n",
      "522: accepted a cross-model jump! # components: 5 --> 6\n",
      "524: accepted a cross-model jump! # components: 6 --> 7\n",
      "526: accepted a cross-model jump! # components: 7 --> 6\n",
      "527: accepted a cross-model jump! # components: 6 --> 5\n",
      "545: accepted a cross-model jump! # components: 5 --> 6\n",
      "556: accepted a cross-model jump! # components: 6 --> 5\n",
      "560: accepted a cross-model jump! # components: 5 --> 6\n",
      "561: accepted a cross-model jump! # components: 6 --> 7\n",
      "562: accepted a cross-model jump! # components: 7 --> 8\n",
      "563: accepted a cross-model jump! # components: 8 --> 7\n",
      "564: accepted a cross-model jump! # components: 7 --> 8\n",
      "566: accepted a cross-model jump! # components: 8 --> 7\n",
      "569: accepted a cross-model jump! # components: 7 --> 6\n",
      "572: accepted a cross-model jump! # components: 6 --> 7\n",
      "573: accepted a cross-model jump! # components: 7 --> 6\n",
      "575: accepted a cross-model jump! # components: 6 --> 5\n",
      "591: accepted a cross-model jump! # components: 5 --> 6\n",
      "595: accepted a cross-model jump! # components: 6 --> 7\n",
      "600: accepted a cross-model jump! # components: 7 --> 6\n",
      "603: accepted a cross-model jump! # components: 6 --> 7"
     ]
    },
    {
     "name": "stderr",
     "output_type": "stream",
     "text": [
      "  7%|▋         | 690/10000 [00:01<00:18, 508.76it/s]"
     ]
    },
    {
     "name": "stdout",
     "output_type": "stream",
     "text": [
      "\n",
      "604: accepted a cross-model jump! # components: 7 --> 6\n",
      "605: accepted a cross-model jump! # components: 6 --> 5\n",
      "606: accepted a cross-model jump! # components: 5 --> 4\n",
      "607: accepted a cross-model jump! # components: 4 --> 3\n",
      "610: accepted a cross-model jump! # components: 3 --> 4\n",
      "612: accepted a cross-model jump! # components: 4 --> 5\n",
      "613: accepted a cross-model jump! # components: 5 --> 4\n",
      "619: accepted a cross-model jump! # components: 4 --> 3\n",
      "620: accepted a cross-model jump! # components: 3 --> 4\n",
      "621: accepted a cross-model jump! # components: 4 --> 3\n",
      "624: accepted a cross-model jump! # components: 3 --> 4\n",
      "634: accepted a cross-model jump! # components: 4 --> 5\n",
      "635: accepted a cross-model jump! # components: 5 --> 6\n",
      "639: accepted a cross-model jump! # components: 6 --> 7\n",
      "641: accepted a cross-model jump! # components: 7 --> 6\n",
      "642: accepted a cross-model jump! # components: 6 --> 5\n",
      "644: accepted a cross-model jump! # components: 5 --> 4\n",
      "645: accepted a cross-model jump! # components: 4 --> 5\n",
      "646: accepted a cross-model jump! # components: 5 --> 6\n",
      "648: accepted a cross-model jump! # components: 6 --> 5\n",
      "650: accepted a cross-model jump! # components: 5 --> 6\n",
      "655: accepted a cross-model jump! # components: 6 --> 5\n",
      "656: accepted a cross-model jump! # components: 5 --> 6\n",
      "659: accepted a cross-model jump! # components: 6 --> 7\n",
      "661: accepted a cross-model jump! # components: 7 --> 8\n",
      "662: accepted a cross-model jump! # components: 8 --> 9\n",
      "663: accepted a cross-model jump! # components: 9 --> 8\n",
      "664: accepted a cross-model jump! # components: 8 --> 7\n",
      "665: accepted a cross-model jump! # components: 7 --> 6\n",
      "667: accepted a cross-model jump! # components: 6 --> 5\n",
      "669: accepted a cross-model jump! # components: 5 --> 4\n",
      "670: accepted a cross-model jump! # components: 4 --> 5\n",
      "671: accepted a cross-model jump! # components: 5 --> 4\n",
      "678: accepted a cross-model jump! # components: 4 --> 5\n",
      "691: accepted a cross-model jump! # components: 5 --> 4\n",
      "692: accepted a cross-model jump! # components: 4 --> 5\n",
      "693: accepted a cross-model jump! # components: 5 --> 4\n",
      "695: accepted a cross-model jump! # components: 4 --> 5\n",
      "698: accepted a cross-model jump! # components: 5 --> 4\n",
      "704: accepted a cross-model jump! # components: 4 --> 5\n",
      "707: accepted a cross-model jump! # components: 5 --> 6\n",
      "708: accepted a cross-model jump! # components: 6 --> 5\n"
     ]
    },
    {
     "name": "stderr",
     "output_type": "stream",
     "text": [
      "  8%|▊         | 797/10000 [00:02<00:17, 516.71it/s]"
     ]
    },
    {
     "name": "stdout",
     "output_type": "stream",
     "text": [
      "719: accepted a cross-model jump! # components: 5 --> 4\n",
      "726: accepted a cross-model jump! # components: 4 --> 5\n",
      "734: accepted a cross-model jump! # components: 5 --> 6\n",
      "735: accepted a cross-model jump! # components: 6 --> 7\n",
      "737: accepted a cross-model jump! # components: 7 --> 6\n",
      "740: accepted a cross-model jump! # components: 6 --> 5\n",
      "747: accepted a cross-model jump! # components: 5 --> 6\n",
      "748: accepted a cross-model jump! # components: 6 --> 5\n",
      "752: accepted a cross-model jump! # components: 5 --> 6\n",
      "754: accepted a cross-model jump! # components: 6 --> 5\n",
      "760: accepted a cross-model jump! # components: 5 --> 6\n",
      "763: accepted a cross-model jump! # components: 6 --> 7\n",
      "764: accepted a cross-model jump! # components: 7 --> 8\n",
      "768: accepted a cross-model jump! # components: 8 --> 7\n",
      "771: accepted a cross-model jump! # components: 7 --> 6\n",
      "772: accepted a cross-model jump! # components: 6 --> 5\n",
      "791: accepted a cross-model jump! # components: 5 --> 6\n",
      "794: accepted a cross-model jump! # components: 6 --> 7\n",
      "799: accepted a cross-model jump! # components: 7 --> 6\n",
      "801: accepted a cross-model jump! # components: 6 --> 7\n",
      "809: accepted a cross-model jump! # components: 7 --> 6\n",
      "820: accepted a cross-model jump! # components: 6 --> 5\n"
     ]
    },
    {
     "name": "stderr",
     "output_type": "stream",
     "text": [
      "  9%|▉         | 910/10000 [00:02<00:16, 539.96it/s]"
     ]
    },
    {
     "name": "stdout",
     "output_type": "stream",
     "text": [
      "827: accepted a cross-model jump! # components: 5 --> 4\n",
      "831: accepted a cross-model jump! # components: 4 --> 5\n",
      "832: accepted a cross-model jump! # components: 5 --> 6\n",
      "835: accepted a cross-model jump! # components: 6 --> 5\n",
      "837: accepted a cross-model jump! # components: 5 --> 4\n",
      "848: accepted a cross-model jump! # components: 4 --> 5\n",
      "849: accepted a cross-model jump! # components: 5 --> 4\n",
      "850: accepted a cross-model jump! # components: 4 --> 5\n",
      "851: accepted a cross-model jump! # components: 5 --> 4\n",
      "855: accepted a cross-model jump! # components: 4 --> 5\n",
      "863: accepted a cross-model jump! # components: 5 --> 4\n",
      "873: accepted a cross-model jump! # components: 4 --> 5\n",
      "876: accepted a cross-model jump! # components: 5 --> 6\n",
      "881: accepted a cross-model jump! # components: 6 --> 7\n",
      "882: accepted a cross-model jump! # components: 7 --> 6\n",
      "883: accepted a cross-model jump! # components: 6 --> 7\n",
      "886: accepted a cross-model jump! # components: 7 --> 6\n",
      "888: accepted a cross-model jump! # components: 6 --> 5\n",
      "889: accepted a cross-model jump! # components: 5 --> 4\n",
      "892: accepted a cross-model jump! # components: 4 --> 5\n",
      "893: accepted a cross-model jump! # components: 5 --> 4\n",
      "894: accepted a cross-model jump! # components: 4 --> 3\n",
      "899: accepted a cross-model jump! # components: 3 --> 4\n",
      "901: accepted a cross-model jump! # components: 4 --> 3\n",
      "904: accepted a cross-model jump! # components: 3 --> 2\n",
      "906: accepted a cross-model jump! # components: 2 --> 3\n",
      "915: accepted a cross-model jump! # components: 3 --> 4\n",
      "919: accepted a cross-model jump! # components: 4 --> 5\n",
      "921: accepted a cross-model jump! # components: 5 --> 6\n",
      "929: accepted a cross-model jump! # components: 6 --> 5\n",
      "936: accepted a cross-model jump! # components: 5 --> 6\n",
      "937: accepted a cross-model jump! # components: 6 --> 5\n",
      "939: accepted a cross-model jump! # components: 5 --> 4\n"
     ]
    },
    {
     "name": "stderr",
     "output_type": "stream",
     "text": [
      " 10%|█         | 1024/10000 [00:02<00:17, 525.85it/s]"
     ]
    },
    {
     "name": "stdout",
     "output_type": "stream",
     "text": [
      "946: accepted a cross-model jump! # components: 4 --> 5\n",
      "956: accepted a cross-model jump! # components: 5 --> 4\n",
      "957: accepted a cross-model jump! # components: 4 --> 5\n",
      "960: accepted a cross-model jump! # components: 5 --> 6\n",
      "965: accepted a cross-model jump! # components: 6 --> 7\n",
      "966: accepted a cross-model jump! # components: 7 --> 6\n",
      "967: accepted a cross-model jump! # components: 6 --> 5\n",
      "969: accepted a cross-model jump! # components: 5 --> 4\n",
      "970: accepted a cross-model jump! # components: 4 --> 5\n",
      "973: accepted a cross-model jump! # components: 5 --> 4\n",
      "978: accepted a cross-model jump! # components: 4 --> 5\n",
      "986: accepted a cross-model jump! # components: 5 --> 6\n",
      "990: accepted a cross-model jump! # components: 6 --> 7\n",
      "992: accepted a cross-model jump! # components: 7 --> 6\n",
      "994: accepted a cross-model jump! # components: 6 --> 5\n",
      "1001: accepted a cross-model jump! # components: 5 --> 6\n",
      "1011: accepted a cross-model jump! # components: 6 --> 7\n",
      "1013: accepted a cross-model jump! # components: 7 --> 6\n",
      "1014: accepted a cross-model jump! # components: 6 --> 5\n",
      "1017: accepted a cross-model jump! # components: 5 --> 6\n",
      "1018: accepted a cross-model jump! # components: 6 --> 5\n",
      "1019: accepted a cross-model jump! # components: 5 --> 4\n",
      "1021: accepted a cross-model jump! # components: 4 --> 5\n",
      "1023: accepted a cross-model jump! # components: 5 --> 6\n",
      "1031: accepted a cross-model jump! # components: 6 --> 5\n",
      "1035: accepted a cross-model jump! # components: 5 --> 6\n",
      "1037: accepted a cross-model jump! # components: 6 --> 7\n",
      "1038: accepted a cross-model jump! # components: 7 --> 6\n",
      "1042: accepted a cross-model jump! # components: 6 --> 5\n"
     ]
    },
    {
     "name": "stderr",
     "output_type": "stream",
     "text": [
      " 11%|█▏        | 1134/10000 [00:02<00:17, 517.13it/s]"
     ]
    },
    {
     "name": "stdout",
     "output_type": "stream",
     "text": [
      "1046: accepted a cross-model jump! # components: 5 --> 6\n",
      "1047: accepted a cross-model jump! # components: 6 --> 5\n",
      "1053: accepted a cross-model jump! # components: 5 --> 6\n",
      "1061: accepted a cross-model jump! # components: 6 --> 5\n",
      "1063: accepted a cross-model jump! # components: 5 --> 6\n",
      "1067: accepted a cross-model jump! # components: 6 --> 7\n",
      "1071: accepted a cross-model jump! # components: 7 --> 6\n",
      "1073: accepted a cross-model jump! # components: 6 --> 7\n",
      "1075: accepted a cross-model jump! # components: 7 --> 6\n",
      "1077: accepted a cross-model jump! # components: 6 --> 5\n",
      "1088: accepted a cross-model jump! # components: 5 --> 6\n",
      "1094: accepted a cross-model jump! # components: 6 --> 5\n",
      "1097: accepted a cross-model jump! # components: 5 --> 4\n",
      "1119: accepted a cross-model jump! # components: 4 --> 5\n",
      "1128: accepted a cross-model jump! # components: 5 --> 6\n",
      "1129: accepted a cross-model jump! # components: 6 --> 5\n",
      "1133: accepted a cross-model jump! # components: 5 --> 6\n",
      "1134: accepted a cross-model jump! # components: 6 --> 5\n"
     ]
    },
    {
     "name": "stderr",
     "output_type": "stream",
     "text": [
      " 12%|█▎        | 1250/10000 [00:02<00:15, 547.25it/s]"
     ]
    },
    {
     "name": "stdout",
     "output_type": "stream",
     "text": [
      "1171: accepted a cross-model jump! # components: 5 --> 6\n",
      "1179: accepted a cross-model jump! # components: 6 --> 5\n",
      "1189: accepted a cross-model jump! # components: 5 --> 6\n",
      "1197: accepted a cross-model jump! # components: 6 --> 7\n",
      "1199: accepted a cross-model jump! # components: 7 --> 6\n",
      "1200: accepted a cross-model jump! # components: 6 --> 5\n",
      "1203: accepted a cross-model jump! # components: 5 --> 4\n",
      "1210: accepted a cross-model jump! # components: 4 --> 5\n",
      "1222: accepted a cross-model jump! # components: 5 --> 6\n",
      "1239: accepted a cross-model jump! # components: 6 --> 5\n",
      "1252: accepted a cross-model jump! # components: 5 --> 6\n",
      "1261: accepted a cross-model jump! # components: 6 --> 5\n",
      "1265: accepted a cross-model jump! # components: 5 --> 6\n",
      "1266: accepted a cross-model jump! # components: 6 --> 7\n",
      "1267: accepted a cross-model jump! # components: 7 --> 6\n",
      "1271: accepted a cross-model jump! # components: 6 --> 5\n"
     ]
    },
    {
     "name": "stderr",
     "output_type": "stream",
     "text": [
      " 14%|█▎        | 1364/10000 [00:03<00:15, 552.35it/s]"
     ]
    },
    {
     "name": "stdout",
     "output_type": "stream",
     "text": [
      "1302: accepted a cross-model jump! # components: 5 --> 6\n",
      "1304: accepted a cross-model jump! # components: 6 --> 5\n",
      "1306: accepted a cross-model jump! # components: 5 --> 6\n",
      "1307: accepted a cross-model jump! # components: 6 --> 7\n",
      "1311: accepted a cross-model jump! # components: 7 --> 6\n",
      "1312: accepted a cross-model jump! # components: 6 --> 5\n",
      "1313: accepted a cross-model jump! # components: 5 --> 4\n",
      "1320: accepted a cross-model jump! # components: 4 --> 5\n",
      "1323: accepted a cross-model jump! # components: 5 --> 4\n",
      "1333: accepted a cross-model jump! # components: 4 --> 5\n",
      "1354: accepted a cross-model jump! # components: 5 --> 6\n",
      "1358: accepted a cross-model jump! # components: 6 --> 5\n",
      "1361: accepted a cross-model jump! # components: 5 --> 6\n",
      "1365: accepted a cross-model jump! # components: 6 --> 5\n",
      "1399: accepted a cross-model jump! # components: 5 --> 6\n",
      "1403: accepted a cross-model jump! # components: 6 --> 5\n",
      "1408: accepted a cross-model jump! # components: 5 --> 4\n"
     ]
    },
    {
     "name": "stderr",
     "output_type": "stream",
     "text": [
      " 15%|█▌        | 1533/10000 [00:03<00:15, 548.50it/s]"
     ]
    },
    {
     "name": "stdout",
     "output_type": "stream",
     "text": [
      "1428: accepted a cross-model jump! # components: 4 --> 5\n",
      "1439: accepted a cross-model jump! # components: 5 --> 6\n",
      "1443: accepted a cross-model jump! # components: 6 --> 5\n",
      "1444: accepted a cross-model jump! # components: 5 --> 6\n",
      "1461: accepted a cross-model jump! # components: 6 --> 5\n",
      "1464: accepted a cross-model jump! # components: 5 --> 4\n",
      "1468: accepted a cross-model jump! # components: 4 --> 3\n",
      "1478: accepted a cross-model jump! # components: 3 --> 4\n",
      "1480: accepted a cross-model jump! # components: 4 --> 3\n",
      "1481: accepted a cross-model jump! # components: 3 --> 4\n",
      "1484: accepted a cross-model jump! # components: 4 --> 5\n",
      "1488: accepted a cross-model jump! # components: 5 --> 4\n",
      "1497: accepted a cross-model jump! # components: 4 --> 5\n",
      "1500: accepted a cross-model jump! # components: 5 --> 4\n",
      "1507: accepted a cross-model jump! # components: 4 --> 5\n",
      "1509: accepted a cross-model jump! # components: 5 --> 4\n",
      "1536: accepted a cross-model jump! # components: 4 --> 5\n"
     ]
    },
    {
     "name": "stderr",
     "output_type": "stream",
     "text": [
      " 17%|█▋        | 1658/10000 [00:03<00:14, 582.04it/s]"
     ]
    },
    {
     "name": "stdout",
     "output_type": "stream",
     "text": [
      "1540: accepted a cross-model jump! # components: 5 --> 4\n",
      "1544: accepted a cross-model jump! # components: 4 --> 5\n",
      "1546: accepted a cross-model jump! # components: 5 --> 4\n",
      "1563: accepted a cross-model jump! # components: 4 --> 5\n",
      "1566: accepted a cross-model jump! # components: 5 --> 4\n",
      "1576: accepted a cross-model jump! # components: 4 --> 5\n",
      "1578: accepted a cross-model jump! # components: 5 --> 6\n",
      "1579: accepted a cross-model jump! # components: 6 --> 5\n",
      "1583: accepted a cross-model jump! # components: 5 --> 6\n",
      "1584: accepted a cross-model jump! # components: 6 --> 5\n",
      "1585: accepted a cross-model jump! # components: 5 --> 4\n",
      "1586: accepted a cross-model jump! # components: 4 --> 5\n",
      "1593: accepted a cross-model jump! # components: 5 --> 4\n",
      "1604: accepted a cross-model jump! # components: 4 --> 5\n",
      "1606: accepted a cross-model jump! # components: 5 --> 4\n",
      "1609: accepted a cross-model jump! # components: 4 --> 3\n",
      "1621: accepted a cross-model jump! # components: 3 --> 4\n",
      "1622: accepted a cross-model jump! # components: 4 --> 3\n",
      "1626: accepted a cross-model jump! # components: 3 --> 4\n",
      "1628: accepted a cross-model jump! # components: 4 --> 3\n",
      "1633: accepted a cross-model jump! # components: 3 --> 4\n",
      "1634: accepted a cross-model jump! # components: 4 --> 3\n",
      "1635: accepted a cross-model jump! # components: 3 --> 4\n",
      "1637: accepted a cross-model jump! # components: 4 --> 3\n",
      "1644: accepted a cross-model jump! # components: 3 --> 2\n",
      "1651: accepted a cross-model jump! # components: 2 --> 3\n",
      "1654: accepted a cross-model jump! # components: 3 --> 2\n",
      "1656: accepted a cross-model jump! # components: 2 --> 3\n",
      "1659: accepted a cross-model jump! # components: 3 --> 2\n",
      "1665: accepted a cross-model jump! # components: 2 --> 3\n"
     ]
    },
    {
     "name": "stderr",
     "output_type": "stream",
     "text": [
      " 18%|█▊        | 1785/10000 [00:03<00:13, 605.29it/s]"
     ]
    },
    {
     "name": "stdout",
     "output_type": "stream",
     "text": [
      "1668: accepted a cross-model jump! # components: 3 --> 4\n",
      "1672: accepted a cross-model jump! # components: 4 --> 3\n",
      "1684: accepted a cross-model jump! # components: 3 --> 4\n",
      "1686: accepted a cross-model jump! # components: 4 --> 5\n",
      "1687: accepted a cross-model jump! # components: 5 --> 4\n",
      "1694: accepted a cross-model jump! # components: 4 --> 3\n",
      "1701: accepted a cross-model jump! # components: 3 --> 4\n",
      "1709: accepted a cross-model jump! # components: 4 --> 3\n",
      "1711: accepted a cross-model jump! # components: 3 --> 4\n",
      "1715: accepted a cross-model jump! # components: 4 --> 5\n",
      "1716: accepted a cross-model jump! # components: 5 --> 4\n",
      "1717: accepted a cross-model jump! # components: 4 --> 3\n",
      "1719: accepted a cross-model jump! # components: 3 --> 2\n",
      "1722: accepted a cross-model jump! # components: 2 --> 3\n",
      "1724: accepted a cross-model jump! # components: 3 --> 2\n",
      "1726: accepted a cross-model jump! # components: 2 --> 3\n",
      "1727: accepted a cross-model jump! # components: 3 --> 4\n",
      "1728: accepted a cross-model jump! # components: 4 --> 3\n",
      "1732: accepted a cross-model jump! # components: 3 --> 2\n",
      "1744: accepted a cross-model jump! # components: 2 --> 3\n",
      "1745: accepted a cross-model jump! # components: 3 --> 4\n",
      "1751: accepted a cross-model jump! # components: 4 --> 5\n",
      "1756: accepted a cross-model jump! # components: 5 --> 6\n",
      "1760: accepted a cross-model jump! # components: 6 --> 5\n",
      "1763: accepted a cross-model jump! # components: 5 --> 4\n",
      "1767: accepted a cross-model jump! # components: 4 --> 5\n",
      "1769: accepted a cross-model jump! # components: 5 --> 4\n",
      "1771: accepted a cross-model jump! # components: 4 --> 5\n",
      "1772: accepted a cross-model jump! # components: 5 --> 4\n",
      "1785: accepted a cross-model jump! # components: 4 --> 5\n",
      "1788: accepted a cross-model jump! # components: 5 --> 4\n"
     ]
    },
    {
     "name": "stderr",
     "output_type": "stream",
     "text": [
      " 19%|█▉        | 1905/10000 [00:04<00:14, 569.85it/s]"
     ]
    },
    {
     "name": "stdout",
     "output_type": "stream",
     "text": [
      "1797: accepted a cross-model jump! # components: 4 --> 5\n",
      "1798: accepted a cross-model jump! # components: 5 --> 4\n",
      "1803: accepted a cross-model jump! # components: 4 --> 5\n",
      "1811: accepted a cross-model jump! # components: 5 --> 4\n",
      "1813: accepted a cross-model jump! # components: 4 --> 5\n",
      "1825: accepted a cross-model jump! # components: 5 --> 6\n",
      "1828: accepted a cross-model jump! # components: 6 --> 5\n",
      "1831: accepted a cross-model jump! # components: 5 --> 6\n",
      "1832: accepted a cross-model jump! # components: 6 --> 5\n",
      "1842: accepted a cross-model jump! # components: 5 --> 6\n",
      "1847: accepted a cross-model jump! # components: 6 --> 5\n",
      "1849: accepted a cross-model jump! # components: 5 --> 4\n",
      "1853: accepted a cross-model jump! # components: 4 --> 5\n",
      "1858: accepted a cross-model jump! # components: 5 --> 6\n",
      "1859: accepted a cross-model jump! # components: 6 --> 5\n",
      "1862: accepted a cross-model jump! # components: 5 --> 4\n",
      "1863: accepted a cross-model jump! # components: 4 --> 5\n",
      "1868: accepted a cross-model jump! # components: 5 --> 4\n",
      "1895: accepted a cross-model jump! # components: 4 --> 5\n",
      "1901: accepted a cross-model jump! # components: 5 --> 4\n"
     ]
    },
    {
     "name": "stderr",
     "output_type": "stream",
     "text": [
      "\r",
      " 20%|█▉        | 1963/10000 [00:04<00:15, 530.54it/s]"
     ]
    },
    {
     "name": "stdout",
     "output_type": "stream",
     "text": [
      "1913: accepted a cross-model jump! # components: 4 --> 5\n",
      "1925: accepted a cross-model jump! # components: 5 --> 4\n",
      "1942: accepted a cross-model jump! # components: 4 --> 5\n",
      "1943: accepted a cross-model jump! # components: 5 --> 4\n",
      "1953: accepted a cross-model jump! # components: 4 --> 5\n",
      "1958: accepted a cross-model jump! # components: 5 --> 4\n",
      "1961: accepted a cross-model jump! # components: 4 --> 5\n",
      "1964: accepted a cross-model jump! # components: 5 --> 4\n",
      "1967: accepted a cross-model jump! # components: 4 --> 5\n",
      "1969: accepted a cross-model jump! # components: 5 --> 4\n",
      "1970: accepted a cross-model jump! # components: 4 --> 5\n",
      "1971: accepted a cross-model jump! # components: 5 --> 4\n",
      "1972: accepted a cross-model jump! # components: 4 --> 3\n",
      "1976: accepted a cross-model jump! # components: 3 --> 4\n",
      "1978: accepted a cross-model jump! # components: 4 --> 3\n",
      "1982: accepted a cross-model jump! # components: 3 --> 4\n",
      "1987: accepted a cross-model jump! # components: 4 --> 5\n",
      "1988: accepted a cross-model jump! # components: 5 --> 4\n",
      "1991: accepted a cross-model jump! # components: 4 --> 5\n",
      "1995: accepted a cross-model jump! # components: 5 --> 4\n"
     ]
    },
    {
     "name": "stderr",
     "output_type": "stream",
     "text": [
      " 21%|██        | 2066/10000 [00:04<00:17, 459.12it/s]"
     ]
    },
    {
     "name": "stdout",
     "output_type": "stream",
     "text": [
      "1997: accepted a cross-model jump! # components: 4 --> 5\n",
      "1998: accepted a cross-model jump! # components: 5 --> 4\n",
      "2000: accepted a cross-model jump! # components: 4 --> 5\n",
      "2001: accepted a cross-model jump! # components: 5 --> 6\n",
      "2007: accepted a cross-model jump! # components: 6 --> 5\n",
      "2008: accepted a cross-model jump! # components: 5 --> 4\n",
      "2009: accepted a cross-model jump! # components: 4 --> 5\n",
      "2020: accepted a cross-model jump! # components: 5 --> 6\n",
      "2022: accepted a cross-model jump! # components: 6 --> 5\n",
      "2026: accepted a cross-model jump! # components: 5 --> 6\n",
      "2029: accepted a cross-model jump! # components: 6 --> 5\n",
      "2033: accepted a cross-model jump! # components: 5 --> 4\n",
      "2056: accepted a cross-model jump! # components: 4 --> 5\n",
      "2058: accepted a cross-model jump! # components: 5 --> 4\n",
      "2059: accepted a cross-model jump! # components: 4 --> 3\n",
      "2072: accepted a cross-model jump! # components: 3 --> 4\n"
     ]
    },
    {
     "name": "stderr",
     "output_type": "stream",
     "text": [
      " 22%|██▏       | 2173/10000 [00:04<00:16, 478.88it/s]"
     ]
    },
    {
     "name": "stdout",
     "output_type": "stream",
     "text": [
      "2088: accepted a cross-model jump! # components: 4 --> 3\n",
      "2089: accepted a cross-model jump! # components: 3 --> 4\n",
      "2090: accepted a cross-model jump! # components: 4 --> 3\n",
      "2093: accepted a cross-model jump! # components: 3 --> 4\n",
      "2094: accepted a cross-model jump! # components: 4 --> 5\n",
      "2096: accepted a cross-model jump! # components: 5 --> 4\n",
      "2099: accepted a cross-model jump! # components: 4 --> 5\n",
      "2100: accepted a cross-model jump! # components: 5 --> 6\n",
      "2101: accepted a cross-model jump! # components: 6 --> 5\n",
      "2102: accepted a cross-model jump! # components: 5 --> 4\n",
      "2106: accepted a cross-model jump! # components: 4 --> 5\n",
      "2113: accepted a cross-model jump! # components: 5 --> 4\n",
      "2114: accepted a cross-model jump! # components: 4 --> 3\n",
      "2150: accepted a cross-model jump! # components: 3 --> 4\n",
      "2154: accepted a cross-model jump! # components: 4 --> 5\n",
      "2157: accepted a cross-model jump! # components: 5 --> 4\n",
      "2158: accepted a cross-model jump! # components: 4 --> 3\n",
      "2166: accepted a cross-model jump! # components: 3 --> 4\n",
      "2167: accepted a cross-model jump! # components: 4 --> 5\n",
      "2169: accepted a cross-model jump! # components: 5 --> 4\n",
      "2177: accepted a cross-model jump! # components: 4 --> 3\n",
      "2178: accepted a cross-model jump! # components: 3 --> 2\n",
      "2185: accepted a cross-model jump! # components: 2 --> 3\n",
      "2188: accepted a cross-model jump! # components: 3 --> 4\n"
     ]
    },
    {
     "name": "stderr",
     "output_type": "stream",
     "text": [
      " 23%|██▎       | 2276/10000 [00:04<00:16, 472.57it/s]"
     ]
    },
    {
     "name": "stdout",
     "output_type": "stream",
     "text": [
      "2191: accepted a cross-model jump! # components: 4 --> 3\n",
      "2192: accepted a cross-model jump! # components: 3 --> 2\n",
      "2196: accepted a cross-model jump! # components: 2 --> 3\n",
      "2200: accepted a cross-model jump! # components: 3 --> 4\n",
      "2205: accepted a cross-model jump! # components: 4 --> 3\n",
      "2206: accepted a cross-model jump! # components: 3 --> 2\n",
      "2211: accepted a cross-model jump! # components: 2 --> 3\n",
      "2214: accepted a cross-model jump! # components: 3 --> 2\n",
      "2225: accepted a cross-model jump! # components: 2 --> 3\n",
      "2226: accepted a cross-model jump! # components: 3 --> 4\n",
      "2227: accepted a cross-model jump! # components: 4 --> 3\n",
      "2228: accepted a cross-model jump! # components: 3 --> 2\n",
      "2245: accepted a cross-model jump! # components: 2 --> 3\n",
      "2247: accepted a cross-model jump! # components: 3 --> 2\n",
      "2249: accepted a cross-model jump! # components: 2 --> 3\n",
      "2256: accepted a cross-model jump! # components: 3 --> 2\n",
      "2269: accepted a cross-model jump! # components: 2 --> 3\n",
      "2271: accepted a cross-model jump! # components: 3 --> 2\n",
      "2272: accepted a cross-model jump! # components: 2 --> 3\n",
      "2277: accepted a cross-model jump! # components: 3 --> 2\n",
      "2278: accepted a cross-model jump! # components: 2 --> 3\n"
     ]
    },
    {
     "name": "stderr",
     "output_type": "stream",
     "text": [
      "\r",
      " 23%|██▎       | 2325/10000 [00:04<00:18, 425.29it/s]"
     ]
    },
    {
     "name": "stdout",
     "output_type": "stream",
     "text": [
      "2286: accepted a cross-model jump! # components: 3 --> 2\n",
      "2287: accepted a cross-model jump! # components: 2 --> 3\n",
      "2288: accepted a cross-model jump! # components: 3 --> 2\n",
      "2293: accepted a cross-model jump! # components: 2 --> 3\n",
      "2297: accepted a cross-model jump! # components: 3 --> 4\n",
      "2299: accepted a cross-model jump! # components: 4 --> 3\n",
      "2301: accepted a cross-model jump! # components: 3 --> 2\n",
      "2303: accepted a cross-model jump! # components: 2 --> 1\n",
      "2304: accepted a cross-model jump! # components: 1 --> 2\n",
      "2305: accepted a cross-model jump! # components: 2 --> 3\n",
      "2307: accepted a cross-model jump! # components: 3 --> 4\n",
      "2310: accepted a cross-model jump! # components: 4 --> 5\n",
      "2313: accepted a cross-model jump! # components: 5 --> 6\n",
      "2315: accepted a cross-model jump! # components: 6 --> 5\n",
      "2316: accepted a cross-model jump! # components: 5 --> 4\n",
      "2317: accepted a cross-model jump! # components: 4 --> 3\n",
      "2321: accepted a cross-model jump! # components: 3 --> 2\n",
      "2324: accepted a cross-model jump! # components: 2 --> 3\n",
      "2325: accepted a cross-model jump! # components: 3 --> 4\n",
      "2340: accepted a cross-model jump! # components: 4 --> 5\n",
      "2341: accepted a cross-model jump! # components: 5 --> 4\n",
      "2342: accepted a cross-model jump! # components: 4 --> 3\n",
      "2345: accepted a cross-model jump! # components: 3 --> 4\n",
      "2349: accepted a cross-model jump! # components: 4 --> 5\n",
      "2350: accepted a cross-model jump! # components: 5 --> 4\n",
      "2351: accepted a cross-model jump! # components: 4 --> 5\n",
      "2352: accepted a cross-model jump! # components: 5 --> 4\n",
      "2354: accepted a cross-model jump! # components: 4 --> 3\n",
      "2356: accepted a cross-model jump! # components: 3 --> 4\n",
      "2358: accepted a cross-model jump! # components: 4 --> 3\n",
      "2361: accepted a cross-model jump! # components: 3 --> 4\n",
      "2363: accepted a cross-model jump! # components: 4 --> 5"
     ]
    },
    {
     "name": "stderr",
     "output_type": "stream",
     "text": [
      " 24%|██▍       | 2414/10000 [00:05<00:18, 405.01it/s]"
     ]
    },
    {
     "name": "stdout",
     "output_type": "stream",
     "text": [
      "\n",
      "2372: accepted a cross-model jump! # components: 5 --> 4\n",
      "2381: accepted a cross-model jump! # components: 4 --> 3\n",
      "2384: accepted a cross-model jump! # components: 3 --> 4\n",
      "2388: accepted a cross-model jump! # components: 4 --> 5\n",
      "2389: accepted a cross-model jump! # components: 5 --> 6\n",
      "2390: accepted a cross-model jump! # components: 6 --> 7\n",
      "2392: accepted a cross-model jump! # components: 7 --> 6\n",
      "2393: accepted a cross-model jump! # components: 6 --> 5\n",
      "2394: accepted a cross-model jump! # components: 5 --> 6\n",
      "2395: accepted a cross-model jump! # components: 6 --> 5\n",
      "2400: accepted a cross-model jump! # components: 5 --> 4\n",
      "2403: accepted a cross-model jump! # components: 4 --> 5\n",
      "2406: accepted a cross-model jump! # components: 5 --> 4\n",
      "2407: accepted a cross-model jump! # components: 4 --> 5\n",
      "2408: accepted a cross-model jump! # components: 5 --> 6\n",
      "2409: accepted a cross-model jump! # components: 6 --> 7\n",
      "2410: accepted a cross-model jump! # components: 7 --> 8\n",
      "2411: accepted a cross-model jump! # components: 8 --> 7\n",
      "2412: accepted a cross-model jump! # components: 7 --> 6\n",
      "2414: accepted a cross-model jump! # components: 6 --> 7\n",
      "2415: accepted a cross-model jump! # components: 7 --> 6\n",
      "2420: accepted a cross-model jump! # components: 6 --> 7\n",
      "2422: accepted a cross-model jump! # components: 7 --> 8\n",
      "2424: accepted a cross-model jump! # components: 8 --> 7\n",
      "2425: accepted a cross-model jump! # components: 7 --> 6\n",
      "2427: accepted a cross-model jump! # components: 6 --> 7\n",
      "2428: accepted a cross-model jump! # components: 7 --> 6\n",
      "2432: accepted a cross-model jump! # components: 6 --> 7\n",
      "2434: accepted a cross-model jump! # components: 7 --> 6\n",
      "2439: accepted a cross-model jump! # components: 6 --> 7\n",
      "2440: accepted a cross-model jump! # components: 7 --> 8\n",
      "2442: accepted a cross-model jump! # components: 8 --> 7\n",
      "2443: accepted a cross-model jump! # components: 7 --> 6\n",
      "2444: accepted a cross-model jump! # components: 6 --> 7\n",
      "2449: accepted a cross-model jump! # components: 7 --> 8\n"
     ]
    },
    {
     "name": "stderr",
     "output_type": "stream",
     "text": [
      " 25%|██▍       | 2499/10000 [00:05<00:18, 405.48it/s]"
     ]
    },
    {
     "name": "stdout",
     "output_type": "stream",
     "text": [
      "2454: accepted a cross-model jump! # components: 8 --> 9\n",
      "2460: accepted a cross-model jump! # components: 9 --> 8\n",
      "2461: accepted a cross-model jump! # components: 8 --> 7\n",
      "2464: accepted a cross-model jump! # components: 7 --> 8\n",
      "2467: accepted a cross-model jump! # components: 8 --> 7\n",
      "2468: accepted a cross-model jump! # components: 7 --> 6\n",
      "2471: accepted a cross-model jump! # components: 6 --> 5\n",
      "2474: accepted a cross-model jump! # components: 5 --> 6\n",
      "2478: accepted a cross-model jump! # components: 6 --> 5\n",
      "2496: accepted a cross-model jump! # components: 5 --> 6\n",
      "2504: accepted a cross-model jump! # components: 6 --> 7\n",
      "2507: accepted a cross-model jump! # components: 7 --> 6\n",
      "2508: accepted a cross-model jump! # components: 6 --> 7\n",
      "2509: accepted a cross-model jump! # components: 7 --> 6\n",
      "2511: accepted a cross-model jump! # components: 6 --> 5\n",
      "2517: accepted a cross-model jump! # components: 5 --> 6\n",
      "2520: accepted a cross-model jump! # components: 6 --> 5\n",
      "2525: accepted a cross-model jump! # components: 5 --> 4\n",
      "2537: accepted a cross-model jump! # components: 4 --> 5\n",
      "2538: accepted a cross-model jump! # components: 5 --> 6\n"
     ]
    },
    {
     "name": "stderr",
     "output_type": "stream",
     "text": [
      " 26%|██▋       | 2626/10000 [00:05<00:17, 411.04it/s]"
     ]
    },
    {
     "name": "stdout",
     "output_type": "stream",
     "text": [
      "2549: accepted a cross-model jump! # components: 6 --> 5\n",
      "2552: accepted a cross-model jump! # components: 5 --> 4\n",
      "2555: accepted a cross-model jump! # components: 4 --> 5\n",
      "2556: accepted a cross-model jump! # components: 5 --> 6\n",
      "2558: accepted a cross-model jump! # components: 6 --> 5\n",
      "2585: accepted a cross-model jump! # components: 5 --> 6\n",
      "2588: accepted a cross-model jump! # components: 6 --> 5\n",
      "2601: accepted a cross-model jump! # components: 5 --> 6\n",
      "2609: accepted a cross-model jump! # components: 6 --> 7\n",
      "2619: accepted a cross-model jump! # components: 7 --> 6\n",
      "2625: accepted a cross-model jump! # components: 6 --> 7\n",
      "2626: accepted a cross-model jump! # components: 7 --> 6\n",
      "2632: accepted a cross-model jump! # components: 6 --> 5\n",
      "2633: accepted a cross-model jump! # components: 5 --> 6\n",
      "2634: accepted a cross-model jump! # components: 6 --> 5\n"
     ]
    },
    {
     "name": "stderr",
     "output_type": "stream",
     "text": [
      " 27%|██▋       | 2712/10000 [00:05<00:17, 412.11it/s]"
     ]
    },
    {
     "name": "stdout",
     "output_type": "stream",
     "text": [
      "2638: accepted a cross-model jump! # components: 5 --> 6\n",
      "2639: accepted a cross-model jump! # components: 6 --> 7\n",
      "2641: accepted a cross-model jump! # components: 7 --> 6\n",
      "2644: accepted a cross-model jump! # components: 6 --> 5\n",
      "2648: accepted a cross-model jump! # components: 5 --> 4\n",
      "2649: accepted a cross-model jump! # components: 4 --> 5\n",
      "2652: accepted a cross-model jump! # components: 5 --> 4\n",
      "2664: accepted a cross-model jump! # components: 4 --> 5\n",
      "2666: accepted a cross-model jump! # components: 5 --> 4\n",
      "2695: accepted a cross-model jump! # components: 4 --> 5\n",
      "2702: accepted a cross-model jump! # components: 5 --> 6\n",
      "2705: accepted a cross-model jump! # components: 6 --> 5\n",
      "2708: accepted a cross-model jump! # components: 5 --> 4\n",
      "2709: accepted a cross-model jump! # components: 4 --> 5\n",
      "2713: accepted a cross-model jump! # components: 5 --> 6\n",
      "2717: accepted a cross-model jump! # components: 6 --> 7\n"
     ]
    },
    {
     "name": "stderr",
     "output_type": "stream",
     "text": [
      " 28%|██▊       | 2794/10000 [00:06<00:18, 385.61it/s]"
     ]
    },
    {
     "name": "stdout",
     "output_type": "stream",
     "text": [
      "2727: accepted a cross-model jump! # components: 7 --> 6\n",
      "2730: accepted a cross-model jump! # components: 6 --> 7\n",
      "2741: accepted a cross-model jump! # components: 7 --> 8\n",
      "2748: accepted a cross-model jump! # components: 8 --> 7\n",
      "2749: accepted a cross-model jump! # components: 7 --> 6\n",
      "2794: accepted a cross-model jump! # components: 6 --> 7\n",
      "2795: accepted a cross-model jump! # components: 7 --> 8\n",
      "2797: accepted a cross-model jump! # components: 8 --> 7\n"
     ]
    },
    {
     "name": "stderr",
     "output_type": "stream",
     "text": [
      " 29%|██▉       | 2878/10000 [00:06<00:17, 402.02it/s]"
     ]
    },
    {
     "name": "stdout",
     "output_type": "stream",
     "text": [
      "2801: accepted a cross-model jump! # components: 7 --> 6\n",
      "2802: accepted a cross-model jump! # components: 6 --> 5\n",
      "2813: accepted a cross-model jump! # components: 5 --> 6\n",
      "2814: accepted a cross-model jump! # components: 6 --> 7\n",
      "2815: accepted a cross-model jump! # components: 7 --> 6\n",
      "2816: accepted a cross-model jump! # components: 6 --> 5\n",
      "2833: accepted a cross-model jump! # components: 5 --> 6\n",
      "2834: accepted a cross-model jump! # components: 6 --> 5\n",
      "2835: accepted a cross-model jump! # components: 5 --> 6\n",
      "2854: accepted a cross-model jump! # components: 6 --> 5\n",
      "2880: accepted a cross-model jump! # components: 5 --> 6\n",
      "2885: accepted a cross-model jump! # components: 6 --> 7\n"
     ]
    },
    {
     "name": "stderr",
     "output_type": "stream",
     "text": [
      " 30%|██▉       | 2961/10000 [00:06<00:17, 398.13it/s]"
     ]
    },
    {
     "name": "stdout",
     "output_type": "stream",
     "text": [
      "2886: accepted a cross-model jump! # components: 7 --> 6\n",
      "2887: accepted a cross-model jump! # components: 6 --> 5\n",
      "2888: accepted a cross-model jump! # components: 5 --> 4\n",
      "2889: accepted a cross-model jump! # components: 4 --> 5\n",
      "2891: accepted a cross-model jump! # components: 5 --> 4\n",
      "2898: accepted a cross-model jump! # components: 4 --> 5\n",
      "2924: accepted a cross-model jump! # components: 5 --> 6\n",
      "2926: accepted a cross-model jump! # components: 6 --> 5\n",
      "2928: accepted a cross-model jump! # components: 5 --> 6\n",
      "2937: accepted a cross-model jump! # components: 6 --> 5\n",
      "2949: accepted a cross-model jump! # components: 5 --> 6\n",
      "2951: accepted a cross-model jump! # components: 6 --> 7\n",
      "2952: accepted a cross-model jump! # components: 7 --> 6\n",
      "2965: accepted a cross-model jump! # components: 6 --> 5\n",
      "2966: accepted a cross-model jump! # components: 5 --> 6\n"
     ]
    },
    {
     "name": "stderr",
     "output_type": "stream",
     "text": [
      " 30%|███       | 3048/10000 [00:06<00:16, 415.02it/s]"
     ]
    },
    {
     "name": "stdout",
     "output_type": "stream",
     "text": [
      "2971: accepted a cross-model jump! # components: 6 --> 7\n",
      "2973: accepted a cross-model jump! # components: 7 --> 6\n",
      "2975: accepted a cross-model jump! # components: 6 --> 5\n",
      "2977: accepted a cross-model jump! # components: 5 --> 4\n",
      "3013: accepted a cross-model jump! # components: 4 --> 5\n",
      "3042: accepted a cross-model jump! # components: 5 --> 6\n",
      "3043: accepted a cross-model jump! # components: 6 --> 7\n",
      "3046: accepted a cross-model jump! # components: 7 --> 6\n",
      "3048: accepted a cross-model jump! # components: 6 --> 5\n",
      "3051: accepted a cross-model jump! # components: 5 --> 4\n",
      "3059: accepted a cross-model jump! # components: 4 --> 5\n",
      "3061: accepted a cross-model jump! # components: 5 --> 4\n"
     ]
    },
    {
     "name": "stderr",
     "output_type": "stream",
     "text": [
      " 31%|███▏      | 3137/10000 [00:06<00:16, 426.68it/s]"
     ]
    },
    {
     "name": "stdout",
     "output_type": "stream",
     "text": [
      "3062: accepted a cross-model jump! # components: 4 --> 5\n",
      "3064: accepted a cross-model jump! # components: 5 --> 4\n",
      "3076: accepted a cross-model jump! # components: 4 --> 5\n",
      "3080: accepted a cross-model jump! # components: 5 --> 6\n",
      "3082: accepted a cross-model jump! # components: 6 --> 5\n",
      "3083: accepted a cross-model jump! # components: 5 --> 4\n",
      "3086: accepted a cross-model jump! # components: 4 --> 5\n",
      "3096: accepted a cross-model jump! # components: 5 --> 6\n",
      "3101: accepted a cross-model jump! # components: 6 --> 5\n",
      "3106: accepted a cross-model jump! # components: 5 --> 4\n",
      "3115: accepted a cross-model jump! # components: 4 --> 5\n",
      "3144: accepted a cross-model jump! # components: 5 --> 6\n",
      "3145: accepted a cross-model jump! # components: 6 --> 5"
     ]
    },
    {
     "name": "stderr",
     "output_type": "stream",
     "text": [
      " 32%|███▏      | 3227/10000 [00:07<00:16, 402.42it/s]"
     ]
    },
    {
     "name": "stdout",
     "output_type": "stream",
     "text": [
      "\n",
      "3151: accepted a cross-model jump! # components: 5 --> 6\n",
      "3156: accepted a cross-model jump! # components: 6 --> 7\n",
      "3157: accepted a cross-model jump! # components: 7 --> 6\n",
      "3161: accepted a cross-model jump! # components: 6 --> 5\n",
      "3169: accepted a cross-model jump! # components: 5 --> 6\n",
      "3170: accepted a cross-model jump! # components: 6 --> 5\n",
      "3171: accepted a cross-model jump! # components: 5 --> 6\n",
      "3173: accepted a cross-model jump! # components: 6 --> 5\n",
      "3174: accepted a cross-model jump! # components: 5 --> 4\n",
      "3175: accepted a cross-model jump! # components: 4 --> 3\n",
      "3204: accepted a cross-model jump! # components: 3 --> 4\n",
      "3219: accepted a cross-model jump! # components: 4 --> 5\n",
      "3222: accepted a cross-model jump! # components: 5 --> 6\n",
      "3223: accepted a cross-model jump! # components: 6 --> 5\n",
      "3227: accepted a cross-model jump! # components: 5 --> 6\n"
     ]
    },
    {
     "name": "stderr",
     "output_type": "stream",
     "text": [
      " 33%|███▎      | 3314/10000 [00:07<00:16, 410.50it/s]"
     ]
    },
    {
     "name": "stdout",
     "output_type": "stream",
     "text": [
      "3233: accepted a cross-model jump! # components: 6 --> 5\n",
      "3235: accepted a cross-model jump! # components: 5 --> 4\n",
      "3248: accepted a cross-model jump! # components: 4 --> 5\n",
      "3255: accepted a cross-model jump! # components: 5 --> 4\n",
      "3260: accepted a cross-model jump! # components: 4 --> 5\n",
      "3262: accepted a cross-model jump! # components: 5 --> 4\n",
      "3263: accepted a cross-model jump! # components: 4 --> 5\n",
      "3267: accepted a cross-model jump! # components: 5 --> 6\n",
      "3271: accepted a cross-model jump! # components: 6 --> 5\n",
      "3277: accepted a cross-model jump! # components: 5 --> 6\n",
      "3278: accepted a cross-model jump! # components: 6 --> 5\n",
      "3283: accepted a cross-model jump! # components: 5 --> 4\n",
      "3295: accepted a cross-model jump! # components: 4 --> 5\n",
      "3296: accepted a cross-model jump! # components: 5 --> 4\n",
      "3308: accepted a cross-model jump! # components: 4 --> 5\n",
      "3309: accepted a cross-model jump! # components: 5 --> 4\n",
      "3311: accepted a cross-model jump! # components: 4 --> 5\n"
     ]
    },
    {
     "name": "stderr",
     "output_type": "stream",
     "text": [
      "\r",
      " 34%|███▎      | 3356/10000 [00:07<00:17, 381.13it/s]"
     ]
    },
    {
     "name": "stdout",
     "output_type": "stream",
     "text": [
      "3324: accepted a cross-model jump! # components: 5 --> 4\n",
      "3325: accepted a cross-model jump! # components: 4 --> 5\n",
      "3326: accepted a cross-model jump! # components: 5 --> 4\n",
      "3334: accepted a cross-model jump! # components: 4 --> 5\n",
      "3335: accepted a cross-model jump! # components: 5 --> 4\n",
      "3340: accepted a cross-model jump! # components: 4 --> 5\n",
      "3349: accepted a cross-model jump! # components: 5 --> 4\n",
      "3351: accepted a cross-model jump! # components: 4 --> 5\n",
      "3352: accepted a cross-model jump! # components: 5 --> 4\n",
      "3358: accepted a cross-model jump! # components: 4 --> 5\n",
      "3362: accepted a cross-model jump! # components: 5 --> 4\n",
      "3369: accepted a cross-model jump! # components: 4 --> 5\n",
      "3371: accepted a cross-model jump! # components: 5 --> 6\n",
      "3373: accepted a cross-model jump! # components: 6 --> 5\n"
     ]
    },
    {
     "name": "stderr",
     "output_type": "stream",
     "text": [
      " 34%|███▍      | 3442/10000 [00:07<00:17, 370.06it/s]"
     ]
    },
    {
     "name": "stdout",
     "output_type": "stream",
     "text": [
      "3382: accepted a cross-model jump! # components: 5 --> 4\n",
      "3384: accepted a cross-model jump! # components: 4 --> 3\n",
      "3389: accepted a cross-model jump! # components: 3 --> 4\n",
      "3390: accepted a cross-model jump! # components: 4 --> 3\n",
      "3391: accepted a cross-model jump! # components: 3 --> 4\n",
      "3400: accepted a cross-model jump! # components: 4 --> 3\n",
      "3440: accepted a cross-model jump! # components: 3 --> 4\n",
      "3442: accepted a cross-model jump! # components: 4 --> 5\n",
      "3443: accepted a cross-model jump! # components: 5 --> 6\n",
      "3444: accepted a cross-model jump! # components: 6 --> 5\n",
      "3445: accepted a cross-model jump! # components: 5 --> 4\n",
      "3456: accepted a cross-model jump! # components: 4 --> 5\n",
      "3458: accepted a cross-model jump! # components: 5 --> 4\n"
     ]
    },
    {
     "name": "stderr",
     "output_type": "stream",
     "text": [
      " 35%|███▌      | 3527/10000 [00:08<00:16, 396.07it/s]"
     ]
    },
    {
     "name": "stdout",
     "output_type": "stream",
     "text": [
      "3471: accepted a cross-model jump! # components: 4 --> 5\n",
      "3472: accepted a cross-model jump! # components: 5 --> 4\n",
      "3473: accepted a cross-model jump! # components: 4 --> 3\n",
      "3489: accepted a cross-model jump! # components: 3 --> 4\n",
      "3550: accepted a cross-model jump! # components: 4 --> 5\n",
      "3551: accepted a cross-model jump! # components: 5 --> 6\n",
      "3554: accepted a cross-model jump! # components: 6 --> 5\n",
      "3556: accepted a cross-model jump! # components: 5 --> 6\n"
     ]
    },
    {
     "name": "stderr",
     "output_type": "stream",
     "text": [
      " 36%|███▌      | 3610/10000 [00:08<00:16, 399.25it/s]"
     ]
    },
    {
     "name": "stdout",
     "output_type": "stream",
     "text": [
      "3562: accepted a cross-model jump! # components: 6 --> 5\n",
      "3568: accepted a cross-model jump! # components: 5 --> 4\n",
      "3576: accepted a cross-model jump! # components: 4 --> 5\n",
      "3578: accepted a cross-model jump! # components: 5 --> 4\n",
      "3579: accepted a cross-model jump! # components: 4 --> 5\n",
      "3580: accepted a cross-model jump! # components: 5 --> 4\n",
      "3582: accepted a cross-model jump! # components: 4 --> 3\n",
      "3583: accepted a cross-model jump! # components: 3 --> 4\n",
      "3584: accepted a cross-model jump! # components: 4 --> 3\n",
      "3585: accepted a cross-model jump! # components: 3 --> 4\n",
      "3586: accepted a cross-model jump! # components: 4 --> 3\n",
      "3594: accepted a cross-model jump! # components: 3 --> 4\n",
      "3595: accepted a cross-model jump! # components: 4 --> 5\n",
      "3597: accepted a cross-model jump! # components: 5 --> 4\n",
      "3598: accepted a cross-model jump! # components: 4 --> 3\n",
      "3612: accepted a cross-model jump! # components: 3 --> 4\n",
      "3620: accepted a cross-model jump! # components: 4 --> 5\n",
      "3622: accepted a cross-model jump! # components: 5 --> 4\n",
      "3628: accepted a cross-model jump! # components: 4 --> 3\n",
      "3630: accepted a cross-model jump! # components: 3 --> 4\n",
      "3633: accepted a cross-model jump! # components: 4 --> 5\n",
      "3635: accepted a cross-model jump! # components: 5 --> 4\n",
      "3638: accepted a cross-model jump! # components: 4 --> 5\n",
      "3639: accepted a cross-model jump! # components: 5 --> 4\n"
     ]
    },
    {
     "name": "stderr",
     "output_type": "stream",
     "text": [
      " 37%|███▋      | 3692/10000 [00:08<00:15, 403.35it/s]"
     ]
    },
    {
     "name": "stdout",
     "output_type": "stream",
     "text": [
      "3644: accepted a cross-model jump! # components: 4 --> 3\n",
      "3660: accepted a cross-model jump! # components: 3 --> 4\n",
      "3661: accepted a cross-model jump! # components: 4 --> 5\n",
      "3669: accepted a cross-model jump! # components: 5 --> 4\n",
      "3670: accepted a cross-model jump! # components: 4 --> 5\n",
      "3672: accepted a cross-model jump! # components: 5 --> 4\n",
      "3683: accepted a cross-model jump! # components: 4 --> 5\n",
      "3686: accepted a cross-model jump! # components: 5 --> 4\n",
      "3689: accepted a cross-model jump! # components: 4 --> 5\n",
      "3694: accepted a cross-model jump! # components: 5 --> 4\n",
      "3701: accepted a cross-model jump! # components: 4 --> 5\n",
      "3702: accepted a cross-model jump! # components: 5 --> 4\n",
      "3703: accepted a cross-model jump! # components: 4 --> 3\n",
      "3704: accepted a cross-model jump! # components: 3 --> 2\n",
      "3716: accepted a cross-model jump! # components: 2 --> 3\n",
      "3718: accepted a cross-model jump! # components: 3 --> 4\n",
      "3720: accepted a cross-model jump! # components: 4 --> 5\n",
      "3724: accepted a cross-model jump! # components: 5 --> 4\n",
      "3726: accepted a cross-model jump! # components: 4 --> 3\n",
      "3731: accepted a cross-model jump! # components: 3 --> 4\n"
     ]
    },
    {
     "name": "stderr",
     "output_type": "stream",
     "text": [
      " 38%|███▊      | 3778/10000 [00:08<00:15, 403.80it/s]"
     ]
    },
    {
     "name": "stdout",
     "output_type": "stream",
     "text": [
      "3733: accepted a cross-model jump! # components: 4 --> 5\n",
      "3736: accepted a cross-model jump! # components: 5 --> 4\n",
      "3741: accepted a cross-model jump! # components: 4 --> 3\n",
      "3751: accepted a cross-model jump! # components: 3 --> 4\n",
      "3752: accepted a cross-model jump! # components: 4 --> 3\n",
      "3756: accepted a cross-model jump! # components: 3 --> 4\n",
      "3759: accepted a cross-model jump! # components: 4 --> 5\n",
      "3761: accepted a cross-model jump! # components: 5 --> 4\n",
      "3765: accepted a cross-model jump! # components: 4 --> 5\n",
      "3767: accepted a cross-model jump! # components: 5 --> 6\n",
      "3770: accepted a cross-model jump! # components: 6 --> 5\n",
      "3773: accepted a cross-model jump! # components: 5 --> 4\n",
      "3774: accepted a cross-model jump! # components: 4 --> 3\n",
      "3778: accepted a cross-model jump! # components: 3 --> 2\n",
      "3782: accepted a cross-model jump! # components: 2 --> 3\n",
      "3784: accepted a cross-model jump! # components: 3 --> 4\n",
      "3785: accepted a cross-model jump! # components: 4 --> 3\n",
      "3794: accepted a cross-model jump! # components: 3 --> 4\n",
      "3795: accepted a cross-model jump! # components: 4 --> 5\n",
      "3796: accepted a cross-model jump! # components: 5 --> 4\n",
      "3802: accepted a cross-model jump! # components: 4 --> 5\n",
      "3803: accepted a cross-model jump! # components: 5 --> 4\n",
      "3806: accepted a cross-model jump! # components: 4 --> 3\n",
      "3812: accepted a cross-model jump! # components: 3 --> 4\n"
     ]
    },
    {
     "name": "stderr",
     "output_type": "stream",
     "text": [
      " 39%|███▊      | 3860/10000 [00:08<00:16, 369.99it/s]"
     ]
    },
    {
     "name": "stdout",
     "output_type": "stream",
     "text": [
      "3816: accepted a cross-model jump! # components: 4 --> 3\n",
      "3817: accepted a cross-model jump! # components: 3 --> 4\n",
      "3821: accepted a cross-model jump! # components: 4 --> 5\n",
      "3825: accepted a cross-model jump! # components: 5 --> 6\n",
      "3829: accepted a cross-model jump! # components: 6 --> 5\n",
      "3831: accepted a cross-model jump! # components: 5 --> 4\n",
      "3834: accepted a cross-model jump! # components: 4 --> 5\n",
      "3841: accepted a cross-model jump! # components: 5 --> 4\n",
      "3848: accepted a cross-model jump! # components: 4 --> 5\n",
      "3850: accepted a cross-model jump! # components: 5 --> 4\n",
      "3875: accepted a cross-model jump! # components: 4 --> 5\n",
      "3876: accepted a cross-model jump! # components: 5 --> 6\n",
      "3880: accepted a cross-model jump! # components: 6 --> 7\n"
     ]
    },
    {
     "name": "stderr",
     "output_type": "stream",
     "text": [
      " 39%|███▉      | 3939/10000 [00:09<00:16, 376.61it/s]"
     ]
    },
    {
     "name": "stdout",
     "output_type": "stream",
     "text": [
      "3884: accepted a cross-model jump! # components: 7 --> 6\n",
      "3888: accepted a cross-model jump! # components: 6 --> 5\n",
      "3900: accepted a cross-model jump! # components: 5 --> 4\n",
      "3908: accepted a cross-model jump! # components: 4 --> 5\n",
      "3912: accepted a cross-model jump! # components: 5 --> 4\n",
      "3915: accepted a cross-model jump! # components: 4 --> 5\n",
      "3916: accepted a cross-model jump! # components: 5 --> 4\n",
      "3924: accepted a cross-model jump! # components: 4 --> 5\n",
      "3926: accepted a cross-model jump! # components: 5 --> 6\n",
      "3927: accepted a cross-model jump! # components: 6 --> 5\n",
      "3932: accepted a cross-model jump! # components: 5 --> 4\n",
      "3937: accepted a cross-model jump! # components: 4 --> 5\n",
      "3940: accepted a cross-model jump! # components: 5 --> 4\n",
      "3946: accepted a cross-model jump! # components: 4 --> 5\n",
      "3949: accepted a cross-model jump! # components: 5 --> 4\n",
      "3959: accepted a cross-model jump! # components: 4 --> 5\n",
      "3963: accepted a cross-model jump! # components: 5 --> 6"
     ]
    },
    {
     "name": "stderr",
     "output_type": "stream",
     "text": [
      " 40%|████      | 4019/10000 [00:09<00:15, 384.11it/s]"
     ]
    },
    {
     "name": "stdout",
     "output_type": "stream",
     "text": [
      "\n",
      "3965: accepted a cross-model jump! # components: 6 --> 5\n",
      "3967: accepted a cross-model jump! # components: 5 --> 4\n",
      "3974: accepted a cross-model jump! # components: 4 --> 3\n",
      "3979: accepted a cross-model jump! # components: 3 --> 4\n",
      "3980: accepted a cross-model jump! # components: 4 --> 3\n",
      "3986: accepted a cross-model jump! # components: 3 --> 4\n",
      "3987: accepted a cross-model jump! # components: 4 --> 5\n",
      "3988: accepted a cross-model jump! # components: 5 --> 4\n",
      "3990: accepted a cross-model jump! # components: 4 --> 3\n",
      "4000: accepted a cross-model jump! # components: 3 --> 4\n",
      "4001: accepted a cross-model jump! # components: 4 --> 3\n",
      "4006: accepted a cross-model jump! # components: 3 --> 4\n",
      "4012: accepted a cross-model jump! # components: 4 --> 5\n",
      "4019: accepted a cross-model jump! # components: 5 --> 4\n",
      "4020: accepted a cross-model jump! # components: 4 --> 5\n",
      "4021: accepted a cross-model jump! # components: 5 --> 4\n",
      "4027: accepted a cross-model jump! # components: 4 --> 5\n",
      "4030: accepted a cross-model jump! # components: 5 --> 4\n",
      "4035: accepted a cross-model jump! # components: 4 --> 5\n",
      "4037: accepted a cross-model jump! # components: 5 --> 4\n",
      "4038: accepted a cross-model jump! # components: 4 --> 3\n",
      "4044: accepted a cross-model jump! # components: 3 --> 4\n"
     ]
    },
    {
     "name": "stderr",
     "output_type": "stream",
     "text": [
      " 41%|████      | 4098/10000 [00:09<00:15, 380.53it/s]"
     ]
    },
    {
     "name": "stdout",
     "output_type": "stream",
     "text": [
      "4056: accepted a cross-model jump! # components: 4 --> 5\n",
      "4064: accepted a cross-model jump! # components: 5 --> 4\n",
      "4075: accepted a cross-model jump! # components: 4 --> 5\n",
      "4076: accepted a cross-model jump! # components: 5 --> 6\n",
      "4081: accepted a cross-model jump! # components: 6 --> 5\n",
      "4090: accepted a cross-model jump! # components: 5 --> 6\n",
      "4091: accepted a cross-model jump! # components: 6 --> 5\n",
      "4092: accepted a cross-model jump! # components: 5 --> 6\n",
      "4093: accepted a cross-model jump! # components: 6 --> 5\n",
      "4103: accepted a cross-model jump! # components: 5 --> 6\n",
      "4104: accepted a cross-model jump! # components: 6 --> 5\n",
      "4108: accepted a cross-model jump! # components: 5 --> 6\n",
      "4110: accepted a cross-model jump! # components: 6 --> 5\n",
      "4111: accepted a cross-model jump! # components: 5 --> 6\n",
      "4113: accepted a cross-model jump! # components: 6 --> 5\n",
      "4115: accepted a cross-model jump! # components: 5 --> 4\n",
      "4117: accepted a cross-model jump! # components: 4 --> 5\n",
      "4121: accepted a cross-model jump! # components: 5 --> 4\n",
      "4123: accepted a cross-model jump! # components: 4 --> 3\n"
     ]
    },
    {
     "name": "stderr",
     "output_type": "stream",
     "text": [
      " 42%|████▏     | 4175/10000 [00:09<00:16, 363.30it/s]"
     ]
    },
    {
     "name": "stdout",
     "output_type": "stream",
     "text": [
      "4125: accepted a cross-model jump! # components: 3 --> 4\n",
      "4126: accepted a cross-model jump! # components: 4 --> 3\n",
      "4127: accepted a cross-model jump! # components: 3 --> 4\n",
      "4138: accepted a cross-model jump! # components: 4 --> 3\n",
      "4163: accepted a cross-model jump! # components: 3 --> 4\n",
      "4168: accepted a cross-model jump! # components: 4 --> 3\n",
      "4169: accepted a cross-model jump! # components: 3 --> 4\n",
      "4172: accepted a cross-model jump! # components: 4 --> 5\n",
      "4175: accepted a cross-model jump! # components: 5 --> 4\n",
      "4179: accepted a cross-model jump! # components: 4 --> 5\n",
      "4180: accepted a cross-model jump! # components: 5 --> 6\n",
      "4184: accepted a cross-model jump! # components: 6 --> 5\n",
      "4185: accepted a cross-model jump! # components: 5 --> 6\n",
      "4190: accepted a cross-model jump! # components: 6 --> 5\n",
      "4197: accepted a cross-model jump! # components: 5 --> 6\n",
      "4199: accepted a cross-model jump! # components: 6 --> 5\n"
     ]
    },
    {
     "name": "stderr",
     "output_type": "stream",
     "text": [
      " 42%|████▏     | 4248/10000 [00:09<00:16, 349.41it/s]"
     ]
    },
    {
     "name": "stdout",
     "output_type": "stream",
     "text": [
      "4201: accepted a cross-model jump! # components: 5 --> 6\n",
      "4204: accepted a cross-model jump! # components: 6 --> 5\n",
      "4213: accepted a cross-model jump! # components: 5 --> 6\n",
      "4224: accepted a cross-model jump! # components: 6 --> 7\n",
      "4225: accepted a cross-model jump! # components: 7 --> 6\n",
      "4226: accepted a cross-model jump! # components: 6 --> 5\n",
      "4240: accepted a cross-model jump! # components: 5 --> 4\n",
      "4249: accepted a cross-model jump! # components: 4 --> 5\n",
      "4252: accepted a cross-model jump! # components: 5 --> 4\n",
      "4260: accepted a cross-model jump! # components: 4 --> 5\n"
     ]
    },
    {
     "name": "stderr",
     "output_type": "stream",
     "text": [
      " 43%|████▎     | 4322/10000 [00:10<00:16, 352.88it/s]"
     ]
    },
    {
     "name": "stdout",
     "output_type": "stream",
     "text": [
      "4273: accepted a cross-model jump! # components: 5 --> 4\n",
      "4294: accepted a cross-model jump! # components: 4 --> 5\n",
      "4296: accepted a cross-model jump! # components: 5 --> 4\n",
      "4299: accepted a cross-model jump! # components: 4 --> 3\n",
      "4302: accepted a cross-model jump! # components: 3 --> 4\n",
      "4305: accepted a cross-model jump! # components: 4 --> 5\n",
      "4306: accepted a cross-model jump! # components: 5 --> 6\n",
      "4307: accepted a cross-model jump! # components: 6 --> 5\n",
      "4311: accepted a cross-model jump! # components: 5 --> 6\n",
      "4312: accepted a cross-model jump! # components: 6 --> 5\n",
      "4317: accepted a cross-model jump! # components: 5 --> 6\n",
      "4318: accepted a cross-model jump! # components: 6 --> 5\n",
      "4319: accepted a cross-model jump! # components: 5 --> 4\n",
      "4326: accepted a cross-model jump! # components: 4 --> 5\n",
      "4340: accepted a cross-model jump! # components: 5 --> 4\n",
      "4344: accepted a cross-model jump! # components: 4 --> 5\n",
      "4349: accepted a cross-model jump! # components: 5 --> 4"
     ]
    },
    {
     "name": "stderr",
     "output_type": "stream",
     "text": [
      " 44%|████▍     | 4399/10000 [00:10<00:15, 364.89it/s]"
     ]
    },
    {
     "name": "stdout",
     "output_type": "stream",
     "text": [
      "\n",
      "4360: accepted a cross-model jump! # components: 4 --> 5\n",
      "4361: accepted a cross-model jump! # components: 5 --> 4\n",
      "4364: accepted a cross-model jump! # components: 4 --> 3\n",
      "4365: accepted a cross-model jump! # components: 3 --> 4\n",
      "4366: accepted a cross-model jump! # components: 4 --> 3\n",
      "4371: accepted a cross-model jump! # components: 3 --> 4\n",
      "4373: accepted a cross-model jump! # components: 4 --> 3\n",
      "4391: accepted a cross-model jump! # components: 3 --> 4\n",
      "4394: accepted a cross-model jump! # components: 4 --> 5\n",
      "4403: accepted a cross-model jump! # components: 5 --> 6\n",
      "4404: accepted a cross-model jump! # components: 6 --> 5\n",
      "4416: accepted a cross-model jump! # components: 5 --> 4\n",
      "4417: accepted a cross-model jump! # components: 4 --> 5\n",
      "4418: accepted a cross-model jump! # components: 5 --> 4\n",
      "4423: accepted a cross-model jump! # components: 4 --> 3\n",
      "4428: accepted a cross-model jump! # components: 3 --> 4\n",
      "4430: accepted a cross-model jump! # components: 4 --> 5\n"
     ]
    },
    {
     "name": "stderr",
     "output_type": "stream",
     "text": [
      " 45%|████▍     | 4471/10000 [00:10<00:16, 334.41it/s]"
     ]
    },
    {
     "name": "stdout",
     "output_type": "stream",
     "text": [
      "4432: accepted a cross-model jump! # components: 5 --> 6\n",
      "4434: accepted a cross-model jump! # components: 6 --> 5\n",
      "4440: accepted a cross-model jump! # components: 5 --> 4\n",
      "4441: accepted a cross-model jump! # components: 4 --> 5\n",
      "4442: accepted a cross-model jump! # components: 5 --> 4\n",
      "4444: accepted a cross-model jump! # components: 4 --> 3\n",
      "4449: accepted a cross-model jump! # components: 3 --> 4\n",
      "4451: accepted a cross-model jump! # components: 4 --> 5\n",
      "4453: accepted a cross-model jump! # components: 5 --> 6\n",
      "4454: accepted a cross-model jump! # components: 6 --> 5\n",
      "4456: accepted a cross-model jump! # components: 5 --> 4\n",
      "4457: accepted a cross-model jump! # components: 4 --> 5\n",
      "4458: accepted a cross-model jump! # components: 5 --> 4\n",
      "4466: accepted a cross-model jump! # components: 4 --> 5\n",
      "4467: accepted a cross-model jump! # components: 5 --> 6\n",
      "4468: accepted a cross-model jump! # components: 6 --> 7\n",
      "4470: accepted a cross-model jump! # components: 7 --> 6\n",
      "4475: accepted a cross-model jump! # components: 6 --> 5\n",
      "4478: accepted a cross-model jump! # components: 5 --> 6\n",
      "4483: accepted a cross-model jump! # components: 6 --> 7\n",
      "4485: accepted a cross-model jump! # components: 7 --> 6\n",
      "4489: accepted a cross-model jump! # components: 6 --> 7\n",
      "4490: accepted a cross-model jump! # components: 7 --> 8\n",
      "4491: accepted a cross-model jump! # components: 8 --> 9"
     ]
    },
    {
     "name": "stderr",
     "output_type": "stream",
     "text": [
      " 46%|████▌     | 4551/10000 [00:10<00:15, 346.54it/s]"
     ]
    },
    {
     "name": "stdout",
     "output_type": "stream",
     "text": [
      "\n",
      "4493: accepted a cross-model jump! # components: 9 --> 10\n",
      "4495: accepted a cross-model jump! # components: 10 --> 9\n",
      "4498: accepted a cross-model jump! # components: 9 --> 8\n",
      "4501: accepted a cross-model jump! # components: 8 --> 7\n",
      "4502: accepted a cross-model jump! # components: 7 --> 6\n",
      "4503: accepted a cross-model jump! # components: 6 --> 5\n",
      "4507: accepted a cross-model jump! # components: 5 --> 6\n",
      "4509: accepted a cross-model jump! # components: 6 --> 5\n",
      "4511: accepted a cross-model jump! # components: 5 --> 4\n",
      "4512: accepted a cross-model jump! # components: 4 --> 3\n",
      "4518: accepted a cross-model jump! # components: 3 --> 2\n",
      "4535: accepted a cross-model jump! # components: 2 --> 3\n",
      "4536: accepted a cross-model jump! # components: 3 --> 2\n",
      "4537: accepted a cross-model jump! # components: 2 --> 3\n",
      "4539: accepted a cross-model jump! # components: 3 --> 2\n",
      "4560: accepted a cross-model jump! # components: 2 --> 3\n",
      "4562: accepted a cross-model jump! # components: 3 --> 4\n",
      "4563: accepted a cross-model jump! # components: 4 --> 5\n",
      "4565: accepted a cross-model jump! # components: 5 --> 4\n",
      "4568: accepted a cross-model jump! # components: 4 --> 3\n",
      "4573: accepted a cross-model jump! # components: 3 --> 4"
     ]
    },
    {
     "name": "stderr",
     "output_type": "stream",
     "text": [
      " 46%|████▋     | 4630/10000 [00:10<00:14, 365.04it/s]"
     ]
    },
    {
     "name": "stdout",
     "output_type": "stream",
     "text": [
      "\n",
      "4574: accepted a cross-model jump! # components: 4 --> 5\n",
      "4576: accepted a cross-model jump! # components: 5 --> 4\n",
      "4577: accepted a cross-model jump! # components: 4 --> 3\n",
      "4591: accepted a cross-model jump! # components: 3 --> 4\n",
      "4597: accepted a cross-model jump! # components: 4 --> 3\n",
      "4624: accepted a cross-model jump! # components: 3 --> 4\n",
      "4628: accepted a cross-model jump! # components: 4 --> 5\n",
      "4630: accepted a cross-model jump! # components: 5 --> 6\n",
      "4631: accepted a cross-model jump! # components: 6 --> 7\n",
      "4633: accepted a cross-model jump! # components: 7 --> 6\n",
      "4634: accepted a cross-model jump! # components: 6 --> 5\n",
      "4641: accepted a cross-model jump! # components: 5 --> 4\n",
      "4642: accepted a cross-model jump! # components: 4 --> 5\n",
      "4643: accepted a cross-model jump! # components: 5 --> 6\n",
      "4645: accepted a cross-model jump! # components: 6 --> 5\n",
      "4646: accepted a cross-model jump! # components: 5 --> 4"
     ]
    },
    {
     "name": "stderr",
     "output_type": "stream",
     "text": [
      " 47%|████▋     | 4709/10000 [00:11<00:14, 358.59it/s]"
     ]
    },
    {
     "name": "stdout",
     "output_type": "stream",
     "text": [
      "\n",
      "4649: accepted a cross-model jump! # components: 4 --> 5\n",
      "4651: accepted a cross-model jump! # components: 5 --> 4\n",
      "4652: accepted a cross-model jump! # components: 4 --> 3\n",
      "4654: accepted a cross-model jump! # components: 3 --> 4\n",
      "4658: accepted a cross-model jump! # components: 4 --> 3\n",
      "4664: accepted a cross-model jump! # components: 3 --> 4\n",
      "4667: accepted a cross-model jump! # components: 4 --> 3\n",
      "4671: accepted a cross-model jump! # components: 3 --> 4\n",
      "4672: accepted a cross-model jump! # components: 4 --> 3\n",
      "4676: accepted a cross-model jump! # components: 3 --> 4\n",
      "4677: accepted a cross-model jump! # components: 4 --> 3\n",
      "4682: accepted a cross-model jump! # components: 3 --> 4\n",
      "4688: accepted a cross-model jump! # components: 4 --> 3\n",
      "4689: accepted a cross-model jump! # components: 3 --> 2\n",
      "4697: accepted a cross-model jump! # components: 2 --> 3\n",
      "4701: accepted a cross-model jump! # components: 3 --> 2\n",
      "4708: accepted a cross-model jump! # components: 2 --> 3\n",
      "4712: accepted a cross-model jump! # components: 3 --> 4\n",
      "4713: accepted a cross-model jump! # components: 4 --> 5\n",
      "4716: accepted a cross-model jump! # components: 5 --> 4\n",
      "4717: accepted a cross-model jump! # components: 4 --> 3\n",
      "4721: accepted a cross-model jump! # components: 3 --> 4\n",
      "4725: accepted a cross-model jump! # components: 4 --> 5"
     ]
    },
    {
     "name": "stderr",
     "output_type": "stream",
     "text": [
      " 48%|████▊     | 4794/10000 [00:11<00:13, 382.76it/s]"
     ]
    },
    {
     "name": "stdout",
     "output_type": "stream",
     "text": [
      "\n",
      "4726: accepted a cross-model jump! # components: 5 --> 6\n",
      "4729: accepted a cross-model jump! # components: 6 --> 5\n",
      "4732: accepted a cross-model jump! # components: 5 --> 6\n",
      "4734: accepted a cross-model jump! # components: 6 --> 5\n",
      "4735: accepted a cross-model jump! # components: 5 --> 4\n",
      "4737: accepted a cross-model jump! # components: 4 --> 5\n",
      "4740: accepted a cross-model jump! # components: 5 --> 4\n",
      "4741: accepted a cross-model jump! # components: 4 --> 3\n",
      "4744: accepted a cross-model jump! # components: 3 --> 4\n",
      "4747: accepted a cross-model jump! # components: 4 --> 3\n",
      "4769: accepted a cross-model jump! # components: 3 --> 4\n",
      "4771: accepted a cross-model jump! # components: 4 --> 3\n",
      "4779: accepted a cross-model jump! # components: 3 --> 4\n",
      "4783: accepted a cross-model jump! # components: 4 --> 5\n",
      "4787: accepted a cross-model jump! # components: 5 --> 4\n",
      "4788: accepted a cross-model jump! # components: 4 --> 3\n",
      "4804: accepted a cross-model jump! # components: 3 --> 4\n",
      "4805: accepted a cross-model jump! # components: 4 --> 5\n",
      "4806: accepted a cross-model jump! # components: 5 --> 4\n",
      "4810: accepted a cross-model jump! # components: 4 --> 3\n"
     ]
    },
    {
     "name": "stderr",
     "output_type": "stream",
     "text": [
      " 49%|████▉     | 4880/10000 [00:11<00:12, 404.14it/s]"
     ]
    },
    {
     "name": "stdout",
     "output_type": "stream",
     "text": [
      "4814: accepted a cross-model jump! # components: 3 --> 4\n",
      "4817: accepted a cross-model jump! # components: 4 --> 3\n",
      "4831: accepted a cross-model jump! # components: 3 --> 4\n",
      "4834: accepted a cross-model jump! # components: 4 --> 3\n",
      "4837: accepted a cross-model jump! # components: 3 --> 4\n",
      "4840: accepted a cross-model jump! # components: 4 --> 3\n",
      "4849: accepted a cross-model jump! # components: 3 --> 4\n",
      "4860: accepted a cross-model jump! # components: 4 --> 3\n",
      "4869: accepted a cross-model jump! # components: 3 --> 4\n",
      "4871: accepted a cross-model jump! # components: 4 --> 5\n",
      "4874: accepted a cross-model jump! # components: 5 --> 4\n",
      "4882: accepted a cross-model jump! # components: 4 --> 5\n",
      "4884: accepted a cross-model jump! # components: 5 --> 6\n",
      "4885: accepted a cross-model jump! # components: 6 --> 5\n",
      "4886: accepted a cross-model jump! # components: 5 --> 4\n",
      "4887: accepted a cross-model jump! # components: 4 --> 3\n",
      "4890: accepted a cross-model jump! # components: 3 --> 4\n",
      "4893: accepted a cross-model jump! # components: 4 --> 3\n",
      "4896: accepted a cross-model jump! # components: 3 --> 4\n",
      "4897: accepted a cross-model jump! # components: 4 --> 5\n"
     ]
    },
    {
     "name": "stderr",
     "output_type": "stream",
     "text": [
      " 50%|████▉     | 4963/10000 [00:11<00:12, 392.86it/s]"
     ]
    },
    {
     "name": "stdout",
     "output_type": "stream",
     "text": [
      "4898: accepted a cross-model jump! # components: 5 --> 4\n",
      "4899: accepted a cross-model jump! # components: 4 --> 3\n",
      "4907: accepted a cross-model jump! # components: 3 --> 4\n",
      "4915: accepted a cross-model jump! # components: 4 --> 3\n",
      "4921: accepted a cross-model jump! # components: 3 --> 4\n",
      "4929: accepted a cross-model jump! # components: 4 --> 5\n",
      "4934: accepted a cross-model jump! # components: 5 --> 4\n",
      "4950: accepted a cross-model jump! # components: 4 --> 5\n",
      "4951: accepted a cross-model jump! # components: 5 --> 6\n",
      "4954: accepted a cross-model jump! # components: 6 --> 5\n",
      "4955: accepted a cross-model jump! # components: 5 --> 4\n",
      "4956: accepted a cross-model jump! # components: 4 --> 5\n",
      "4957: accepted a cross-model jump! # components: 5 --> 6\n",
      "4958: accepted a cross-model jump! # components: 6 --> 5\n",
      "4960: accepted a cross-model jump! # components: 5 --> 6\n",
      "4962: accepted a cross-model jump! # components: 6 --> 7\n",
      "4963: accepted a cross-model jump! # components: 7 --> 6\n",
      "4964: accepted a cross-model jump! # components: 6 --> 5\n",
      "4973: accepted a cross-model jump! # components: 5 --> 6\n"
     ]
    },
    {
     "name": "stderr",
     "output_type": "stream",
     "text": [
      " 50%|█████     | 5046/10000 [00:12<00:12, 385.74it/s]"
     ]
    },
    {
     "name": "stdout",
     "output_type": "stream",
     "text": [
      "4977: accepted a cross-model jump! # components: 6 --> 5\n",
      "4980: accepted a cross-model jump! # components: 5 --> 6\n",
      "4981: accepted a cross-model jump! # components: 6 --> 5\n",
      "4984: accepted a cross-model jump! # components: 5 --> 6\n",
      "4986: accepted a cross-model jump! # components: 6 --> 7\n",
      "4988: accepted a cross-model jump! # components: 7 --> 6\n",
      "4989: accepted a cross-model jump! # components: 6 --> 7\n",
      "4990: accepted a cross-model jump! # components: 7 --> 6\n",
      "4991: accepted a cross-model jump! # components: 6 --> 5\n",
      "4992: accepted a cross-model jump! # components: 5 --> 4\n",
      "4996: accepted a cross-model jump! # components: 4 --> 3\n",
      "5012: accepted a cross-model jump! # components: 3 --> 4\n",
      "5014: accepted a cross-model jump! # components: 4 --> 5\n",
      "5015: accepted a cross-model jump! # components: 5 --> 4\n",
      "5026: accepted a cross-model jump! # components: 4 --> 5\n",
      "5029: accepted a cross-model jump! # components: 5 --> 6\n",
      "5030: accepted a cross-model jump! # components: 6 --> 5\n",
      "5038: accepted a cross-model jump! # components: 5 --> 4\n",
      "5047: accepted a cross-model jump! # components: 4 --> 5\n",
      "5048: accepted a cross-model jump! # components: 5 --> 4\n",
      "5055: accepted a cross-model jump! # components: 4 --> 5"
     ]
    },
    {
     "name": "stderr",
     "output_type": "stream",
     "text": [
      " 51%|█████     | 5123/10000 [00:12<00:13, 358.18it/s]"
     ]
    },
    {
     "name": "stdout",
     "output_type": "stream",
     "text": [
      "\n",
      "5056: accepted a cross-model jump! # components: 5 --> 6\n",
      "5058: accepted a cross-model jump! # components: 6 --> 5\n",
      "5059: accepted a cross-model jump! # components: 5 --> 6\n",
      "5060: accepted a cross-model jump! # components: 6 --> 5\n",
      "5062: accepted a cross-model jump! # components: 5 --> 4\n",
      "5069: accepted a cross-model jump! # components: 4 --> 5\n",
      "5070: accepted a cross-model jump! # components: 5 --> 6\n",
      "5072: accepted a cross-model jump! # components: 6 --> 5\n",
      "5073: accepted a cross-model jump! # components: 5 --> 6\n",
      "5077: accepted a cross-model jump! # components: 6 --> 5\n",
      "5078: accepted a cross-model jump! # components: 5 --> 6\n",
      "5079: accepted a cross-model jump! # components: 6 --> 5\n",
      "5082: accepted a cross-model jump! # components: 5 --> 6\n",
      "5085: accepted a cross-model jump! # components: 6 --> 5\n",
      "5088: accepted a cross-model jump! # components: 5 --> 4\n",
      "5090: accepted a cross-model jump! # components: 4 --> 5\n",
      "5093: accepted a cross-model jump! # components: 5 --> 4\n",
      "5098: accepted a cross-model jump! # components: 4 --> 5\n",
      "5100: accepted a cross-model jump! # components: 5 --> 4\n",
      "5104: accepted a cross-model jump! # components: 4 --> 5\n",
      "5108: accepted a cross-model jump! # components: 5 --> 4\n",
      "5109: accepted a cross-model jump! # components: 4 --> 3\n"
     ]
    },
    {
     "name": "stderr",
     "output_type": "stream",
     "text": [
      " 52%|█████▏    | 5207/10000 [00:12<00:12, 382.98it/s]"
     ]
    },
    {
     "name": "stdout",
     "output_type": "stream",
     "text": [
      "5135: accepted a cross-model jump! # components: 3 --> 4\n",
      "5136: accepted a cross-model jump! # components: 4 --> 3\n",
      "5137: accepted a cross-model jump! # components: 3 --> 4\n",
      "5139: accepted a cross-model jump! # components: 4 --> 5\n",
      "5140: accepted a cross-model jump! # components: 5 --> 4\n",
      "5141: accepted a cross-model jump! # components: 4 --> 3\n",
      "5144: accepted a cross-model jump! # components: 3 --> 4\n",
      "5146: accepted a cross-model jump! # components: 4 --> 3\n",
      "5152: accepted a cross-model jump! # components: 3 --> 4\n",
      "5162: accepted a cross-model jump! # components: 4 --> 3\n",
      "5172: accepted a cross-model jump! # components: 3 --> 4\n",
      "5175: accepted a cross-model jump! # components: 4 --> 3\n",
      "5182: accepted a cross-model jump! # components: 3 --> 4\n",
      "5183: accepted a cross-model jump! # components: 4 --> 3\n",
      "5185: accepted a cross-model jump! # components: 3 --> 4\n",
      "5192: accepted a cross-model jump! # components: 4 --> 3\n",
      "5195: accepted a cross-model jump! # components: 3 --> 4\n",
      "5199: accepted a cross-model jump! # components: 4 --> 3\n",
      "5202: accepted a cross-model jump! # components: 3 --> 4\n",
      "5210: accepted a cross-model jump! # components: 4 --> 5\n"
     ]
    },
    {
     "name": "stderr",
     "output_type": "stream",
     "text": [
      " 53%|█████▎    | 5283/10000 [00:12<00:13, 342.34it/s]"
     ]
    },
    {
     "name": "stdout",
     "output_type": "stream",
     "text": [
      "5225: accepted a cross-model jump! # components: 5 --> 6\n",
      "5232: accepted a cross-model jump! # components: 6 --> 5\n",
      "5252: accepted a cross-model jump! # components: 5 --> 6\n",
      "5253: accepted a cross-model jump! # components: 6 --> 5\n",
      "5255: accepted a cross-model jump! # components: 5 --> 6\n",
      "5259: accepted a cross-model jump! # components: 6 --> 5\n",
      "5262: accepted a cross-model jump! # components: 5 --> 4\n",
      "5267: accepted a cross-model jump! # components: 4 --> 5\n",
      "5268: accepted a cross-model jump! # components: 5 --> 4\n",
      "5269: accepted a cross-model jump! # components: 4 --> 3\n",
      "5274: accepted a cross-model jump! # components: 3 --> 4\n",
      "5276: accepted a cross-model jump! # components: 4 --> 5\n",
      "5277: accepted a cross-model jump! # components: 5 --> 4\n"
     ]
    },
    {
     "name": "stderr",
     "output_type": "stream",
     "text": [
      " 54%|█████▎    | 5357/10000 [00:12<00:13, 349.15it/s]"
     ]
    },
    {
     "name": "stdout",
     "output_type": "stream",
     "text": [
      "5286: accepted a cross-model jump! # components: 4 --> 3\n",
      "5292: accepted a cross-model jump! # components: 3 --> 4\n",
      "5293: accepted a cross-model jump! # components: 4 --> 5\n",
      "5295: accepted a cross-model jump! # components: 5 --> 4\n",
      "5297: accepted a cross-model jump! # components: 4 --> 3\n",
      "5300: accepted a cross-model jump! # components: 3 --> 4\n",
      "5301: accepted a cross-model jump! # components: 4 --> 3\n",
      "5309: accepted a cross-model jump! # components: 3 --> 4\n",
      "5310: accepted a cross-model jump! # components: 4 --> 3\n",
      "5311: accepted a cross-model jump! # components: 3 --> 4\n",
      "5313: accepted a cross-model jump! # components: 4 --> 3\n",
      "5318: accepted a cross-model jump! # components: 3 --> 4\n",
      "5327: accepted a cross-model jump! # components: 4 --> 3\n",
      "5336: accepted a cross-model jump! # components: 3 --> 4\n",
      "5339: accepted a cross-model jump! # components: 4 --> 5\n",
      "5340: accepted a cross-model jump! # components: 5 --> 4\n",
      "5341: accepted a cross-model jump! # components: 4 --> 3\n",
      "5343: accepted a cross-model jump! # components: 3 --> 4\n",
      "5347: accepted a cross-model jump! # components: 4 --> 5\n",
      "5348: accepted a cross-model jump! # components: 5 --> 6\n",
      "5352: accepted a cross-model jump! # components: 6 --> 5\n",
      "5354: accepted a cross-model jump! # components: 5 --> 4\n"
     ]
    },
    {
     "name": "stderr",
     "output_type": "stream",
     "text": [
      " 54%|█████▍    | 5428/10000 [00:13<00:13, 334.90it/s]"
     ]
    },
    {
     "name": "stdout",
     "output_type": "stream",
     "text": [
      "5372: accepted a cross-model jump! # components: 4 --> 5\n",
      "5390: accepted a cross-model jump! # components: 5 --> 6\n",
      "5391: accepted a cross-model jump! # components: 6 --> 7\n",
      "5397: accepted a cross-model jump! # components: 7 --> 6\n",
      "5400: accepted a cross-model jump! # components: 6 --> 5\n",
      "5421: accepted a cross-model jump! # components: 5 --> 6\n",
      "5422: accepted a cross-model jump! # components: 6 --> 5\n",
      "5424: accepted a cross-model jump! # components: 5 --> 4\n",
      "5428: accepted a cross-model jump! # components: 4 --> 5\n",
      "5430: accepted a cross-model jump! # components: 5 --> 4\n",
      "5432: accepted a cross-model jump! # components: 4 --> 5\n",
      "5435: accepted a cross-model jump! # components: 5 --> 6\n"
     ]
    },
    {
     "name": "stderr",
     "output_type": "stream",
     "text": [
      " 55%|█████▌    | 5504/10000 [00:13<00:12, 355.49it/s]"
     ]
    },
    {
     "name": "stdout",
     "output_type": "stream",
     "text": [
      "5440: accepted a cross-model jump! # components: 6 --> 7\n",
      "5441: accepted a cross-model jump! # components: 7 --> 6\n",
      "5445: accepted a cross-model jump! # components: 6 --> 5\n",
      "5448: accepted a cross-model jump! # components: 5 --> 4\n",
      "5462: accepted a cross-model jump! # components: 4 --> 5\n",
      "5463: accepted a cross-model jump! # components: 5 --> 4\n",
      "5485: accepted a cross-model jump! # components: 4 --> 5\n",
      "5488: accepted a cross-model jump! # components: 5 --> 4\n",
      "5495: accepted a cross-model jump! # components: 4 --> 5\n",
      "5496: accepted a cross-model jump! # components: 5 --> 4\n",
      "5507: accepted a cross-model jump! # components: 4 --> 5\n",
      "5509: accepted a cross-model jump! # components: 5 --> 4\n",
      "5510: accepted a cross-model jump! # components: 4 --> 5\n",
      "5512: accepted a cross-model jump! # components: 5 --> 6\n"
     ]
    },
    {
     "name": "stderr",
     "output_type": "stream",
     "text": [
      " 56%|█████▌    | 5574/10000 [00:13<00:13, 326.88it/s]"
     ]
    },
    {
     "name": "stdout",
     "output_type": "stream",
     "text": [
      "5515: accepted a cross-model jump! # components: 6 --> 7\n",
      "5516: accepted a cross-model jump! # components: 7 --> 6\n",
      "5528: accepted a cross-model jump! # components: 6 --> 5\n",
      "5534: accepted a cross-model jump! # components: 5 --> 6\n",
      "5537: accepted a cross-model jump! # components: 6 --> 5\n",
      "5548: accepted a cross-model jump! # components: 5 --> 6\n",
      "5552: accepted a cross-model jump! # components: 6 --> 7\n",
      "5554: accepted a cross-model jump! # components: 7 --> 6\n",
      "5558: accepted a cross-model jump! # components: 6 --> 5\n",
      "5581: accepted a cross-model jump! # components: 5 --> 6"
     ]
    },
    {
     "name": "stderr",
     "output_type": "stream",
     "text": [
      " 56%|█████▋    | 5646/10000 [00:13<00:12, 342.68it/s]"
     ]
    },
    {
     "name": "stdout",
     "output_type": "stream",
     "text": [
      "\n",
      "5582: accepted a cross-model jump! # components: 6 --> 5\n",
      "5585: accepted a cross-model jump! # components: 5 --> 4\n",
      "5586: accepted a cross-model jump! # components: 4 --> 3\n",
      "5589: accepted a cross-model jump! # components: 3 --> 4\n",
      "5590: accepted a cross-model jump! # components: 4 --> 5\n",
      "5592: accepted a cross-model jump! # components: 5 --> 4\n",
      "5596: accepted a cross-model jump! # components: 4 --> 5\n",
      "5599: accepted a cross-model jump! # components: 5 --> 4\n",
      "5600: accepted a cross-model jump! # components: 4 --> 3\n",
      "5607: accepted a cross-model jump! # components: 3 --> 4\n",
      "5609: accepted a cross-model jump! # components: 4 --> 5\n",
      "5610: accepted a cross-model jump! # components: 5 --> 4\n",
      "5614: accepted a cross-model jump! # components: 4 --> 5\n",
      "5619: accepted a cross-model jump! # components: 5 --> 4\n",
      "5628: accepted a cross-model jump! # components: 4 --> 5\n",
      "5629: accepted a cross-model jump! # components: 5 --> 4\n",
      "5631: accepted a cross-model jump! # components: 4 --> 3\n",
      "5633: accepted a cross-model jump! # components: 3 --> 2\n",
      "5635: accepted a cross-model jump! # components: 2 --> 3\n",
      "5636: accepted a cross-model jump! # components: 3 --> 2\n",
      "5639: accepted a cross-model jump! # components: 2 --> 3\n",
      "5642: accepted a cross-model jump! # components: 3 --> 4\n",
      "5643: accepted a cross-model jump! # components: 4 --> 5\n",
      "5646: accepted a cross-model jump! # components: 5 --> 4\n",
      "5647: accepted a cross-model jump! # components: 4 --> 3\n",
      "5652: accepted a cross-model jump! # components: 3 --> 4\n"
     ]
    },
    {
     "name": "stderr",
     "output_type": "stream",
     "text": [
      " 57%|█████▋    | 5720/10000 [00:14<00:12, 353.46it/s]"
     ]
    },
    {
     "name": "stdout",
     "output_type": "stream",
     "text": [
      "5661: accepted a cross-model jump! # components: 4 --> 3\n",
      "5663: accepted a cross-model jump! # components: 3 --> 2\n",
      "5665: accepted a cross-model jump! # components: 2 --> 3\n",
      "5671: accepted a cross-model jump! # components: 3 --> 4\n",
      "5678: accepted a cross-model jump! # components: 4 --> 3\n",
      "5682: accepted a cross-model jump! # components: 3 --> 4\n",
      "5683: accepted a cross-model jump! # components: 4 --> 3\n",
      "5684: accepted a cross-model jump! # components: 3 --> 4\n",
      "5688: accepted a cross-model jump! # components: 4 --> 3\n",
      "5689: accepted a cross-model jump! # components: 3 --> 2\n",
      "5690: accepted a cross-model jump! # components: 2 --> 3\n",
      "5692: accepted a cross-model jump! # components: 3 --> 2\n",
      "5701: accepted a cross-model jump! # components: 2 --> 3\n",
      "5702: accepted a cross-model jump! # components: 3 --> 4\n",
      "5708: accepted a cross-model jump! # components: 4 --> 5\n",
      "5711: accepted a cross-model jump! # components: 5 --> 6\n",
      "5716: accepted a cross-model jump! # components: 6 --> 5\n",
      "5719: accepted a cross-model jump! # components: 5 --> 6\n",
      "5723: accepted a cross-model jump! # components: 6 --> 7\n",
      "5724: accepted a cross-model jump! # components: 7 --> 6\n",
      "5726: accepted a cross-model jump! # components: 6 --> 5\n",
      "5728: accepted a cross-model jump! # components: 5 --> 6\n",
      "5732: accepted a cross-model jump! # components: 6 --> 5\n",
      "5734: accepted a cross-model jump! # components: 5 --> 4\n"
     ]
    },
    {
     "name": "stderr",
     "output_type": "stream",
     "text": [
      " 58%|█████▊    | 5793/10000 [00:14<00:11, 355.47it/s]"
     ]
    },
    {
     "name": "stdout",
     "output_type": "stream",
     "text": [
      "5745: accepted a cross-model jump! # components: 4 --> 5\n",
      "5746: accepted a cross-model jump! # components: 5 --> 4\n",
      "5749: accepted a cross-model jump! # components: 4 --> 5\n",
      "5754: accepted a cross-model jump! # components: 5 --> 4\n",
      "5763: accepted a cross-model jump! # components: 4 --> 5\n",
      "5764: accepted a cross-model jump! # components: 5 --> 6\n",
      "5765: accepted a cross-model jump! # components: 6 --> 5\n",
      "5791: accepted a cross-model jump! # components: 5 --> 6\n",
      "5793: accepted a cross-model jump! # components: 6 --> 5\n",
      "5802: accepted a cross-model jump! # components: 5 --> 6\n",
      "5809: accepted a cross-model jump! # components: 6 --> 5\n"
     ]
    },
    {
     "name": "stderr",
     "output_type": "stream",
     "text": [
      " 59%|█████▊    | 5870/10000 [00:14<00:11, 360.90it/s]"
     ]
    },
    {
     "name": "stdout",
     "output_type": "stream",
     "text": [
      "5826: accepted a cross-model jump! # components: 5 --> 6\n",
      "5827: accepted a cross-model jump! # components: 6 --> 5\n",
      "5850: accepted a cross-model jump! # components: 5 --> 6\n",
      "5851: accepted a cross-model jump! # components: 6 --> 5\n",
      "5853: accepted a cross-model jump! # components: 5 --> 4\n",
      "5875: accepted a cross-model jump! # components: 4 --> 5\n",
      "5876: accepted a cross-model jump! # components: 5 --> 4\n",
      "5881: accepted a cross-model jump! # components: 4 --> 3\n",
      "5884: accepted a cross-model jump! # components: 3 --> 4\n",
      "5888: accepted a cross-model jump! # components: 4 --> 3\n",
      "5893: accepted a cross-model jump! # components: 3 --> 4\n",
      "5899: accepted a cross-model jump! # components: 4 --> 3\n",
      "5902: accepted a cross-model jump! # components: 3 --> 4\n"
     ]
    },
    {
     "name": "stderr",
     "output_type": "stream",
     "text": [
      " 60%|█████▉    | 5954/10000 [00:14<00:10, 382.89it/s]"
     ]
    },
    {
     "name": "stdout",
     "output_type": "stream",
     "text": [
      "5913: accepted a cross-model jump! # components: 4 --> 3\n",
      "5930: accepted a cross-model jump! # components: 3 --> 4\n",
      "5937: accepted a cross-model jump! # components: 4 --> 5\n",
      "5939: accepted a cross-model jump! # components: 5 --> 6\n",
      "5947: accepted a cross-model jump! # components: 6 --> 5\n",
      "5952: accepted a cross-model jump! # components: 5 --> 4\n",
      "5953: accepted a cross-model jump! # components: 4 --> 5\n",
      "5956: accepted a cross-model jump! # components: 5 --> 4\n",
      "5959: accepted a cross-model jump! # components: 4 --> 5\n",
      "5961: accepted a cross-model jump! # components: 5 --> 6\n",
      "5965: accepted a cross-model jump! # components: 6 --> 5\n",
      "5973: accepted a cross-model jump! # components: 5 --> 6\n",
      "5974: accepted a cross-model jump! # components: 6 --> 5\n"
     ]
    },
    {
     "name": "stderr",
     "output_type": "stream",
     "text": [
      " 61%|██████    | 6079/10000 [00:14<00:09, 398.36it/s]"
     ]
    },
    {
     "name": "stdout",
     "output_type": "stream",
     "text": [
      "6005: accepted a cross-model jump! # components: 5 --> 6\n",
      "6006: accepted a cross-model jump! # components: 6 --> 5\n",
      "6008: accepted a cross-model jump! # components: 5 --> 4\n",
      "6009: accepted a cross-model jump! # components: 4 --> 3\n",
      "6013: accepted a cross-model jump! # components: 3 --> 4\n",
      "6016: accepted a cross-model jump! # components: 4 --> 3\n",
      "6018: accepted a cross-model jump! # components: 3 --> 4\n",
      "6019: accepted a cross-model jump! # components: 4 --> 3\n",
      "6037: accepted a cross-model jump! # components: 3 --> 4\n",
      "6039: accepted a cross-model jump! # components: 4 --> 3\n",
      "6044: accepted a cross-model jump! # components: 3 --> 2\n",
      "6047: accepted a cross-model jump! # components: 2 --> 3\n",
      "6049: accepted a cross-model jump! # components: 3 --> 2\n",
      "6064: accepted a cross-model jump! # components: 2 --> 3\n",
      "6067: accepted a cross-model jump! # components: 3 --> 2\n",
      "6072: accepted a cross-model jump! # components: 2 --> 3\n",
      "6074: accepted a cross-model jump! # components: 3 --> 4\n",
      "6075: accepted a cross-model jump! # components: 4 --> 3\n",
      "6092: accepted a cross-model jump! # components: 3 --> 4"
     ]
    },
    {
     "name": "stderr",
     "output_type": "stream",
     "text": [
      " 62%|██████▏   | 6169/10000 [00:15<00:09, 407.27it/s]"
     ]
    },
    {
     "name": "stdout",
     "output_type": "stream",
     "text": [
      "\n",
      "6096: accepted a cross-model jump! # components: 4 --> 3\n",
      "6097: accepted a cross-model jump! # components: 3 --> 2\n",
      "6098: accepted a cross-model jump! # components: 2 --> 3\n",
      "6103: accepted a cross-model jump! # components: 3 --> 2\n",
      "6104: accepted a cross-model jump! # components: 2 --> 1\n",
      "6106: accepted a cross-model jump! # components: 1 --> 2\n",
      "6108: accepted a cross-model jump! # components: 2 --> 1\n",
      "6109: accepted a cross-model jump! # components: 1 --> 2\n",
      "6121: accepted a cross-model jump! # components: 2 --> 3\n",
      "6128: accepted a cross-model jump! # components: 3 --> 2\n",
      "6132: accepted a cross-model jump! # components: 2 --> 3\n",
      "6133: accepted a cross-model jump! # components: 3 --> 4\n",
      "6135: accepted a cross-model jump! # components: 4 --> 5\n",
      "6150: accepted a cross-model jump! # components: 5 --> 6\n",
      "6151: accepted a cross-model jump! # components: 6 --> 5\n",
      "6152: accepted a cross-model jump! # components: 5 --> 4\n",
      "6158: accepted a cross-model jump! # components: 4 --> 5\n",
      "6159: accepted a cross-model jump! # components: 5 --> 4\n",
      "6160: accepted a cross-model jump! # components: 4 --> 5\n",
      "6161: accepted a cross-model jump! # components: 5 --> 4\n",
      "6179: accepted a cross-model jump! # components: 4 --> 5"
     ]
    },
    {
     "name": "stderr",
     "output_type": "stream",
     "text": [
      " 63%|██████▎   | 6251/10000 [00:15<00:09, 391.84it/s]"
     ]
    },
    {
     "name": "stdout",
     "output_type": "stream",
     "text": [
      "\n",
      "6184: accepted a cross-model jump! # components: 5 --> 6\n",
      "6185: accepted a cross-model jump! # components: 6 --> 5\n",
      "6193: accepted a cross-model jump! # components: 5 --> 6\n",
      "6195: accepted a cross-model jump! # components: 6 --> 5\n",
      "6196: accepted a cross-model jump! # components: 5 --> 6\n",
      "6206: accepted a cross-model jump! # components: 6 --> 7\n",
      "6209: accepted a cross-model jump! # components: 7 --> 6\n",
      "6212: accepted a cross-model jump! # components: 6 --> 5\n",
      "6215: accepted a cross-model jump! # components: 5 --> 6\n",
      "6216: accepted a cross-model jump! # components: 6 --> 7\n",
      "6219: accepted a cross-model jump! # components: 7 --> 6\n",
      "6222: accepted a cross-model jump! # components: 6 --> 5\n",
      "6226: accepted a cross-model jump! # components: 5 --> 4\n",
      "6227: accepted a cross-model jump! # components: 4 --> 5\n",
      "6228: accepted a cross-model jump! # components: 5 --> 4\n"
     ]
    },
    {
     "name": "stderr",
     "output_type": "stream",
     "text": [
      " 63%|██████▎   | 6331/10000 [00:15<00:09, 380.22it/s]"
     ]
    },
    {
     "name": "stdout",
     "output_type": "stream",
     "text": [
      "6264: accepted a cross-model jump! # components: 4 --> 5\n",
      "6265: accepted a cross-model jump! # components: 5 --> 6\n",
      "6266: accepted a cross-model jump! # components: 6 --> 5\n",
      "6278: accepted a cross-model jump! # components: 5 --> 6\n",
      "6282: accepted a cross-model jump! # components: 6 --> 5\n",
      "6283: accepted a cross-model jump! # components: 5 --> 4\n",
      "6305: accepted a cross-model jump! # components: 4 --> 5\n",
      "6328: accepted a cross-model jump! # components: 5 --> 6\n",
      "6335: accepted a cross-model jump! # components: 6 --> 7\n"
     ]
    },
    {
     "name": "stderr",
     "output_type": "stream",
     "text": [
      "\r",
      " 64%|██████▎   | 6370/10000 [00:15<00:10, 354.85it/s]"
     ]
    },
    {
     "name": "stdout",
     "output_type": "stream",
     "text": [
      "6339: accepted a cross-model jump! # components: 7 --> 6\n",
      "6340: accepted a cross-model jump! # components: 6 --> 5\n",
      "6341: accepted a cross-model jump! # components: 5 --> 6\n",
      "6346: accepted a cross-model jump! # components: 6 --> 7\n",
      "6347: accepted a cross-model jump! # components: 7 --> 6\n",
      "6349: accepted a cross-model jump! # components: 6 --> 5\n",
      "6361: accepted a cross-model jump! # components: 5 --> 6\n",
      "6363: accepted a cross-model jump! # components: 6 --> 5\n",
      "6368: accepted a cross-model jump! # components: 5 --> 6\n",
      "6370: accepted a cross-model jump! # components: 6 --> 5\n",
      "6376: accepted a cross-model jump! # components: 5 --> 6\n",
      "6378: accepted a cross-model jump! # components: 6 --> 5\n",
      "6402: accepted a cross-model jump! # components: 5 --> 6\n"
     ]
    },
    {
     "name": "stderr",
     "output_type": "stream",
     "text": [
      " 64%|██████▍   | 6443/10000 [00:15<00:10, 351.28it/s]"
     ]
    },
    {
     "name": "stdout",
     "output_type": "stream",
     "text": [
      "6403: accepted a cross-model jump! # components: 6 --> 5\n",
      "6404: accepted a cross-model jump! # components: 5 --> 4\n",
      "6420: accepted a cross-model jump! # components: 4 --> 5\n",
      "6421: accepted a cross-model jump! # components: 5 --> 4\n",
      "6428: accepted a cross-model jump! # components: 4 --> 5\n",
      "6429: accepted a cross-model jump! # components: 5 --> 6\n",
      "6430: accepted a cross-model jump! # components: 6 --> 5\n",
      "6432: accepted a cross-model jump! # components: 5 --> 6\n",
      "6433: accepted a cross-model jump! # components: 6 --> 5\n",
      "6435: accepted a cross-model jump! # components: 5 --> 6\n",
      "6440: accepted a cross-model jump! # components: 6 --> 5\n",
      "6441: accepted a cross-model jump! # components: 5 --> 4\n",
      "6442: accepted a cross-model jump! # components: 4 --> 3\n",
      "6450: accepted a cross-model jump! # components: 3 --> 4\n",
      "6451: accepted a cross-model jump! # components: 4 --> 3\n",
      "6463: accepted a cross-model jump! # components: 3 --> 4\n",
      "6465: accepted a cross-model jump! # components: 4 --> 3\n",
      "6483: accepted a cross-model jump! # components: 3 --> 4\n",
      "6484: accepted a cross-model jump! # components: 4 --> 3"
     ]
    },
    {
     "name": "stderr",
     "output_type": "stream",
     "text": [
      " 66%|██████▌   | 6566/10000 [00:16<00:09, 379.31it/s]"
     ]
    },
    {
     "name": "stdout",
     "output_type": "stream",
     "text": [
      "\n",
      "6493: accepted a cross-model jump! # components: 3 --> 4\n",
      "6511: accepted a cross-model jump! # components: 4 --> 5\n",
      "6515: accepted a cross-model jump! # components: 5 --> 4\n",
      "6527: accepted a cross-model jump! # components: 4 --> 5\n",
      "6534: accepted a cross-model jump! # components: 5 --> 4\n",
      "6539: accepted a cross-model jump! # components: 4 --> 5\n",
      "6540: accepted a cross-model jump! # components: 5 --> 6\n",
      "6545: accepted a cross-model jump! # components: 6 --> 5\n",
      "6546: accepted a cross-model jump! # components: 5 --> 6\n",
      "6547: accepted a cross-model jump! # components: 6 --> 5\n",
      "6554: accepted a cross-model jump! # components: 5 --> 6\n",
      "6555: accepted a cross-model jump! # components: 6 --> 5\n",
      "6556: accepted a cross-model jump! # components: 5 --> 4\n"
     ]
    },
    {
     "name": "stderr",
     "output_type": "stream",
     "text": [
      " 67%|██████▋   | 6687/10000 [00:16<00:08, 383.39it/s]"
     ]
    },
    {
     "name": "stdout",
     "output_type": "stream",
     "text": [
      "6618: accepted a cross-model jump! # components: 4 --> 5\n",
      "6633: accepted a cross-model jump! # components: 5 --> 6\n",
      "6635: accepted a cross-model jump! # components: 6 --> 5\n",
      "6641: accepted a cross-model jump! # components: 5 --> 4\n",
      "6650: accepted a cross-model jump! # components: 4 --> 5\n",
      "6656: accepted a cross-model jump! # components: 5 --> 6\n",
      "6668: accepted a cross-model jump! # components: 6 --> 5\n",
      "6671: accepted a cross-model jump! # components: 5 --> 6\n",
      "6672: accepted a cross-model jump! # components: 6 --> 5\n",
      "6673: accepted a cross-model jump! # components: 5 --> 4\n",
      "6675: accepted a cross-model jump! # components: 4 --> 5\n",
      "6680: accepted a cross-model jump! # components: 5 --> 4\n",
      "6695: accepted a cross-model jump! # components: 4 --> 3"
     ]
    },
    {
     "name": "stderr",
     "output_type": "stream",
     "text": [
      " 68%|██████▊   | 6770/10000 [00:16<00:08, 395.38it/s]"
     ]
    },
    {
     "name": "stdout",
     "output_type": "stream",
     "text": [
      "\n",
      "6696: accepted a cross-model jump! # components: 3 --> 4\n",
      "6697: accepted a cross-model jump! # components: 4 --> 3\n",
      "6698: accepted a cross-model jump! # components: 3 --> 2\n",
      "6704: accepted a cross-model jump! # components: 2 --> 3\n",
      "6718: accepted a cross-model jump! # components: 3 --> 4\n",
      "6721: accepted a cross-model jump! # components: 4 --> 3\n",
      "6722: accepted a cross-model jump! # components: 3 --> 2\n",
      "6723: accepted a cross-model jump! # components: 2 --> 3\n",
      "6727: accepted a cross-model jump! # components: 3 --> 4\n",
      "6729: accepted a cross-model jump! # components: 4 --> 3\n",
      "6732: accepted a cross-model jump! # components: 3 --> 2\n",
      "6734: accepted a cross-model jump! # components: 2 --> 3\n",
      "6740: accepted a cross-model jump! # components: 3 --> 4\n",
      "6741: accepted a cross-model jump! # components: 4 --> 3\n",
      "6746: accepted a cross-model jump! # components: 3 --> 4\n",
      "6747: accepted a cross-model jump! # components: 4 --> 3\n",
      "6760: accepted a cross-model jump! # components: 3 --> 4\n",
      "6762: accepted a cross-model jump! # components: 4 --> 3\n",
      "6763: accepted a cross-model jump! # components: 3 --> 4\n",
      "6765: accepted a cross-model jump! # components: 4 --> 5\n",
      "6769: accepted a cross-model jump! # components: 5 --> 6\n",
      "6770: accepted a cross-model jump! # components: 6 --> 5\n",
      "6772: accepted a cross-model jump! # components: 5 --> 4\n",
      "6775: accepted a cross-model jump! # components: 4 --> 3\n",
      "6777: accepted a cross-model jump! # components: 3 --> 4\n"
     ]
    },
    {
     "name": "stderr",
     "output_type": "stream",
     "text": [
      " 68%|██████▊   | 6849/10000 [00:16<00:08, 379.94it/s]"
     ]
    },
    {
     "name": "stdout",
     "output_type": "stream",
     "text": [
      "6778: accepted a cross-model jump! # components: 4 --> 3\n",
      "6782: accepted a cross-model jump! # components: 3 --> 2\n",
      "6788: accepted a cross-model jump! # components: 2 --> 3\n",
      "6791: accepted a cross-model jump! # components: 3 --> 4\n",
      "6799: accepted a cross-model jump! # components: 4 --> 3\n",
      "6800: accepted a cross-model jump! # components: 3 --> 2\n",
      "6802: accepted a cross-model jump! # components: 2 --> 3\n",
      "6804: accepted a cross-model jump! # components: 3 --> 2\n",
      "6808: accepted a cross-model jump! # components: 2 --> 3\n",
      "6812: accepted a cross-model jump! # components: 3 --> 2\n",
      "6814: accepted a cross-model jump! # components: 2 --> 3\n",
      "6815: accepted a cross-model jump! # components: 3 --> 2\n",
      "6821: accepted a cross-model jump! # components: 2 --> 3\n",
      "6824: accepted a cross-model jump! # components: 3 --> 2\n",
      "6827: accepted a cross-model jump! # components: 2 --> 3\n",
      "6842: accepted a cross-model jump! # components: 3 --> 4\n",
      "6846: accepted a cross-model jump! # components: 4 --> 3\n",
      "6847: accepted a cross-model jump! # components: 3 --> 2\n",
      "6848: accepted a cross-model jump! # components: 2 --> 3\n"
     ]
    },
    {
     "name": "stderr",
     "output_type": "stream",
     "text": [
      " 69%|██████▉   | 6928/10000 [00:17<00:08, 377.81it/s]"
     ]
    },
    {
     "name": "stdout",
     "output_type": "stream",
     "text": [
      "6850: accepted a cross-model jump! # components: 3 --> 4\n",
      "6853: accepted a cross-model jump! # components: 4 --> 3\n",
      "6856: accepted a cross-model jump! # components: 3 --> 4\n",
      "6860: accepted a cross-model jump! # components: 4 --> 3\n",
      "6877: accepted a cross-model jump! # components: 3 --> 4\n",
      "6887: accepted a cross-model jump! # components: 4 --> 5\n",
      "6894: accepted a cross-model jump! # components: 5 --> 6\n",
      "6895: accepted a cross-model jump! # components: 6 --> 5\n",
      "6899: accepted a cross-model jump! # components: 5 --> 4\n",
      "6902: accepted a cross-model jump! # components: 4 --> 5\n",
      "6904: accepted a cross-model jump! # components: 5 --> 4\n",
      "6913: accepted a cross-model jump! # components: 4 --> 5\n",
      "6924: accepted a cross-model jump! # components: 5 --> 4\n"
     ]
    },
    {
     "name": "stderr",
     "output_type": "stream",
     "text": [
      " 70%|███████   | 7003/10000 [00:17<00:08, 349.17it/s]"
     ]
    },
    {
     "name": "stdout",
     "output_type": "stream",
     "text": [
      "6938: accepted a cross-model jump! # components: 4 --> 5\n",
      "6940: accepted a cross-model jump! # components: 5 --> 6\n",
      "6947: accepted a cross-model jump! # components: 6 --> 7\n",
      "6948: accepted a cross-model jump! # components: 7 --> 6\n",
      "6952: accepted a cross-model jump! # components: 6 --> 5\n",
      "6955: accepted a cross-model jump! # components: 5 --> 6\n",
      "6959: accepted a cross-model jump! # components: 6 --> 7\n",
      "6960: accepted a cross-model jump! # components: 7 --> 6\n",
      "6963: accepted a cross-model jump! # components: 6 --> 5\n",
      "6965: accepted a cross-model jump! # components: 5 --> 6\n",
      "6967: accepted a cross-model jump! # components: 6 --> 5\n",
      "6968: accepted a cross-model jump! # components: 5 --> 4\n",
      "6979: accepted a cross-model jump! # components: 4 --> 5\n",
      "6980: accepted a cross-model jump! # components: 5 --> 6\n",
      "6984: accepted a cross-model jump! # components: 6 --> 5\n"
     ]
    },
    {
     "name": "stderr",
     "output_type": "stream",
     "text": [
      " 71%|███████   | 7074/10000 [00:17<00:08, 327.81it/s]"
     ]
    },
    {
     "name": "stdout",
     "output_type": "stream",
     "text": [
      "7026: accepted a cross-model jump! # components: 5 --> 6\n",
      "7038: accepted a cross-model jump! # components: 6 --> 5\n",
      "7041: accepted a cross-model jump! # components: 5 --> 6\n",
      "7063: accepted a cross-model jump! # components: 6 --> 7\n",
      "7072: accepted a cross-model jump! # components: 7 --> 6\n",
      "7076: accepted a cross-model jump! # components: 6 --> 5\n",
      "7077: accepted a cross-model jump! # components: 5 --> 6\n",
      "7079: accepted a cross-model jump! # components: 6 --> 7\n",
      "7082: accepted a cross-model jump! # components: 7 --> 6\n",
      "7083: accepted a cross-model jump! # components: 6 --> 5\n"
     ]
    },
    {
     "name": "stderr",
     "output_type": "stream",
     "text": [
      " 71%|███████▏  | 7145/10000 [00:17<00:08, 338.99it/s]"
     ]
    },
    {
     "name": "stdout",
     "output_type": "stream",
     "text": [
      "7091: accepted a cross-model jump! # components: 5 --> 4\n",
      "7092: accepted a cross-model jump! # components: 4 --> 5\n",
      "7094: accepted a cross-model jump! # components: 5 --> 4\n",
      "7105: accepted a cross-model jump! # components: 4 --> 5\n",
      "7108: accepted a cross-model jump! # components: 5 --> 6\n",
      "7109: accepted a cross-model jump! # components: 6 --> 5\n",
      "7110: accepted a cross-model jump! # components: 5 --> 4\n",
      "7111: accepted a cross-model jump! # components: 4 --> 3\n",
      "7118: accepted a cross-model jump! # components: 3 --> 4\n",
      "7122: accepted a cross-model jump! # components: 4 --> 5\n",
      "7123: accepted a cross-model jump! # components: 5 --> 4\n",
      "7125: accepted a cross-model jump! # components: 4 --> 3\n",
      "7127: accepted a cross-model jump! # components: 3 --> 4\n",
      "7128: accepted a cross-model jump! # components: 4 --> 3\n",
      "7129: accepted a cross-model jump! # components: 3 --> 4\n",
      "7131: accepted a cross-model jump! # components: 4 --> 3\n",
      "7137: accepted a cross-model jump! # components: 3 --> 4\n",
      "7138: accepted a cross-model jump! # components: 4 --> 5\n",
      "7140: accepted a cross-model jump! # components: 5 --> 4\n",
      "7141: accepted a cross-model jump! # components: 4 --> 3\n",
      "7150: accepted a cross-model jump! # components: 3 --> 4\n",
      "7153: accepted a cross-model jump! # components: 4 --> 3\n",
      "7161: accepted a cross-model jump! # components: 3 --> 4\n"
     ]
    },
    {
     "name": "stderr",
     "output_type": "stream",
     "text": [
      " 72%|███████▏  | 7223/10000 [00:18<00:07, 360.11it/s]"
     ]
    },
    {
     "name": "stdout",
     "output_type": "stream",
     "text": [
      "7173: accepted a cross-model jump! # components: 4 --> 3\n",
      "7176: accepted a cross-model jump! # components: 3 --> 4\n",
      "7178: accepted a cross-model jump! # components: 4 --> 3\n",
      "7179: accepted a cross-model jump! # components: 3 --> 4\n",
      "7183: accepted a cross-model jump! # components: 4 --> 5\n",
      "7185: accepted a cross-model jump! # components: 5 --> 6\n",
      "7187: accepted a cross-model jump! # components: 6 --> 5\n",
      "7194: accepted a cross-model jump! # components: 5 --> 6\n",
      "7199: accepted a cross-model jump! # components: 6 --> 5\n",
      "7200: accepted a cross-model jump! # components: 5 --> 4\n",
      "7204: accepted a cross-model jump! # components: 4 --> 5\n",
      "7212: accepted a cross-model jump! # components: 5 --> 4\n",
      "7216: accepted a cross-model jump! # components: 4 --> 3\n",
      "7217: accepted a cross-model jump! # components: 3 --> 4\n",
      "7219: accepted a cross-model jump! # components: 4 --> 5\n",
      "7221: accepted a cross-model jump! # components: 5 --> 4\n",
      "7222: accepted a cross-model jump! # components: 4 --> 3\n",
      "7241: accepted a cross-model jump! # components: 3 --> 4\n",
      "7245: accepted a cross-model jump! # components: 4 --> 5\n",
      "7252: accepted a cross-model jump! # components: 5 --> 4"
     ]
    },
    {
     "name": "stderr",
     "output_type": "stream",
     "text": [
      " 73%|███████▎  | 7303/10000 [00:18<00:07, 371.75it/s]"
     ]
    },
    {
     "name": "stdout",
     "output_type": "stream",
     "text": [
      "\n",
      "7258: accepted a cross-model jump! # components: 4 --> 5\n",
      "7259: accepted a cross-model jump! # components: 5 --> 4\n",
      "7275: accepted a cross-model jump! # components: 4 --> 5\n",
      "7285: accepted a cross-model jump! # components: 5 --> 6\n",
      "7286: accepted a cross-model jump! # components: 6 --> 5\n",
      "7289: accepted a cross-model jump! # components: 5 --> 4\n",
      "7300: accepted a cross-model jump! # components: 4 --> 5\n",
      "7310: accepted a cross-model jump! # components: 5 --> 4\n",
      "7322: accepted a cross-model jump! # components: 4 --> 5\n",
      "7325: accepted a cross-model jump! # components: 5 --> 4\n",
      "7334: accepted a cross-model jump! # components: 4 --> 5\n"
     ]
    },
    {
     "name": "stderr",
     "output_type": "stream",
     "text": [
      " 74%|███████▍  | 7379/10000 [00:18<00:07, 342.24it/s]"
     ]
    },
    {
     "name": "stdout",
     "output_type": "stream",
     "text": [
      "7342: accepted a cross-model jump! # components: 5 --> 6\n",
      "7344: accepted a cross-model jump! # components: 6 --> 7\n",
      "7345: accepted a cross-model jump! # components: 7 --> 6\n",
      "7348: accepted a cross-model jump! # components: 6 --> 7\n",
      "7352: accepted a cross-model jump! # components: 7 --> 6\n",
      "7355: accepted a cross-model jump! # components: 6 --> 5\n",
      "7357: accepted a cross-model jump! # components: 5 --> 6\n",
      "7358: accepted a cross-model jump! # components: 6 --> 5\n",
      "7366: accepted a cross-model jump! # components: 5 --> 6\n",
      "7368: accepted a cross-model jump! # components: 6 --> 7\n",
      "7369: accepted a cross-model jump! # components: 7 --> 6\n",
      "7373: accepted a cross-model jump! # components: 6 --> 5\n",
      "7374: accepted a cross-model jump! # components: 5 --> 4\n",
      "7383: accepted a cross-model jump! # components: 4 --> 5\n",
      "7385: accepted a cross-model jump! # components: 5 --> 6\n",
      "7388: accepted a cross-model jump! # components: 6 --> 5\n",
      "7391: accepted a cross-model jump! # components: 5 --> 4\n",
      "7401: accepted a cross-model jump! # components: 4 --> 3\n",
      "7404: accepted a cross-model jump! # components: 3 --> 4\n",
      "7406: accepted a cross-model jump! # components: 4 --> 3\n",
      "7407: accepted a cross-model jump! # components: 3 --> 4\n",
      "7408: accepted a cross-model jump! # components: 4 --> 3\n"
     ]
    },
    {
     "name": "stderr",
     "output_type": "stream",
     "text": [
      " 75%|███████▍  | 7453/10000 [00:18<00:07, 351.50it/s]"
     ]
    },
    {
     "name": "stdout",
     "output_type": "stream",
     "text": [
      "7415: accepted a cross-model jump! # components: 3 --> 4\n",
      "7418: accepted a cross-model jump! # components: 4 --> 5\n",
      "7419: accepted a cross-model jump! # components: 5 --> 4\n",
      "7421: accepted a cross-model jump! # components: 4 --> 3\n",
      "7423: accepted a cross-model jump! # components: 3 --> 2\n",
      "7430: accepted a cross-model jump! # components: 2 --> 3\n",
      "7432: accepted a cross-model jump! # components: 3 --> 4\n",
      "7433: accepted a cross-model jump! # components: 4 --> 5\n",
      "7436: accepted a cross-model jump! # components: 5 --> 4\n",
      "7438: accepted a cross-model jump! # components: 4 --> 5\n",
      "7439: accepted a cross-model jump! # components: 5 --> 4\n",
      "7445: accepted a cross-model jump! # components: 4 --> 3\n",
      "7448: accepted a cross-model jump! # components: 3 --> 2\n",
      "7451: accepted a cross-model jump! # components: 2 --> 3\n",
      "7456: accepted a cross-model jump! # components: 3 --> 4\n",
      "7462: accepted a cross-model jump! # components: 4 --> 3\n",
      "7464: accepted a cross-model jump! # components: 3 --> 4\n",
      "7465: accepted a cross-model jump! # components: 4 --> 5\n",
      "7469: accepted a cross-model jump! # components: 5 --> 4\n",
      "7470: accepted a cross-model jump! # components: 4 --> 3\n",
      "7475: accepted a cross-model jump! # components: 3 --> 4\n",
      "7477: accepted a cross-model jump! # components: 4 --> 3\n",
      "7478: accepted a cross-model jump! # components: 3 --> 2\n",
      "7482: accepted a cross-model jump! # components: 2 --> 3\n",
      "7483: accepted a cross-model jump! # components: 3 --> 4\n",
      "7484: accepted a cross-model jump! # components: 4 --> 3\n",
      "7485: accepted a cross-model jump! # components: 3 --> 2\n"
     ]
    },
    {
     "name": "stderr",
     "output_type": "stream",
     "text": [
      " 76%|███████▌  | 7568/10000 [00:19<00:07, 341.67it/s]"
     ]
    },
    {
     "name": "stdout",
     "output_type": "stream",
     "text": [
      "7506: accepted a cross-model jump! # components: 2 --> 3\n",
      "7510: accepted a cross-model jump! # components: 3 --> 4\n",
      "7513: accepted a cross-model jump! # components: 4 --> 5\n",
      "7514: accepted a cross-model jump! # components: 5 --> 4\n",
      "7515: accepted a cross-model jump! # components: 4 --> 5\n",
      "7517: accepted a cross-model jump! # components: 5 --> 4\n",
      "7521: accepted a cross-model jump! # components: 4 --> 5\n",
      "7525: accepted a cross-model jump! # components: 5 --> 4\n",
      "7533: accepted a cross-model jump! # components: 4 --> 3\n",
      "7538: accepted a cross-model jump! # components: 3 --> 4\n",
      "7539: accepted a cross-model jump! # components: 4 --> 3\n",
      "7544: accepted a cross-model jump! # components: 3 --> 4\n",
      "7551: accepted a cross-model jump! # components: 4 --> 5\n",
      "7553: accepted a cross-model jump! # components: 5 --> 4\n",
      "7556: accepted a cross-model jump! # components: 4 --> 5\n",
      "7558: accepted a cross-model jump! # components: 5 --> 6\n",
      "7559: accepted a cross-model jump! # components: 6 --> 5\n",
      "7563: accepted a cross-model jump! # components: 5 --> 6\n",
      "7565: accepted a cross-model jump! # components: 6 --> 5\n",
      "7567: accepted a cross-model jump! # components: 5 --> 4\n"
     ]
    },
    {
     "name": "stderr",
     "output_type": "stream",
     "text": [
      " 76%|███████▋  | 7642/10000 [00:19<00:06, 350.47it/s]"
     ]
    },
    {
     "name": "stdout",
     "output_type": "stream",
     "text": [
      "7571: accepted a cross-model jump! # components: 4 --> 3\n",
      "7575: accepted a cross-model jump! # components: 3 --> 4\n",
      "7588: accepted a cross-model jump! # components: 4 --> 5\n",
      "7589: accepted a cross-model jump! # components: 5 --> 4\n",
      "7592: accepted a cross-model jump! # components: 4 --> 3\n",
      "7600: accepted a cross-model jump! # components: 3 --> 4\n",
      "7601: accepted a cross-model jump! # components: 4 --> 3\n",
      "7611: accepted a cross-model jump! # components: 3 --> 4\n",
      "7612: accepted a cross-model jump! # components: 4 --> 5\n",
      "7614: accepted a cross-model jump! # components: 5 --> 6\n",
      "7615: accepted a cross-model jump! # components: 6 --> 5\n",
      "7616: accepted a cross-model jump! # components: 5 --> 4\n",
      "7620: accepted a cross-model jump! # components: 4 --> 5\n",
      "7625: accepted a cross-model jump! # components: 5 --> 6\n",
      "7626: accepted a cross-model jump! # components: 6 --> 5\n",
      "7628: accepted a cross-model jump! # components: 5 --> 4\n",
      "7629: accepted a cross-model jump! # components: 4 --> 5\n",
      "7631: accepted a cross-model jump! # components: 5 --> 4\n",
      "7632: accepted a cross-model jump! # components: 4 --> 5\n",
      "7633: accepted a cross-model jump! # components: 5 --> 4\n",
      "7638: accepted a cross-model jump! # components: 4 --> 3\n",
      "7641: accepted a cross-model jump! # components: 3 --> 4\n",
      "7644: accepted a cross-model jump! # components: 4 --> 3\n",
      "7645: accepted a cross-model jump! # components: 3 --> 4"
     ]
    },
    {
     "name": "stderr",
     "output_type": "stream",
     "text": [
      " 77%|███████▋  | 7720/10000 [00:19<00:06, 368.12it/s]"
     ]
    },
    {
     "name": "stdout",
     "output_type": "stream",
     "text": [
      "\n",
      "7646: accepted a cross-model jump! # components: 4 --> 5\n",
      "7658: accepted a cross-model jump! # components: 5 --> 4\n",
      "7659: accepted a cross-model jump! # components: 4 --> 3\n",
      "7660: accepted a cross-model jump! # components: 3 --> 4\n",
      "7662: accepted a cross-model jump! # components: 4 --> 5\n",
      "7667: accepted a cross-model jump! # components: 5 --> 4\n",
      "7670: accepted a cross-model jump! # components: 4 --> 3\n",
      "7684: accepted a cross-model jump! # components: 3 --> 4\n",
      "7689: accepted a cross-model jump! # components: 4 --> 3\n",
      "7693: accepted a cross-model jump! # components: 3 --> 4\n",
      "7696: accepted a cross-model jump! # components: 4 --> 3\n",
      "7698: accepted a cross-model jump! # components: 3 --> 4\n",
      "7702: accepted a cross-model jump! # components: 4 --> 5\n",
      "7705: accepted a cross-model jump! # components: 5 --> 4\n",
      "7708: accepted a cross-model jump! # components: 4 --> 3\n",
      "7709: accepted a cross-model jump! # components: 3 --> 4\n",
      "7715: accepted a cross-model jump! # components: 4 --> 3\n",
      "7724: accepted a cross-model jump! # components: 3 --> 4\n",
      "7726: accepted a cross-model jump! # components: 4 --> 5\n"
     ]
    },
    {
     "name": "stderr",
     "output_type": "stream",
     "text": [
      " 78%|███████▊  | 7813/10000 [00:19<00:05, 411.47it/s]"
     ]
    },
    {
     "name": "stdout",
     "output_type": "stream",
     "text": [
      "7729: accepted a cross-model jump! # components: 5 --> 6\n",
      "7730: accepted a cross-model jump! # components: 6 --> 5\n",
      "7731: accepted a cross-model jump! # components: 5 --> 4\n",
      "7733: accepted a cross-model jump! # components: 4 --> 5\n",
      "7734: accepted a cross-model jump! # components: 5 --> 4\n",
      "7735: accepted a cross-model jump! # components: 4 --> 3\n",
      "7738: accepted a cross-model jump! # components: 3 --> 2\n",
      "7765: accepted a cross-model jump! # components: 2 --> 3\n",
      "7768: accepted a cross-model jump! # components: 3 --> 2\n",
      "7771: accepted a cross-model jump! # components: 2 --> 3\n",
      "7772: accepted a cross-model jump! # components: 3 --> 2\n",
      "7778: accepted a cross-model jump! # components: 2 --> 3\n",
      "7780: accepted a cross-model jump! # components: 3 --> 4\n",
      "7782: accepted a cross-model jump! # components: 4 --> 3\n",
      "7785: accepted a cross-model jump! # components: 3 --> 4\n",
      "7789: accepted a cross-model jump! # components: 4 --> 3\n",
      "7791: accepted a cross-model jump! # components: 3 --> 2\n",
      "7812: accepted a cross-model jump! # components: 2 --> 3\n",
      "7816: accepted a cross-model jump! # components: 3 --> 4\n",
      "7817: accepted a cross-model jump! # components: 4 --> 3\n",
      "7818: accepted a cross-model jump! # components: 3 --> 2\n",
      "7823: accepted a cross-model jump! # components: 2 --> 3\n"
     ]
    },
    {
     "name": "stderr",
     "output_type": "stream",
     "text": [
      " 79%|███████▉  | 7897/10000 [00:19<00:05, 377.60it/s]"
     ]
    },
    {
     "name": "stdout",
     "output_type": "stream",
     "text": [
      "7832: accepted a cross-model jump! # components: 3 --> 4\n",
      "7837: accepted a cross-model jump! # components: 4 --> 5\n",
      "7839: accepted a cross-model jump! # components: 5 --> 4\n",
      "7844: accepted a cross-model jump! # components: 4 --> 5\n",
      "7845: accepted a cross-model jump! # components: 5 --> 4\n",
      "7847: accepted a cross-model jump! # components: 4 --> 5\n",
      "7848: accepted a cross-model jump! # components: 5 --> 4\n",
      "7852: accepted a cross-model jump! # components: 4 --> 3\n",
      "7854: accepted a cross-model jump! # components: 3 --> 4\n",
      "7855: accepted a cross-model jump! # components: 4 --> 3\n",
      "7857: accepted a cross-model jump! # components: 3 --> 4\n",
      "7865: accepted a cross-model jump! # components: 4 --> 3\n",
      "7867: accepted a cross-model jump! # components: 3 --> 4\n",
      "7876: accepted a cross-model jump! # components: 4 --> 5\n",
      "7880: accepted a cross-model jump! # components: 5 --> 4\n",
      "7893: accepted a cross-model jump! # components: 4 --> 5\n",
      "7896: accepted a cross-model jump! # components: 5 --> 6\n",
      "7898: accepted a cross-model jump! # components: 6 --> 5\n"
     ]
    },
    {
     "name": "stderr",
     "output_type": "stream",
     "text": [
      "\r",
      " 79%|███████▉  | 7936/10000 [00:19<00:05, 367.39it/s]"
     ]
    },
    {
     "name": "stdout",
     "output_type": "stream",
     "text": [
      "7900: accepted a cross-model jump! # components: 5 --> 6\n",
      "7906: accepted a cross-model jump! # components: 6 --> 7\n",
      "7909: accepted a cross-model jump! # components: 7 --> 6\n",
      "7917: accepted a cross-model jump! # components: 6 --> 5\n",
      "7918: accepted a cross-model jump! # components: 5 --> 6\n",
      "7919: accepted a cross-model jump! # components: 6 --> 5\n",
      "7926: accepted a cross-model jump! # components: 5 --> 4\n",
      "7940: accepted a cross-model jump! # components: 4 --> 5\n",
      "7941: accepted a cross-model jump! # components: 5 --> 6\n",
      "7942: accepted a cross-model jump! # components: 6 --> 5\n",
      "7943: accepted a cross-model jump! # components: 5 --> 4\n",
      "7947: accepted a cross-model jump! # components: 4 --> 5\n"
     ]
    },
    {
     "name": "stderr",
     "output_type": "stream",
     "text": [
      " 81%|████████  | 8060/10000 [00:20<00:04, 390.54it/s]"
     ]
    },
    {
     "name": "stdout",
     "output_type": "stream",
     "text": [
      "7974: accepted a cross-model jump! # components: 5 --> 6\n",
      "7978: accepted a cross-model jump! # components: 6 --> 7\n",
      "7979: accepted a cross-model jump! # components: 7 --> 6\n",
      "7980: accepted a cross-model jump! # components: 6 --> 7\n",
      "7984: accepted a cross-model jump! # components: 7 --> 6\n",
      "7985: accepted a cross-model jump! # components: 6 --> 5\n",
      "7986: accepted a cross-model jump! # components: 5 --> 4\n",
      "7990: accepted a cross-model jump! # components: 4 --> 3\n",
      "8019: accepted a cross-model jump! # components: 3 --> 4\n",
      "8020: accepted a cross-model jump! # components: 4 --> 5\n",
      "8021: accepted a cross-model jump! # components: 5 --> 4\n",
      "8025: accepted a cross-model jump! # components: 4 --> 5\n",
      "8028: accepted a cross-model jump! # components: 5 --> 4\n",
      "8029: accepted a cross-model jump! # components: 4 --> 3\n",
      "8040: accepted a cross-model jump! # components: 3 --> 4\n",
      "8042: accepted a cross-model jump! # components: 4 --> 3\n",
      "8060: accepted a cross-model jump! # components: 3 --> 4\n"
     ]
    },
    {
     "name": "stderr",
     "output_type": "stream",
     "text": [
      " 81%|████████▏ | 8146/10000 [00:20<00:04, 405.83it/s]"
     ]
    },
    {
     "name": "stdout",
     "output_type": "stream",
     "text": [
      "8065: accepted a cross-model jump! # components: 4 --> 3\n",
      "8066: accepted a cross-model jump! # components: 3 --> 2\n",
      "8068: accepted a cross-model jump! # components: 2 --> 3\n",
      "8072: accepted a cross-model jump! # components: 3 --> 2\n",
      "8073: accepted a cross-model jump! # components: 2 --> 3\n",
      "8074: accepted a cross-model jump! # components: 3 --> 2\n",
      "8075: accepted a cross-model jump! # components: 2 --> 1\n",
      "8077: accepted a cross-model jump! # components: 1 --> 2\n",
      "8078: accepted a cross-model jump! # components: 2 --> 3\n",
      "8081: accepted a cross-model jump! # components: 3 --> 4\n",
      "8082: accepted a cross-model jump! # components: 4 --> 3\n",
      "8089: accepted a cross-model jump! # components: 3 --> 4\n",
      "8093: accepted a cross-model jump! # components: 4 --> 3\n",
      "8095: accepted a cross-model jump! # components: 3 --> 4\n",
      "8096: accepted a cross-model jump! # components: 4 --> 5\n",
      "8098: accepted a cross-model jump! # components: 5 --> 4\n",
      "8113: accepted a cross-model jump! # components: 4 --> 5\n",
      "8114: accepted a cross-model jump! # components: 5 --> 4\n",
      "8116: accepted a cross-model jump! # components: 4 --> 3\n",
      "8141: accepted a cross-model jump! # components: 3 --> 4\n",
      "8144: accepted a cross-model jump! # components: 4 --> 5\n",
      "8146: accepted a cross-model jump! # components: 5 --> 4\n",
      "8147: accepted a cross-model jump! # components: 4 --> 3\n"
     ]
    },
    {
     "name": "stderr",
     "output_type": "stream",
     "text": [
      "\r",
      " 82%|████████▏ | 8187/10000 [00:20<00:04, 390.08it/s]"
     ]
    },
    {
     "name": "stdout",
     "output_type": "stream",
     "text": [
      "8155: accepted a cross-model jump! # components: 3 --> 4\n",
      "8156: accepted a cross-model jump! # components: 4 --> 5\n",
      "8157: accepted a cross-model jump! # components: 5 --> 4\n",
      "8160: accepted a cross-model jump! # components: 4 --> 5\n",
      "8162: accepted a cross-model jump! # components: 5 --> 4\n",
      "8164: accepted a cross-model jump! # components: 4 --> 5\n",
      "8173: accepted a cross-model jump! # components: 5 --> 4\n",
      "8174: accepted a cross-model jump! # components: 4 --> 5\n",
      "8175: accepted a cross-model jump! # components: 5 --> 6\n",
      "8176: accepted a cross-model jump! # components: 6 --> 5\n",
      "8179: accepted a cross-model jump! # components: 5 --> 4\n",
      "8180: accepted a cross-model jump! # components: 4 --> 3\n",
      "8181: accepted a cross-model jump! # components: 3 --> 4\n",
      "8185: accepted a cross-model jump! # components: 4 --> 3\n",
      "8190: accepted a cross-model jump! # components: 3 --> 4\n",
      "8196: accepted a cross-model jump! # components: 4 --> 5\n",
      "8198: accepted a cross-model jump! # components: 5 --> 4\n",
      "8203: accepted a cross-model jump! # components: 4 --> 5\n",
      "8205: accepted a cross-model jump! # components: 5 --> 6\n",
      "8208: accepted a cross-model jump! # components: 6 --> 5\n",
      "8209: accepted a cross-model jump! # components: 5 --> 4\n",
      "8213: accepted a cross-model jump! # components: 4 --> 5\n",
      "8214: accepted a cross-model jump! # components: 5 --> 4\n",
      "8217: accepted a cross-model jump! # components: 4 --> 3\n",
      "8220: accepted a cross-model jump! # components: 3 --> 4\n",
      "8221: accepted a cross-model jump! # components: 4 --> 5\n",
      "8222: accepted a cross-model jump! # components: 5 --> 6\n"
     ]
    },
    {
     "name": "stderr",
     "output_type": "stream",
     "text": [
      " 83%|████████▎ | 8266/10000 [00:20<00:04, 374.90it/s]"
     ]
    },
    {
     "name": "stdout",
     "output_type": "stream",
     "text": [
      "8224: accepted a cross-model jump! # components: 6 --> 5\n",
      "8226: accepted a cross-model jump! # components: 5 --> 6\n",
      "8228: accepted a cross-model jump! # components: 6 --> 7\n",
      "8236: accepted a cross-model jump! # components: 7 --> 6\n",
      "8237: accepted a cross-model jump! # components: 6 --> 5\n",
      "8238: accepted a cross-model jump! # components: 5 --> 4\n",
      "8239: accepted a cross-model jump! # components: 4 --> 3\n",
      "8246: accepted a cross-model jump! # components: 3 --> 4\n",
      "8251: accepted a cross-model jump! # components: 4 --> 3\n",
      "8252: accepted a cross-model jump! # components: 3 --> 4\n",
      "8253: accepted a cross-model jump! # components: 4 --> 3\n",
      "8276: accepted a cross-model jump! # components: 3 --> 4\n",
      "8278: accepted a cross-model jump! # components: 4 --> 5\n",
      "8281: accepted a cross-model jump! # components: 5 --> 4\n",
      "8282: accepted a cross-model jump! # components: 4 --> 5\n",
      "8289: accepted a cross-model jump! # components: 5 --> 6\n",
      "8293: accepted a cross-model jump! # components: 6 --> 7\n",
      "8294: accepted a cross-model jump! # components: 7 --> 6\n",
      "8297: accepted a cross-model jump! # components: 6 --> 5\n",
      "8300: accepted a cross-model jump! # components: 5 --> 4\n"
     ]
    },
    {
     "name": "stderr",
     "output_type": "stream",
     "text": [
      " 84%|████████▍ | 8399/10000 [00:21<00:03, 417.06it/s]"
     ]
    },
    {
     "name": "stdout",
     "output_type": "stream",
     "text": [
      "8307: accepted a cross-model jump! # components: 4 --> 5\n",
      "8312: accepted a cross-model jump! # components: 5 --> 4\n",
      "8326: accepted a cross-model jump! # components: 4 --> 5\n",
      "8327: accepted a cross-model jump! # components: 5 --> 6\n",
      "8329: accepted a cross-model jump! # components: 6 --> 5\n",
      "8331: accepted a cross-model jump! # components: 5 --> 4\n",
      "8340: accepted a cross-model jump! # components: 4 --> 5\n",
      "8341: accepted a cross-model jump! # components: 5 --> 4\n",
      "8342: accepted a cross-model jump! # components: 4 --> 3\n",
      "8343: accepted a cross-model jump! # components: 3 --> 4\n",
      "8345: accepted a cross-model jump! # components: 4 --> 3\n",
      "8367: accepted a cross-model jump! # components: 3 --> 4\n",
      "8369: accepted a cross-model jump! # components: 4 --> 3\n",
      "8376: accepted a cross-model jump! # components: 3 --> 4\n",
      "8377: accepted a cross-model jump! # components: 4 --> 3\n",
      "8395: accepted a cross-model jump! # components: 3 --> 4\n"
     ]
    },
    {
     "name": "stderr",
     "output_type": "stream",
     "text": [
      " 85%|████████▍ | 8485/10000 [00:21<00:03, 418.23it/s]"
     ]
    },
    {
     "name": "stdout",
     "output_type": "stream",
     "text": [
      "8400: accepted a cross-model jump! # components: 4 --> 5\n",
      "8401: accepted a cross-model jump! # components: 5 --> 6\n",
      "8402: accepted a cross-model jump! # components: 6 --> 5\n",
      "8403: accepted a cross-model jump! # components: 5 --> 4\n",
      "8407: accepted a cross-model jump! # components: 4 --> 3\n",
      "8411: accepted a cross-model jump! # components: 3 --> 4\n",
      "8415: accepted a cross-model jump! # components: 4 --> 3\n",
      "8417: accepted a cross-model jump! # components: 3 --> 4\n",
      "8419: accepted a cross-model jump! # components: 4 --> 3\n",
      "8429: accepted a cross-model jump! # components: 3 --> 4\n",
      "8431: accepted a cross-model jump! # components: 4 --> 5\n",
      "8433: accepted a cross-model jump! # components: 5 --> 6\n",
      "8440: accepted a cross-model jump! # components: 6 --> 7\n",
      "8443: accepted a cross-model jump! # components: 7 --> 6\n",
      "8445: accepted a cross-model jump! # components: 6 --> 5\n",
      "8447: accepted a cross-model jump! # components: 5 --> 4\n",
      "8450: accepted a cross-model jump! # components: 4 --> 5\n",
      "8451: accepted a cross-model jump! # components: 5 --> 4\n",
      "8452: accepted a cross-model jump! # components: 4 --> 5\n",
      "8453: accepted a cross-model jump! # components: 5 --> 4\n",
      "8454: accepted a cross-model jump! # components: 4 --> 5\n",
      "8457: accepted a cross-model jump! # components: 5 --> 4\n",
      "8473: accepted a cross-model jump! # components: 4 --> 5\n",
      "8474: accepted a cross-model jump! # components: 5 --> 4\n",
      "8479: accepted a cross-model jump! # components: 4 --> 3\n",
      "8483: accepted a cross-model jump! # components: 3 --> 4\n",
      "8485: accepted a cross-model jump! # components: 4 --> 3"
     ]
    },
    {
     "name": "stderr",
     "output_type": "stream",
     "text": [
      " 86%|████████▌ | 8579/10000 [00:21<00:03, 440.94it/s]"
     ]
    },
    {
     "name": "stdout",
     "output_type": "stream",
     "text": [
      "\n",
      "8487: accepted a cross-model jump! # components: 3 --> 4\n",
      "8490: accepted a cross-model jump! # components: 4 --> 3\n",
      "8525: accepted a cross-model jump! # components: 3 --> 4\n",
      "8527: accepted a cross-model jump! # components: 4 --> 3\n",
      "8528: accepted a cross-model jump! # components: 3 --> 4\n",
      "8532: accepted a cross-model jump! # components: 4 --> 3\n",
      "8537: accepted a cross-model jump! # components: 3 --> 2\n",
      "8543: accepted a cross-model jump! # components: 2 --> 3\n",
      "8544: accepted a cross-model jump! # components: 3 --> 2\n",
      "8545: accepted a cross-model jump! # components: 2 --> 3\n",
      "8547: accepted a cross-model jump! # components: 3 --> 2\n",
      "8550: accepted a cross-model jump! # components: 2 --> 3\n",
      "8551: accepted a cross-model jump! # components: 3 --> 2\n",
      "8552: accepted a cross-model jump! # components: 2 --> 1\n",
      "8553: accepted a cross-model jump! # components: 1 --> 2\n",
      "8560: accepted a cross-model jump! # components: 2 --> 3\n",
      "8562: accepted a cross-model jump! # components: 3 --> 2\n",
      "8563: accepted a cross-model jump! # components: 2 --> 3\n",
      "8565: accepted a cross-model jump! # components: 3 --> 2\n",
      "8571: accepted a cross-model jump! # components: 2 --> 3\n",
      "8572: accepted a cross-model jump! # components: 3 --> 4\n",
      "8575: accepted a cross-model jump! # components: 4 --> 3\n",
      "8577: accepted a cross-model jump! # components: 3 --> 2\n",
      "8580: accepted a cross-model jump! # components: 2 --> 3\n"
     ]
    },
    {
     "name": "stderr",
     "output_type": "stream",
     "text": [
      " 87%|████████▋ | 8672/10000 [00:21<00:02, 444.72it/s]"
     ]
    },
    {
     "name": "stdout",
     "output_type": "stream",
     "text": [
      "8582: accepted a cross-model jump! # components: 3 --> 4\n",
      "8584: accepted a cross-model jump! # components: 4 --> 5\n",
      "8585: accepted a cross-model jump! # components: 5 --> 4\n",
      "8589: accepted a cross-model jump! # components: 4 --> 5\n",
      "8592: accepted a cross-model jump! # components: 5 --> 4\n",
      "8595: accepted a cross-model jump! # components: 4 --> 3\n",
      "8599: accepted a cross-model jump! # components: 3 --> 4\n",
      "8600: accepted a cross-model jump! # components: 4 --> 3\n",
      "8604: accepted a cross-model jump! # components: 3 --> 4\n",
      "8605: accepted a cross-model jump! # components: 4 --> 3\n",
      "8616: accepted a cross-model jump! # components: 3 --> 4\n",
      "8632: accepted a cross-model jump! # components: 4 --> 5\n",
      "8634: accepted a cross-model jump! # components: 5 --> 4\n",
      "8638: accepted a cross-model jump! # components: 4 --> 3\n",
      "8640: accepted a cross-model jump! # components: 3 --> 4\n",
      "8646: accepted a cross-model jump! # components: 4 --> 3\n",
      "8649: accepted a cross-model jump! # components: 3 --> 4\n",
      "8654: accepted a cross-model jump! # components: 4 --> 5\n",
      "8655: accepted a cross-model jump! # components: 5 --> 4\n",
      "8659: accepted a cross-model jump! # components: 4 --> 5\n",
      "8662: accepted a cross-model jump! # components: 5 --> 4\n",
      "8664: accepted a cross-model jump! # components: 4 --> 5\n",
      "8667: accepted a cross-model jump! # components: 5 --> 6\n",
      "8668: accepted a cross-model jump! # components: 6 --> 7\n",
      "8670: accepted a cross-model jump! # components: 7 --> 6\n"
     ]
    },
    {
     "name": "stderr",
     "output_type": "stream",
     "text": [
      "\r",
      " 87%|████████▋ | 8717/10000 [00:21<00:02, 442.83it/s]"
     ]
    },
    {
     "name": "stdout",
     "output_type": "stream",
     "text": [
      "8675: accepted a cross-model jump! # components: 6 --> 5\n",
      "8677: accepted a cross-model jump! # components: 5 --> 4\n",
      "8682: accepted a cross-model jump! # components: 4 --> 5\n",
      "8684: accepted a cross-model jump! # components: 5 --> 4\n",
      "8691: accepted a cross-model jump! # components: 4 --> 5\n",
      "8698: accepted a cross-model jump! # components: 5 --> 6\n",
      "8699: accepted a cross-model jump! # components: 6 --> 5\n",
      "8701: accepted a cross-model jump! # components: 5 --> 4\n",
      "8720: accepted a cross-model jump! # components: 4 --> 5\n",
      "8737: accepted a cross-model jump! # components: 5 --> 6\n",
      "8738: accepted a cross-model jump! # components: 6 --> 5\n",
      "8742: accepted a cross-model jump! # components: 5 --> 6\n",
      "8743: accepted a cross-model jump! # components: 6 --> 7\n",
      "8744: accepted a cross-model jump! # components: 7 --> 6\n",
      "8746: accepted a cross-model jump! # components: 6 --> 5\n",
      "8747: accepted a cross-model jump! # components: 5 --> 6\n",
      "8749: accepted a cross-model jump! # components: 6 --> 5\n",
      "8751: accepted a cross-model jump! # components: 5 --> 4\n",
      "8752: accepted a cross-model jump! # components: 4 --> 3\n"
     ]
    },
    {
     "name": "stderr",
     "output_type": "stream",
     "text": [
      " 88%|████████▊ | 8809/10000 [00:22<00:02, 422.51it/s]"
     ]
    },
    {
     "name": "stdout",
     "output_type": "stream",
     "text": [
      "8756: accepted a cross-model jump! # components: 3 --> 4\n",
      "8761: accepted a cross-model jump! # components: 4 --> 3\n",
      "8762: accepted a cross-model jump! # components: 3 --> 2\n",
      "8763: accepted a cross-model jump! # components: 2 --> 3\n",
      "8764: accepted a cross-model jump! # components: 3 --> 4\n",
      "8765: accepted a cross-model jump! # components: 4 --> 3\n",
      "8770: accepted a cross-model jump! # components: 3 --> 4\n",
      "8777: accepted a cross-model jump! # components: 4 --> 3\n",
      "8780: accepted a cross-model jump! # components: 3 --> 4\n",
      "8783: accepted a cross-model jump! # components: 4 --> 5\n",
      "8784: accepted a cross-model jump! # components: 5 --> 4\n",
      "8785: accepted a cross-model jump! # components: 4 --> 3\n",
      "8790: accepted a cross-model jump! # components: 3 --> 4\n",
      "8791: accepted a cross-model jump! # components: 4 --> 3\n",
      "8794: accepted a cross-model jump! # components: 3 --> 4\n",
      "8800: accepted a cross-model jump! # components: 4 --> 3\n",
      "8818: accepted a cross-model jump! # components: 3 --> 4\n",
      "8819: accepted a cross-model jump! # components: 4 --> 3\n",
      "8829: accepted a cross-model jump! # components: 3 --> 4\n",
      "8837: accepted a cross-model jump! # components: 4 --> 5\n",
      "8840: accepted a cross-model jump! # components: 5 --> 4\n",
      "8842: accepted a cross-model jump! # components: 4 --> 5\n",
      "8844: accepted a cross-model jump! # components: 5 --> 6\n",
      "8845: accepted a cross-model jump! # components: 6 --> 5\n"
     ]
    },
    {
     "name": "stderr",
     "output_type": "stream",
     "text": [
      " 89%|████████▉ | 8904/10000 [00:22<00:02, 445.74it/s]"
     ]
    },
    {
     "name": "stdout",
     "output_type": "stream",
     "text": [
      "8850: accepted a cross-model jump! # components: 5 --> 6\n",
      "8855: accepted a cross-model jump! # components: 6 --> 5\n",
      "8857: accepted a cross-model jump! # components: 5 --> 4\n",
      "8871: accepted a cross-model jump! # components: 4 --> 5\n",
      "8887: accepted a cross-model jump! # components: 5 --> 4\n",
      "8890: accepted a cross-model jump! # components: 4 --> 5\n",
      "8892: accepted a cross-model jump! # components: 5 --> 4\n",
      "8896: accepted a cross-model jump! # components: 4 --> 3\n",
      "8897: accepted a cross-model jump! # components: 3 --> 2\n",
      "8905: accepted a cross-model jump! # components: 2 --> 3\n",
      "8906: accepted a cross-model jump! # components: 3 --> 2\n",
      "8910: accepted a cross-model jump! # components: 2 --> 3\n",
      "8913: accepted a cross-model jump! # components: 3 --> 4\n",
      "8920: accepted a cross-model jump! # components: 4 --> 3\n",
      "8923: accepted a cross-model jump! # components: 3 --> 2\n",
      "8925: accepted a cross-model jump! # components: 2 --> 3\n",
      "8932: accepted a cross-model jump! # components: 3 --> 4\n",
      "8939: accepted a cross-model jump! # components: 4 --> 3\n",
      "8942: accepted a cross-model jump! # components: 3 --> 2\n"
     ]
    },
    {
     "name": "stderr",
     "output_type": "stream",
     "text": [
      " 90%|████████▉ | 8999/10000 [00:22<00:02, 459.16it/s]"
     ]
    },
    {
     "name": "stdout",
     "output_type": "stream",
     "text": [
      "8951: accepted a cross-model jump! # components: 2 --> 3\n",
      "8957: accepted a cross-model jump! # components: 3 --> 2\n",
      "8961: accepted a cross-model jump! # components: 2 --> 3\n",
      "8962: accepted a cross-model jump! # components: 3 --> 2\n",
      "8965: accepted a cross-model jump! # components: 2 --> 3\n",
      "8968: accepted a cross-model jump! # components: 3 --> 2\n",
      "8980: accepted a cross-model jump! # components: 2 --> 3\n",
      "8982: accepted a cross-model jump! # components: 3 --> 4\n",
      "8985: accepted a cross-model jump! # components: 4 --> 3\n",
      "8986: accepted a cross-model jump! # components: 3 --> 2\n",
      "8991: accepted a cross-model jump! # components: 2 --> 3\n",
      "9001: accepted a cross-model jump! # components: 3 --> 4\n",
      "9003: accepted a cross-model jump! # components: 4 --> 3\n",
      "9014: accepted a cross-model jump! # components: 3 --> 4\n",
      "9017: accepted a cross-model jump! # components: 4 --> 5\n",
      "9019: accepted a cross-model jump! # components: 5 --> 4\n",
      "9027: accepted a cross-model jump! # components: 4 --> 3\n",
      "9030: accepted a cross-model jump! # components: 3 --> 4\n"
     ]
    },
    {
     "name": "stderr",
     "output_type": "stream",
     "text": [
      " 91%|█████████ | 9088/10000 [00:22<00:02, 396.84it/s]"
     ]
    },
    {
     "name": "stdout",
     "output_type": "stream",
     "text": [
      "9041: accepted a cross-model jump! # components: 4 --> 5\n",
      "9044: accepted a cross-model jump! # components: 5 --> 4\n",
      "9046: accepted a cross-model jump! # components: 4 --> 3\n",
      "9047: accepted a cross-model jump! # components: 3 --> 4\n",
      "9050: accepted a cross-model jump! # components: 4 --> 5\n",
      "9053: accepted a cross-model jump! # components: 5 --> 6\n",
      "9054: accepted a cross-model jump! # components: 6 --> 5\n",
      "9055: accepted a cross-model jump! # components: 5 --> 4\n",
      "9056: accepted a cross-model jump! # components: 4 --> 3\n",
      "9061: accepted a cross-model jump! # components: 3 --> 4\n",
      "9065: accepted a cross-model jump! # components: 4 --> 3\n",
      "9067: accepted a cross-model jump! # components: 3 --> 4\n",
      "9068: accepted a cross-model jump! # components: 4 --> 3\n",
      "9076: accepted a cross-model jump! # components: 3 --> 4\n",
      "9077: accepted a cross-model jump! # components: 4 --> 3\n",
      "9082: accepted a cross-model jump! # components: 3 --> 4\n",
      "9085: accepted a cross-model jump! # components: 4 --> 3\n",
      "9087: accepted a cross-model jump! # components: 3 --> 4\n",
      "9088: accepted a cross-model jump! # components: 4 --> 3\n",
      "9089: accepted a cross-model jump! # components: 3 --> 4\n",
      "9095: accepted a cross-model jump! # components: 4 --> 3\n",
      "9120: accepted a cross-model jump! # components: 3 --> 4\n"
     ]
    },
    {
     "name": "stderr",
     "output_type": "stream",
     "text": [
      " 92%|█████████▏| 9169/10000 [00:22<00:02, 389.63it/s]"
     ]
    },
    {
     "name": "stdout",
     "output_type": "stream",
     "text": [
      "9121: accepted a cross-model jump! # components: 4 --> 5\n",
      "9122: accepted a cross-model jump! # components: 5 --> 4\n",
      "9123: accepted a cross-model jump! # components: 4 --> 5\n",
      "9124: accepted a cross-model jump! # components: 5 --> 6\n",
      "9126: accepted a cross-model jump! # components: 6 --> 7\n",
      "9127: accepted a cross-model jump! # components: 7 --> 6\n",
      "9128: accepted a cross-model jump! # components: 6 --> 7\n",
      "9129: accepted a cross-model jump! # components: 7 --> 6\n",
      "9132: accepted a cross-model jump! # components: 6 --> 5\n",
      "9137: accepted a cross-model jump! # components: 5 --> 6\n",
      "9138: accepted a cross-model jump! # components: 6 --> 5\n",
      "9139: accepted a cross-model jump! # components: 5 --> 6\n",
      "9141: accepted a cross-model jump! # components: 6 --> 5\n",
      "9143: accepted a cross-model jump! # components: 5 --> 4\n",
      "9146: accepted a cross-model jump! # components: 4 --> 5\n",
      "9148: accepted a cross-model jump! # components: 5 --> 4\n",
      "9149: accepted a cross-model jump! # components: 4 --> 5\n",
      "9150: accepted a cross-model jump! # components: 5 --> 4\n",
      "9155: accepted a cross-model jump! # components: 4 --> 5\n",
      "9157: accepted a cross-model jump! # components: 5 --> 6\n",
      "9158: accepted a cross-model jump! # components: 6 --> 5\n",
      "9159: accepted a cross-model jump! # components: 5 --> 4\n",
      "9169: accepted a cross-model jump! # components: 4 --> 5\n",
      "9171: accepted a cross-model jump! # components: 5 --> 4\n",
      "9180: accepted a cross-model jump! # components: 4 --> 5\n",
      "9185: accepted a cross-model jump! # components: 5 --> 4\n",
      "9187: accepted a cross-model jump! # components: 4 --> 5\n",
      "9192: accepted a cross-model jump! # components: 5 --> 6\n",
      "9193: accepted a cross-model jump! # components: 6 --> 5\n",
      "9198: accepted a cross-model jump! # components: 5 --> 6\n"
     ]
    },
    {
     "name": "stderr",
     "output_type": "stream",
     "text": [
      " 93%|█████████▎| 9254/10000 [00:23<00:01, 403.10it/s]"
     ]
    },
    {
     "name": "stdout",
     "output_type": "stream",
     "text": [
      "9200: accepted a cross-model jump! # components: 6 --> 5\n",
      "9204: accepted a cross-model jump! # components: 5 --> 4\n",
      "9205: accepted a cross-model jump! # components: 4 --> 5\n",
      "9217: accepted a cross-model jump! # components: 5 --> 4\n",
      "9222: accepted a cross-model jump! # components: 4 --> 5\n",
      "9226: accepted a cross-model jump! # components: 5 --> 6\n",
      "9227: accepted a cross-model jump! # components: 6 --> 5\n",
      "9228: accepted a cross-model jump! # components: 5 --> 4\n",
      "9232: accepted a cross-model jump! # components: 4 --> 3\n",
      "9240: accepted a cross-model jump! # components: 3 --> 4\n",
      "9241: accepted a cross-model jump! # components: 4 --> 3\n",
      "9243: accepted a cross-model jump! # components: 3 --> 4\n",
      "9246: accepted a cross-model jump! # components: 4 --> 5\n",
      "9252: accepted a cross-model jump! # components: 5 --> 6\n",
      "9253: accepted a cross-model jump! # components: 6 --> 5\n",
      "9254: accepted a cross-model jump! # components: 5 --> 4\n",
      "9255: accepted a cross-model jump! # components: 4 --> 3\n",
      "9256: accepted a cross-model jump! # components: 3 --> 2\n",
      "9259: accepted a cross-model jump! # components: 2 --> 3\n",
      "9260: accepted a cross-model jump! # components: 3 --> 2\n",
      "9261: accepted a cross-model jump! # components: 2 --> 3\n",
      "9262: accepted a cross-model jump! # components: 3 --> 4\n",
      "9263: accepted a cross-model jump! # components: 4 --> 3\n",
      "9264: accepted a cross-model jump! # components: 3 --> 2\n",
      "9267: accepted a cross-model jump! # components: 2 --> 3\n",
      "9268: accepted a cross-model jump! # components: 3 --> 2\n",
      "9269: accepted a cross-model jump! # components: 2 --> 3\n",
      "9271: accepted a cross-model jump! # components: 3 --> 2\n",
      "9272: accepted a cross-model jump! # components: 2 --> 3\n",
      "9280: accepted a cross-model jump! # components: 3 --> 4\n",
      "9282: accepted a cross-model jump! # components: 4 --> 5\n",
      "9283: accepted a cross-model jump! # components: 5 --> 4\n",
      "9284: accepted a cross-model jump! # components: 4 --> 3\n"
     ]
    },
    {
     "name": "stderr",
     "output_type": "stream",
     "text": [
      " 93%|█████████▎| 9345/10000 [00:23<00:01, 425.99it/s]"
     ]
    },
    {
     "name": "stdout",
     "output_type": "stream",
     "text": [
      "9286: accepted a cross-model jump! # components: 3 --> 4\n",
      "9294: accepted a cross-model jump! # components: 4 --> 5\n",
      "9295: accepted a cross-model jump! # components: 5 --> 4\n",
      "9303: accepted a cross-model jump! # components: 4 --> 3\n",
      "9314: accepted a cross-model jump! # components: 3 --> 4\n",
      "9315: accepted a cross-model jump! # components: 4 --> 5\n",
      "9318: accepted a cross-model jump! # components: 5 --> 4\n",
      "9320: accepted a cross-model jump! # components: 4 --> 3\n",
      "9336: accepted a cross-model jump! # components: 3 --> 4\n",
      "9338: accepted a cross-model jump! # components: 4 --> 3\n",
      "9340: accepted a cross-model jump! # components: 3 --> 4\n",
      "9343: accepted a cross-model jump! # components: 4 --> 3\n",
      "9346: accepted a cross-model jump! # components: 3 --> 4\n",
      "9354: accepted a cross-model jump! # components: 4 --> 5\n",
      "9355: accepted a cross-model jump! # components: 5 --> 4\n",
      "9357: accepted a cross-model jump! # components: 4 --> 5\n",
      "9361: accepted a cross-model jump! # components: 5 --> 6\n",
      "9367: accepted a cross-model jump! # components: 6 --> 5\n"
     ]
    },
    {
     "name": "stderr",
     "output_type": "stream",
     "text": [
      " 95%|█████████▍| 9474/10000 [00:23<00:01, 412.77it/s]"
     ]
    },
    {
     "name": "stdout",
     "output_type": "stream",
     "text": [
      "9390: accepted a cross-model jump! # components: 5 --> 6\n",
      "9393: accepted a cross-model jump! # components: 6 --> 5\n",
      "9398: accepted a cross-model jump! # components: 5 --> 4\n",
      "9402: accepted a cross-model jump! # components: 4 --> 5\n",
      "9410: accepted a cross-model jump! # components: 5 --> 4\n",
      "9411: accepted a cross-model jump! # components: 4 --> 3\n",
      "9430: accepted a cross-model jump! # components: 3 --> 4\n",
      "9431: accepted a cross-model jump! # components: 4 --> 5\n",
      "9432: accepted a cross-model jump! # components: 5 --> 4\n",
      "9434: accepted a cross-model jump! # components: 4 --> 5\n",
      "9435: accepted a cross-model jump! # components: 5 --> 4\n",
      "9437: accepted a cross-model jump! # components: 4 --> 3\n",
      "9440: accepted a cross-model jump! # components: 3 --> 2\n",
      "9441: accepted a cross-model jump! # components: 2 --> 3\n",
      "9445: accepted a cross-model jump! # components: 3 --> 4\n",
      "9448: accepted a cross-model jump! # components: 4 --> 3\n",
      "9454: accepted a cross-model jump! # components: 3 --> 4\n",
      "9455: accepted a cross-model jump! # components: 4 --> 5\n",
      "9456: accepted a cross-model jump! # components: 5 --> 6\n",
      "9457: accepted a cross-model jump! # components: 6 --> 7\n",
      "9458: accepted a cross-model jump! # components: 7 --> 6\n",
      "9460: accepted a cross-model jump! # components: 6 --> 5\n",
      "9462: accepted a cross-model jump! # components: 5 --> 4\n",
      "9466: accepted a cross-model jump! # components: 4 --> 5\n",
      "9467: accepted a cross-model jump! # components: 5 --> 4\n",
      "9468: accepted a cross-model jump! # components: 4 --> 3\n",
      "9474: accepted a cross-model jump! # components: 3 --> 4\n",
      "9475: accepted a cross-model jump! # components: 4 --> 3"
     ]
    },
    {
     "name": "stderr",
     "output_type": "stream",
     "text": [
      " 96%|█████████▌| 9566/10000 [00:23<00:00, 435.54it/s]"
     ]
    },
    {
     "name": "stdout",
     "output_type": "stream",
     "text": [
      "\n",
      "9476: accepted a cross-model jump! # components: 3 --> 4\n",
      "9485: accepted a cross-model jump! # components: 4 --> 3\n",
      "9491: accepted a cross-model jump! # components: 3 --> 4\n",
      "9492: accepted a cross-model jump! # components: 4 --> 3\n",
      "9494: accepted a cross-model jump! # components: 3 --> 4\n",
      "9496: accepted a cross-model jump! # components: 4 --> 3\n",
      "9497: accepted a cross-model jump! # components: 3 --> 4\n",
      "9498: accepted a cross-model jump! # components: 4 --> 3\n",
      "9499: accepted a cross-model jump! # components: 3 --> 4\n",
      "9504: accepted a cross-model jump! # components: 4 --> 5\n",
      "9506: accepted a cross-model jump! # components: 5 --> 4\n",
      "9511: accepted a cross-model jump! # components: 4 --> 3\n",
      "9528: accepted a cross-model jump! # components: 3 --> 4\n",
      "9530: accepted a cross-model jump! # components: 4 --> 3\n",
      "9531: accepted a cross-model jump! # components: 3 --> 2\n",
      "9541: accepted a cross-model jump! # components: 2 --> 3\n",
      "9545: accepted a cross-model jump! # components: 3 --> 2\n",
      "9548: accepted a cross-model jump! # components: 2 --> 3\n",
      "9552: accepted a cross-model jump! # components: 3 --> 4\n",
      "9560: accepted a cross-model jump! # components: 4 --> 5\n",
      "9561: accepted a cross-model jump! # components: 5 --> 4\n",
      "9562: accepted a cross-model jump! # components: 4 --> 5\n",
      "9563: accepted a cross-model jump! # components: 5 --> 4\n",
      "9564: accepted a cross-model jump! # components: 4 --> 5\n",
      "9568: accepted a cross-model jump! # components: 5 --> 4"
     ]
    },
    {
     "name": "stderr",
     "output_type": "stream",
     "text": [
      " 97%|█████████▋| 9660/10000 [00:24<00:00, 448.59it/s]"
     ]
    },
    {
     "name": "stdout",
     "output_type": "stream",
     "text": [
      "\n",
      "9572: accepted a cross-model jump! # components: 4 --> 5\n",
      "9578: accepted a cross-model jump! # components: 5 --> 4\n",
      "9583: accepted a cross-model jump! # components: 4 --> 5\n",
      "9584: accepted a cross-model jump! # components: 5 --> 6\n",
      "9585: accepted a cross-model jump! # components: 6 --> 5\n",
      "9586: accepted a cross-model jump! # components: 5 --> 4\n",
      "9593: accepted a cross-model jump! # components: 4 --> 5\n",
      "9598: accepted a cross-model jump! # components: 5 --> 4\n",
      "9602: accepted a cross-model jump! # components: 4 --> 3\n",
      "9608: accepted a cross-model jump! # components: 3 --> 4\n",
      "9610: accepted a cross-model jump! # components: 4 --> 3\n",
      "9613: accepted a cross-model jump! # components: 3 --> 4\n",
      "9617: accepted a cross-model jump! # components: 4 --> 3\n",
      "9618: accepted a cross-model jump! # components: 3 --> 2\n",
      "9625: accepted a cross-model jump! # components: 2 --> 3\n",
      "9631: accepted a cross-model jump! # components: 3 --> 4\n",
      "9632: accepted a cross-model jump! # components: 4 --> 3\n",
      "9634: accepted a cross-model jump! # components: 3 --> 2\n",
      "9638: accepted a cross-model jump! # components: 2 --> 1\n",
      "9639: accepted a cross-model jump! # components: 1 --> 2\n",
      "9640: accepted a cross-model jump! # components: 2 --> 1\n",
      "9644: accepted a cross-model jump! # components: 1 --> 2\n",
      "9645: accepted a cross-model jump! # components: 2 --> 1\n",
      "9647: accepted a cross-model jump! # components: 1 --> 2\n",
      "9654: accepted a cross-model jump! # components: 2 --> 3\n",
      "9657: accepted a cross-model jump! # components: 3 --> 2\n",
      "9659: accepted a cross-model jump! # components: 2 --> 3\n",
      "9666: accepted a cross-model jump! # components: 3 --> 4\n"
     ]
    },
    {
     "name": "stderr",
     "output_type": "stream",
     "text": [
      " 98%|█████████▊| 9755/10000 [00:24<00:00, 455.17it/s]"
     ]
    },
    {
     "name": "stdout",
     "output_type": "stream",
     "text": [
      "9667: accepted a cross-model jump! # components: 4 --> 5\n",
      "9668: accepted a cross-model jump! # components: 5 --> 6\n",
      "9669: accepted a cross-model jump! # components: 6 --> 5\n",
      "9676: accepted a cross-model jump! # components: 5 --> 4\n",
      "9677: accepted a cross-model jump! # components: 4 --> 3\n",
      "9680: accepted a cross-model jump! # components: 3 --> 4\n",
      "9683: accepted a cross-model jump! # components: 4 --> 5\n",
      "9684: accepted a cross-model jump! # components: 5 --> 4\n",
      "9693: accepted a cross-model jump! # components: 4 --> 3\n",
      "9695: accepted a cross-model jump! # components: 3 --> 4\n",
      "9696: accepted a cross-model jump! # components: 4 --> 3\n",
      "9697: accepted a cross-model jump! # components: 3 --> 4\n",
      "9700: accepted a cross-model jump! # components: 4 --> 5\n",
      "9703: accepted a cross-model jump! # components: 5 --> 4\n",
      "9704: accepted a cross-model jump! # components: 4 --> 3\n",
      "9705: accepted a cross-model jump! # components: 3 --> 4\n",
      "9708: accepted a cross-model jump! # components: 4 --> 3\n",
      "9709: accepted a cross-model jump! # components: 3 --> 4\n",
      "9711: accepted a cross-model jump! # components: 4 --> 3\n",
      "9720: accepted a cross-model jump! # components: 3 --> 4\n",
      "9721: accepted a cross-model jump! # components: 4 --> 5\n",
      "9722: accepted a cross-model jump! # components: 5 --> 4\n",
      "9725: accepted a cross-model jump! # components: 4 --> 5\n",
      "9728: accepted a cross-model jump! # components: 5 --> 4\n",
      "9748: accepted a cross-model jump! # components: 4 --> 5\n",
      "9749: accepted a cross-model jump! # components: 5 --> 4\n",
      "9757: accepted a cross-model jump! # components: 4 --> 3\n"
     ]
    },
    {
     "name": "stderr",
     "output_type": "stream",
     "text": [
      " 98%|█████████▊| 9850/10000 [00:24<00:00, 461.96it/s]"
     ]
    },
    {
     "name": "stdout",
     "output_type": "stream",
     "text": [
      "9762: accepted a cross-model jump! # components: 3 --> 4\n",
      "9763: accepted a cross-model jump! # components: 4 --> 3\n",
      "9778: accepted a cross-model jump! # components: 3 --> 4\n",
      "9779: accepted a cross-model jump! # components: 4 --> 3\n",
      "9783: accepted a cross-model jump! # components: 3 --> 4\n",
      "9785: accepted a cross-model jump! # components: 4 --> 3\n",
      "9788: accepted a cross-model jump! # components: 3 --> 4\n",
      "9790: accepted a cross-model jump! # components: 4 --> 3\n",
      "9794: accepted a cross-model jump! # components: 3 --> 4\n",
      "9800: accepted a cross-model jump! # components: 4 --> 3\n",
      "9804: accepted a cross-model jump! # components: 3 --> 4\n",
      "9805: accepted a cross-model jump! # components: 4 --> 5\n",
      "9808: accepted a cross-model jump! # components: 5 --> 4\n",
      "9812: accepted a cross-model jump! # components: 4 --> 3\n",
      "9819: accepted a cross-model jump! # components: 3 --> 4\n",
      "9822: accepted a cross-model jump! # components: 4 --> 3\n",
      "9823: accepted a cross-model jump! # components: 3 --> 4\n",
      "9825: accepted a cross-model jump! # components: 4 --> 5\n",
      "9827: accepted a cross-model jump! # components: 5 --> 4\n",
      "9828: accepted a cross-model jump! # components: 4 --> 5\n",
      "9833: accepted a cross-model jump! # components: 5 --> 4\n",
      "9834: accepted a cross-model jump! # components: 4 --> 3\n",
      "9835: accepted a cross-model jump! # components: 3 --> 2\n",
      "9840: accepted a cross-model jump! # components: 2 --> 3\n",
      "9841: accepted a cross-model jump! # components: 3 --> 2\n",
      "9851: accepted a cross-model jump! # components: 2 --> 3\n",
      "9853: accepted a cross-model jump! # components: 3 --> 4\n",
      "9854: accepted a cross-model jump! # components: 4 --> 3\n",
      "9855: accepted a cross-model jump! # components: 3 --> 2\n"
     ]
    },
    {
     "name": "stderr",
     "output_type": "stream",
     "text": [
      " 99%|█████████▉| 9944/10000 [00:24<00:00, 453.35it/s]"
     ]
    },
    {
     "name": "stdout",
     "output_type": "stream",
     "text": [
      "9859: accepted a cross-model jump! # components: 2 --> 3\n",
      "9866: accepted a cross-model jump! # components: 3 --> 4\n",
      "9867: accepted a cross-model jump! # components: 4 --> 5\n",
      "9868: accepted a cross-model jump! # components: 5 --> 4\n",
      "9869: accepted a cross-model jump! # components: 4 --> 3\n",
      "9876: accepted a cross-model jump! # components: 3 --> 2\n",
      "9884: accepted a cross-model jump! # components: 2 --> 3\n",
      "9885: accepted a cross-model jump! # components: 3 --> 2\n",
      "9886: accepted a cross-model jump! # components: 2 --> 3\n",
      "9887: accepted a cross-model jump! # components: 3 --> 2\n",
      "9890: accepted a cross-model jump! # components: 2 --> 3\n",
      "9891: accepted a cross-model jump! # components: 3 --> 4\n",
      "9893: accepted a cross-model jump! # components: 4 --> 3\n",
      "9894: accepted a cross-model jump! # components: 3 --> 4\n",
      "9895: accepted a cross-model jump! # components: 4 --> 3\n",
      "9896: accepted a cross-model jump! # components: 3 --> 2\n",
      "9902: accepted a cross-model jump! # components: 2 --> 3\n",
      "9904: accepted a cross-model jump! # components: 3 --> 4\n",
      "9907: accepted a cross-model jump! # components: 4 --> 3\n",
      "9908: accepted a cross-model jump! # components: 3 --> 2\n",
      "9909: accepted a cross-model jump! # components: 2 --> 3\n",
      "9911: accepted a cross-model jump! # components: 3 --> 2\n",
      "9912: accepted a cross-model jump! # components: 2 --> 3\n",
      "9917: accepted a cross-model jump! # components: 3 --> 2\n",
      "9918: accepted a cross-model jump! # components: 2 --> 1\n",
      "9922: accepted a cross-model jump! # components: 1 --> 2\n",
      "9923: accepted a cross-model jump! # components: 2 --> 3\n",
      "9924: accepted a cross-model jump! # components: 3 --> 2\n",
      "9927: accepted a cross-model jump! # components: 2 --> 3\n",
      "9928: accepted a cross-model jump! # components: 3 --> 4\n",
      "9930: accepted a cross-model jump! # components: 4 --> 5\n",
      "9932: accepted a cross-model jump! # components: 5 --> 6\n",
      "9936: accepted a cross-model jump! # components: 6 --> 7\n",
      "9937: accepted a cross-model jump! # components: 7 --> 6\n",
      "9938: accepted a cross-model jump! # components: 6 --> 7\n",
      "9939: accepted a cross-model jump! # components: 7 --> 6\n",
      "9940: accepted a cross-model jump! # components: 6 --> 5\n",
      "9943: accepted a cross-model jump! # components: 5 --> 4\n",
      "9944: accepted a cross-model jump! # components: 4 --> 3\n",
      "9945: accepted a cross-model jump! # components: 3 --> 4\n",
      "9946: accepted a cross-model jump! # components: 4 --> 5\n"
     ]
    },
    {
     "name": "stderr",
     "output_type": "stream",
     "text": [
      "100%|██████████| 10000/10000 [00:24<00:00, 402.27it/s]"
     ]
    },
    {
     "name": "stdout",
     "output_type": "stream",
     "text": [
      "9957: accepted a cross-model jump! # components: 5 --> 4\n",
      "9959: accepted a cross-model jump! # components: 4 --> 3\n",
      "9961: accepted a cross-model jump! # components: 3 --> 4\n",
      "9962: accepted a cross-model jump! # components: 4 --> 3\n",
      "9963: accepted a cross-model jump! # components: 3 --> 4\n",
      "9964: accepted a cross-model jump! # components: 4 --> 3\n",
      "9966: accepted a cross-model jump! # components: 3 --> 4\n",
      "9967: accepted a cross-model jump! # components: 4 --> 5\n",
      "9968: accepted a cross-model jump! # components: 5 --> 6\n",
      "9969: accepted a cross-model jump! # components: 6 --> 7\n",
      "9974: accepted a cross-model jump! # components: 7 --> 6\n",
      "9976: accepted a cross-model jump! # components: 6 --> 7\n",
      "9977: accepted a cross-model jump! # components: 7 --> 6\n",
      "9980: accepted a cross-model jump! # components: 6 --> 7\n",
      "9981: accepted a cross-model jump! # components: 7 --> 6\n",
      "9982: accepted a cross-model jump! # components: 6 --> 5\n",
      "9989: accepted a cross-model jump! # components: 5 --> 4\n",
      "9997: accepted a cross-model jump! # components: 4 --> 3\n",
      "9998: accepted a cross-model jump! # components: 3 --> 4\n",
      "9999: accepted a cross-model jump! # components: 4 --> 3\n"
     ]
    },
    {
     "name": "stderr",
     "output_type": "stream",
     "text": [
      "\n"
     ]
    }
   ],
   "source": [
    "np.random.seed(1)\n",
    "init_n_components = 50\n",
    "init_means = np.random.randn(init_n_components)\n",
    "init_stdevs = np.random.rand(init_n_components) + 1\n",
    "init_weights = np.random.rand(init_n_components)\n",
    "init_weights /= np.sum(init_weights)\n",
    "init_theta = np.hstack([init_means, init_stdevs, init_weights])\n",
    "init_parents = [None] + list(range(init_n_components - 1))\n",
    "traj, acceptance_probabilities = rjmcmc_w_parents(init_theta, init_parents, n_steps=10000)"
   ]
  },
  {
   "cell_type": "code",
   "execution_count": 28,
   "metadata": {},
   "outputs": [
    {
     "data": {
      "image/png": "[encoded data removed]",
      "text/plain": [
       "<matplotlib.figure.Figure at 0x1204c6240>"
      ]
     },
     "metadata": {},
     "output_type": "display_data"
    }
   ],
   "source": [
    "n_components_traj = [len(t[0]) / 3 for t in traj]\n",
    "ax = plt.subplot(111)\n",
    "plt.plot(n_components_traj)\n",
    "plt.hlines(n_components, 0, len(traj), linestyles='--')\n",
    "ax.spines['right'].set_visible(False)\n",
    "ax.spines['top'].set_visible(False)\n",
    "plt.ylabel('# components')\n",
    "plt.xlabel('iteration')\n",
    "plt.title(r'merge-split RJMC trace $k$' + '\\n(mixture weights ' + r'$w_i$ free)')\n",
    "#plt.xscale('log')\n",
    "plt.savefig('birth-death-n-components.jpg', dpi=300)"
   ]
  },
  {
   "cell_type": "code",
   "execution_count": 25,
   "metadata": {},
   "outputs": [
    {
     "data": {
      "text/plain": [
       "([], <a list of 0 Text yticklabel objects>)"
      ]
     },
     "execution_count": 25,
     "metadata": {},
     "output_type": "execute_result"
    },
    {
     "data": {
      "image/png": "[encoded data removed]",
      "text/plain": [
       "<matplotlib.figure.Figure at 0x12079e860>"
      ]
     },
     "metadata": {},
     "output_type": "display_data"
    }
   ],
   "source": [
    "plt.figure(figsize=(6,6))\n",
    "\n",
    "burned_in = n_components_traj[1000:]\n",
    "\n",
    "n_components_range = sorted(list(set(burned_in)))\n",
    "counts = np.bincount(burned_in)[1:]\n",
    "ax = plt.subplot(111)\n",
    "\n",
    "plt.bar(n_components_range, counts / sum(counts))\n",
    "plt.xlabel(r'# of components ($k$)')\n",
    "plt.ylabel(r'$p(k)$')\n",
    "ax.spines['right'].set_visible(False)\n",
    "ax.spines['top'].set_visible(False)\n",
    "plt.title(r'merge-split RJMC estimated marginal distribution of $k$' + '\\n(mixture weights ' + r'$w_i$ free)')\n",
    "plt.xticks(n_components_range)\n",
    "plt.yticks([])"
   ]
  },
  {
   "cell_type": "code",
   "execution_count": null,
   "metadata": {},
   "outputs": [],
   "source": [
    "log_posterior = np.array([flat_log_p(t[0]) for t in traj])\n",
    "log_prior = np.array([log_prior(t[0]) for t in traj])\n",
    "log_likelihood = log_posterior - log_prior"
   ]
  },
  {
   "cell_type": "code",
   "execution_count": null,
   "metadata": {},
   "outputs": [],
   "source": [
    "plt.plot(log_prior, label='prior')\n",
    "plt.plot(log_likelihood, label='likelihood')\n",
    "plt.plot(log_posterior, label='posterior')\n",
    "plt.legend(loc='best')\n",
    "plt.ylabel('log probability')\n",
    "plt.xlabel('iteration')\n",
    "plt.xscale('log')\n",
    "\n",
    "plt.savefig('birth-death-log-posterior.jpg', dpi=300)"
   ]
  },
  {
   "cell_type": "code",
   "execution_count": null,
   "metadata": {},
   "outputs": [],
   "source": [
    "plt.hist(data, bins=50)"
   ]
  },
  {
   "cell_type": "code",
   "execution_count": null,
   "metadata": {},
   "outputs": [],
   "source": [
    "# hmm that doesn't look so bad actually"
   ]
  },
  {
   "cell_type": "code",
   "execution_count": null,
   "metadata": {},
   "outputs": [],
   "source": []
  }
 ],
 "metadata": {
  "kernelspec": {
   "display_name": "Python 3",
   "language": "python",
   "name": "python3"
  },
  "language_info": {
   "codemirror_mode": {
    "name": "ipython",
    "version": 3
   },
   "file_extension": ".py",
   "mimetype": "text/x-python",
   "name": "python",
   "nbconvert_exporter": "python",
   "pygments_lexer": "ipython3",
   "version": "3.6.5"
  }
 },
 "nbformat": 4,
 "nbformat_minor": 2
}
